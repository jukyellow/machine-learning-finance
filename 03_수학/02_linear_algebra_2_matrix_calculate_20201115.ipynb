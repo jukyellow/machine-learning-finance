{
  "nbformat": 4,
  "nbformat_minor": 0,
  "metadata": {
    "colab": {
      "name": "02_linear_algebra_2_matrix_calculate_20201115.ipynb",
      "provenance": [],
      "collapsed_sections": []
    },
    "kernelspec": {
      "name": "python3",
      "display_name": "Python 3"
    }
  },
  "cells": [
    {
      "cell_type": "code",
      "metadata": {
        "id": "e93K4hZAzFAj"
      },
      "source": [
        "# https://datascienceschool.net/02%20mathematics/02.02%20%EB%B2%A1%ED%84%B0%EC%99%80%20%ED%96%89%EB%A0%AC%EC%9D%98%20%EC%97%B0%EC%82%B0.html"
      ],
      "execution_count": null,
      "outputs": []
    },
    {
      "cell_type": "code",
      "metadata": {
        "id": "NJunxTccznLg"
      },
      "source": [
        "import numpy as np\n",
        "import matplotlib.pylab as plt"
      ],
      "execution_count": 2,
      "outputs": []
    },
    {
      "cell_type": "code",
      "metadata": {
        "id": "6UgEC8zHznOR"
      },
      "source": [
        "# 벡터/행렬의 덧셈과 뺄셈\n",
        "# 같은 크기를 가진 두 개의 벡터나 행렬은 덧셈과 뺄셈을 할 수 있다. \n",
        "# 이러한 연산을 요소별(element-wise) 연산이라고 한다."
      ],
      "execution_count": null,
      "outputs": []
    },
    {
      "cell_type": "markdown",
      "metadata": {
        "id": "UEgnjM_g0NF3"
      },
      "source": [
        "\\begin{split}\n",
        "\\begin{align}\n",
        "x=\n",
        "\\begin{bmatrix}\n",
        "10 \\\\\n",
        "11 \\\\\n",
        "12 \\\\\n",
        "\\end{bmatrix}\n",
        ",\\;\\;\n",
        "y=\n",
        "\\begin{bmatrix}\n",
        "0 \\\\\n",
        "1 \\\\\n",
        "2 \\\\\n",
        "\\end{bmatrix}\n",
        "\\tag{2.2.1}\n",
        "\\end{align}\n",
        "\\end{split}\n",
        "\n",
        "\\begin{split}\n",
        "\\begin{align}\n",
        "x + y =\n",
        "\\begin{bmatrix}\n",
        "10 \\\\\n",
        "11 \\\\\n",
        "12 \\\\\n",
        "\\end{bmatrix}\n",
        "+\n",
        "\\begin{bmatrix}\n",
        "0 \\\\\n",
        "1 \\\\\n",
        "2 \\\\\n",
        "\\end{bmatrix}\n",
        "=\n",
        "\\begin{bmatrix}\n",
        "10 + 0 \\\\\n",
        "11 + 1 \\\\\n",
        "12 + 2 \\\\\n",
        "\\end{bmatrix}\n",
        "=\n",
        "\\begin{bmatrix}\n",
        "10 \\\\\n",
        "12 \\\\\n",
        "14 \\\\\n",
        "\\end{bmatrix}\n",
        "\\tag{2.2.2}\n",
        "\\end{align}\n",
        "\\end{split}\n"
      ]
    },
    {
      "cell_type": "code",
      "metadata": {
        "id": "yrJlgV0D0ct0",
        "outputId": "fa7b4fe3-c828-48a0-fc71-9dae8bd7c9b9",
        "colab": {
          "base_uri": "https://localhost:8080/"
        }
      },
      "source": [
        "x = np.array([10, 11, 12, 13, 14])\n",
        "y = np.array([0, 1, 2, 3, 4])\n",
        "print(x + y)"
      ],
      "execution_count": 3,
      "outputs": [
        {
          "output_type": "stream",
          "text": [
            "[10 12 14 16 18]\n"
          ],
          "name": "stdout"
        }
      ]
    },
    {
      "cell_type": "code",
      "metadata": {
        "id": "ytrCdqKZ0cw_",
        "outputId": "9ff81f3d-aee0-4e44-f419-b684d0537214",
        "colab": {
          "base_uri": "https://localhost:8080/"
        }
      },
      "source": [
        "np.array([[5, 6], [7, 8]]) + np.array([[10, 20], [30, 40]]) - np.array([[1, 2], [3, 4]])"
      ],
      "execution_count": 4,
      "outputs": [
        {
          "output_type": "execute_result",
          "data": {
            "text/plain": [
              "array([[14, 24],\n",
              "       [34, 44]])"
            ]
          },
          "metadata": {
            "tags": []
          },
          "execution_count": 4
        }
      ]
    },
    {
      "cell_type": "markdown",
      "metadata": {
        "id": "KTvfbUOP0ylh"
      },
      "source": [
        "# 스칼라와 벡터/행렬의 곱셈  \n",
        "벡터 x 또는 행렬 A에 스칼라값 c를 곱하는 것은 벡터 x 또는 행렬 A의 모든 원소에 스칼라값 c를 곱하는 것과 같다.  \n",
        "  \n",
        "\\begin{split}\n",
        "\\begin{align}\n",
        "c\n",
        "\\begin{bmatrix}\n",
        "x_1 \\\\\n",
        "x_2\n",
        "\\end{bmatrix}\n",
        "=\n",
        "\\begin{bmatrix}\n",
        "cx_1 \\\\\n",
        "cx_2\n",
        "\\end{bmatrix}\n",
        "\\tag{2.2.5}\n",
        "\\end{align}\n",
        "\\end{split}"
      ]
    },
    {
      "cell_type": "markdown",
      "metadata": {
        "id": "zYMiVjX61AlX"
      },
      "source": [
        "# 브로드캐스팅  \n",
        "\n",
        "원래 덧셈과 뺄셈은 크기(차원)가 같은 두 벡터에 대해서만 할 수 있다.   \n",
        "하지만 벡터와 스칼라의 경우에는 관례적으로 다음처럼 1-벡터를 사용하여 스칼라를 벡터로 변환한 연산을 허용한다. \n",
        "<br>\n",
        "\\begin{split}\n",
        "\\begin{align}\n",
        "\\begin{bmatrix}\n",
        "10 \\\\\n",
        "11 \\\\\n",
        "12 \\\\\n",
        "\\end{bmatrix}\n",
        "- 10\n",
        "=\n",
        "\\begin{bmatrix}\n",
        "10 \\\\\n",
        "11 \\\\\n",
        "12 \\\\\n",
        "\\end{bmatrix}\n",
        "- 10\\cdot \\mathbf{1}\n",
        "=\n",
        "\\begin{bmatrix}\n",
        "10 \\\\\n",
        "11 \\\\\n",
        "12 \\\\\n",
        "\\end{bmatrix}\n",
        "-\n",
        "\\begin{bmatrix}\n",
        "10 \\\\\n",
        "10 \\\\\n",
        "10 \\\\\n",
        "\\end{bmatrix}\n",
        "\\tag{2.2.7}\n",
        "\\end{align}\n",
        "\\end{split}\n",
        "\n",
        "<br>\n",
        "\\begin{align}\n",
        "m = \\dfrac{1}{N}\\sum_{i=1}^N x_i\n",
        "\\tag{2.2.9}\n",
        "\\end{align}\n"
      ]
    },
    {
      "cell_type": "markdown",
      "metadata": {
        "id": "owPqxp7E2_qr"
      },
      "source": [
        "# 선형조합  \n",
        "벡터/행렬에 다음처럼 스칼라값을 곱한 후 더하거나 뺀 것을 벡터/행렬의 **선형조합(linear combination)**이라고 한다.  \n",
        "벡터나 행렬을 선형조합해도 크기는 변하지 않는다.  \n",
        "\n",
        "<br>\n",
        "\\begin{align}\n",
        "c_1A_1 + c_2A_2 + c_3A_3 + \\cdots + c_LA_L = A\n",
        "\\tag{2.2.11}\n",
        "\\end{align}\n",
        "<br>\n",
        "\\begin{align}\n",
        "A_1, A_2, \\ldots, A_L, A \\in \\mathbf{R}^{M \\times N}\n",
        "\\tag{2.2.14}\n",
        "\\end{align}\n"
      ]
    },
    {
      "cell_type": "markdown",
      "metadata": {
        "id": "t3qAVk8M3cNq"
      },
      "source": [
        "# 벡터와 벡터의 곱셈  \n",
        "벡터를 곱셈하는 방법은 여러 가지가 있지만 여기서는 **내적(inner product)**에 대해서만 다룬다. 벡터 x와 벡터 y의 내적은 다음처럼 표기한다.  \n",
        "내적은 다음처럼 점(dot)으로 표기하는 경우도 있어서 **닷 프로덕트(dot product)**라고도 부르고 < x,y > 기호로 나타낼 수도 있다.  \n",
        "<br>\n",
        "\\begin{align}\n",
        "x \\cdot y = \\, < x, y > \\, = x^T y \n",
        "\\tag{2.2.18}\n",
        "\\end{align}\n",
        "<br>\n",
        "두 벡터를 내적하려면 다음과 같은 조건이 만족되어야 한다.  \n",
        "우선 두 벡터의 차원(길이)이 같아야 한다.  \n",
        "앞의 벡터가 행 벡터이고 뒤의 벡터가 열 벡터여야 한다.  \n",
        "<br>\n",
        "\\begin{split}\n",
        "\\begin{align}\n",
        "x^T y = \n",
        "\\begin{bmatrix}\n",
        "x_{1} & x_{2} & \\cdots & x_{N} \n",
        "\\end{bmatrix}\n",
        "\\begin{bmatrix}\n",
        "y_{1} \\\\\n",
        "y_{2} \\\\\n",
        "\\vdots \\\\\n",
        "y_{N} \\\\\n",
        "\\end{bmatrix} \n",
        "= x_1 y_1 + \\cdots + x_N y_N \n",
        "= \\sum_{i=1}^N x_i y_i\n",
        "\\tag{2.2.19}\n",
        "\\end{align}\n",
        "\\end{split}\n",
        "<br>\n",
        "\\begin{split}\n",
        "\\begin{align}\n",
        "x^T y = \n",
        "\\begin{bmatrix}\n",
        "1 & 2 & 3\n",
        "\\end{bmatrix}\n",
        "\\begin{bmatrix}\n",
        "4 \\\\ 5 \\\\ 6 \\\\\n",
        "\\end{bmatrix} \n",
        "= 1 \\cdot 4 + 2 \\cdot 5 + 3 \\cdot 6 = 32\n",
        "\\tag{2.2.24}\n",
        "\\end{align}\n",
        "\\end{split}\n",
        "\n",
        "\n",
        "\n"
      ]
    },
    {
      "cell_type": "code",
      "metadata": {
        "id": "uJNrICBC5aft",
        "outputId": "1bd64a81-570c-4e60-fa38-599abb82821e",
        "colab": {
          "base_uri": "https://localhost:8080/"
        }
      },
      "source": [
        "x = np.array([[1], [2], [3]])\n",
        "y = np.array([[4], [5], [6]])\n",
        "z = x.T @ y\n",
        "\n",
        "print(z)  # 또는 np.dot(x.T, y)\n",
        "print(x.shape)\n",
        "print(y.shape)\n",
        "print(z.shape)\n",
        "\n",
        "print()\n",
        "x = np.array([1, 2, 3])\n",
        "y = np.array([4, 5, 6])\n",
        "z = x @ y  # 또는 np.dot(x, y)\n",
        "print(z) \n",
        "print(x.shape)\n",
        "print(y.shape)\n",
        "print(z.shape)"
      ],
      "execution_count": 7,
      "outputs": [
        {
          "output_type": "stream",
          "text": [
            "[[32]]\n",
            "(3, 1)\n",
            "(3, 1)\n",
            "(1, 1)\n",
            "\n",
            "32\n",
            "(3,)\n",
            "(3,)\n",
            "()\n"
          ],
          "name": "stdout"
        }
      ]
    },
    {
      "cell_type": "markdown",
      "metadata": {
        "id": "foHGngBv4soY"
      },
      "source": [
        "# 가중합\n",
        "벡터의 내적은 가중합을 계산할 때 쓰일 수 있다.  \n",
        "복수의 데이터를 단순히 합하는 것이 아니라 각각의 수에 어떤 가중치 값을 곱한 후 이 곱셈 결과들을 다시 합한 것을 말한다.  \n",
        "<br>\n",
        "\\begin{align}\n",
        "w_1 x_1 + \\cdots + w_N x_N = \\sum_{i=1}^N w_i x_i \n",
        "\\tag{2.2.25}\n",
        "\\end{align}\n",
        "<br>\n",
        "\\begin{split} \n",
        "\\begin{align}\n",
        "\\begin{aligned}\n",
        "\\sum_{i=1}^N w_i x_i \n",
        "&= \n",
        "\\begin{bmatrix}\n",
        "w_{1} && w_{2} && \\cdots && w_{N}\n",
        "\\end{bmatrix}\n",
        "\\begin{bmatrix}\n",
        "x_1 \\\\ x_2 \\\\ \\vdots \\\\ x_N\n",
        "\\end{bmatrix} \n",
        "&= w^Tx  \n",
        "\\\\\n",
        "&=\n",
        "\\begin{bmatrix}\n",
        "x_{1} && x_{2} && \\cdots && x_{N}\n",
        "\\end{bmatrix}\n",
        "\\begin{bmatrix}\n",
        "w_1 \\\\ w_2 \\\\ \\vdots \\\\ w_N\n",
        "\\end{bmatrix}\n",
        "&= x^Tw  \n",
        "\\end{aligned}\n",
        "\\tag{2.2.26}\n",
        "\\end{align}\n",
        "\\end{split}\n"
      ]
    },
    {
      "cell_type": "markdown",
      "metadata": {
        "id": "aa05avBb6_Zc"
      },
      "source": [
        "# 가중평균\n",
        "가중합의 가중치값을 전체 가중치값의 합으로 나누면 **가중평균(weighted average)**이 된다.  \n",
        "가중평균은 대학교의 평균 성적 계산 등에 사용할 수 있다.  \n",
        "1학점과 3학점 과목의 점수가 각각 100점, 60점이면 학점을 고려한 가중 평균(weighted average) 성적은 다음과 같이 계산한다.  \n",
        "<br>\n",
        "\\begin{align}\n",
        "\\dfrac{1}{1 + 3} \\times 100 + \\dfrac{3}{1 + 3} \\times 60\n",
        "= 70 \n",
        "\\tag{2.2.30}\n",
        "\\end{align}\n",
        "<br>\n",
        "\\begin{align}\n",
        "\\bar{x} = \\dfrac{1}{N}\\sum_{i=1}^N x_i = \\dfrac{1}{N} \\mathbf{1}_N^T x\n",
        "\\tag{2.2.31}\n",
        "\\end{align}\n"
      ]
    },
    {
      "cell_type": "code",
      "metadata": {
        "id": "X7aPE4r77aOa",
        "outputId": "b6243088-4c59-4a08-f556-bb695e098527",
        "colab": {
          "base_uri": "https://localhost:8080/"
        }
      },
      "source": [
        "x = np.arange(10)\n",
        "print(x)\n",
        "N = len(x)\n",
        "print(np.ones(N))\n",
        "print()\n",
        "\n",
        "print(np.ones(N) @ x / N) # @ = np.dot(), 0~9까지 합 / 10\n",
        "print(x.mean())"
      ],
      "execution_count": 8,
      "outputs": [
        {
          "output_type": "stream",
          "text": [
            "[0 1 2 3 4 5 6 7 8 9]\n",
            "[1. 1. 1. 1. 1. 1. 1. 1. 1. 1.]\n",
            "\n",
            "4.5\n",
            "4.5\n"
          ],
          "name": "stdout"
        }
      ]
    },
    {
      "cell_type": "markdown",
      "metadata": {
        "id": "n5nDVcde8vqk"
      },
      "source": [
        "# 유사도\n",
        "벡터의 곱셈(내적)은 두 벡터 간의 유사도를 계산하는 데도 이용할 수 있다.  \n",
        "유사도(similarity)는 두 벡터가 닮은 정도를 정량적으로 나타낸 값으로 두 벡터가 비슷한 경우에는 유사도가 커지고 비슷하지 앟은 경우에는 유사도가 작아진다.  \n",
        "내적을 이용하면 **코사인 유사도(cosine similarity)**라는 유사도를 계산할 수 있다.  "
      ]
    },
    {
      "cell_type": "code",
      "metadata": {
        "id": "Mm7cA-At9Jv5",
        "outputId": "903b9e2a-d622-41e6-c0f7-472fe9efa8c3",
        "colab": {
          "base_uri": "https://localhost:8080/",
          "height": 197
        }
      },
      "source": [
        "from sklearn.datasets import load_digits\n",
        "import matplotlib.gridspec as gridspec\n",
        "\n",
        "digits = load_digits()\n",
        "d1 = digits.images[0]\n",
        "d2 = digits.images[10]\n",
        "d3 = digits.images[1]\n",
        "d4 = digits.images[11]\n",
        "v1 = d1.reshape(64, 1)\n",
        "v2 = d2.reshape(64, 1)\n",
        "v3 = d3.reshape(64, 1)\n",
        "v4 = d4.reshape(64, 1)\n",
        "\n",
        "plt.figure(figsize=(9, 9))\n",
        "gs = gridspec.GridSpec(1, 8, height_ratios=[1],\n",
        "                       width_ratios=[9, 1, 9, 1, 9, 1, 9, 1])\n",
        "for i in range(4):\n",
        "    plt.subplot(gs[2 * i])\n",
        "    plt.imshow(eval(\"d\" + str(i + 1)), aspect=1,\n",
        "               interpolation='nearest', cmap=plt.cm.bone_r)\n",
        "    plt.grid(False)\n",
        "    plt.xticks([])\n",
        "    plt.yticks([])\n",
        "    plt.title(\"image {}\".format(i + 1))\n",
        "    plt.subplot(gs[2 * i + 1])\n",
        "    plt.imshow(eval(\"v\" + str(i + 1)), aspect=0.25,\n",
        "               interpolation='nearest', cmap=plt.cm.bone_r)\n",
        "    plt.grid(False)\n",
        "    plt.xticks([])\n",
        "    plt.yticks([])\n",
        "    plt.title(\"vector {}\".format(i + 1))\n",
        "plt.tight_layout()\n",
        "plt.show()"
      ],
      "execution_count": 10,
      "outputs": [
        {
          "output_type": "display_data",
          "data": {
            "image/png": "[encoded data removed]",
            "text/plain": [
              "<Figure size 648x648 with 8 Axes>"
            ]
          },
          "metadata": {
            "tags": []
          }
        }
      ]
    },
    {
      "cell_type": "code",
      "metadata": {
        "id": "4Sha3Jf39tVD",
        "outputId": "e4716aee-8cd7-42a0-8376-7069e42d216c",
        "colab": {
          "base_uri": "https://localhost:8080/"
        }
      },
      "source": [
        "print((v1.T @ v2)[0][0], (v3.T @ v4)[0][0])\n",
        "print((v1.T @ v3)[0][0], (v1.T @ v4)[0][0], (v2.T @ v3)[0][0], (v2.T @ v4)[0][0])\n",
        "#상대적으로 “0” 이미지와 “1” 이미지, 또는 “1” 이미지와 “0” 이미지의 내적값은 작다."
      ],
      "execution_count": 11,
      "outputs": [
        {
          "output_type": "stream",
          "text": [
            "3064.0 3661.0\n",
            "1866.0 1883.0 2421.0 2479.0\n"
          ],
          "name": "stdout"
        }
      ]
    },
    {
      "cell_type": "markdown",
      "metadata": {
        "id": "3xbCrHGz-Bjx"
      },
      "source": [
        "# 선형회귀 모형\n",
        "**선형회귀 모형(linear regression model)**이란 독립변수 x에서 종속변수 y를 예측하는 방법의 하나로 독립변수 벡터 x와 가중치 벡터 w와의 가중합으로 y에 대한 예측값 y^를 계산하는 수식을 말한다.  \n",
        "<br>\n",
        "\\begin{align}\n",
        "\\hat{y} = w_1 x_1 + \\cdots + w_N x_N\n",
        "\\tag{2.2.33}\n",
        "\\end{align}\n",
        "<br>\n",
        "이 수식에서 기호 ^는 “캐럿(caret)”이라는 기호이다. y^는 “와이 햇(y hat)”이라고 읽는다.  \n",
        "이 수식은 다음처럼 벡터의 내적으로 나타낼 수 있다.  \n",
        "<br>\n",
        "\\begin{align}\n",
        "\\hat{y} = w^Tx\n",
        "\\tag{2.2.34}\n",
        "\\end{align}\n",
        "<br>\n",
        "선형회귀 모형은 가장 단순하면서도 가장 널리 쓰이는 예측 모형이다.  "
      ]
    },
    {
      "cell_type": "markdown",
      "metadata": {
        "id": "p9bEO7VS_MPp"
      },
      "source": [
        "# 제곱합\n",
        "데이터의 분산(variance)이나 표준 편차(standard deviation) 등을 구하는 경우에는 각각의 데이터를 제곱한 뒤 이 값을 모두 더한 **제곱합(sum of squares)**을 계산해야 한다.   \n",
        "이 경우에도 벡터의 내적을 사용하여 xTx로 쓸 수 있다.  \n",
        "<br>\n",
        "\\begin{split}\n",
        "\\begin{align}\n",
        "x^T x = \n",
        "\\begin{bmatrix}\n",
        "x_{1} & x_{2} & \\cdots & x_{N} \n",
        "\\end{bmatrix}\n",
        "\\begin{bmatrix}\n",
        "x_{1} \\\\\n",
        "x_{2} \\\\\n",
        "\\vdots \\\\\n",
        "x_{N} \\\\\n",
        "\\end{bmatrix} = \\sum_{i=1}^{N} x_i^2\n",
        "\\tag{2.2.38}\n",
        "\\end{align}\n",
        "\\end{split}"
      ]
    },
    {
      "cell_type": "markdown",
      "metadata": {
        "id": "opbP4CdX_p3K"
      },
      "source": [
        "# 행렬과 행렬의 곱셈\n",
        "A  행렬과 B 행렬을 곱한 결과가 C 행렬이 된다고 하자. C의 i번째 행, j번째 열의 원소 cij의 값은 A 행렬의 i번째 행 벡터 aTi와 B 행렬의 j번째 열 벡터 bj의 곱이다.  \n",
        "<br>\n",
        "\\begin{align}\n",
        "C = AB \\; \\rightarrow \\; c_{ij} = a_i^T b_j \n",
        "\\tag{2.2.39}\n",
        "\\end{align}\n",
        "<br>\n",
        "이 정의가 성립하려면 앞의 행렬 A의 열의 수가 뒤의 행렬 B의 행의 수와 일치해야만 한다.  \n",
        "<br>\n",
        "\\begin{align}\n",
        "A \\in \\mathbf{R}^{N \\times L} , \\; B \\in \\mathbf{R}^{L \\times M} \\;  \\rightarrow \\; AB \\in \\mathbf{R}^{N \\times M} \n",
        "\\tag{2.2.40}\n",
        "\\end{align}\n",
        "<br>\n",
        "\\begin{split}\n",
        "\\begin{align}\n",
        "\\begin{bmatrix}\n",
        "a_{11} & a_{12} & a_{13} \\\\\n",
        "a_{21} & a_{22} & a_{23} \\\\\n",
        "a_{31} & a_{32} & a_{33} \\\\\n",
        "a_{41} & a_{42} & a_{43} \\\\\n",
        "\\end{bmatrix}\n",
        "\\begin{bmatrix}\n",
        "{b_{11}} & b_{12} \\\\\n",
        "{b_{21}} & b_{22} \\\\\n",
        "{b_{31}} & b_{32} \\\\    \n",
        "\\end{bmatrix}\n",
        "=\n",
        "\\begin{bmatrix}\n",
        "(a_{11}b_{11} + a_{12}b_{21} + a_{13}b_{31}) & (a_{11}b_{12} + a_{12}b_{22} + a_{13}b_{32}) \\\\\n",
        "(a_{21}b_{11} + a_{22}b_{21} + a_{23}b_{31}) & (a_{21}b_{12} + a_{22}b_{22} + a_{23}b_{32}) \\\\\n",
        "(a_{31}b_{11} + a_{32}b_{21} + a_{33}b_{31}) & (a_{31}b_{12} + a_{32}b_{22} + a_{33}b_{32}) \\\\\n",
        "(a_{41}b_{11} + a_{42}b_{21} + a_{43}b_{31}) & (a_{41}b_{12} + a_{42}b_{22} + a_{43}b_{32}) \\\\\n",
        "\\end{bmatrix}\n",
        "\\tag{2.2.41}\n",
        "\\end{align}\n",
        "\\end{split}\n",
        "\n",
        "<br>\n",
        "\\begin{split}\n",
        "\\begin{align}\n",
        "A = \\begin{bmatrix} 1 & 2 & 3 \\\\ 4 & 5 & 6 \\end{bmatrix}\n",
        "\\tag{2.2.42}\n",
        "\\end{align}\n",
        "\\end{split}\n",
        "\\begin{split}\n",
        "\\begin{align}\n",
        "B = \\begin{bmatrix} 1 & 2 \\\\ 3 & 4 \\\\ 5 & 6 \\end{bmatrix}\n",
        "\\tag{2.2.43}\n",
        "\\end{align}\n",
        "\\end{split}\n",
        "\\begin{split}\n",
        "\\begin{align}\n",
        "C = AB = \\begin{bmatrix} 22 & 28 \\\\ 49 & 64 \\end{bmatrix}\n",
        "\\tag{2.2.44}\n",
        "\\end{align}\n",
        "\\end{split}"
      ]
    },
    {
      "cell_type": "code",
      "metadata": {
        "id": "xgFjLXnQ_jxZ",
        "outputId": "1efda4d4-b006-4be7-90fc-4c4775e45a14",
        "colab": {
          "base_uri": "https://localhost:8080/"
        }
      },
      "source": [
        "A = np.array([[1, 2, 3], [4, 5, 6]])\n",
        "B = np.array([[1, 2], [3, 4], [5, 6]])\n",
        "C = A @ B\n",
        "print(C)\n",
        "print(A.shape)\n",
        "print(B.shape)\n",
        "print(C.shape)"
      ],
      "execution_count": 13,
      "outputs": [
        {
          "output_type": "stream",
          "text": [
            "[[22 28]\n",
            " [49 64]]\n",
            "(2, 3)\n",
            "(3, 2)\n",
            "(2, 2)\n"
          ],
          "name": "stdout"
        }
      ]
    },
    {
      "cell_type": "markdown",
      "metadata": {
        "id": "HYXcmt3PBJtl"
      },
      "source": [
        "# 교환 법칙과 분배 법칙\n",
        "행렬의 곱셈은 곱하는 행렬의 순서를 바꾸는 교환 법칙이 성립하지 않는다.  \n",
        "그러나 덧셈에 대한 분배 법칙은 성립한다.  \n",
        "<br>\n",
        "\\begin{align}\n",
        "AB \\neq BA  \n",
        "\\tag{2.2.53}\n",
        "\\end{align}\n",
        "<br>\n",
        "\\begin{align}\n",
        "A(B + C) = AB + AC  \n",
        "\\tag{2.2.54}\n",
        "\\end{align}\n",
        "<br>\n",
        "전치 연산도 마찬가지로 덧셈/뺄셈에 대해 분배 법칙이 성립한다.  \n",
        "<br>\n",
        "\\begin{align}\n",
        "(A + B)^T = A^T + B^T  \n",
        "\\tag{2.2.59}\n",
        "\\end{align}\n",
        "<br>\n",
        "전치 연산과 곱셈의 경우에는 분배 법칙이 성립하기는 하지만 전치 연산이 분배되면서 곱셈의 순서가 바뀐다.  \n",
        "<br>\n",
        "\\begin{align}\n",
        "(AB)^T = B^T A^T  \n",
        "\\tag{2.2.60}\n",
        "\\end{align}\n"
      ]
    },
    {
      "cell_type": "code",
      "metadata": {
        "id": "QURKvJb2B3jl",
        "outputId": "6c5bc1ab-fff6-4fda-ba1c-9f3ec702b0dd",
        "colab": {
          "base_uri": "https://localhost:8080/"
        }
      },
      "source": [
        "# 항등행렬의 곱셈\n",
        "# 어떤 행렬이든 항등행렬을 곱하면 그 행렬의 값이 변하지 않는다.\n",
        "A = np.array([[1, 2], [3, 4]])\n",
        "I = np.eye(2)\n",
        "print(A @ I)\n",
        "print(I)"
      ],
      "execution_count": 14,
      "outputs": [
        {
          "output_type": "stream",
          "text": [
            "[[1. 2.]\n",
            " [3. 4.]]\n",
            "[[1. 0.]\n",
            " [0. 1.]]\n"
          ],
          "name": "stdout"
        }
      ]
    },
    {
      "cell_type": "markdown",
      "metadata": {
        "id": "7-oa5wgOC461"
      },
      "source": [
        "# 여러 개의 벡터에 대한 가중합 동시 계산\n",
        " 선형 회귀 모형을 사용하여 여러 데이터 x1,x2,x3,⋯,xN 개의 데이터 모두에 대해 예측값 y1,y2,y3,⋯,yN을 한꺼번에 계산하고 싶다면 다음처럼 데이터 행렬 X를 사용하여 y^=Xw라는 수식으로 간단하게 표시할 수 있다.  \n",
        "<br>\n",
        "\\begin{split}\n",
        "\\begin{align}\n",
        "\\begin{aligned}\n",
        "\\hat{y} = \n",
        "\\begin{bmatrix}\n",
        "\\hat{y}_1 \\\\\n",
        "\\hat{y}_2 \\\\\n",
        "\\vdots \\\\\n",
        "\\hat{y}_M \\\\\n",
        "\\end{bmatrix}\n",
        "&= \n",
        "\\begin{bmatrix}\n",
        "w_1 x_{1,1} + w_2 x_{1,2} + \\cdots + w_N x_{1,N} \\\\\n",
        "w_1 x_{2,1} + w_2 x_{2,2} + \\cdots + w_N x_{2,N} \\\\\n",
        "\\vdots  \\\\\n",
        "w_1 x_{M,1} + w_2 x_{M,2} + \\cdots + w_N x_{M,N} \\\\\n",
        "\\end{bmatrix}\n",
        "\\\\\n",
        "&= \n",
        "\\begin{bmatrix}\n",
        "x_{1,1} & x_{1,2} & \\cdots & x_{1,N} \\\\\n",
        "x_{2,1} & x_{2,2} & \\cdots & x_{2,N} \\\\\n",
        "\\vdots  & \\vdots  & \\vdots & \\vdots \\\\\n",
        "x_{M,1} & x_{M,2} & \\cdots & x_{M,N} \\\\\n",
        "\\end{bmatrix}\n",
        "\\begin{bmatrix}\n",
        "w_1 \\\\ w_2 \\\\ \\vdots \\\\ w_N\n",
        "\\end{bmatrix}\n",
        "\\\\\n",
        "&= \n",
        "\\begin{bmatrix}\n",
        "x_1^T \\\\\n",
        "x_2^T \\\\\n",
        "\\vdots \\\\\n",
        "x_M^T \\\\\n",
        "\\end{bmatrix}\n",
        "\\begin{bmatrix}\n",
        "w_1 \\\\ w_2 \\\\ \\vdots \\\\ w_N\n",
        "\\end{bmatrix}\n",
        "\\\\\n",
        "&= X w\n",
        "\\end{aligned}\n",
        "\\tag{2.2.76}\n",
        "\\end{align}\n",
        "\\end{split}"
      ]
    },
    {
      "cell_type": "markdown",
      "metadata": {
        "id": "kh_5HQiIDAsy"
      },
      "source": [
        "# 잔차\n",
        "예측치와 실젯값(target) yi의 차이를 오차(error) 혹은 잔차(residual) ei라고 한다.  \n",
        "이러한 잔찻값을 모든 독립변수 벡터에 대해 구하면 잔차 벡터 e가 된다.  \n",
        "<br>\n",
        "\\begin{align}\n",
        "e_i = y_i - \\hat{y}_i  = y_i - w^Tx_i \n",
        "\\tag{2.2.80}\n",
        "\\end{align}\n",
        "<br>\n",
        "\\begin{split}\n",
        "\\begin{align}\n",
        "\\begin{aligned}\n",
        "e \n",
        "&=\n",
        "\\begin{bmatrix}\n",
        "e_{1} \\\\\n",
        "e_{2} \\\\\n",
        "\\vdots \\\\\n",
        "e_{M} \\\\\n",
        "\\end{bmatrix}\n",
        "\\\\ \n",
        "&=\n",
        "\\begin{bmatrix}\n",
        "y_{1} \\\\\n",
        "y_{2} \\\\\n",
        "\\vdots \\\\\n",
        "y_{M} \\\\\n",
        "\\end{bmatrix}\n",
        "-\n",
        "\\begin{bmatrix}\n",
        "x^T_{1}w \\\\\n",
        "x^T_{2}w \\\\\n",
        "\\vdots \\\\\n",
        "x^T_{M}w \\\\\n",
        "\\end{bmatrix}\n",
        "\\\\ \n",
        "&= y - Xw\n",
        "\\end{aligned}\n",
        "\\tag{2.2.81}\n",
        "\\end{align}\n",
        "\\end{split}\n",
        "<br>\n",
        "\\begin{align}\n",
        "e = y - Xw\n",
        "\\tag{2.2.82}\n",
        "\\end{align}"
      ]
    },
    {
      "cell_type": "markdown",
      "metadata": {
        "id": "XT2bDLLiDRC4"
      },
      "source": [
        "# 잔차 제곱합\n",
        "잔차의 크기는 잔차 벡터의 각 원소를 제곱한 후 더한 **잔차 제곱합(RSS: Residual Sum of Squares)**을 이용하여 구한다.   \n",
        "이 값은 eTe로 간단하게 쓸 수 있으며 그 값은 다음처럼 계산한다.  \n",
        "<br>\n",
        "\\begin{align}\n",
        "\\sum_{i=1}^{N} e_i^2 = \\sum_{i=1}^{N} (y_i - w^Tx_i)^2 = e^Te =  (y - Xw)^T (y - Xw) \n",
        "\\tag{2.2.83}\n",
        "\\end{align}"
      ]
    },
    {
      "cell_type": "markdown",
      "metadata": {
        "id": "T0Rm7DIfDiJ2"
      },
      "source": [
        "# 이차형식\n",
        "위의마지막 항은 wTXTXw라는 형태다.   \n",
        "이 식에서 XTX는 정방행렬이 되므로 이 정방행렬을 A라고 이름 붙이면 마지막 항은 wTAw와 같은 형태가 된다.  \n",
        "벡터의 **이차형식(Quadratic Form)**이란 이처럼 어떤 벡터와 정방행렬이 ‘행벡터 × 정방행렬 × 열벡터’의 형식으로 되어 있는 것을 말한다.  \n",
        "<br>\n",
        "\\begin{split}\n",
        "\\begin{align}\n",
        "\\begin{aligned}\n",
        "x^T A x \n",
        "&= \n",
        "\\begin{bmatrix}\n",
        "x_{1} & x_{2} & \\cdots & x_{N} \n",
        "\\end{bmatrix}\n",
        "\\begin{bmatrix}\n",
        "a_{1,1} & a_{1,2} & \\cdots & a_{1,N} \\\\\n",
        "a_{2,1} & a_{2,2} & \\cdots & a_{2,N} \\\\\n",
        "\\vdots & \\vdots & \\ddots & \\vdots \\\\\n",
        "a_{N,1} & a_{N,2} & \\cdots & a_{N,N} \\\\\n",
        "\\end{bmatrix}\n",
        "\\begin{bmatrix}\n",
        "x_{1} \\\\\n",
        "x_{2} \\\\\n",
        "\\vdots \\\\\n",
        "x_{N} \\\\\n",
        "\\end{bmatrix} \n",
        "\\\\\n",
        "&= \\sum_{i=1}^{N} \\sum_{j=1}^{N} a_{i,j} x_i x_j \n",
        "\\end{aligned}\n",
        "\\tag{2.2.85}\n",
        "\\end{align}\n",
        "\\end{split}"
      ]
    },
    {
      "cell_type": "markdown",
      "metadata": {
        "id": "ALhKbBk2Dwuf"
      },
      "source": [
        ""
      ]
    }
  ]
}