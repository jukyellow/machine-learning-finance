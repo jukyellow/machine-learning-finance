{
  "nbformat": 4,
  "nbformat_minor": 0,
  "metadata": {
    "colab": {
      "name": "07_RandomVariable_Correlation_6_Prediction_Bias–variance-Tradeoff_20201220.ipynb.ipynb",
      "provenance": [],
      "collapsed_sections": []
    },
    "kernelspec": {
      "name": "python3",
      "display_name": "Python 3"
    }
  },
  "cells": [
    {
      "cell_type": "code",
      "metadata": {
        "id": "1xRthqDWI6Fk"
      },
      "source": [
        "# 조건부기댓값과 예측 문제\r\n",
        "# 출처 : https://datascienceschool.net/02%20mathematics/07.06%20%EC%A1%B0%EA%B1%B4%EB%B6%80%EA%B8%B0%EB%8C%93%EA%B0%92%EA%B3%BC%20%EC%98%88%EC%B8%A1%20%EB%AC%B8%EC%A0%9C.html"
      ],
      "execution_count": null,
      "outputs": []
    },
    {
      "cell_type": "markdown",
      "metadata": {
        "id": "Ixta1YMYJ2w_"
      },
      "source": [
        "# 조건부 기댓값과 예측문제\r\n",
        "\r\n",
        "E[Y|X] 는 조건이 되는 확률변수 X의 값 x를 입력으로 가지는 함수다.  \r\n",
        "\\begin{align}\r\n",
        "\\text{E}[Y \\vert X=x] = f(x) \r\n",
        "\\tag{7.6.3}\r\n",
        "\\end{align}\r\n",
        "<br>\r\n",
        "\\begin{align}\r\n",
        "\\text{E}[Y \\vert x] = f(x) \r\n",
        "\\tag{7.6.4}\r\n",
        "\\end{align}\r\n",
        "  \r\n",
        "f(x) 는 조건이 되는 확률변수 X의 값 x를 입력받아서 결과가 되는 확률변수 Y의 기댓값을 출력하는 함수다."
      ]
    },
    {
      "cell_type": "markdown",
      "metadata": {
        "id": "-r3jpSXHJGSx"
      },
      "source": [
        "# 예측 문제 \r\n",
        "두 확률변수가 X,Y에서 X의 값을 알고 있을 때 Y의 값을 알아내는 것을 **예측(prediction)**문제라고 한다.  \r\n",
        "Y가 연속확률변수면 **회귀분석(regression analysis)**,   \r\n",
        "Y가 이산확률변수면 **분류(classification)**라고도 한다.  \r\n",
        "X의 값 x을 알면 조건부확률분포 P(y|x)의 분포를 알 수 있지만 가장 대표성이 있는 하나의 값이 되어야하므로 일반적으로 조건부확률분포의 기댓값인 조건부기댓값을 예측문제의 답으로 하는 경우가 많다.  \r\n",
        "경우에 따라서는 예측문제의 답으로 중앙값이나 최빈값 등을 계산할 수도 있다.   \r\n",
        "예측문제의 답은 y^기호로 표기하기도 한다.  \r\n",
        "조건부기댓값은 x값의 함수이므로 이 함수를 구할 수 있으면 모든 x값에 대한 예측결과를 구한 것과 같다.\r\n",
        "  \r\n",
        "\\begin{align}\r\n",
        "x \\xrightarrow {\\text{예측}} \\hat{y} = E[y|x] = f(x)\r\n",
        "\\tag{7.6.5}\r\n",
        "\\end{align}\r\n",
        "  "
      ]
    },
    {
      "cell_type": "markdown",
      "metadata": {
        "id": "JuIA1vOiKQ9f"
      },
      "source": [
        "# 조건부 분산\r\n",
        "\\begin{align}\r\n",
        "\\text{Var}_Y[Y \\vert X] \r\n",
        "= \\text{E}_Y[(Y - \\text{E}_Y[Y \\vert X])^2 \\vert X] \r\n",
        "= \\int (Y - \\text{E}_Y[Y \\vert X])^2 f_{Y \\vert X}(y \\vert x) dy \r\n",
        "\\tag{7.6.13}\r\n",
        "\\end{align}\r\n",
        "  \r\n",
        "조건부분산은 x의 값을 알고 있을 때 이에 대한 조건부확률분포 p(y|x)의 분산이다.  \r\n",
        "  \r\n",
        "예측문제의 관점으로 보면 조건부분산은 예측의 불확실성, 즉 예측으로 맞출 수 없는 범위를 뜻한다.\r\n",
        "\r\n",
        "# 전체 분산의 법칙\r\n",
        "**확률변수의 분산은 조건부분산의 기댓값과 조건부기댓값의 분산의 합과 같다**.   \r\n",
        "이를 **전체 분산의 법칙(law of total variance)**라고 한다.   \r\n",
        "\\begin{align}\r\n",
        "\\text{Var}[Y] = \\text{E}[\\text{Var}[Y\\vert X]] + \\text{Var}[\\text{E}[Y\\vert X]]\r\n",
        "\\tag{7.6.14}\r\n",
        "\\end{align}\r\n",
        "<br>\r\n",
        "\\begin{align}\r\n",
        "\\text{Var}[Y] = \\text{E}[(\\hat{y}-y)^2] + \\text{Var}[\\hat{y}]\r\n",
        "\\tag{7.6.16}\r\n",
        "\\end{align}\r\n",
        "<br>\r\n",
        "\r\n",
        "예측문제의 관점에서 조건부분산의 기댓값 E[(y^−y)2]은 예측 오차 즉, **편향(bias)**의 평균적인 크기를 뜻한다.   \r\n",
        "조건부기댓값의 분산 Var[y^]은 **예측값의 변동 크기**다.   \r\n",
        "<br>\r\n",
        "예측값의 변동 크기가 증가한다는 것은 예측모형이 복잡하고 비선형적이며 주어진 데이터에 **과최적화**되기 쉽다는 의미다.   \r\n",
        "<br>\r\n",
        "따라서 전체 분산의 법칙이 말하고자 하는 바는 예측 오차의 크기과 예측값의 변동의 합이 일정하므로 **예측오차를 줄이(Bias↓)면 모형이 복잡해지고 과최적화(Variance↑)가 되며, 반대로 모형을 과최적화를 막기위해 단순(Variance↓)하게 하면 예측오차가 증가(Bias↑)**한다.  \r\n",
        "<br> \r\n",
        "이를 **편향-분산 상충(Bias–variance Tradeoff) 법칙**이라고도 한다.\r\n",
        "\r\n"
      ]
    }
  ]
}