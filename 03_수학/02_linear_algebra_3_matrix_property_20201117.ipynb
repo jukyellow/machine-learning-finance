{
  "nbformat": 4,
  "nbformat_minor": 0,
  "metadata": {
    "colab": {
      "name": "02_linear_algebra_3_matrix_property_20201117.ipynb",
      "provenance": [],
      "collapsed_sections": []
    },
    "kernelspec": {
      "name": "python3",
      "display_name": "Python 3"
    }
  },
  "cells": [
    {
      "cell_type": "code",
      "metadata": {
        "id": "Gh4wV9xv9FYR"
      },
      "source": [
        "#https://datascienceschool.net/02%20mathematics/02.03%20%ED%96%89%EB%A0%AC%EC%9D%98%20%EC%84%B1%EC%A7%88.html"
      ],
      "execution_count": null,
      "outputs": []
    },
    {
      "cell_type": "code",
      "metadata": {
        "id": "KHuCT5DZ9LKk"
      },
      "source": [
        "# 행렬의 성질"
      ],
      "execution_count": null,
      "outputs": []
    },
    {
      "cell_type": "code",
      "metadata": {
        "id": "P6cb7-DA9LNd"
      },
      "source": [
        "#정부호화 준정부호"
      ],
      "execution_count": null,
      "outputs": []
    },
    {
      "cell_type": "code",
      "metadata": {
        "id": "XSKoGKgh94kB"
      },
      "source": [
        "#행렬 놈(norm)"
      ],
      "execution_count": null,
      "outputs": []
    },
    {
      "cell_type": "code",
      "metadata": {
        "id": "Ky2LuDlk94pS"
      },
      "source": [
        "#대각합(trace)"
      ],
      "execution_count": null,
      "outputs": []
    },
    {
      "cell_type": "code",
      "metadata": {
        "id": "gdn3jx2j94mr"
      },
      "source": [
        "#행렬식(determinant)"
      ],
      "execution_count": null,
      "outputs": []
    }
  ]
}