{
  "nbformat": 4,
  "nbformat_minor": 0,
  "metadata": {
    "colab": {
      "name": "02_linear_algebra_4_linear_equations_20201122.ipynb",
      "provenance": [],
      "collapsed_sections": []
    },
    "kernelspec": {
      "name": "python3",
      "display_name": "Python 3"
    }
  },
  "cells": [
    {
      "cell_type": "code",
      "metadata": {
        "id": "keVC_i0QowtM"
      },
      "source": [
        "# https://datascienceschool.net/02%20mathematics/02.04%20%EC%84%A0%ED%98%95%20%EC%97%B0%EB%A6%BD%EB%B0%A9%EC%A0%95%EC%8B%9D%EA%B3%BC%20%EC%97%AD%ED%96%89%EB%A0%AC.html"
      ],
      "execution_count": null,
      "outputs": []
    },
    {
      "cell_type": "markdown",
      "metadata": {
        "id": "V7rYa5xd0fGW"
      },
      "source": [
        "# 선형 연립방정식\n",
        "\n",
        "복수의 미지수를 포함하는 복수의 선형 방정식을 선형 연립방정식(system of linear equations) 또는 연립일차방정식이라고 한다.  \n",
        "<br>\n",
        "\\begin{align}\n",
        "Ax = b  \n",
        "\\tag{2.4.5}\n",
        "\\end{align}\n",
        "<br>\n",
        "A,x,b  는 각각 **계수행렬(coefficient matrix), 미지수벡터(unknown vector), 상수벡터(constant vector)**라고 부른다.  \n",
        "<br>\n",
        "\\begin{split}\n",
        "\\begin{align}\n",
        "A = \n",
        "\\begin{bmatrix}\n",
        " 1 & 1 & 0 \\\\\n",
        " 0 & 1 & 1 \\\\\n",
        " 1 & 1 & 1 \\\\\n",
        "\\end{bmatrix}, \\;\\;\\;\n",
        "x = \\begin{bmatrix}\n",
        "x_1 \\\\ x_2 \\\\ x_3\n",
        "\\end{bmatrix}, \\;\\;\\;\n",
        "b = \\begin{bmatrix}\n",
        "2 \\\\ 2 \\\\ 3\n",
        "\\end{bmatrix}\n",
        "\\tag{2.4.7}\n",
        "\\end{align}\n",
        "\\end{split}\n",
        "<br>\n",
        "\\begin{align}\n",
        "x = \\dfrac{b}{A}\n",
        "\\tag{2.4.8}\n",
        "\\end{align}\n",
        "<br>\n",
        "그러나 행렬에서는 나눗셈이 정의되지 않으므로 이 방법은 사용할 수 없다. 행렬에서는 나눗셈 대신 역행렬이라는 것을 사용한다.  \n"
      ]
    },
    {
      "cell_type": "markdown",
      "metadata": {
        "id": "ElKC89ZJ0fJz"
      },
      "source": [
        "# 역행렬\n",
        "정방 행렬 A에 대한 역행렬(inverse matrix) A−1은 원래의 행렬 A와 다음 관계를 만족하는 정방 행렬을 말한다. I는 항등 행렬(identity matrix)이다.  \n",
        "<br>\n",
        "\\begin{align}\n",
        "A^{-1} A = A A^{-1} = I  \n",
        "\\tag{2.4.9}\n",
        "\\end{align}\n",
        "\n",
        "# 역행렬의 성질\n",
        "\\begin{align}\n",
        "(A^{T})^{-1} = (A^{-1})^{T}  \n",
        "\\tag{2.4.11}\n",
        "\\end{align}\n",
        "\n"
      ]
    },
    {
      "cell_type": "markdown",
      "metadata": {
        "id": "SCaTrvJX0flE"
      },
      "source": [
        "# 역행렬의 계산\n",
        "\\begin{split} \n",
        "\\begin{align}\n",
        "A^{-1} = \\dfrac{1}{\\det (A)} C^T = \\dfrac{1}{\\det (A)} \n",
        "\\begin{bmatrix}\n",
        "C_{1,1} & \\cdots & C_{N,1}  \\\\\n",
        "\\vdots  & \\ddots & \\vdots   \\\\\n",
        "C_{1,N} & \\cdots & C_{N,N}  \\\\\n",
        "\\end{bmatrix}\n",
        "\\tag{2.4.14}\n",
        "\\end{align}\n",
        "\\end{split}\n",
        "<br>\n",
        "이 식에서 Ci,j는 A의 i,j번째 원소에 대해 정의한 코팩터(cofactor)다.  \n",
        "코팩터로 이루어진 행렬 C을 **여인수행렬(matrix of cofactors, 또는 cofactor matrix, comatrix)**이라고 한다. 또 여인수행렬의 전치행렬 CT를 어드조인트행렬(adjoint matrix, adjugate matrix, 수반행렬)이라고 하며 **adj(A)**로 표기하기도 한다.  "
      ]
    },
    {
      "cell_type": "code",
      "metadata": {
        "colab": {
          "base_uri": "https://localhost:8080/"
        },
        "id": "MqhqCtE61E0d",
        "outputId": "7a43f7bd-fd35-494d-ef4b-77d94cf4f6e0"
      },
      "source": [
        "import numpy as np\n",
        "\n",
        "A = np.array([[1, 1, 0], [0, 1, 1], [1, 1, 1]])\n",
        "print(A)\n",
        "\n",
        "Ainv = np.linalg.inv(A)\n",
        "print(Ainv)"
      ],
      "execution_count": 1,
      "outputs": [
        {
          "output_type": "stream",
          "text": [
            "[[1 1 0]\n",
            " [0 1 1]\n",
            " [1 1 1]]\n",
            "[[ 0. -1.  1.]\n",
            " [ 1.  1. -1.]\n",
            " [-1.  0.  1.]]\n"
          ],
          "name": "stdout"
        }
      ]
    },
    {
      "cell_type": "markdown",
      "metadata": {
        "id": "WgFnKkTx11N0"
      },
      "source": [
        "# 역행렬과 선형 연립방정식의 해\n",
        "\\begin{align}\n",
        "Ax = b\n",
        "\\tag{2.4.26}\n",
        "\\end{align}\n",
        "<br>\n",
        "\\begin{align}\n",
        "x = A^{-1}b  \n",
        "\\tag{2.4.29}\n",
        "\\end{align}\n"
      ]
    },
    {
      "cell_type": "code",
      "metadata": {
        "colab": {
          "base_uri": "https://localhost:8080/"
        },
        "id": "GYtBqqa100qd",
        "outputId": "c0f92b05-2fe6-4558-9fc6-08fe322cef5f"
      },
      "source": [
        "b = np.array([[2], [2], [3]])\n",
        "print(b)\n",
        "\n",
        "x = Ainv @ b\n",
        "print(x)\n",
        "\n",
        "print(A @ x - b)"
      ],
      "execution_count": 3,
      "outputs": [
        {
          "output_type": "stream",
          "text": [
            "[[2]\n",
            " [2]\n",
            " [3]]\n",
            "[[1.]\n",
            " [1.]\n",
            " [1.]]\n",
            "[[0.]\n",
            " [0.]\n",
            " [0.]]\n"
          ],
          "name": "stdout"
        }
      ]
    },
    {
      "cell_type": "code",
      "metadata": {
        "colab": {
          "base_uri": "https://localhost:8080/"
        },
        "id": "1KTwBAt_2Vq4",
        "outputId": "90555cf7-8022-4e71-e5b1-6013bdfe6efa"
      },
      "source": [
        "# lstsq() 명령은 행렬 A와 b를 모두 인수로 받고 뒤에서 설명할 최소자승문제(least square problem)의\n",
        "# 답 x, 잔차제곱합(residual sum of squares) resid, 랭크(rank) rank, 특잇값(singular value) s를 반환한다. \n",
        "# 미지수와 방정식의 개수가 같고 행렬 A의 역행렬이 존재하면 최소자승문제의 답과 선형 연립방정식의 답이 같으므로 lstsq() 명령으로 선형 연립방정식을 풀 수도 있다. \n",
        "# 최소자승문제, 랭크, 특잇값에 대해서는 뒤에서 자세히 설명할 것이다.\n",
        "\n",
        "x, resid, rank, s = np.linalg.lstsq(A, b)\n",
        "print(x)"
      ],
      "execution_count": 4,
      "outputs": [
        {
          "output_type": "stream",
          "text": [
            "[[1.]\n",
            " [1.]\n",
            " [1.]]\n"
          ],
          "name": "stdout"
        },
        {
          "output_type": "stream",
          "text": [
            "/usr/local/lib/python3.6/dist-packages/ipykernel_launcher.py:6: FutureWarning: `rcond` parameter will change to the default of machine precision times ``max(M, N)`` where M and N are the input matrix dimensions.\n",
            "To use the future default and silence this warning we advise to pass `rcond=None`, to keep using the old, explicitly pass `rcond=-1`.\n",
            "  \n"
          ],
          "name": "stderr"
        }
      ]
    },
    {
      "cell_type": "markdown",
      "metadata": {
        "id": "RuUtnvXL2l_q"
      },
      "source": [
        "# 미지수의 수와 방정식의 수¶\n",
        "\n",
        "<br>\n",
        "\n",
        "# 최소자승문제"
      ]
    }
  ]
}