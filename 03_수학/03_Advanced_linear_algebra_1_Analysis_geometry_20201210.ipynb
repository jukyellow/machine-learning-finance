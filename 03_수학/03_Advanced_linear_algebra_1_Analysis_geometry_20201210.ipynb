{
  "nbformat": 4,
  "nbformat_minor": 0,
  "metadata": {
    "colab": {
      "name": "03_Advanced_linear_algebra_1_Analysis geometry_20201210.ipynb",
      "provenance": [],
      "collapsed_sections": []
    },
    "kernelspec": {
      "name": "python3",
      "display_name": "Python 3"
    }
  },
  "cells": [
    {
      "cell_type": "code",
      "metadata": {
        "id": "-_8XwQp0i9Pr"
      },
      "source": [
        "# https://datascienceschool.net/02%20mathematics/03.01%20%EC%84%A0%ED%98%95%EB%8C%80%EC%88%98%EC%99%80%20%ED%95%B4%EC%84%9D%EA%B8%B0%ED%95%98%EC%9D%98%20%EA%B8%B0%EC%B4%88.html\r\n",
        "\r\n",
        "# 3.1 선형대수와 해석기하의 기초"
      ],
      "execution_count": null,
      "outputs": []
    },
    {
      "cell_type": "markdown",
      "metadata": {
        "id": "ZaQ7WgFTjILS"
      },
      "source": [
        "# 벡터의 기하학적 의미\r\n",
        "\r\n",
        "N 차원 벡터 a는 N차원의 공간에서\r\n",
        "벡터 a의 값으로 표시되는 점(point) 또는\r\n",
        "원점과 벡터 a의 값으로 표시되는 점을 연결한 화살표(arrow)\r\n",
        "라고 생각할 수 있다.\r\n",
        "예를 들어 2차원 벡터  \r\n",
        "\\begin{split}\r\n",
        "\\begin{align}\r\n",
        "a = \\begin{bmatrix}a_1 \\\\ a_2 \\end{bmatrix}\r\n",
        "\\tag{3.1.1}\r\n",
        "\\end{align}\r\n",
        "\\end{split}  \r\n",
        "는 2차원 공간에서 x 좌표가 a1, y 좌표가 a2인 점으로 생각할 수도 있고 또는 원점에서 이 점을 가리키는 화살표로 생각할 수도 있다.\r\n"
      ]
    },
    {
      "cell_type": "code",
      "metadata": {
        "colab": {
          "base_uri": "https://localhost:8080/",
          "height": 581
        },
        "id": "yeLm-FEhjgik",
        "outputId": "fb73a0eb-1466-45c1-fb7d-607479ff5442"
      },
      "source": [
        "import numpy as np\r\n",
        "import matplotlib.pylab as plt\r\n",
        "\r\n",
        "plt.rc(\"font\", size=18)  # 그림의 폰트 크기를 18로 고정\r\n",
        "gray = {\"facecolor\": \"gray\"}\r\n",
        "black = {\"facecolor\": \"black\"}\r\n",
        "red = {\"facecolor\": \"red\"}\r\n",
        "green = {\"facecolor\": \"green\"}\r\n",
        "blue = {\"facecolor\": \"blue\"}\r\n",
        "\r\n",
        "a = np.array([1, 2])\r\n",
        "plt.plot(0, 0, 'kP', ms=20)\r\n",
        "plt.plot(a[0], a[1], 'ro', ms=20)\r\n",
        "plt.annotate('', xy=[-0.6, 1.6], xytext=(0.2, 0.7), arrowprops=gray)\r\n",
        "plt.annotate('', xy=a, xytext=(0, 0), arrowprops=black)\r\n",
        "plt.annotate('', xy=a + [-1, 1], xytext=(-1, 1), arrowprops=black)\r\n",
        "plt.text(0.35, 1.15, \"$a$\")\r\n",
        "plt.text(1.15, 2.25, \"$(1,2)$\")\r\n",
        "plt.text(-0.7, 2.1, \"$a$\")\r\n",
        "plt.text(-0.9, 0.6, \"평행이동\")\r\n",
        "plt.xticks(np.arange(-2, 4))\r\n",
        "plt.yticks(np.arange(-1, 4))\r\n",
        "plt.xlim(-2.4, 3.4)\r\n",
        "plt.ylim(-0.8, 3.4)\r\n",
        "plt.show()"
      ],
      "execution_count": 1,
      "outputs": [
        {
          "output_type": "stream",
          "text": [
            "/usr/local/lib/python3.6/dist-packages/matplotlib/backends/backend_agg.py:214: RuntimeWarning: Glyph 54217 missing from current font.\n",
            "  font.set_text(s, 0.0, flags=flags)\n",
            "/usr/local/lib/python3.6/dist-packages/matplotlib/backends/backend_agg.py:214: RuntimeWarning: Glyph 54665 missing from current font.\n",
            "  font.set_text(s, 0.0, flags=flags)\n",
            "/usr/local/lib/python3.6/dist-packages/matplotlib/backends/backend_agg.py:214: RuntimeWarning: Glyph 51060 missing from current font.\n",
            "  font.set_text(s, 0.0, flags=flags)\n",
            "/usr/local/lib/python3.6/dist-packages/matplotlib/backends/backend_agg.py:214: RuntimeWarning: Glyph 46041 missing from current font.\n",
            "  font.set_text(s, 0.0, flags=flags)\n",
            "/usr/local/lib/python3.6/dist-packages/matplotlib/backends/backend_agg.py:183: RuntimeWarning: Glyph 54217 missing from current font.\n",
            "  font.set_text(s, 0, flags=flags)\n",
            "/usr/local/lib/python3.6/dist-packages/matplotlib/backends/backend_agg.py:183: RuntimeWarning: Glyph 54665 missing from current font.\n",
            "  font.set_text(s, 0, flags=flags)\n",
            "/usr/local/lib/python3.6/dist-packages/matplotlib/backends/backend_agg.py:183: RuntimeWarning: Glyph 51060 missing from current font.\n",
            "  font.set_text(s, 0, flags=flags)\n",
            "/usr/local/lib/python3.6/dist-packages/matplotlib/backends/backend_agg.py:183: RuntimeWarning: Glyph 46041 missing from current font.\n",
            "  font.set_text(s, 0, flags=flags)\n"
          ],
          "name": "stderr"
        },
        {
          "output_type": "display_data",
          "data": {
            "image/png": "[encoded data removed]",
            "text/plain": [
              "<Figure size 432x288 with 1 Axes>"
            ]
          },
          "metadata": {
            "tags": [],
            "needs_background": "light"
          }
        }
      ]
    },
    {
      "cell_type": "markdown",
      "metadata": {
        "id": "0OhNr7z9jlM7"
      },
      "source": [
        "# 벡터의 길이\r\n",
        "\r\n",
        "벡터 a의 길이는 놈(norm) ∥a∥으로 정의한다.  \r\n",
        "\\begin{align}\r\n",
        "\\| a \\| = \\sqrt{a^T a } = \\sqrt{a_1^2 + \\cdots + a_N^2}\r\n",
        "\\tag{3.1.2}\r\n",
        "\\end{align}  \r\n",
        "넘파이 linalg 서브 패키지의 norm() 명령으로 벡터의 길이를 계산할 수 있다. 위에서 예로 든 2차원 벡터 a=[a1a2]T의 길이는 5–√≈2.236이다.  \r\n"
      ]
    },
    {
      "cell_type": "code",
      "metadata": {
        "colab": {
          "base_uri": "https://localhost:8080/"
        },
        "id": "XQwJJk0tj1QD",
        "outputId": "6958d817-cf7f-4994-992f-b2dd510d5774"
      },
      "source": [
        "a = np.array([1, 2])\r\n",
        "np.linalg.norm(a)"
      ],
      "execution_count": 2,
      "outputs": [
        {
          "output_type": "execute_result",
          "data": {
            "text/plain": [
              "2.23606797749979"
            ]
          },
          "metadata": {
            "tags": []
          },
          "execution_count": 2
        }
      ]
    },
    {
      "cell_type": "markdown",
      "metadata": {
        "id": "sIJs9CiAj7Di"
      },
      "source": [
        "# 스칼라와 벡터의 곱\r\n",
        "양의 실수와 벡터를 곱하면 벡터의 방향은 변하지 않고 실수의 크기만큼 벡터의 길이가 커진다. 만약 음의 실수를 곱하면 벡터의 방향이 반대가 된다.  "
      ]
    },
    {
      "cell_type": "code",
      "metadata": {
        "colab": {
          "base_uri": "https://localhost:8080/",
          "height": 265
        },
        "id": "r8gok8-DkBy8",
        "outputId": "0f24ba7f-a0c4-4863-fa21-3b0d1c80d0f5"
      },
      "source": [
        "a = np.array([1, 2])\r\n",
        "b = 2 * a\r\n",
        "c = -a\r\n",
        "plt.annotate('', xy=b, xytext=(0, 0), arrowprops=red)\r\n",
        "plt.text(0.8, 3.1, \"$2a$\")\r\n",
        "plt.text(2.2, 3.8, \"$(2, 4)$\")\r\n",
        "plt.annotate('', xy=a, xytext=(0, 0), arrowprops=gray)\r\n",
        "plt.text(0.1, 1.3, \"$a$\")\r\n",
        "plt.text(1.1, 1.4, \"$(1, 2)$\")\r\n",
        "plt.plot(c[0], c[1], 'ro', ms=10)\r\n",
        "plt.annotate('', xy=c, xytext=(0, 0), arrowprops=blue)\r\n",
        "plt.text(-1.3, -0.8, \"$-a$\")\r\n",
        "plt.text(-3, -2.5, \"$(-1, -2)$\")\r\n",
        "plt.plot(0, 0, 'kP', ms=20)\r\n",
        "plt.xticks(np.arange(-5, 6))\r\n",
        "plt.yticks(np.arange(-5, 6))\r\n",
        "plt.xlim(-4.4, 5.4)\r\n",
        "plt.ylim(-3.2, 5.2)\r\n",
        "plt.show()"
      ],
      "execution_count": 3,
      "outputs": [
        {
          "output_type": "display_data",
          "data": {
            "image/png": "[encoded data removed]",
            "text/plain": [
              "<Figure size 432x288 with 1 Axes>"
            ]
          },
          "metadata": {
            "tags": [],
            "needs_background": "light"
          }
        }
      ]
    },
    {
      "cell_type": "markdown",
      "metadata": {
        "id": "iJu5zWmUkLTR"
      },
      "source": [
        "# 단위벡터\r\n",
        "길이가 1인 벡터를 **단위벡터(unit vector)**라고 한다. 예를 들어 다음과 같은 벡터들은 모두 단위벡터다.  \r\n",
        "\\begin{split} \r\n",
        "\\begin{align}\r\n",
        "\\label{1234.5678}\r\n",
        "a = \\begin{bmatrix}1 \\\\ 0\\end{bmatrix} ,\\;\\;\r\n",
        "b = \\begin{bmatrix}0 \\\\ 1\\end{bmatrix} ,\\;\\;\r\n",
        "c = \\begin{bmatrix} \\dfrac{1}{\\sqrt{2}} \\\\ \\dfrac{1}{\\sqrt{2}} \\end{bmatrix}\r\n",
        "\\tag{3.1.3}\r\n",
        "\\end{align}\r\n",
        "\\end{split}  \r\n",
        "영벡터가 아닌 임의의 벡터 x에 대해 다음 벡터는 벡터 x와 같은 방향을 가리키는 단위벡터가 된다.  \r\n",
        "\\begin{align}\r\n",
        "\\dfrac{x}{\\| x \\|}\r\n",
        "\\tag{3.1.4}\r\n",
        "\\end{align}  \r\n"
      ]
    },
    {
      "cell_type": "code",
      "metadata": {
        "colab": {
          "base_uri": "https://localhost:8080/"
        },
        "id": "DssTrGu5kTFR",
        "outputId": "dc8f8a02-8274-4f32-a88b-a612cdeec13a"
      },
      "source": [
        "a = np.array([1, 0])\r\n",
        "b = np.array([0, 1])\r\n",
        "c = np.array([1/np.sqrt(2), 1/np.sqrt(2)])\r\n",
        "np.linalg.norm(a), np.linalg.norm(b), np.linalg.norm(c)"
      ],
      "execution_count": 4,
      "outputs": [
        {
          "output_type": "execute_result",
          "data": {
            "text/plain": [
              "(1.0, 1.0, 0.9999999999999999)"
            ]
          },
          "metadata": {
            "tags": []
          },
          "execution_count": 4
        }
      ]
    },
    {
      "cell_type": "markdown",
      "metadata": {
        "id": "AnvSOrJJkbOZ"
      },
      "source": [
        "# 벡터의 합  \r\n",
        "벡터와 벡터의 합도 벡터가 된다. 이때 두 벡터의 합은 그 두 벡터를 이웃하는 변으로 가지는 평행사변형의 대각선 벡터가 된다.  \r\n",
        "\\begin{split} \r\n",
        "\\begin{align}\r\n",
        "a = \\begin{bmatrix}1 \\\\ 2\\end{bmatrix} ,\\;\\;\r\n",
        "b = \\begin{bmatrix}2 \\\\ 1\\end{bmatrix} \\;\\;\\; \\rightarrow \\;\\;\\;\r\n",
        "c = a + b = \\begin{bmatrix}3 \\\\ 3\\end{bmatrix} \r\n",
        "\\tag{3.1.5}\r\n",
        "\\end{align}\r\n",
        "\\end{split}  \r\n"
      ]
    },
    {
      "cell_type": "code",
      "metadata": {
        "colab": {
          "base_uri": "https://localhost:8080/",
          "height": 265
        },
        "id": "AYJCsRRTkk_g",
        "outputId": "e10a8614-54e1-40be-e95f-a3d8210cb60b"
      },
      "source": [
        "a = np.array([1, 2])\r\n",
        "b = np.array([2, 1])\r\n",
        "c = a + b\r\n",
        "plt.annotate('', xy=a, xytext=(0, 0), arrowprops=gray)\r\n",
        "plt.annotate('', xy=b, xytext=(0, 0), arrowprops=gray)\r\n",
        "plt.annotate('', xy=c, xytext=(0, 0), arrowprops=black)\r\n",
        "plt.plot(0, 0, 'kP', ms=10)\r\n",
        "plt.plot(a[0], a[1], 'ro', ms=10)\r\n",
        "plt.plot(b[0], b[1], 'ro', ms=10)\r\n",
        "plt.plot(c[0], c[1], 'ro', ms=10)\r\n",
        "plt.plot([a[0], c[0]], [a[1], c[1]], 'k--')\r\n",
        "plt.plot([b[0], c[0]], [b[1], c[1]], 'k--')\r\n",
        "plt.text(0.35, 1.15, \"$a$\")\r\n",
        "plt.text(1.15, 0.25, \"$b$\")\r\n",
        "plt.text(1.25, 1.45, \"$c$\")\r\n",
        "plt.xticks(np.arange(-2, 5))\r\n",
        "plt.yticks(np.arange(-1, 4))\r\n",
        "plt.xlim(-1.4, 4.4)\r\n",
        "plt.ylim(-0.6, 3.8)\r\n",
        "plt.show()"
      ],
      "execution_count": 5,
      "outputs": [
        {
          "output_type": "display_data",
          "data": {
            "image/png": "[encoded data removed]",
            "text/plain": [
              "<Figure size 432x288 with 1 Axes>"
            ]
          },
          "metadata": {
            "tags": [],
            "needs_background": "light"
          }
        }
      ]
    },
    {
      "cell_type": "code",
      "metadata": {
        "colab": {
          "base_uri": "https://localhost:8080/",
          "height": 265
        },
        "id": "iDBIQi9tkrpb",
        "outputId": "73526277-95ab-4010-c09c-36bdc2b8ddfe"
      },
      "source": [
        "#또는 벡터를 더하고자 하는 벡터의 끝점으로 평행이동했을 때 이동한 벡터가 가리키는 점의 위치로 생각할 수도 있다.\r\n",
        "a = np.array([1, 2])\r\n",
        "b = np.array([2, 1])\r\n",
        "c = a + b\r\n",
        "plt.annotate('', xy=a, xytext=(0, 0), arrowprops=gray)\r\n",
        "plt.annotate('', xy=c, xytext=a, arrowprops=gray)\r\n",
        "plt.annotate('', xy=c, xytext=(0, 0), arrowprops=black)\r\n",
        "plt.plot(0, 0, 'kP', ms=10)\r\n",
        "plt.plot(a[0], a[1], 'ro', ms=10)\r\n",
        "plt.plot(c[0], c[1], 'ro', ms=10)\r\n",
        "plt.text(0.35, 1.15, \"$a$\")\r\n",
        "plt.text(1.45, 2.45, \"$b$\")\r\n",
        "plt.text(1.25, 1.45, \"$c$\")\r\n",
        "plt.xticks(np.arange(-2, 5))\r\n",
        "plt.yticks(np.arange(-1, 4))\r\n",
        "plt.xlim(-1.4, 4.4)\r\n",
        "plt.ylim(-0.6, 3.8)\r\n",
        "plt.show()"
      ],
      "execution_count": 6,
      "outputs": [
        {
          "output_type": "display_data",
          "data": {
            "image/png": "[encoded data removed]",
            "text/plain": [
              "<Figure size 432x288 with 1 Axes>"
            ]
          },
          "metadata": {
            "tags": [],
            "needs_background": "light"
          }
        }
      ]
    },
    {
      "cell_type": "markdown",
      "metadata": {
        "id": "xr41_or5k59y"
      },
      "source": [
        "# 벡터의 차\r\n",
        "벡터의 차 a−b=c는 벡터 b가 가리키는 점으로부터 벡터 a가 가리키는 점을 연결하는 벡터다. 그 이유는 벡터 b에 벡터 a−b를 더하면, 즉 벡터 b와 벡터 a−b를 연결하면 벡터 a가 되어야 하기 때문이다.  \r\n",
        "\\begin{align}\r\n",
        "a - b = c\r\n",
        "\\tag{3.1.10}\r\n",
        "\\end{align}  \r\n",
        "  \r\n",
        "\\begin{align}\r\n",
        "b + c = b + (a-b) = a\r\n",
        "\\tag{3.1.11}\r\n",
        "\\end{align}  \r\n"
      ]
    },
    {
      "cell_type": "code",
      "metadata": {
        "colab": {
          "base_uri": "https://localhost:8080/",
          "height": 265
        },
        "id": "En_MLHUllFyp",
        "outputId": "3761b2db-d3ac-43a1-b4c0-7742d166be10"
      },
      "source": [
        "a = np.array([1, 2])\r\n",
        "b = np.array([2, 1])\r\n",
        "c = a - b\r\n",
        "plt.annotate('', xy=a, xytext=(0, 0), arrowprops=gray)\r\n",
        "plt.annotate('', xy=b, xytext=(0, 0), arrowprops=gray)\r\n",
        "plt.annotate('', xy=a, xytext=b, arrowprops=black)\r\n",
        "plt.plot(0, 0, 'kP', ms=10)\r\n",
        "plt.plot(a[0], a[1], 'ro', ms=10)\r\n",
        "plt.plot(b[0], b[1], 'ro', ms=10)\r\n",
        "plt.text(0.35, 1.15, \"$a$\")\r\n",
        "plt.text(1.15, 0.25, \"$b$\")\r\n",
        "plt.text(1.55, 1.65, \"$a-b$\")\r\n",
        "plt.xticks(np.arange(-2, 5))\r\n",
        "plt.yticks(np.arange(-1, 4))\r\n",
        "plt.xlim(-0.8, 2.8)\r\n",
        "plt.ylim(-0.8, 2.8)\r\n",
        "plt.show()"
      ],
      "execution_count": 7,
      "outputs": [
        {
          "output_type": "display_data",
          "data": {
            "image/png": "[encoded data removed]",
            "text/plain": [
              "<Figure size 432x288 with 1 Axes>"
            ]
          },
          "metadata": {
            "tags": [],
            "needs_background": "light"
          }
        }
      ]
    },
    {
      "cell_type": "markdown",
      "metadata": {
        "id": "Jvm17TmVlpQ5"
      },
      "source": [
        "# Word2Vec\r\n",
        "나중에 인공신경망 부분에서 공부하게 될 word2vec 방법을 이용하면 단어(word)를 공간에서 점 또는 벡터(vector)로 표현할 수 있다. word2vec으로 만들어진 벡터는 단어의 의미에 따라 다음처럼 평행사변형 관계를 가질 수 있다.  \r\n",
        "\\begin{align}\r\n",
        "\\text{일본} = \\text{도쿄} + (\\text{한국} - \\text{서울}) \r\n",
        "\\tag{3.1.12}\r\n",
        "\\end{align}  \r\n",
        "  \r\n",
        "  한국 - 서울은 서울에서 한국으로 향하는 벡터다. 즉 의미론적으로 **수도 이름을 나라 이름으로 바꾸는 행위(action)**에 비유할 수 있다. 이러한 행위를 도쿄에 대해서 적용한 결과가 도쿄 + (한국 - 서울)이다. word2vec 학습 결과에서 이렇게 계산한 위치에 가장 가까이 있는 단어를 찾으면 도쿄가 나온다."
      ]
    },
    {
      "cell_type": "markdown",
      "metadata": {
        "id": "u0SqlzZ9lyi7"
      },
      "source": [
        "# 유클리드 거리\r\n",
        "두 벡터가 가리키는 점 사이의 거리를 **유클리드 거리(Euclidean distance)**라고 한다. 두 벡터의 유클리드 거리는 벡터의 차의 길이로 구할 수 있다.  \r\n",
        "벡터의 놈의 정의와 벡터의 차의 정의에서 유클리드 거리는 다음처럼 구한다.  \r\n",
        "\\begin{split} \r\n",
        "\\begin{align}\r\n",
        "\\begin{aligned} \r\n",
        "\\| a - b \\|\r\n",
        "&= \\sqrt{\\sum_{i=1} (a_i - b_i)^2} \\\\\r\n",
        "&= \\sqrt{\\sum_{i=1} ( a_i^2 - 2 a_i b_i + b_i^2 )} \\\\\r\n",
        "&= \\sqrt{\\sum_{i=1} a_i^2 + \\sum_{i=1} b_i^2 - 2 \\sum_{i=1} a_i b_i} \\\\\r\n",
        "&= \\sqrt{\\| a \\|^2 + \\| b \\|^2  - 2 a^Tb }\r\n",
        "\\end{aligned}\r\n",
        "\\tag{3.1.13}\r\n",
        "\\end{align}\r\n",
        "\\end{split}  \r\n",
        "  \r\n",
        "\\begin{align}\r\n",
        "\\| a - b \\|^2 = \\| a \\|^2 + \\| b \\|^2 - 2 a^T b\r\n",
        "\\tag{3.1.14}\r\n",
        "\\end{align}  "
      ]
    },
    {
      "cell_type": "markdown",
      "metadata": {
        "id": "MgpEpy37mDei"
      },
      "source": [
        "# 벡터의 내적과 삼각함수\r\n",
        "두 벡터의 내적은 다음처럼 벡터의 길이 ∥a∥, ∥b∥ 와 두 벡터 사이의 각도 θ의 코사인 함수값으로 계산할 수도 있다.  \r\n",
        "\\begin{align}\r\n",
        "a^Tb = \\|a\\|\\|b\\| \\cos\\theta\r\n",
        "\\tag{3.1.15}\r\n",
        "\\end{align}  \r\n",
        "여기에서 cosθ는 **코사인(cosine)**이라고 하는 함수이다. 코사인은 사인(sine)이라고 하는 함수와 함께 정의할 수 있다. 사인과 코사인을 합쳐서 삼각함수라고 한다.  \r\n",
        "사인 sinθ의 값은 θ라는 각을 가지는 직각 삼각형에서 빗변(hypotenuse)과 높이(opposite)의 비율을 뜻한다. 코사인 cosθ의 값은 θ라는 각을 가지는 직각 삼각형에서 빗변(hypotenuse)과 밑변(adjacent)의 비율을 뜻한다.  \r\n",
        "\\begin{align}\r\n",
        "\\sin\\theta = \\dfrac{a}{h}  \r\n",
        "\\tag{3.1.16}\r\n",
        "\\end{align}  \r\n",
        "  \r\n",
        "\\begin{align}\r\n",
        "\\cos\\theta = \\dfrac{b}{h}  \r\n",
        "\\tag{3.1.17}\r\n",
        "\\end{align}\r\n"
      ]
    },
    {
      "cell_type": "code",
      "metadata": {
        "colab": {
          "base_uri": "https://localhost:8080/",
          "height": 645
        },
        "id": "i1HNn8T5me6W",
        "outputId": "5e3ed275-1d8c-4392-9b48-2553ff7bc8e6"
      },
      "source": [
        "plt.plot([0, 1], [0, 2], 'k-', lw=3)\r\n",
        "plt.plot([0, 1], [0, 0], 'k-', lw=3)\r\n",
        "plt.plot([1, 1], [0, 2], 'k-', lw=3)\r\n",
        "plt.text(0.05, 1, \"빗변 h\")\r\n",
        "plt.text(0.35, -0.2, \"밑변 b\")\r\n",
        "plt.text(1.05, 1, \"높이 a\")\r\n",
        "plt.text(0.12, 0.06, r\"$\\theta$\")\r\n",
        "plt.xticks(np.arange(-2, 4))\r\n",
        "plt.yticks(np.arange(-1, 4))\r\n",
        "plt.xlim(-1.1, 2.1)\r\n",
        "plt.ylim(-0.5, 2.3)\r\n",
        "plt.show()"
      ],
      "execution_count": 8,
      "outputs": [
        {
          "output_type": "stream",
          "text": [
            "/usr/local/lib/python3.6/dist-packages/matplotlib/backends/backend_agg.py:214: RuntimeWarning: Glyph 48727 missing from current font.\n",
            "  font.set_text(s, 0.0, flags=flags)\n",
            "/usr/local/lib/python3.6/dist-packages/matplotlib/backends/backend_agg.py:214: RuntimeWarning: Glyph 48320 missing from current font.\n",
            "  font.set_text(s, 0.0, flags=flags)\n",
            "/usr/local/lib/python3.6/dist-packages/matplotlib/backends/backend_agg.py:214: RuntimeWarning: Glyph 48145 missing from current font.\n",
            "  font.set_text(s, 0.0, flags=flags)\n",
            "/usr/local/lib/python3.6/dist-packages/matplotlib/backends/backend_agg.py:214: RuntimeWarning: Glyph 45458 missing from current font.\n",
            "  font.set_text(s, 0.0, flags=flags)\n",
            "/usr/local/lib/python3.6/dist-packages/matplotlib/backends/backend_agg.py:214: RuntimeWarning: Glyph 51060 missing from current font.\n",
            "  font.set_text(s, 0.0, flags=flags)\n",
            "/usr/local/lib/python3.6/dist-packages/matplotlib/backends/backend_agg.py:183: RuntimeWarning: Glyph 48727 missing from current font.\n",
            "  font.set_text(s, 0, flags=flags)\n",
            "/usr/local/lib/python3.6/dist-packages/matplotlib/backends/backend_agg.py:183: RuntimeWarning: Glyph 48320 missing from current font.\n",
            "  font.set_text(s, 0, flags=flags)\n",
            "/usr/local/lib/python3.6/dist-packages/matplotlib/backends/backend_agg.py:183: RuntimeWarning: Glyph 48145 missing from current font.\n",
            "  font.set_text(s, 0, flags=flags)\n",
            "/usr/local/lib/python3.6/dist-packages/matplotlib/backends/backend_agg.py:183: RuntimeWarning: Glyph 45458 missing from current font.\n",
            "  font.set_text(s, 0, flags=flags)\n",
            "/usr/local/lib/python3.6/dist-packages/matplotlib/backends/backend_agg.py:183: RuntimeWarning: Glyph 51060 missing from current font.\n",
            "  font.set_text(s, 0, flags=flags)\n"
          ],
          "name": "stderr"
        },
        {
          "output_type": "display_data",
          "data": {
            "image/png": "[encoded data removed]",
            "text/plain": [
              "<Figure size 432x288 with 1 Axes>"
            ]
          },
          "metadata": {
            "tags": [],
            "needs_background": "light"
          }
        }
      ]
    },
    {
      "cell_type": "markdown",
      "metadata": {
        "id": "P0lSP7Wwmfk5"
      },
      "source": [
        "sinθ 의 값은 θ가 0에 가까워질수록 0에 가까워지고 θ가 90∘에 가까워질수록 1에 가까워진다.  \r\n",
        "\\begin{align}\r\n",
        "\\sin 0^{\\circ} = 0  \\tag{3.1.18}\r\n",
        "\\end{align}  \r\n",
        "\\begin{align}\r\n",
        "\\sin 90^{\\circ} = 1 \r\n",
        "\\tag{3.1.19} \r\n",
        "\\end{align}  \r\n",
        "반대로 cosθ의 값은 θ가 0에 가까워질수록 1에 가까워지고 θ가 90∘에 가까워질수록 0에 가까워진다.  \r\n",
        "\\begin{align}\r\n",
        "\\cos 0^{\\circ} = 1 \r\n",
        "\\tag{3.1.20} \r\n",
        "\\end{align}  \r\n",
        "\\begin{align}\r\n",
        "\\cos 90^{\\circ} = 0 \r\n",
        "\\tag{3.1.21} \r\n",
        "\\end{align}  \r\n"
      ]
    },
    {
      "cell_type": "markdown",
      "metadata": {
        "id": "_h3rNyqCmycB"
      },
      "source": [
        "# 직교\r\n",
        "두 벡터 a와 b가 이루는 각이 90도이면 서로 **직교(orthogonal)**라고 하며 a⊥b로 표시한다.  \r\n",
        "cos90∘=0 이므로 서로 직교인 두 벡터의 내적은 0이 된다.  \r\n",
        "\\begin{align}\r\n",
        "a^T b = b^T a = 0   \\;\\;\\;\\; \\leftrightarrow \\;\\;\\;\\; a \\perp b \r\n",
        "\\tag{3.1.22}\r\n",
        "\\end{align}  \r\n"
      ]
    },
    {
      "cell_type": "code",
      "metadata": {
        "colab": {
          "base_uri": "https://localhost:8080/"
        },
        "id": "TgYnh9Bwm6fi",
        "outputId": "3d3b9026-3deb-444b-810a-d8573e8a05a0"
      },
      "source": [
        "a = np.array([1, 1])\r\n",
        "b = np.array([-1, 1])\r\n",
        "a @ b"
      ],
      "execution_count": 9,
      "outputs": [
        {
          "output_type": "execute_result",
          "data": {
            "text/plain": [
              "0"
            ]
          },
          "metadata": {
            "tags": []
          },
          "execution_count": 9
        }
      ]
    },
    {
      "cell_type": "markdown",
      "metadata": {
        "id": "WQDRm5OKnBu3"
      },
      "source": [
        "# 정규직교\r\n",
        "만약 N개의 단위벡터 v1,v2,⋯,vN가 서로 직교하면 **정규직교(orthonormal)**라고 한다.  \r\n",
        "\\begin{align}\r\n",
        "\\|v_i\\| = 1 \\;\\;\\leftrightarrow \\;\\; v_i^Tv_i = 1 \r\n",
        "\\tag{3.1.27}\r\n",
        "\\end{align}  \r\n",
        "  \r\n",
        "\\begin{align}\r\n",
        "v_i^T v_j = 0 \\;\\;(i \\neq j) \r\n",
        "\\tag{3.1.28}\r\n",
        "\\end{align}  \r\n"
      ]
    },
    {
      "cell_type": "markdown",
      "metadata": {
        "id": "ZruXMWPHnKXq"
      },
      "source": [
        "# 코사인 유사도\r\n",
        "두 벡터의 방향이 비슷할수록 벡터가 비슷하다고 간주하여 두 벡터 사이의 각의 코사인값을 **코사인 유사도(cosine similarity)**라고 한다. 코사인값은 각도가 0일때 가장 커지므로 두 벡터가 같은 방향을 가리키고 있으면 코사인 유사도가 최댓값 1을 가진다.  \r\n",
        "\\begin{align}\r\n",
        "\\text{cosine similarity} = \\cos\\theta = \\dfrac{x^Ty}{\\|x\\|\\|y\\|}\r\n",
        "\\tag{3.1.33}\r\n",
        "\\end{align}  \r\n",
        "코사인 유사도는 나중에 공부할 추천시스템(recommender system)에서 사용자의 취향이 얼마나 비슷한지를 계산할 때 사용된다. 코사인 유사도를 이용하면 다음처럼 **코사인 거리(cosine distance)**도 정의할 수 있다.  \r\n",
        "\\begin{align}\r\n",
        "\\text{cosine distance} = 1 - \\text{cosine similarity} = 1 - \\dfrac{x^Ty}{\\|x\\|\\|y\\|}\r\n",
        "\\tag{3.1.34}\r\n",
        "\\end{align}  \r\n",
        "\r\n",
        "  "
      ]
    },
    {
      "cell_type": "markdown",
      "metadata": {
        "id": "bTQ3U91XoVDZ"
      },
      "source": [
        "# 벡터의 분해와 성분\r\n",
        "어떤 두 벡터 a, b의 합이 다른 벡터 c가 될 때 c가 두 벡터 성분(component) a, b으로 **분해(decomposition)**된다고 말한다.  \r\n",
        "\r\n",
        "# 투영성분과 직교성분\r\n",
        "벡터 a를 다른 벡터 b에 직교하는 성분과 벡터 b에 평행한 성분으로로 분해할 수 있는데, 평행한 성분을 벡터 b에 대한 투영성분(projection), 벡터 b에 직교하는 성분을 벡터 b에 대한 **직교성분(rejection)**이라고 하며 각각 다음과 같이 표기한다.  \r\n",
        "\\begin{align}\r\n",
        "a^{\\Vert b} \r\n",
        "\\tag{3.1.37} \r\n",
        "\\end{align}  \r\n",
        "  \r\n",
        "\\begin{align}\r\n",
        "a^{\\perp b} \r\n",
        "\\tag{3.1.38} \r\n",
        "\\end{align}  \r\n",
        "   \r\n",
        "만약 벡터 b 자체가 이미 단위벡터이면 단위벡터에 대한 투영길이는 내적이 된다.  \r\n",
        "\\begin{align}\r\n",
        "\\| a^{\\Vert b} \\| = a^Tb \r\n",
        "\\tag{3.1.40} \r\n",
        "\\end{align}  \r\n",
        "\r\n",
        "\r\n"
      ]
    },
    {
      "cell_type": "markdown",
      "metadata": {
        "id": "TNHgzevLo3Hy"
      },
      "source": [
        "# 직선의 방정식\r\n",
        "어떤 벡터 w가 있을 때\r\n",
        "- 원점에서 출발한 벡터 w가 가리키는 점을 지나면서\r\n",
        "- 벡터 w에 수직인\r\n",
        "직선의 방정식을 구해보자.  \r\n",
        "위 두 조건을 만족하는 직선 상의 임의의 점을 가리키는 벡터를 x라고 하면, 벡터 x가 가리키는 점과 벡터 w가 가리키는 점을 이은 벡터 x−w는 조건에 따라 벡터 w와 직교해야 한다. 따라서 다음 식이 성립한다.  \r\n",
        "\\begin{align}\r\n",
        "w^T(x - w) = 0\r\n",
        "\\tag{3.1.45}\r\n",
        "\\end{align}  \r\n",
        "  \r\n",
        "\\begin{align}\r\n",
        "w^Tx - \\| w \\|^2 = 0\r\n",
        "\\tag{3.1.47}\r\n",
        "\\end{align}  "
      ]
    },
    {
      "cell_type": "code",
      "metadata": {
        "colab": {
          "base_uri": "https://localhost:8080/",
          "height": 409
        },
        "id": "5T5lUQ2MpGC5",
        "outputId": "dabaaaec-c1c7-4020-9bdc-23df91637e65"
      },
      "source": [
        "w = np.array([1, 2])\r\n",
        "x1 = np.array([3, 1])\r\n",
        "x2 = np.array([-1, 3])\r\n",
        "plt.annotate('', xy=w, xytext=(0, 0), arrowprops=black)\r\n",
        "plt.annotate('', xy=x1, xytext=(0, 0), arrowprops=green)\r\n",
        "plt.annotate('', xy=x2, xytext=(0, 0), arrowprops=green)\r\n",
        "plt.plot(0, 0, 'kP', ms=10)\r\n",
        "plt.plot(w[0], w[1], 'ro', ms=10)\r\n",
        "plt.plot(x1[0], x1[1], 'ro', ms=10)\r\n",
        "plt.plot(x2[0], x2[1], 'ro', ms=10)\r\n",
        "plt.plot([-3, 5], [4, 0], 'r-', lw=5)\r\n",
        "plt.text(-0.2, 1.5, \"벡터 $w$\")\r\n",
        "plt.text(1.55, 0.25, \"$x_1$\")\r\n",
        "plt.text(-0.9, 1.40, \"$x_2$\")\r\n",
        "plt.text(1.8, 1.8, \"$x_1 - w$\")\r\n",
        "plt.text(-0.2, 2.8, \"$x_2 - w$\")\r\n",
        "plt.text(3.6, 0.8, \"직선 $x$\")\r\n",
        "plt.xticks(np.arange(-2, 5))\r\n",
        "plt.yticks(np.arange(-1, 5))\r\n",
        "plt.xlim(-2, 5)\r\n",
        "plt.ylim(-0.6, 3.6)\r\n",
        "plt.show()"
      ],
      "execution_count": 10,
      "outputs": [
        {
          "output_type": "stream",
          "text": [
            "Font 'default' does not have a glyph for '\\ubca1' [U+bca1], substituting with a dummy symbol.\n",
            "Font 'default' does not have a glyph for '\\ud130' [U+d130], substituting with a dummy symbol.\n",
            "Font 'default' does not have a glyph for '\\uc9c1' [U+c9c1], substituting with a dummy symbol.\n",
            "Font 'default' does not have a glyph for '\\uc120' [U+c120], substituting with a dummy symbol.\n",
            "Font 'default' does not have a glyph for '\\ubca1' [U+bca1], substituting with a dummy symbol.\n",
            "Font 'default' does not have a glyph for '\\ud130' [U+d130], substituting with a dummy symbol.\n",
            "Font 'default' does not have a glyph for '\\uc9c1' [U+c9c1], substituting with a dummy symbol.\n",
            "Font 'default' does not have a glyph for '\\uc120' [U+c120], substituting with a dummy symbol.\n"
          ],
          "name": "stderr"
        },
        {
          "output_type": "display_data",
          "data": {
            "image/png": "[encoded data removed]",
            "text/plain": [
              "<Figure size 432x288 with 1 Axes>"
            ]
          },
          "metadata": {
            "tags": [],
            "needs_background": "light"
          }
        }
      ]
    },
    {
      "cell_type": "markdown",
      "metadata": {
        "id": "ORDdPt3jpVxK"
      },
      "source": [
        "이번에는 벡터 w가 가리키는 점을 지나야 한다는 조건을 없애고 단순히\r\n",
        "- 벡터 w에 수직인\r\n",
        "직선 x의 방정식을 구해보자.  \r\n",
        "이 직선과 원점 사이의 거리는 다음과 같다.  \r\n",
        "\\begin{align}\r\n",
        "c \\| w \\| = \\dfrac{w_0}{\\|w\\|} \r\n",
        "\\tag{3.1.56} \r\n",
        "\\end{align}  \r\n",
        "\r\n"
      ]
    },
    {
      "cell_type": "markdown",
      "metadata": {
        "id": "T_bZs4R1piRK"
      },
      "source": [
        "# 직선과 점의 거리\r\n",
        "이번에는 직선 wTx−∥w∥2=0 과 이 직선 위에 있지 않은 점 x′ 사이의 거리를 구해보자.\r\n",
        "벡터 w에 대한 벡터 x′의 투영성분 x′∥w의 길이는 다음과 같다.  \r\n",
        "\\begin{align}\r\n",
        "\\|x'^{\\Vert w}\\| = \\dfrac{w^Tx'}{\\|w\\|} \r\n",
        "\\tag{3.1.59}\r\n",
        "\\end{align}  \r\n",
        "  \r\n",
        "직선의 방정식이 wTx−w0=0이면 직선과 점의 거리는 다음과 같다.  \r\n",
        "\\begin{align}\r\n",
        "\\dfrac{\\left|w^Tx' - w_0 \\right|}{\\|w\\|} \r\n",
        "\\tag{3.1.61}\r\n",
        "\\end{align}  \r\n"
      ]
    },
    {
      "cell_type": "code",
      "metadata": {
        "id": "9YGSN1Jmpi52"
      },
      "source": [
        " "
      ],
      "execution_count": null,
      "outputs": []
    }
  ]
}