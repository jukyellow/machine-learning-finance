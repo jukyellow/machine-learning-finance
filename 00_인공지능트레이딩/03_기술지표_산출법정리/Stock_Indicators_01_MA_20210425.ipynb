{
  "nbformat": 4,
  "nbformat_minor": 0,
  "metadata": {
    "colab": {
      "name": "Stock_Indicators_20210425.ipynb",
      "provenance": [],
      "collapsed_sections": []
    },
    "kernelspec": {
      "name": "python3",
      "display_name": "Python 3"
    },
    "language_info": {
      "name": "python"
    }
  },
  "cells": [
    {
      "cell_type": "markdown",
      "metadata": {
        "id": "5icwtrEIBks6"
      },
      "source": [
        "# 주식에 사용되는 각종 지표를 직접 구현 및 가시화해보자\n",
        "# talib와 비교하여 보자!\n",
        "# 참고: 퀀트 전략을 위한 인공지능 트레이딩"
      ]
    },
    {
      "cell_type": "markdown",
      "metadata": {
        "id": "sqPqwFaKBnXE"
      },
      "source": [
        "# 1. 이동평균선(MA), 들쑥날쑥한 주가의 흐름을 몇일간의 평균적인 값으로 나타내는 지표를 이동평균선이라고 한다."
      ]
    },
    {
      "cell_type": "code",
      "metadata": {
        "colab": {
          "base_uri": "https://localhost:8080/"
        },
        "id": "aOD-V69ONoxm",
        "outputId": "5ae238fd-9c75-48ec-9d31-a1b8fffd434d"
      },
      "source": [
        "import pandas as pd\n",
        "df = pd.read_csv('./SPY.csv')\n",
        "print(df.head())\n",
        "print(df.describe())"
      ],
      "execution_count": 1,
      "outputs": [
        {
          "output_type": "stream",
          "text": [
            "         Date      Open      High       Low     Close  Adj Close   Volume\n",
            "0  1993-01-29  43.96875  43.96875  43.75000  43.93750  26.706757  1003200\n",
            "1  1993-02-01  43.96875  44.25000  43.96875  44.25000  26.896694   480500\n",
            "2  1993-02-02  44.21875  44.37500  44.12500  44.34375  26.953669   201300\n",
            "3  1993-02-03  44.40625  44.84375  44.37500  44.81250  27.238594   529400\n",
            "4  1993-02-04  44.96875  45.09375  44.46875  45.00000  27.352570   531500\n",
            "              Open         High  ...    Adj Close        Volume\n",
            "count  6648.000000  6648.000000  ...  6648.000000  6.648000e+03\n",
            "mean    133.762935   134.541071  ...   110.399391  8.440122e+07\n",
            "std      59.488006    59.671285  ...    64.113369  9.837713e+07\n",
            "min      43.343750    43.531250  ...    26.383823  5.200000e+03\n",
            "25%      96.780937    97.735000  ...    71.256485  6.966775e+06\n",
            "50%     124.433750   125.335938  ...    93.641503  5.709990e+07\n",
            "75%     151.702503   152.514999  ...   125.251474  1.229908e+08\n",
            "max     296.040009   296.309998  ...   294.427979  8.710263e+08\n",
            "\n",
            "[8 rows x 6 columns]\n"
          ],
          "name": "stdout"
        }
      ]
    },
    {
      "cell_type": "code",
      "metadata": {
        "colab": {
          "base_uri": "https://localhost:8080/"
        },
        "id": "cnOpu-DlNo0G",
        "outputId": "1cdf3df1-bb10-43ba-f420-2caff7fb6434"
      },
      "source": [
        "price_df = df.loc[:,['Date','Adj Close']].copy()\n",
        "\n",
        "print(price_df.head())\n",
        "print(price_df.tail())\n",
        "print(len(price_df))\n",
        "print(price_df.info())"
      ],
      "execution_count": 17,
      "outputs": [
        {
          "output_type": "stream",
          "text": [
            "         Date  Adj Close\n",
            "0  1993-01-29  26.706757\n",
            "1  1993-02-01  26.896694\n",
            "2  1993-02-02  26.953669\n",
            "3  1993-02-03  27.238594\n",
            "4  1993-02-04  27.352570\n",
            "            Date   Adj Close\n",
            "6643  2019-06-18  290.984741\n",
            "6644  2019-06-19  291.641541\n",
            "6645  2019-06-20  294.427979\n",
            "6646  2019-06-21  294.000000\n",
            "6647  2019-06-24  293.640015\n",
            "6648\n",
            "<class 'pandas.core.frame.DataFrame'>\n",
            "RangeIndex: 6648 entries, 0 to 6647\n",
            "Data columns (total 2 columns):\n",
            " #   Column     Non-Null Count  Dtype  \n",
            "---  ------     --------------  -----  \n",
            " 0   Date       6648 non-null   object \n",
            " 1   Adj Close  6648 non-null   float64\n",
            "dtypes: float64(1), object(1)\n",
            "memory usage: 104.0+ KB\n",
            "None\n"
          ],
          "name": "stdout"
        }
      ]
    },
    {
      "cell_type": "code",
      "metadata": {
        "colab": {
          "base_uri": "https://localhost:8080/"
        },
        "id": "-Um_ruoA-cb7",
        "outputId": "fef87431-e446-4a2d-ccf1-89d9a684392d"
      },
      "source": [
        "sample = price_df.loc[price_df['Date'] > '2019-01-01']\n",
        "print(sample.info())\n",
        "print()\n",
        "\n",
        "price_df.set_index(['Date'],inplace=True)\n",
        "sample = price_df.loc[price_df.index > '2019-01-01']\n",
        "print(sample)"
      ],
      "execution_count": 19,
      "outputs": [
        {
          "output_type": "stream",
          "text": [
            "<class 'pandas.core.frame.DataFrame'>\n",
            "Int64Index: 120 entries, 6528 to 6647\n",
            "Data columns (total 2 columns):\n",
            " #   Column     Non-Null Count  Dtype  \n",
            "---  ------     --------------  -----  \n",
            " 0   Date       120 non-null    object \n",
            " 1   Adj Close  120 non-null    float64\n",
            "dtypes: float64(1), object(1)\n",
            "memory usage: 2.8+ KB\n",
            "None\n",
            "\n",
            "             Adj Close\n",
            "Date                  \n",
            "2019-01-02  247.877258\n",
            "2019-01-03  241.962219\n",
            "2019-01-04  250.066925\n",
            "2019-01-07  252.038620\n",
            "2019-01-08  254.406601\n",
            "...                ...\n",
            "2019-06-18  290.984741\n",
            "2019-06-19  291.641541\n",
            "2019-06-20  294.427979\n",
            "2019-06-21  294.000000\n",
            "2019-06-24  293.640015\n",
            "\n",
            "[120 rows x 1 columns]\n"
          ],
          "name": "stdout"
        }
      ]
    },
    {
      "cell_type": "code",
      "metadata": {
        "colab": {
          "base_uri": "https://localhost:8080/"
        },
        "id": "RQrmcvq3No2w",
        "outputId": "31b6a9b4-06f4-4348-b981-5edcb788d080"
      },
      "source": [
        "# 20일 이동평균선을 그린다.\n",
        "price_df['center'] = price_df['Adj Close'].rolling(20).mean() # 이동평균선을 구한다.\n",
        "print(price_df.iloc[18:25])\n",
        "\n",
        "sample = price_df.loc[price_df.index > '2019-01-01']\n",
        "print(sample)"
      ],
      "execution_count": 20,
      "outputs": [
        {
          "output_type": "stream",
          "text": [
            "            Adj Close     center\n",
            "Date                            \n",
            "1993-02-25  26.953669        NaN\n",
            "1993-02-26  26.991682  26.910942\n",
            "1993-03-01  26.915695  26.921389\n",
            "1993-03-02  27.314577  26.942283\n",
            "1993-03-03  27.428545  26.966027\n",
            "1993-03-04  27.276592  26.967927\n",
            "1993-03-05  27.200619  26.960329\n",
            "             Adj Close      center\n",
            "Date                              \n",
            "2019-01-02  247.877258  253.082145\n",
            "2019-01-03  241.962219  251.424126\n",
            "2019-01-04  250.066925  250.617074\n",
            "2019-01-07  252.038620  249.928799\n",
            "2019-01-08  254.406601  249.667734\n",
            "...                ...         ...\n",
            "2019-06-18  290.984741  282.981668\n",
            "2019-06-19  291.641541  283.307582\n",
            "2019-06-20  294.427979  283.816605\n",
            "2019-06-21  294.000000  284.477884\n",
            "2019-06-24  293.640015  285.089319\n",
            "\n",
            "[120 rows x 2 columns]\n"
          ],
          "name": "stdout"
        }
      ]
    },
    {
      "cell_type": "code",
      "metadata": {
        "colab": {
          "base_uri": "https://localhost:8080/",
          "height": 283
        },
        "id": "1TrA7KVUNo46",
        "outputId": "fec411e4-a6a8-4af9-c1c7-79b81ac834f2"
      },
      "source": [
        "import matplotlib.pyplot as plt\n",
        "plt.plot(sample.index, sample['Adj Close'], label=\"Adj Close\")\n",
        "plt.plot(sample.index, sample['center'], label=\"center\")"
      ],
      "execution_count": 21,
      "outputs": [
        {
          "output_type": "execute_result",
          "data": {
            "text/plain": [
              "[<matplotlib.lines.Line2D at 0x7f557cc409d0>]"
            ]
          },
          "metadata": {
            "tags": []
          },
          "execution_count": 21
        },
        {
          "output_type": "display_data",
          "data": {
            "image/png": "[encoded data removed]",
            "text/plain": [
              "<Figure size 432x288 with 1 Axes>"
            ]
          },
          "metadata": {
            "tags": [],
            "needs_background": "light"
          }
        }
      ]
    },
    {
      "cell_type": "markdown",
      "metadata": {
        "id": "EmCXt503Bijf"
      },
      "source": [
        "# ta-lib로 이동평균선을 구해보자!"
      ]
    },
    {
      "cell_type": "code",
      "metadata": {
        "colab": {
          "base_uri": "https://localhost:8080/"
        },
        "id": "e4YR39ARBSJI",
        "outputId": "f074ce29-b0e1-4bec-db95-317f93fbd5b8"
      },
      "source": [
        "#Colab에 주식관련 Lib 설치(Ta-Lib)\n",
        "\n",
        "# (2020) https://stackoverflow.com/questions/49648391/how-to-install-ta-lib-in-google-colab\n",
        "url = 'https://launchpad.net/~mario-mariomedina/+archive/ubuntu/talib/+files'\n",
        "!wget $url/libta-lib0_0.4.0-oneiric1_amd64.deb -qO libta.deb\n",
        "!wget $url/ta-lib0-dev_0.4.0-oneiric1_amd64.deb -qO ta.deb\n",
        "!dpkg -i libta.deb ta.deb\n",
        "!pip install ta-lib\n",
        "import talib"
      ],
      "execution_count": 22,
      "outputs": [
        {
          "output_type": "stream",
          "text": [
            "Selecting previously unselected package libta-lib0.\n",
            "(Reading database ... 160690 files and directories currently installed.)\n",
            "Preparing to unpack libta.deb ...\n",
            "Unpacking libta-lib0 (0.4.0-oneiric1) ...\n",
            "Selecting previously unselected package ta-lib0-dev.\n",
            "Preparing to unpack ta.deb ...\n",
            "Unpacking ta-lib0-dev (0.4.0-oneiric1) ...\n",
            "Setting up libta-lib0 (0.4.0-oneiric1) ...\n",
            "Setting up ta-lib0-dev (0.4.0-oneiric1) ...\n",
            "Processing triggers for man-db (2.8.3-2ubuntu0.1) ...\n",
            "Processing triggers for libc-bin (2.27-3ubuntu1.2) ...\n",
            "/sbin/ldconfig.real: /usr/local/lib/python3.7/dist-packages/ideep4py/lib/libmkldnn.so.0 is not a symbolic link\n",
            "\n",
            "Collecting ta-lib\n",
            "\u001b[?25l  Downloading https://files.pythonhosted.org/packages/ac/cf/681911aa31e04ba171ab4d523a412f4a746e30d3eacb1738799d181e028b/TA-Lib-0.4.19.tar.gz (267kB)\n",
            "\u001b[K     |████████████████████████████████| 276kB 7.7MB/s \n",
            "\u001b[?25hRequirement already satisfied: numpy in /usr/local/lib/python3.7/dist-packages (from ta-lib) (1.19.5)\n",
            "Building wheels for collected packages: ta-lib\n",
            "  Building wheel for ta-lib (setup.py) ... \u001b[?25l\u001b[?25hdone\n",
            "  Created wheel for ta-lib: filename=TA_Lib-0.4.19-cp37-cp37m-linux_x86_64.whl size=1437987 sha256=6747975983f5fba3728defdf50b95a075f41820e0f4f16ac3fb6cb943a26be90\n",
            "  Stored in directory: /root/.cache/pip/wheels/a3/f6/12/3d1ccd06caadd8fa47e016991dd0d27f1163bb260f1854e2ff\n",
            "Successfully built ta-lib\n",
            "Installing collected packages: ta-lib\n",
            "Successfully installed ta-lib-0.4.19\n"
          ],
          "name": "stdout"
        }
      ]
    },
    {
      "cell_type": "code",
      "metadata": {
        "colab": {
          "base_uri": "https://localhost:8080/",
          "height": 411
        },
        "id": "xKC4-0dtBSOK",
        "outputId": "131e95b7-ed21-4883-83d8-5a565b612c85"
      },
      "source": [
        "#RA(이동평균션) : Standard deviation rolling average\n",
        "# Moving Average\n",
        "sample['MA20'] = talib.SMA(sample['Adj Close'],timeperiod=20)\n",
        "\n",
        "import matplotlib.pyplot as plt\n",
        "plt.plot(sample.index, sample['Adj Close'], label=\"Adj Close\")\n",
        "plt.plot(sample.index, sample['center'], label=\"center\")\n",
        "plt.plot(sample.index, sample['MA20'], label=\"MA20\")"
      ],
      "execution_count": 23,
      "outputs": [
        {
          "output_type": "stream",
          "text": [
            "/usr/local/lib/python3.7/dist-packages/ipykernel_launcher.py:3: SettingWithCopyWarning: \n",
            "A value is trying to be set on a copy of a slice from a DataFrame.\n",
            "Try using .loc[row_indexer,col_indexer] = value instead\n",
            "\n",
            "See the caveats in the documentation: https://pandas.pydata.org/pandas-docs/stable/user_guide/indexing.html#returning-a-view-versus-a-copy\n",
            "  This is separate from the ipykernel package so we can avoid doing imports until\n"
          ],
          "name": "stderr"
        },
        {
          "output_type": "execute_result",
          "data": {
            "text/plain": [
              "[<matplotlib.lines.Line2D at 0x7f557b7cc5d0>]"
            ]
          },
          "metadata": {
            "tags": []
          },
          "execution_count": 23
        },
        {
          "output_type": "display_data",
          "data": {
            "image/png": "[encoded data removed]",
            "text/plain": [
              "<Figure size 432x288 with 1 Axes>"
            ]
          },
          "metadata": {
            "tags": [],
            "needs_background": "light"
          }
        }
      ]
    },
    {
      "cell_type": "code",
      "metadata": {
        "colab": {
          "base_uri": "https://localhost:8080/"
        },
        "id": "0FQ0RqPkCayS",
        "outputId": "4ef57385-5387-40db-a823-ac283e507689"
      },
      "source": [
        "sample['MA10'] = talib.SMA(sample['Adj Close'],timeperiod=10)\n",
        "sample['MA5'] = talib.SMA(sample['Adj Close'],timeperiod=5)"
      ],
      "execution_count": 25,
      "outputs": [
        {
          "output_type": "stream",
          "text": [
            "/usr/local/lib/python3.7/dist-packages/ipykernel_launcher.py:1: SettingWithCopyWarning: \n",
            "A value is trying to be set on a copy of a slice from a DataFrame.\n",
            "Try using .loc[row_indexer,col_indexer] = value instead\n",
            "\n",
            "See the caveats in the documentation: https://pandas.pydata.org/pandas-docs/stable/user_guide/indexing.html#returning-a-view-versus-a-copy\n",
            "  \"\"\"Entry point for launching an IPython kernel.\n",
            "/usr/local/lib/python3.7/dist-packages/ipykernel_launcher.py:2: SettingWithCopyWarning: \n",
            "A value is trying to be set on a copy of a slice from a DataFrame.\n",
            "Try using .loc[row_indexer,col_indexer] = value instead\n",
            "\n",
            "See the caveats in the documentation: https://pandas.pydata.org/pandas-docs/stable/user_guide/indexing.html#returning-a-view-versus-a-copy\n",
            "  \n"
          ],
          "name": "stderr"
        }
      ]
    },
    {
      "cell_type": "code",
      "metadata": {
        "colab": {
          "base_uri": "https://localhost:8080/",
          "height": 283
        },
        "id": "gLMvDVxhCrvA",
        "outputId": "ce0b59de-90d5-43d0-8c15-b256cb1f307f"
      },
      "source": [
        "import matplotlib.pyplot as plt\n",
        "plt.plot(sample.index, sample['Adj Close'], label=\"Adj Close\")\n",
        "plt.plot(sample.index, sample['MA10'], label=\"MA10\")\n",
        "plt.plot(sample.index, sample['MA5'], label=\"MA5\")"
      ],
      "execution_count": 27,
      "outputs": [
        {
          "output_type": "execute_result",
          "data": {
            "text/plain": [
              "[<matplotlib.lines.Line2D at 0x7f557b2d5650>]"
            ]
          },
          "metadata": {
            "tags": []
          },
          "execution_count": 27
        },
        {
          "output_type": "display_data",
          "data": {
            "image/png": "[encoded data removed]",
            "text/plain": [
              "<Figure size 432x288 with 1 Axes>"
            ]
          },
          "metadata": {
            "tags": [],
            "needs_background": "light"
          }
        }
      ]
    }
  ]
}