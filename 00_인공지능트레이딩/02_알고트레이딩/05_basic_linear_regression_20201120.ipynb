{
  "nbformat": 4,
  "nbformat_minor": 0,
  "metadata": {
    "colab": {
      "name": "05_basic_linear_regression_20201120.ipynb",
      "provenance": [],
      "collapsed_sections": []
    },
    "kernelspec": {
      "name": "python3",
      "display_name": "Python 3"
    }
  },
  "cells": [
    {
      "cell_type": "code",
      "metadata": {
        "id": "TjpZH7jjkmD4"
      },
      "source": [
        "# https://github.com/jukyellow/algoTrade/blob/master/ch05/5.1%20basic%20%EC%84%A0%ED%98%95%ED%9A%8C%EA%B7%80%20sklearn_linearregression.ipynb"
      ],
      "execution_count": null,
      "outputs": []
    },
    {
      "cell_type": "code",
      "metadata": {
        "id": "HqAdZg95lQWm"
      },
      "source": [
        "import pandas as pd\n",
        "import matplotlib.pyplot as plt\n",
        "from sklearn.linear_model import LinearRegression\n",
        "from sklearn.datasets import load_boston\n",
        "import numpy as np\n",
        "from sklearn.metrics import mean_squared_error"
      ],
      "execution_count": 16,
      "outputs": []
    },
    {
      "cell_type": "code",
      "metadata": {
        "colab": {
          "base_uri": "https://localhost:8080/"
        },
        "id": "RzM7s5QglQY6",
        "outputId": "470c606b-540a-42ca-c931-81c625429a4c"
      },
      "source": [
        "# Load the data from the the boston house-prices dataset\n",
        "boston_data = load_boston()\n",
        "x_values = boston_data['data']\n",
        "y_values = boston_data['target']\n",
        "\n",
        "print(x_values.shape)\n",
        "print(y_values.shape)\n",
        "print(np.min(y_values), np.max(y_values))"
      ],
      "execution_count": 10,
      "outputs": [
        {
          "output_type": "stream",
          "text": [
            "(506, 13)\n",
            "(506,)\n",
            "5.0 50.0\n"
          ],
          "name": "stdout"
        }
      ]
    },
    {
      "cell_type": "code",
      "metadata": {
        "colab": {
          "base_uri": "https://localhost:8080/"
        },
        "id": "doNYybz1laLH",
        "outputId": "25424476-c3e7-416d-8391-b990391d2b14"
      },
      "source": [
        "#X = X[:, np.newaxis, 4]\n",
        "\n",
        "x_train, x_test = (x_values[:400], x_values[400:])\n",
        "y_train, y_test = (y_values[:400], y_values[400:])\n",
        "\n",
        "print(x_train[0])\n",
        "print(y_train[0])"
      ],
      "execution_count": 11,
      "outputs": [
        {
          "output_type": "stream",
          "text": [
            "[6.320e-03 1.800e+01 2.310e+00 0.000e+00 5.380e-01 6.575e+00 6.520e+01\n",
            " 4.090e+00 1.000e+00 2.960e+02 1.530e+01 3.969e+02 4.980e+00]\n",
            "24.0\n"
          ],
          "name": "stdout"
        }
      ]
    },
    {
      "cell_type": "code",
      "metadata": {
        "colab": {
          "base_uri": "https://localhost:8080/"
        },
        "id": "I5gSMjYdlR-0",
        "outputId": "b0d653cd-0149-40ce-84c0-6e3fe4a79252"
      },
      "source": [
        "#train model on data\n",
        "model = LinearRegression()\n",
        "result = model.fit(x_train, y_train)\n",
        "#print(result.score(x_train, y_train))\n",
        "\n",
        "y_pred = model.predict(x_train)\n",
        "print(mean_squared_error(y_pred, y_train))\n",
        "\n",
        "y_pred = model.predict(x_test)\n",
        "print(mean_squared_error(y_pred, y_test))\n",
        "\n",
        "#https://towardsdatascience.com/predicting-boston-house-prices-using-linear-regression-3c6107c662e5"
      ],
      "execution_count": 23,
      "outputs": [
        {
          "output_type": "stream",
          "text": [
            "22.305225584163445\n",
            "37.893778599601866\n"
          ],
          "name": "stdout"
        }
      ]
    },
    {
      "cell_type": "code",
      "metadata": {
        "colab": {
          "base_uri": "https://localhost:8080/"
        },
        "id": "_oQyRKdslQbH",
        "outputId": "c2759dae-505e-48f6-ff82-1f7dfdbbe7e4"
      },
      "source": [
        "# Make a prediction using the model\n",
        "sample_house = [[2.29690000e-01, 0.00000000e+00, 1.05900000e+01, 0.00000000e+00, 4.89000000e-01,\n",
        "                6.32600000e+00, 5.25000000e+01, 4.35490000e+00, 4.00000000e+00, 2.77000000e+02,\n",
        "                1.86000000e+01, 3.94870000e+02, 1.09700000e+01]]\n",
        "\n",
        "print(model.predict(sample_house))"
      ],
      "execution_count": 24,
      "outputs": [
        {
          "output_type": "stream",
          "text": [
            "[23.73588946]\n"
          ],
          "name": "stdout"
        }
      ]
    },
    {
      "cell_type": "code",
      "metadata": {
        "colab": {
          "base_uri": "https://localhost:8080/",
          "height": 316
        },
        "id": "CKh7o3B-pjla",
        "outputId": "a57338a9-732d-47dc-f629-0d13baa0eba5"
      },
      "source": [
        "# print(model.coef_, model.intercept_)\n",
        "\n",
        "# x1 = np.linspace(np.min(x_test), np.max(x_test))\n",
        "# y1 = model.coef_*x1 + model.intercept_\n",
        "\n",
        "# plt.figure(figsize=(6,6))\n",
        "# plt.scatter(x_test, y_test, label='Data Points')\n",
        "# plt.plot(x1, y1, linewidth=2.5, color='k', label='Best Fit Line')\n",
        "# plt.xlabel('X values for 5th feature')\n",
        "# plt.ylabel('House prices')\n",
        "# plt.title('Linear regression with One Feature')\n",
        "# plt.legend()"
      ],
      "execution_count": 22,
      "outputs": [
        {
          "output_type": "stream",
          "text": [
            "[-1.91246374e-01  4.42289967e-02  5.52207977e-02  1.71631351e+00\n",
            " -1.49957220e+01  4.88773025e+00  2.60921031e-03 -1.29480799e+00\n",
            "  4.84787214e-01 -1.54006673e-02 -8.08795026e-01 -1.29230427e-03\n",
            " -5.17953791e-01] 28.6725995908559\n"
          ],
          "name": "stdout"
        },
        {
          "output_type": "error",
          "ename": "ValueError",
          "evalue": "ignored",
          "traceback": [
            "\u001b[0;31m---------------------------------------------------------------------------\u001b[0m",
            "\u001b[0;31mValueError\u001b[0m                                Traceback (most recent call last)",
            "\u001b[0;32m<ipython-input-22-9f20d4084a66>\u001b[0m in \u001b[0;36m<module>\u001b[0;34m()\u001b[0m\n\u001b[1;32m      2\u001b[0m \u001b[0;34m\u001b[0m\u001b[0m\n\u001b[1;32m      3\u001b[0m \u001b[0mx1\u001b[0m \u001b[0;34m=\u001b[0m \u001b[0mnp\u001b[0m\u001b[0;34m.\u001b[0m\u001b[0mlinspace\u001b[0m\u001b[0;34m(\u001b[0m\u001b[0mnp\u001b[0m\u001b[0;34m.\u001b[0m\u001b[0mmin\u001b[0m\u001b[0;34m(\u001b[0m\u001b[0mx_test\u001b[0m\u001b[0;34m)\u001b[0m\u001b[0;34m,\u001b[0m \u001b[0mnp\u001b[0m\u001b[0;34m.\u001b[0m\u001b[0mmax\u001b[0m\u001b[0;34m(\u001b[0m\u001b[0mx_test\u001b[0m\u001b[0;34m)\u001b[0m\u001b[0;34m)\u001b[0m\u001b[0;34m\u001b[0m\u001b[0;34m\u001b[0m\u001b[0m\n\u001b[0;32m----> 4\u001b[0;31m \u001b[0my1\u001b[0m \u001b[0;34m=\u001b[0m \u001b[0mmodel\u001b[0m\u001b[0;34m.\u001b[0m\u001b[0mcoef_\u001b[0m\u001b[0;34m*\u001b[0m\u001b[0mx1\u001b[0m \u001b[0;34m+\u001b[0m \u001b[0mmodel\u001b[0m\u001b[0;34m.\u001b[0m\u001b[0mintercept_\u001b[0m\u001b[0;34m\u001b[0m\u001b[0;34m\u001b[0m\u001b[0m\n\u001b[0m\u001b[1;32m      5\u001b[0m \u001b[0;34m\u001b[0m\u001b[0m\n\u001b[1;32m      6\u001b[0m \u001b[0mplt\u001b[0m\u001b[0;34m.\u001b[0m\u001b[0mfigure\u001b[0m\u001b[0;34m(\u001b[0m\u001b[0mfigsize\u001b[0m\u001b[0;34m=\u001b[0m\u001b[0;34m(\u001b[0m\u001b[0;36m6\u001b[0m\u001b[0;34m,\u001b[0m\u001b[0;36m6\u001b[0m\u001b[0;34m)\u001b[0m\u001b[0;34m)\u001b[0m\u001b[0;34m\u001b[0m\u001b[0;34m\u001b[0m\u001b[0m\n",
            "\u001b[0;31mValueError\u001b[0m: operands could not be broadcast together with shapes (13,) (50,) "
          ]
        }
      ]
    }
  ]
}