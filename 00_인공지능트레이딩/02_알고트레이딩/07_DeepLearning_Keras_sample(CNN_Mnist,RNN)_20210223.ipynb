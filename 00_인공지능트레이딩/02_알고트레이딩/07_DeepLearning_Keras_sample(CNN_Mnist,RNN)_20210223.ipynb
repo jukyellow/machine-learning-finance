{
  "nbformat": 4,
  "nbformat_minor": 0,
  "metadata": {
    "colab": {
      "name": "07_DeepLearning_Keras_sample(CNN-Mnist,RNN)_20210223.ipynb",
      "provenance": [],
      "collapsed_sections": []
    },
    "kernelspec": {
      "name": "python3",
      "display_name": "Python 3"
    },
    "accelerator": "GPU"
  },
  "cells": [
    {
      "cell_type": "code",
      "metadata": {
        "id": "AnLausLxu0M6"
      },
      "source": [
        "# https://github.com/jukyellow/algoTrade/blob/master/ch07/7.2.2%20keras%20cheat%20sheet.ipynb"
      ],
      "execution_count": 1,
      "outputs": []
    },
    {
      "cell_type": "code",
      "metadata": {
        "id": "k9G4SsMooHlt"
      },
      "source": [
        "import warnings , os\r\n",
        "warnings.filterwarnings(action='ignore')"
      ],
      "execution_count": 2,
      "outputs": []
    },
    {
      "cell_type": "code",
      "metadata": {
        "colab": {
          "base_uri": "https://localhost:8080/"
        },
        "id": "F4owfq0Uu2_H",
        "outputId": "c04211fd-a9bf-4646-cc52-f8a27bf3a6ac"
      },
      "source": [
        "import numpy as np\r\n",
        "from keras.models import Sequential\r\n",
        "from keras.layers import Dense\r\n",
        "\r\n",
        "data = np.random.random((1000,100))\r\n",
        "labels = np.random.randint(2,size=(1000,1))\r\n",
        "\r\n",
        "model = Sequential()\r\n",
        "model.add(Dense(32, activation = 'relu',input_dim=100))\r\n",
        "model.add(Dense(1,activation= 'sigmoid'))\r\n",
        "model.summary()"
      ],
      "execution_count": 3,
      "outputs": [
        {
          "output_type": "stream",
          "text": [
            "Model: \"sequential\"\n",
            "_________________________________________________________________\n",
            "Layer (type)                 Output Shape              Param #   \n",
            "=================================================================\n",
            "dense (Dense)                (None, 32)                3232      \n",
            "_________________________________________________________________\n",
            "dense_1 (Dense)              (None, 1)                 33        \n",
            "=================================================================\n",
            "Total params: 3,265\n",
            "Trainable params: 3,265\n",
            "Non-trainable params: 0\n",
            "_________________________________________________________________\n"
          ],
          "name": "stdout"
        }
      ]
    },
    {
      "cell_type": "code",
      "metadata": {
        "colab": {
          "base_uri": "https://localhost:8080/"
        },
        "id": "djT20X5au3Bb",
        "outputId": "1cea83aa-6eba-4041-98f4-9409903041dc"
      },
      "source": [
        "print(data.shape)\r\n",
        "print(np.array_str(data, precision=4, suppress_small=True))\r\n",
        "print()\r\n",
        "print(np.array_str(labels[0:10], precision=2, suppress_small=True))"
      ],
      "execution_count": 4,
      "outputs": [
        {
          "output_type": "stream",
          "text": [
            "(1000, 100)\n",
            "[[0.97   0.3844 0.6005 ... 0.5807 0.2062 0.2083]\n",
            " [0.0196 0.0637 0.1844 ... 0.7373 0.8642 0.0878]\n",
            " [0.4519 0.1079 0.3398 ... 0.5247 0.0836 0.8817]\n",
            " ...\n",
            " [0.3611 0.1606 0.8536 ... 0.8269 0.7207 0.6145]\n",
            " [0.0241 0.5941 0.9384 ... 0.8459 0.4654 0.8645]\n",
            " [0.7402 0.581  0.2453 ... 0.6726 0.9236 0.6351]]\n",
            "\n",
            "[[0]\n",
            " [1]\n",
            " [0]\n",
            " [1]\n",
            " [0]\n",
            " [1]\n",
            " [1]\n",
            " [1]\n",
            " [1]\n",
            " [0]]\n"
          ],
          "name": "stdout"
        }
      ]
    },
    {
      "cell_type": "code",
      "metadata": {
        "colab": {
          "base_uri": "https://localhost:8080/"
        },
        "id": "j6gVB05ou3D0",
        "outputId": "419deb9a-4760-482c-c054-15a9af8bc1e5"
      },
      "source": [
        "model.compile(optimizer ='rmsprop',loss ='binary_crossentropy',metrics=['accuracy'])\r\n",
        "history = model.fit(data,labels,epochs=10,batch_size=32)\r\n",
        "predictions = model.predict(data)\r\n",
        "print(predictions[0:10])"
      ],
      "execution_count": 5,
      "outputs": [
        {
          "output_type": "stream",
          "text": [
            "Epoch 1/10\n",
            "32/32 [==============================] - 1s 3ms/step - loss: 0.7063 - accuracy: 0.5060\n",
            "Epoch 2/10\n",
            "32/32 [==============================] - 0s 3ms/step - loss: 0.6986 - accuracy: 0.5048\n",
            "Epoch 3/10\n",
            "32/32 [==============================] - 0s 3ms/step - loss: 0.6945 - accuracy: 0.5009\n",
            "Epoch 4/10\n",
            "32/32 [==============================] - 0s 3ms/step - loss: 0.6871 - accuracy: 0.5640\n",
            "Epoch 5/10\n",
            "32/32 [==============================] - 0s 3ms/step - loss: 0.6879 - accuracy: 0.5491\n",
            "Epoch 6/10\n",
            "32/32 [==============================] - 0s 3ms/step - loss: 0.6831 - accuracy: 0.5602\n",
            "Epoch 7/10\n",
            "32/32 [==============================] - 0s 3ms/step - loss: 0.6847 - accuracy: 0.5491\n",
            "Epoch 8/10\n",
            "32/32 [==============================] - 0s 2ms/step - loss: 0.6766 - accuracy: 0.5786\n",
            "Epoch 9/10\n",
            "32/32 [==============================] - 0s 2ms/step - loss: 0.6765 - accuracy: 0.5760\n",
            "Epoch 10/10\n",
            "32/32 [==============================] - 0s 2ms/step - loss: 0.6690 - accuracy: 0.6161\n",
            "[[0.595548  ]\n",
            " [0.63108134]\n",
            " [0.59303683]\n",
            " [0.5529065 ]\n",
            " [0.5142089 ]\n",
            " [0.64329076]\n",
            " [0.6021284 ]\n",
            " [0.63474965]\n",
            " [0.55979234]\n",
            " [0.49098468]]\n"
          ],
          "name": "stdout"
        }
      ]
    },
    {
      "cell_type": "code",
      "metadata": {
        "colab": {
          "base_uri": "https://localhost:8080/",
          "height": 283
        },
        "id": "Z90K8Le1u3GE",
        "outputId": "fca25088-606a-49ab-dd69-5ea24f9176aa"
      },
      "source": [
        "import matplotlib.pyplot as plt\r\n",
        "%matplotlib inline\r\n",
        "plt.plot(predictions)\r\n",
        "plt.plot(data[0])"
      ],
      "execution_count": 6,
      "outputs": [
        {
          "output_type": "execute_result",
          "data": {
            "text/plain": [
              "[<matplotlib.lines.Line2D at 0x7f81b4674f28>]"
            ]
          },
          "metadata": {
            "tags": []
          },
          "execution_count": 6
        },
        {
          "output_type": "display_data",
          "data": {
            "image/png": "[encoded data removed]",
            "text/plain": [
              "<Figure size 432x288 with 1 Axes>"
            ]
          },
          "metadata": {
            "tags": [],
            "needs_background": "light"
          }
        }
      ]
    },
    {
      "cell_type": "code",
      "metadata": {
        "colab": {
          "base_uri": "https://localhost:8080/",
          "height": 573
        },
        "id": "YjdvNx5Ju3Ih",
        "outputId": "126352b4-a232-4af1-dd06-205c90a9db95"
      },
      "source": [
        "plt.plot(history.history['loss'])\r\n",
        "plt.title('Loss')\r\n",
        "plt.xlabel('epochs')\r\n",
        "plt.ylabel('loss')\r\n",
        "plt.show()\r\n",
        "\r\n",
        "plt.plot(history.history['accuracy'])\r\n",
        "plt.title('Accuracy')\r\n",
        "plt.xlabel('epochs')\r\n",
        "plt.ylabel('Acc')\r\n",
        "plt.show()"
      ],
      "execution_count": 7,
      "outputs": [
        {
          "output_type": "display_data",
          "data": {
            "image/png": "[encoded data removed]",
            "text/plain": [
              "<Figure size 432x288 with 1 Axes>"
            ]
          },
          "metadata": {
            "tags": [],
            "needs_background": "light"
          }
        },
        {
          "output_type": "display_data",
          "data": {
            "image/png": "[encoded data removed]",
            "text/plain": [
              "<Figure size 432x288 with 1 Axes>"
            ]
          },
          "metadata": {
            "tags": [],
            "needs_background": "light"
          }
        }
      ]
    },
    {
      "cell_type": "code",
      "metadata": {
        "colab": {
          "base_uri": "https://localhost:8080/"
        },
        "id": "spV-IoiUwHLt",
        "outputId": "6afd6dff-833c-4bbf-f88e-0d2021ef267a"
      },
      "source": [
        "# 케라스 내장 Data를 불러와서 학습, 테스트 데이터로 나눠보자.\r\n",
        "\r\n",
        "from keras.datasets import boston_housing, mnist, cifar10, imdb\r\n",
        "num_classes = 10\r\n",
        "(x_train,y_train),(x_test,y_test) = mnist.load_data()\r\n",
        "(x_train2,y_train2),(x_test2,y_test2) = boston_housing.load_data()\r\n",
        "(x_train3,y_train3),(x_test3,y_test3) = cifar10.load_data()"
      ],
      "execution_count": 8,
      "outputs": [
        {
          "output_type": "stream",
          "text": [
            "Downloading data from https://storage.googleapis.com/tensorflow/tf-keras-datasets/mnist.npz\n",
            "11493376/11490434 [==============================] - 0s 0us/step\n",
            "Downloading data from https://storage.googleapis.com/tensorflow/tf-keras-datasets/boston_housing.npz\n",
            "57344/57026 [==============================] - 0s 0us/step\n",
            "Downloading data from https://www.cs.toronto.edu/~kriz/cifar-10-python.tar.gz\n",
            "170500096/170498071 [==============================] - 4s 0us/step\n"
          ],
          "name": "stdout"
        }
      ]
    },
    {
      "cell_type": "code",
      "metadata": {
        "id": "9YzHtGDYwHOE"
      },
      "source": [
        "from keras.utils import to_categorical\r\n",
        "Y_train = to_categorical(y_train, num_classes = 10)\r\n",
        "Y_test = to_categorical(y_test, num_classes = 10)"
      ],
      "execution_count": 9,
      "outputs": []
    },
    {
      "cell_type": "code",
      "metadata": {
        "colab": {
          "base_uri": "https://localhost:8080/"
        },
        "id": "v2QxN1nwwHQY",
        "outputId": "fe399be3-eff8-4c65-8040-a6003825c770"
      },
      "source": [
        "print(y_train.shape)\r\n",
        "print(y_train[0])\r\n",
        "\r\n",
        "print(Y_train.shape)\r\n",
        "print(Y_train[0])"
      ],
      "execution_count": 10,
      "outputs": [
        {
          "output_type": "stream",
          "text": [
            "(60000,)\n",
            "5\n",
            "(60000, 10)\n",
            "[0. 0. 0. 0. 0. 1. 0. 0. 0. 0.]\n"
          ],
          "name": "stdout"
        }
      ]
    },
    {
      "cell_type": "code",
      "metadata": {
        "id": "8Zsnutc8wHSk"
      },
      "source": [
        "from sklearn.model_selection import train_test_split\r\n",
        "# Mnist 예제 데이터를 학습과 테스트 셋으로 나눠보자.\r\n",
        "\r\n",
        "X_train5, X_test5, y_train5, y_test5 = train_test_split(x_train,y_train, test_size=0.33, random_state=42)"
      ],
      "execution_count": 11,
      "outputs": []
    },
    {
      "cell_type": "code",
      "metadata": {
        "colab": {
          "base_uri": "https://localhost:8080/"
        },
        "id": "fzQplYOhwkNN",
        "outputId": "2846b23a-dcc5-4470-9793-8f1b8aaa28b0"
      },
      "source": [
        "print(x_train.shape)\r\n",
        "print(X_train5.shape)\r\n",
        "print(X_test5.shape)\r\n",
        "print(y_train.shape)\r\n",
        "print(y_train5.shape)\r\n",
        "print(y_test5.shape)"
      ],
      "execution_count": 12,
      "outputs": [
        {
          "output_type": "stream",
          "text": [
            "(60000, 28, 28)\n",
            "(40200, 28, 28)\n",
            "(19800, 28, 28)\n",
            "(60000,)\n",
            "(40200,)\n",
            "(19800,)\n"
          ],
          "name": "stdout"
        }
      ]
    },
    {
      "cell_type": "code",
      "metadata": {
        "id": "IYeT1GXoww_A"
      },
      "source": [
        "# Standardization / Normalization\r\n",
        "# sklearn 내장함수를 이용해 피처데이터간 Scale을 조절할 수 있다.\r\n",
        "# 아래 예제는 보스턴 집값 피처데이터에 대해 스케일을 조절하는 것이다.\r\n",
        "\r\n",
        "from sklearn.preprocessing import StandardScaler\r\n",
        "scaler = StandardScaler().fit(x_train2)\r\n",
        "standardized_X = scaler.transform(x_train2)\r\n",
        "standardized_X_test = scaler.transform(x_test2)"
      ],
      "execution_count": 13,
      "outputs": []
    },
    {
      "cell_type": "code",
      "metadata": {
        "id": "zWoNw90iwxBs"
      },
      "source": [
        "# Model Architecture\r\n",
        "# 아래 예시와 같이 여러방식으로 모델을 정의할 수 있다. 각각의 방법을 살펴보고 Convolutional Neural Network(CNN) 모델도 한번 살펴보자.\r\n",
        "#  Sequential Model\r\n",
        "#  Multi-Layer-Perceptron(MLP)\r\n",
        "#  Binary Classification\r\n",
        "#  Multi-Class Classification\r\n",
        "#  Regression\r\n",
        "\r\n",
        "#Sequential Model\r\n",
        "from keras.models import Sequential\r\n",
        "model = Sequential()\r\n",
        "model2 = Sequential()\r\n",
        "model3 = Sequential()\r\n",
        "\r\n",
        "#Binary Classification\r\n",
        "from keras.models import Sequential\r\n",
        "from keras.layers import Dense\r\n",
        "model = Sequential()\r\n",
        "model.add(Dense(12, input_dim = 8, kernel_initializer = 'uniform', activation = 'relu'))\r\n",
        "model.add(Dense(8, kernel_initializer = 'uniform', activation = 'relu'))\r\n",
        "model.add(Dense(1, kernel_initializer = 'uniform', activation = 'sigmoid'))\r\n",
        "\r\n",
        "#Multi-Class Classification\r\n",
        "from keras.layers import Dropout\r\n",
        "from keras.models import Sequential\r\n",
        "from keras.layers import Dense\r\n",
        "model = Sequential()\r\n",
        "\r\n",
        "model.add(Dense(512, activation = 'relu', input_shape=(784,)))\r\n",
        "model.add(Dropout(0.2))\r\n",
        "model.add(Dense(512, activation = 'relu'))\r\n",
        "model.add(Dropout(0.2))\r\n",
        "model.add(Dense(10, activation = 'softmax'))\r\n",
        "\r\n",
        "#Regression\r\n",
        "from keras.models import Sequential\r\n",
        "from keras.layers import Dense\r\n",
        "model = Sequential()\r\n",
        "model.add(Dense(64, activation = 'relu',input_dim=x_train2.shape[1]))\r\n",
        "model.add(Dense(1))"
      ],
      "execution_count": 14,
      "outputs": []
    },
    {
      "cell_type": "code",
      "metadata": {
        "colab": {
          "base_uri": "https://localhost:8080/",
          "height": 301
        },
        "id": "X0VwasJBwxEC",
        "outputId": "c231ed3e-92d0-4532-a71e-950d1288559d"
      },
      "source": [
        "# MINIST를 이용해서 Convolutional Neural Network(CNN)을 살펴보자.\r\n",
        "\r\n",
        "from keras.datasets import mnist\r\n",
        "from keras.utils import to_categorical\r\n",
        "\r\n",
        "(x_train,y_train),(x_test,y_test) = mnist.load_data()\r\n",
        "num_classes = 10\r\n",
        "\r\n",
        "Y_train = to_categorical(y_train, num_classes = 10)\r\n",
        "Y_test = to_categorical(y_test, num_classes = 10)\r\n",
        "\r\n",
        "print(x_train.shape[1:])\r\n",
        "print(Y_train[0])\r\n",
        "\r\n",
        "plt.figure()\r\n",
        "plt.imshow(x_train[0])\r\n",
        "# plt.colorbar()\r\n",
        "plt.grid(False)\r\n",
        "plt.show()"
      ],
      "execution_count": 15,
      "outputs": [
        {
          "output_type": "stream",
          "text": [
            "(28, 28)\n",
            "[0. 0. 0. 0. 0. 1. 0. 0. 0. 0.]\n"
          ],
          "name": "stdout"
        },
        {
          "output_type": "display_data",
          "data": {
            "image/png": "[encoded data removed]",
            "text/plain": [
              "<Figure size 432x288 with 1 Axes>"
            ]
          },
          "metadata": {
            "tags": [],
            "needs_background": "light"
          }
        }
      ]
    },
    {
      "cell_type": "code",
      "metadata": {
        "colab": {
          "base_uri": "https://localhost:8080/",
          "height": 301
        },
        "id": "RpzLFTk_wxGZ",
        "outputId": "6a412183-27ec-46df-dbc3-ba37d543cf1f"
      },
      "source": [
        "print(x_test.shape)\r\n",
        "# 색상 채널에 값을 줘서 흑백으로 데이터를 변환해보자.\r\n",
        "x_train = x_train.reshape((60000, 28, 28, 1))\r\n",
        "x_test = x_test.reshape((10000, 28, 28, 1))\r\n",
        "print(x_test.shape)\r\n",
        "\r\n",
        "plt.figure()\r\n",
        "plt.imshow(x_train[1].reshape(28,28),cmap=plt.cm.binary)\r\n",
        "# plt.colorbar()\r\n",
        "plt.grid(False)\r\n",
        "plt.show()"
      ],
      "execution_count": 16,
      "outputs": [
        {
          "output_type": "stream",
          "text": [
            "(10000, 28, 28)\n",
            "(10000, 28, 28, 1)\n"
          ],
          "name": "stdout"
        },
        {
          "output_type": "display_data",
          "data": {
            "image/png": "[encoded data removed]",
            "text/plain": [
              "<Figure size 432x288 with 1 Axes>"
            ]
          },
          "metadata": {
            "tags": [],
            "needs_background": "light"
          }
        }
      ]
    },
    {
      "cell_type": "code",
      "metadata": {
        "colab": {
          "base_uri": "https://localhost:8080/",
          "height": 265
        },
        "id": "csk0ysHCyWy5",
        "outputId": "bef2ed6a-f263-4114-dc7a-2a995ebb9b60"
      },
      "source": [
        "# 신경망 모델에 주입하기 전에 이 값의 범위를 0~1 사이로 조정한다.\r\n",
        "# 이렇게 하려면 255로 나누면 된다.\r\n",
        "# 훈련 세트와 테스트 세트를 동일한 방식으로 전처리하는 것이 중요하다.\r\n",
        "\r\n",
        "tt = x_train[1].reshape(28,28)/ 255.0\r\n",
        "\r\n",
        "plt.figure()\r\n",
        "plt.imshow(tt,cmap=plt.cm.binary)\r\n",
        "# plt.colorbar()\r\n",
        "plt.grid(False)\r\n",
        "plt.show()\r\n"
      ],
      "execution_count": 17,
      "outputs": [
        {
          "output_type": "display_data",
          "data": {
            "image/png": "[encoded data removed]",
            "text/plain": [
              "<Figure size 432x288 with 1 Axes>"
            ]
          },
          "metadata": {
            "tags": [],
            "needs_background": "light"
          }
        }
      ]
    },
    {
      "cell_type": "code",
      "metadata": {
        "id": "dPARqLjPwxIq"
      },
      "source": [
        "from keras.models import Sequential\r\n",
        "from keras.layers import Dense, Activation, Conv2D, MaxPooling2D, Flatten, Dropout\r\n",
        "from keras.datasets import mnist\r\n",
        "\r\n",
        "(x_train,y_train),(x_test,y_test) = mnist.load_data()\r\n",
        "x_train = x_train.reshape((60000, 28, 28, 1))\r\n",
        "x_test = x_test.reshape((10000, 28, 28, 1))\r\n",
        "\r\n",
        "# 픽셀 값을 0~1 사이로 정규화합니다.\r\n",
        "x_train, x_test = x_train / 255.0, x_test / 255.0\r\n",
        "num_classes = 10\r\n",
        "\r\n",
        "Y_train = to_categorical(y_train, num_classes = 10)\r\n",
        "Y_test = to_categorical(y_test, num_classes = 10)"
      ],
      "execution_count": 18,
      "outputs": []
    },
    {
      "cell_type": "code",
      "metadata": {
        "colab": {
          "base_uri": "https://localhost:8080/"
        },
        "id": "C6kAk03qwxLK",
        "outputId": "b8e48c80-79a1-46c9-df85-e1282b6a362e"
      },
      "source": [
        "model2 = Sequential()\r\n",
        "model2.add(Conv2D(32, (3,3), padding='same', input_shape=x_train.shape[1:]))\r\n",
        "model2.add(Activation('relu'))\r\n",
        "model2.add(Conv2D(32,(3,3)))\r\n",
        "model2.add(Activation('relu'))\r\n",
        "model2.add(MaxPooling2D(pool_size=(2,2)))\r\n",
        "model2.add(Dropout(0.25))\r\n",
        "\r\n",
        "model2.add(Conv2D(64,(3,3), padding='same'))\r\n",
        "model2.add(Activation('relu'))\r\n",
        "model2.add(Conv2D(64,(3,3)))\r\n",
        "model2.add(Activation('relu'))\r\n",
        "model2.add(MaxPooling2D(pool_size=(2,2)))\r\n",
        "model2.add(Dropout(0.25))\r\n",
        "\r\n",
        "model2.add(Flatten())\r\n",
        "model2.add(Dense(512))\r\n",
        "model2.add(Activation('relu'))\r\n",
        "model2.add(Dropout(0.5))\r\n",
        "model2.add(Dense(num_classes))\r\n",
        "model2.add(Activation('softmax'))\r\n",
        "\r\n",
        "model2.summary()"
      ],
      "execution_count": 19,
      "outputs": [
        {
          "output_type": "stream",
          "text": [
            "Model: \"sequential_7\"\n",
            "_________________________________________________________________\n",
            "Layer (type)                 Output Shape              Param #   \n",
            "=================================================================\n",
            "conv2d (Conv2D)              (None, 28, 28, 32)        320       \n",
            "_________________________________________________________________\n",
            "activation (Activation)      (None, 28, 28, 32)        0         \n",
            "_________________________________________________________________\n",
            "conv2d_1 (Conv2D)            (None, 26, 26, 32)        9248      \n",
            "_________________________________________________________________\n",
            "activation_1 (Activation)    (None, 26, 26, 32)        0         \n",
            "_________________________________________________________________\n",
            "max_pooling2d (MaxPooling2D) (None, 13, 13, 32)        0         \n",
            "_________________________________________________________________\n",
            "dropout_2 (Dropout)          (None, 13, 13, 32)        0         \n",
            "_________________________________________________________________\n",
            "conv2d_2 (Conv2D)            (None, 13, 13, 64)        18496     \n",
            "_________________________________________________________________\n",
            "activation_2 (Activation)    (None, 13, 13, 64)        0         \n",
            "_________________________________________________________________\n",
            "conv2d_3 (Conv2D)            (None, 11, 11, 64)        36928     \n",
            "_________________________________________________________________\n",
            "activation_3 (Activation)    (None, 11, 11, 64)        0         \n",
            "_________________________________________________________________\n",
            "max_pooling2d_1 (MaxPooling2 (None, 5, 5, 64)          0         \n",
            "_________________________________________________________________\n",
            "dropout_3 (Dropout)          (None, 5, 5, 64)          0         \n",
            "_________________________________________________________________\n",
            "flatten (Flatten)            (None, 1600)              0         \n",
            "_________________________________________________________________\n",
            "dense_10 (Dense)             (None, 512)               819712    \n",
            "_________________________________________________________________\n",
            "activation_4 (Activation)    (None, 512)               0         \n",
            "_________________________________________________________________\n",
            "dropout_4 (Dropout)          (None, 512)               0         \n",
            "_________________________________________________________________\n",
            "dense_11 (Dense)             (None, 10)                5130      \n",
            "_________________________________________________________________\n",
            "activation_5 (Activation)    (None, 10)                0         \n",
            "=================================================================\n",
            "Total params: 889,834\n",
            "Trainable params: 889,834\n",
            "Non-trainable params: 0\n",
            "_________________________________________________________________\n"
          ],
          "name": "stdout"
        }
      ]
    },
    {
      "cell_type": "code",
      "metadata": {
        "colab": {
          "base_uri": "https://localhost:8080/"
        },
        "id": "3DFXOcejy0uV",
        "outputId": "850289ae-f874-485a-ce7d-738e2124d22a"
      },
      "source": [
        "model2.compile(optimizer ='adam',loss ='categorical_crossentropy',metrics=['accuracy'])\r\n",
        "history = model2.fit(x_train,Y_train,epochs=10,batch_size=32)\r\n",
        "predictions = model2.predict(x_test)\r\n",
        "\r\n",
        "# 5. 학습과정 살펴보기\r\n",
        "print('## training loss and acc ##')\r\n",
        "print(history.history['loss'])\r\n",
        "print(history.history['accuracy'])\r\n",
        "\r\n",
        "# 6. 모델 평가하기\r\n",
        "loss_and_metrics = model2.evaluate(x_test, Y_test, batch_size=32)\r\n",
        "print('## evaluation loss and_metrics ##')\r\n",
        "print(loss_and_metrics)"
      ],
      "execution_count": 20,
      "outputs": [
        {
          "output_type": "stream",
          "text": [
            "Epoch 1/10\n",
            "1875/1875 [==============================] - 9s 3ms/step - loss: 0.3291 - accuracy: 0.8936\n",
            "Epoch 2/10\n",
            "1875/1875 [==============================] - 6s 3ms/step - loss: 0.0603 - accuracy: 0.9819\n",
            "Epoch 3/10\n",
            "1875/1875 [==============================] - 6s 3ms/step - loss: 0.0431 - accuracy: 0.9865\n",
            "Epoch 4/10\n",
            "1875/1875 [==============================] - 6s 3ms/step - loss: 0.0353 - accuracy: 0.9889\n",
            "Epoch 5/10\n",
            "1875/1875 [==============================] - 6s 3ms/step - loss: 0.0327 - accuracy: 0.9896\n",
            "Epoch 6/10\n",
            "1875/1875 [==============================] - 6s 3ms/step - loss: 0.0291 - accuracy: 0.9913\n",
            "Epoch 7/10\n",
            "1875/1875 [==============================] - 6s 3ms/step - loss: 0.0277 - accuracy: 0.9916\n",
            "Epoch 8/10\n",
            "1875/1875 [==============================] - 6s 3ms/step - loss: 0.0228 - accuracy: 0.9931\n",
            "Epoch 9/10\n",
            "1875/1875 [==============================] - 6s 3ms/step - loss: 0.0222 - accuracy: 0.9932\n",
            "Epoch 10/10\n",
            "1875/1875 [==============================] - 6s 3ms/step - loss: 0.0207 - accuracy: 0.9936\n",
            "## training loss and acc ##\n",
            "[0.15138284862041473, 0.05808788537979126, 0.0456470362842083, 0.0375169962644577, 0.03261275961995125, 0.03012474998831749, 0.02711215801537037, 0.024670595303177834, 0.02288954146206379, 0.02291191555559635]\n",
            "[0.9525833129882812, 0.9824000000953674, 0.9859333038330078, 0.9885333180427551, 0.9895666837692261, 0.9910333156585693, 0.991599977016449, 0.9922833442687988, 0.9931166768074036, 0.9929500222206116]\n",
            "313/313 [==============================] - 1s 2ms/step - loss: 0.0182 - accuracy: 0.9942\n",
            "## evaluation loss and_metrics ##\n",
            "[0.0181923508644104, 0.9941999912261963]\n"
          ],
          "name": "stdout"
        }
      ]
    },
    {
      "cell_type": "code",
      "metadata": {
        "colab": {
          "base_uri": "https://localhost:8080/"
        },
        "id": "M4IiiXIuy0wo",
        "outputId": "412e500a-8c47-4f1f-842d-05ec31350ca1"
      },
      "source": [
        "# Recurrent Neural Network(RNN) 모델은 아래와 같이 정의할 수 있다.\r\n",
        "\r\n",
        "from keras.models import Sequential\r\n",
        "from keras.layers import Embedding,LSTM,Dense\r\n",
        "\r\n",
        "model3 = Sequential()\r\n",
        "model3.add(Embedding(20000,128))\r\n",
        "model3.add(LSTM(128,dropout=0.2,recurrent_dropout=0.2))\r\n",
        "model3.add(Dense(1,activation='sigmoid'))\r\n",
        "\r\n",
        "model3.summary()"
      ],
      "execution_count": 21,
      "outputs": [
        {
          "output_type": "stream",
          "text": [
            "WARNING:tensorflow:Layer lstm will not use cuDNN kernel since it doesn't meet the cuDNN kernel criteria. It will use generic GPU kernel as fallback when running on GPU\n",
            "Model: \"sequential_8\"\n",
            "_________________________________________________________________\n",
            "Layer (type)                 Output Shape              Param #   \n",
            "=================================================================\n",
            "embedding (Embedding)        (None, None, 128)         2560000   \n",
            "_________________________________________________________________\n",
            "lstm (LSTM)                  (None, 128)               131584    \n",
            "_________________________________________________________________\n",
            "dense_12 (Dense)             (None, 1)                 129       \n",
            "=================================================================\n",
            "Total params: 2,691,713\n",
            "Trainable params: 2,691,713\n",
            "Non-trainable params: 0\n",
            "_________________________________________________________________\n"
          ],
          "name": "stdout"
        }
      ]
    },
    {
      "cell_type": "code",
      "metadata": {
        "colab": {
          "base_uri": "https://localhost:8080/"
        },
        "id": "7qkmr91ey0yw",
        "outputId": "f2e170ac-aa42-4edb-f846-90aef80e9126"
      },
      "source": [
        "from keras.layers import SimpleRNN\r\n",
        "import tensorflow as tf\r\n",
        "\r\n",
        "# 기본 RNN 모델을 구현하기 위한 함수 (참고)\r\n",
        "def stacked_vanilla_rnn():\r\n",
        "    model = Sequential()\r\n",
        "    model.add(SimpleRNN(50, input_shape = (49,1), return_sequences = True))   # return_sequences parameter has to be set True to stack\r\n",
        "    model.add(SimpleRNN(50, return_sequences = False))\r\n",
        "    model.add(Dense(46))\r\n",
        "    model.add(Activation('softmax'))\r\n",
        "    \r\n",
        "    #adam = optimizers.Adam(lr = 0.001)\r\n",
        "    adam = tf.keras.optimizers.Adam(lr = 0.001)\r\n",
        "    model.compile(loss = 'categorical_crossentropy', optimizer = adam, metrics = ['accuracy'])\r\n",
        "    \r\n",
        "    return model\r\n",
        "\r\n",
        "model = stacked_vanilla_rnn()\r\n",
        "model.summary()"
      ],
      "execution_count": 27,
      "outputs": [
        {
          "output_type": "stream",
          "text": [
            "Model: \"sequential_12\"\n",
            "_________________________________________________________________\n",
            "Layer (type)                 Output Shape              Param #   \n",
            "=================================================================\n",
            "simple_rnn_4 (SimpleRNN)     (None, 49, 50)            2600      \n",
            "_________________________________________________________________\n",
            "simple_rnn_5 (SimpleRNN)     (None, 50)                5050      \n",
            "_________________________________________________________________\n",
            "dense_15 (Dense)             (None, 46)                2346      \n",
            "_________________________________________________________________\n",
            "activation_8 (Activation)    (None, 46)                0         \n",
            "=================================================================\n",
            "Total params: 9,996\n",
            "Trainable params: 9,996\n",
            "Non-trainable params: 0\n",
            "_________________________________________________________________\n"
          ],
          "name": "stdout"
        }
      ]
    }
  ]
}