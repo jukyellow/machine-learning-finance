{
  "nbformat": 4,
  "nbformat_minor": 0,
  "metadata": {
    "colab": {
      "name": "06_1_ETF_stock_predict_20201128.ipynb",
      "provenance": [],
      "collapsed_sections": []
    },
    "kernelspec": {
      "name": "python3",
      "display_name": "Python 3"
    },
    "accelerator": "GPU"
  },
  "cells": [
    {
      "cell_type": "code",
      "metadata": {
        "id": "WpvpgaRE3tcZ"
      },
      "source": [
        "# https://github.com/jukyellow/algoTrade/blob/master/ch06/6.1%20ETFs%EB%A5%BC%20%ED%99%9C%EC%9A%A9%ED%95%9C%20%EC%A3%BC%EA%B0%80%20%EB%B0%A9%ED%96%A5%20%EC%98%88%EC%B8%A1.ipynb"
      ],
      "execution_count": 1,
      "outputs": []
    },
    {
      "cell_type": "code",
      "metadata": {
        "id": "5DBSAvN44_1C"
      },
      "source": [
        "import warnings\n",
        "warnings.filterwarnings('ignore')\n",
        "import glob\n",
        "import os\n",
        "import datetime\n",
        "import matplotlib.pyplot as plt\n",
        "import pandas as pd\n",
        "import numpy as np\n",
        "\n",
        "from sklearn import preprocessing\n",
        "from sklearn.preprocessing import StandardScaler\n",
        "from sklearn.model_selection import train_test_split\n",
        "from sklearn.model_selection import cross_validate\n",
        "from sklearn.model_selection import TimeSeriesSplit\n",
        "from sklearn.model_selection import GridSearchCV\n",
        "from sklearn.linear_model import LinearRegression\n",
        "from sklearn.ensemble import RandomForestClassifier\n",
        "from xgboost import XGBClassifier\n",
        "from xgboost import plot_importance\n",
        "from sklearn.metrics import precision_score, recall_score, confusion_matrix, roc_auc_score\n",
        "from sklearn.metrics import f1_score\n",
        "from sklearn.metrics import mean_squared_error, r2_score\n",
        "from sklearn.metrics import accuracy_score\n",
        "from sklearn import svm\n",
        "\n",
        "import seaborn as sns; sns.set()"
      ],
      "execution_count": 2,
      "outputs": []
    },
    {
      "cell_type": "code",
      "metadata": {
        "colab": {
          "base_uri": "https://localhost:8080/"
        },
        "id": "c1jMCzAp4_3n",
        "outputId": "7ac31650-e340-4490-ad59-230e3ada4158"
      },
      "source": [
        "pd.set_option('display.max_columns', 30)\n",
        "print(os.getcwd())"
      ],
      "execution_count": 3,
      "outputs": [
        {
          "output_type": "stream",
          "text": [
            "/content\n"
          ],
          "name": "stdout"
        }
      ]
    },
    {
      "cell_type": "code",
      "metadata": {
        "id": "NhrKDskE4_5v"
      },
      "source": [
        "SPY = pd.read_csv('./SPY.csv',parse_dates=['Dates'], index_col = 'Dates')\n",
        "GLD = pd.read_csv('./GLD.csv',parse_dates=['Dates'], index_col = 'Dates')\n",
        "FXY = pd.read_csv('./FXY.csv',parse_dates=['Dates'], index_col = 'Dates')\n",
        "T10Y2Y = pd.read_csv('./T10Y2Y.csv',parse_dates=['Dates'], index_col = 'Dates')\n",
        "TED = pd.read_csv('./TED.csv',parse_dates=['Dates'], index_col = 'Dates')\n",
        "USO = pd.read_csv('./USO.csv',parse_dates=['Dates'], index_col = 'Dates')\n",
        "UUP = pd.read_csv('./UUP.csv',parse_dates=['Dates'], index_col = 'Dates')\n",
        "VIX = pd.read_csv('./VIX.csv',parse_dates=['Dates'], index_col = 'Dates')\n",
        "VWO = pd.read_csv('./VWO.csv',parse_dates=['Dates'], index_col = 'Dates')"
      ],
      "execution_count": 4,
      "outputs": []
    },
    {
      "cell_type": "code",
      "metadata": {
        "id": "evTYuQIy4_75"
      },
      "source": [
        "t1 = SPY.merge(GLD, left_index=True,\n",
        "              right_index=True, how = 'outer',\n",
        "              suffixes=('_SPY', '_GLD'))\n",
        "list_df = ['FXY', 'T10Y2Y', 'TED', 'USO', 'UUP', 'VIX', 'VWO']\n",
        "for x in list_df:\n",
        "    t1 = t1.merge(globals()[x].add_suffix('_'+str(x)),\n",
        "                 left_index=True, right_index=True,\n",
        "                 how='outer')"
      ],
      "execution_count": 5,
      "outputs": []
    },
    {
      "cell_type": "code",
      "metadata": {
        "colab": {
          "base_uri": "https://localhost:8080/"
        },
        "id": "gh0_eKUe5lrf",
        "outputId": "36b131b3-f857-448f-b0bb-522c19dc889f"
      },
      "source": [
        "print(len(t1))\n",
        "df = t1.dropna()\n",
        "print(len(df))\n",
        "print(df.tail())"
      ],
      "execution_count": 6,
      "outputs": [
        {
          "output_type": "stream",
          "text": [
            "5309\n",
            "2771\n",
            "            CLOSE_SPY    OPEN     HIGH    LOW       VOLUME  CLOSE_GLD  \\\n",
            "Dates                                                                   \n",
            "2018-12-20     247.17  249.86  251.620  245.0  252053406.0     119.24   \n",
            "2018-12-21     240.70  246.74  249.710  240.0  255345594.0     118.72   \n",
            "2018-12-24     234.34  239.04  240.836  234.0  147311594.0     120.02   \n",
            "2018-12-27     248.07  242.57  248.290  239.0  186267297.0     120.57   \n",
            "2018-12-28     247.75  249.58  251.400  246.0  153100188.0     121.06   \n",
            "\n",
            "            CLOSE_FXY  CLOSE_T10Y2Y  CLOSE_TED  CLOSE_USO  CLOSE_UUP  \\\n",
            "Dates                                                                  \n",
            "2018-12-20      85.87        1.7807       0.48       9.72      25.77   \n",
            "2018-12-21      85.87        1.7651       0.48       9.57      25.94   \n",
            "2018-12-24      86.55        1.7505       0.40       9.29      25.55   \n",
            "2018-12-27      86.00        1.7581       0.44       9.62      25.57   \n",
            "2018-12-28      86.63        1.7320       0.45       9.53      25.50   \n",
            "\n",
            "            CLOSE_VIX  CLOSE_VWO  \n",
            "Dates                             \n",
            "2018-12-20      28.38      38.18  \n",
            "2018-12-21      30.11      37.87  \n",
            "2018-12-24      36.07      37.32  \n",
            "2018-12-27      29.96      37.90  \n",
            "2018-12-28      28.34      38.17  \n"
          ],
          "name": "stdout"
        }
      ]
    },
    {
      "cell_type": "code",
      "metadata": {
        "colab": {
          "base_uri": "https://localhost:8080/",
          "height": 309
        },
        "id": "amWMUAIS5lz5",
        "outputId": "751c28aa-9d74-44f8-8c52-c217980afdc7"
      },
      "source": [
        "export_csv = df.to_csv (r'./ETFs_main.csv', index = True, header=True)\n",
        "df = pd.read_csv('./ETFs_main.csv')\n",
        "df.head()"
      ],
      "execution_count": 7,
      "outputs": [
        {
          "output_type": "execute_result",
          "data": {
            "text/html": [
              "<div>\n",
              "<style scoped>\n",
              "    .dataframe tbody tr th:only-of-type {\n",
              "        vertical-align: middle;\n",
              "    }\n",
              "\n",
              "    .dataframe tbody tr th {\n",
              "        vertical-align: top;\n",
              "    }\n",
              "\n",
              "    .dataframe thead th {\n",
              "        text-align: right;\n",
              "    }\n",
              "</style>\n",
              "<table border=\"1\" class=\"dataframe\">\n",
              "  <thead>\n",
              "    <tr style=\"text-align: right;\">\n",
              "      <th></th>\n",
              "      <th>Dates</th>\n",
              "      <th>CLOSE_SPY</th>\n",
              "      <th>OPEN</th>\n",
              "      <th>HIGH</th>\n",
              "      <th>LOW</th>\n",
              "      <th>VOLUME</th>\n",
              "      <th>CLOSE_GLD</th>\n",
              "      <th>CLOSE_FXY</th>\n",
              "      <th>CLOSE_T10Y2Y</th>\n",
              "      <th>CLOSE_TED</th>\n",
              "      <th>CLOSE_USO</th>\n",
              "      <th>CLOSE_UUP</th>\n",
              "      <th>CLOSE_VIX</th>\n",
              "      <th>CLOSE_VWO</th>\n",
              "    </tr>\n",
              "  </thead>\n",
              "  <tbody>\n",
              "    <tr>\n",
              "      <th>0</th>\n",
              "      <td>2007-02-20</td>\n",
              "      <td>146.04</td>\n",
              "      <td>145.56</td>\n",
              "      <td>146.20</td>\n",
              "      <td>144.0</td>\n",
              "      <td>56909500.0</td>\n",
              "      <td>65.31</td>\n",
              "      <td>83.51</td>\n",
              "      <td>2.3263</td>\n",
              "      <td>0.31</td>\n",
              "      <td>48.67</td>\n",
              "      <td>25.07</td>\n",
              "      <td>10.24</td>\n",
              "      <td>40.055</td>\n",
              "    </tr>\n",
              "    <tr>\n",
              "      <th>1</th>\n",
              "      <td>2007-02-21</td>\n",
              "      <td>145.98</td>\n",
              "      <td>145.61</td>\n",
              "      <td>146.07</td>\n",
              "      <td>145.0</td>\n",
              "      <td>63971500.0</td>\n",
              "      <td>67.28</td>\n",
              "      <td>82.90</td>\n",
              "      <td>2.3653</td>\n",
              "      <td>0.32</td>\n",
              "      <td>49.86</td>\n",
              "      <td>25.12</td>\n",
              "      <td>10.20</td>\n",
              "      <td>39.975</td>\n",
              "    </tr>\n",
              "    <tr>\n",
              "      <th>2</th>\n",
              "      <td>2007-02-22</td>\n",
              "      <td>145.87</td>\n",
              "      <td>146.05</td>\n",
              "      <td>146.42</td>\n",
              "      <td>145.0</td>\n",
              "      <td>79067398.0</td>\n",
              "      <td>67.15</td>\n",
              "      <td>82.46</td>\n",
              "      <td>2.3871</td>\n",
              "      <td>0.31</td>\n",
              "      <td>50.33</td>\n",
              "      <td>25.12</td>\n",
              "      <td>10.18</td>\n",
              "      <td>40.220</td>\n",
              "    </tr>\n",
              "    <tr>\n",
              "      <th>3</th>\n",
              "      <td>2007-02-23</td>\n",
              "      <td>145.30</td>\n",
              "      <td>145.74</td>\n",
              "      <td>145.79</td>\n",
              "      <td>145.0</td>\n",
              "      <td>71962797.0</td>\n",
              "      <td>67.72</td>\n",
              "      <td>82.78</td>\n",
              "      <td>2.3809</td>\n",
              "      <td>0.31</td>\n",
              "      <td>50.46</td>\n",
              "      <td>25.04</td>\n",
              "      <td>10.58</td>\n",
              "      <td>40.035</td>\n",
              "    </tr>\n",
              "    <tr>\n",
              "      <th>4</th>\n",
              "      <td>2007-02-26</td>\n",
              "      <td>145.17</td>\n",
              "      <td>145.83</td>\n",
              "      <td>145.95</td>\n",
              "      <td>145.0</td>\n",
              "      <td>69320062.0</td>\n",
              "      <td>68.10</td>\n",
              "      <td>83.08</td>\n",
              "      <td>2.3795</td>\n",
              "      <td>0.31</td>\n",
              "      <td>50.90</td>\n",
              "      <td>25.04</td>\n",
              "      <td>11.15</td>\n",
              "      <td>39.960</td>\n",
              "    </tr>\n",
              "  </tbody>\n",
              "</table>\n",
              "</div>"
            ],
            "text/plain": [
              "        Dates  CLOSE_SPY    OPEN    HIGH    LOW      VOLUME  CLOSE_GLD  \\\n",
              "0  2007-02-20     146.04  145.56  146.20  144.0  56909500.0      65.31   \n",
              "1  2007-02-21     145.98  145.61  146.07  145.0  63971500.0      67.28   \n",
              "2  2007-02-22     145.87  146.05  146.42  145.0  79067398.0      67.15   \n",
              "3  2007-02-23     145.30  145.74  145.79  145.0  71962797.0      67.72   \n",
              "4  2007-02-26     145.17  145.83  145.95  145.0  69320062.0      68.10   \n",
              "\n",
              "   CLOSE_FXY  CLOSE_T10Y2Y  CLOSE_TED  CLOSE_USO  CLOSE_UUP  CLOSE_VIX  \\\n",
              "0      83.51        2.3263       0.31      48.67      25.07      10.24   \n",
              "1      82.90        2.3653       0.32      49.86      25.12      10.20   \n",
              "2      82.46        2.3871       0.31      50.33      25.12      10.18   \n",
              "3      82.78        2.3809       0.31      50.46      25.04      10.58   \n",
              "4      83.08        2.3795       0.31      50.90      25.04      11.15   \n",
              "\n",
              "   CLOSE_VWO  \n",
              "0     40.055  \n",
              "1     39.975  \n",
              "2     40.220  \n",
              "3     40.035  \n",
              "4     39.960  "
            ]
          },
          "metadata": {
            "tags": []
          },
          "execution_count": 7
        }
      ]
    },
    {
      "cell_type": "code",
      "metadata": {
        "id": "2-DTxLSO6ZDo"
      },
      "source": [
        "#기술적 지표 만들기\n",
        "def moving_average(df, n):\n",
        "    MA = pd.Series(df['CLOSE_SPY'].rolling(n, min_periods=n).mean(), name='MA_' + str(n))\n",
        "    df = df.join(MA)\n",
        "    return df\n",
        "\n",
        "def volume_moving_average(df, n):\n",
        "    VMA = pd.Series(df['VOLUME'].rolling(n, min_periods=n).mean(), name='VMA_' + str(n))\n",
        "    df = df.join(VMA)\n",
        "    return df\n",
        "\n",
        "def relative_strength_index(df, n):\n",
        "    \"\"\"Calculate Relative Strength Index(RSI) for given data.\n",
        "    \n",
        "    :param df: pandas.DataFrame\n",
        "    :param n: \n",
        "    :return: pandas.DataFrame\n",
        "    \"\"\"\n",
        "    i = 0\n",
        "    UpI = [0]\n",
        "    DoI = [0]    \n",
        "    while i + 1 <= df.index[-1]:\n",
        "        UpMove = df.loc[i + 1, 'HIGH'] - df.loc[i, 'HIGH']\n",
        "        DoMove = df.loc[i, 'LOW'] - df.loc[i + 1, 'LOW']\n",
        "        if UpMove > DoMove and UpMove > 0:\n",
        "            UpD = UpMove\n",
        "        else:\n",
        "            UpD = 0\n",
        "        UpI.append(UpD)\n",
        "        if DoMove > UpMove and DoMove > 0:\n",
        "            DoD = DoMove\n",
        "        else:\n",
        "            DoD = 0\n",
        "        DoI.append(DoD)\n",
        "        i = i + 1\n",
        "    UpI = pd.Series(UpI)\n",
        "    DoI = pd.Series(DoI)\n",
        "    PosDI = pd.Series(UpI.ewm(span=n, min_periods=n).mean())\n",
        "    NegDI = pd.Series(DoI.ewm(span=n, min_periods=n).mean())\n",
        "    RSI = pd.Series(PosDI / (PosDI + NegDI), name='RSI_' + str(n))\n",
        "    df = df.join(RSI)\n",
        "    return df"
      ],
      "execution_count": 8,
      "outputs": []
    },
    {
      "cell_type": "code",
      "metadata": {
        "colab": {
          "base_uri": "https://localhost:8080/",
          "height": 309
        },
        "id": "p0b4bIf16ZGh",
        "outputId": "09fdf004-3351-4c11-bc2d-e80b4fb0c7cf"
      },
      "source": [
        "# 이동평균, 거래량 이동평균, 시장 강도 지수(RSI)\n",
        "df = moving_average(df, 45) #60일평균->실제 영업일 45일\n",
        "df = volume_moving_average(df, 45)\n",
        "df = relative_strength_index(df, 14) #21 or 14일\n",
        "df.tail()"
      ],
      "execution_count": 9,
      "outputs": [
        {
          "output_type": "execute_result",
          "data": {
            "text/html": [
              "<div>\n",
              "<style scoped>\n",
              "    .dataframe tbody tr th:only-of-type {\n",
              "        vertical-align: middle;\n",
              "    }\n",
              "\n",
              "    .dataframe tbody tr th {\n",
              "        vertical-align: top;\n",
              "    }\n",
              "\n",
              "    .dataframe thead th {\n",
              "        text-align: right;\n",
              "    }\n",
              "</style>\n",
              "<table border=\"1\" class=\"dataframe\">\n",
              "  <thead>\n",
              "    <tr style=\"text-align: right;\">\n",
              "      <th></th>\n",
              "      <th>Dates</th>\n",
              "      <th>CLOSE_SPY</th>\n",
              "      <th>OPEN</th>\n",
              "      <th>HIGH</th>\n",
              "      <th>LOW</th>\n",
              "      <th>VOLUME</th>\n",
              "      <th>CLOSE_GLD</th>\n",
              "      <th>CLOSE_FXY</th>\n",
              "      <th>CLOSE_T10Y2Y</th>\n",
              "      <th>CLOSE_TED</th>\n",
              "      <th>CLOSE_USO</th>\n",
              "      <th>CLOSE_UUP</th>\n",
              "      <th>CLOSE_VIX</th>\n",
              "      <th>CLOSE_VWO</th>\n",
              "      <th>MA_45</th>\n",
              "      <th>VMA_45</th>\n",
              "      <th>RSI_14</th>\n",
              "    </tr>\n",
              "  </thead>\n",
              "  <tbody>\n",
              "    <tr>\n",
              "      <th>2766</th>\n",
              "      <td>2018-12-20</td>\n",
              "      <td>247.17</td>\n",
              "      <td>249.86</td>\n",
              "      <td>251.620</td>\n",
              "      <td>245.0</td>\n",
              "      <td>252053406.0</td>\n",
              "      <td>119.24</td>\n",
              "      <td>85.87</td>\n",
              "      <td>1.7807</td>\n",
              "      <td>0.48</td>\n",
              "      <td>9.72</td>\n",
              "      <td>25.77</td>\n",
              "      <td>28.38</td>\n",
              "      <td>38.18</td>\n",
              "      <td>269.767778</td>\n",
              "      <td>1.240592e+08</td>\n",
              "      <td>0.172439</td>\n",
              "    </tr>\n",
              "    <tr>\n",
              "      <th>2767</th>\n",
              "      <td>2018-12-21</td>\n",
              "      <td>240.70</td>\n",
              "      <td>246.74</td>\n",
              "      <td>249.710</td>\n",
              "      <td>240.0</td>\n",
              "      <td>255345594.0</td>\n",
              "      <td>118.72</td>\n",
              "      <td>85.87</td>\n",
              "      <td>1.7651</td>\n",
              "      <td>0.48</td>\n",
              "      <td>9.57</td>\n",
              "      <td>25.94</td>\n",
              "      <td>30.11</td>\n",
              "      <td>37.87</td>\n",
              "      <td>269.018889</td>\n",
              "      <td>1.274610e+08</td>\n",
              "      <td>0.142578</td>\n",
              "    </tr>\n",
              "    <tr>\n",
              "      <th>2768</th>\n",
              "      <td>2018-12-24</td>\n",
              "      <td>234.34</td>\n",
              "      <td>239.04</td>\n",
              "      <td>240.836</td>\n",
              "      <td>234.0</td>\n",
              "      <td>147311594.0</td>\n",
              "      <td>120.02</td>\n",
              "      <td>86.55</td>\n",
              "      <td>1.7505</td>\n",
              "      <td>0.40</td>\n",
              "      <td>9.29</td>\n",
              "      <td>25.55</td>\n",
              "      <td>36.07</td>\n",
              "      <td>37.32</td>\n",
              "      <td>267.995333</td>\n",
              "      <td>1.281067e+08</td>\n",
              "      <td>0.115003</td>\n",
              "    </tr>\n",
              "    <tr>\n",
              "      <th>2769</th>\n",
              "      <td>2018-12-27</td>\n",
              "      <td>248.07</td>\n",
              "      <td>242.57</td>\n",
              "      <td>248.290</td>\n",
              "      <td>239.0</td>\n",
              "      <td>186267297.0</td>\n",
              "      <td>120.57</td>\n",
              "      <td>86.00</td>\n",
              "      <td>1.7581</td>\n",
              "      <td>0.44</td>\n",
              "      <td>9.62</td>\n",
              "      <td>25.57</td>\n",
              "      <td>29.96</td>\n",
              "      <td>37.90</td>\n",
              "      <td>267.275778</td>\n",
              "      <td>1.297876e+08</td>\n",
              "      <td>0.307099</td>\n",
              "    </tr>\n",
              "    <tr>\n",
              "      <th>2770</th>\n",
              "      <td>2018-12-28</td>\n",
              "      <td>247.75</td>\n",
              "      <td>249.58</td>\n",
              "      <td>251.400</td>\n",
              "      <td>246.0</td>\n",
              "      <td>153100188.0</td>\n",
              "      <td>121.06</td>\n",
              "      <td>86.63</td>\n",
              "      <td>1.7320</td>\n",
              "      <td>0.45</td>\n",
              "      <td>9.53</td>\n",
              "      <td>25.50</td>\n",
              "      <td>28.34</td>\n",
              "      <td>38.17</td>\n",
              "      <td>266.639111</td>\n",
              "      <td>1.301996e+08</td>\n",
              "      <td>0.372653</td>\n",
              "    </tr>\n",
              "  </tbody>\n",
              "</table>\n",
              "</div>"
            ],
            "text/plain": [
              "           Dates  CLOSE_SPY    OPEN     HIGH    LOW       VOLUME  CLOSE_GLD  \\\n",
              "2766  2018-12-20     247.17  249.86  251.620  245.0  252053406.0     119.24   \n",
              "2767  2018-12-21     240.70  246.74  249.710  240.0  255345594.0     118.72   \n",
              "2768  2018-12-24     234.34  239.04  240.836  234.0  147311594.0     120.02   \n",
              "2769  2018-12-27     248.07  242.57  248.290  239.0  186267297.0     120.57   \n",
              "2770  2018-12-28     247.75  249.58  251.400  246.0  153100188.0     121.06   \n",
              "\n",
              "      CLOSE_FXY  CLOSE_T10Y2Y  CLOSE_TED  CLOSE_USO  CLOSE_UUP  CLOSE_VIX  \\\n",
              "2766      85.87        1.7807       0.48       9.72      25.77      28.38   \n",
              "2767      85.87        1.7651       0.48       9.57      25.94      30.11   \n",
              "2768      86.55        1.7505       0.40       9.29      25.55      36.07   \n",
              "2769      86.00        1.7581       0.44       9.62      25.57      29.96   \n",
              "2770      86.63        1.7320       0.45       9.53      25.50      28.34   \n",
              "\n",
              "      CLOSE_VWO       MA_45        VMA_45    RSI_14  \n",
              "2766      38.18  269.767778  1.240592e+08  0.172439  \n",
              "2767      37.87  269.018889  1.274610e+08  0.142578  \n",
              "2768      37.32  267.995333  1.281067e+08  0.115003  \n",
              "2769      37.90  267.275778  1.297876e+08  0.307099  \n",
              "2770      38.17  266.639111  1.301996e+08  0.372653  "
            ]
          },
          "metadata": {
            "tags": []
          },
          "execution_count": 9
        }
      ]
    },
    {
      "cell_type": "code",
      "metadata": {
        "colab": {
          "base_uri": "https://localhost:8080/"
        },
        "id": "u71pbKiz8CYk",
        "outputId": "f2a9138b-5f3f-4191-e02e-a4d2c756910a"
      },
      "source": [
        "df = df.set_index('Dates')\n",
        "df = df.dropna() #결측치 제거\n",
        "len(df)"
      ],
      "execution_count": 10,
      "outputs": [
        {
          "output_type": "execute_result",
          "data": {
            "text/plain": [
              "2727"
            ]
          },
          "metadata": {
            "tags": []
          },
          "execution_count": 10
        }
      ]
    },
    {
      "cell_type": "code",
      "metadata": {
        "colab": {
          "base_uri": "https://localhost:8080/",
          "height": 502
        },
        "id": "NfyVBmTu6ZJa",
        "outputId": "133e0328-d3e6-4cb7-c85a-a9465675ba50"
      },
      "source": [
        "df['target'] = df['CLOSE_SPY'].pct_change() #일별 수익률 계산하기위해 변화율 계산\n",
        "print(df['target'].describe())\n",
        "df.tail()"
      ],
      "execution_count": 11,
      "outputs": [
        {
          "output_type": "stream",
          "text": [
            "count    2726.000000\n",
            "mean        0.000270\n",
            "std         0.013026\n",
            "min        -0.098448\n",
            "25%        -0.004320\n",
            "50%         0.000545\n",
            "75%         0.005791\n",
            "max         0.128249\n",
            "Name: target, dtype: float64\n"
          ],
          "name": "stdout"
        },
        {
          "output_type": "execute_result",
          "data": {
            "text/html": [
              "<div>\n",
              "<style scoped>\n",
              "    .dataframe tbody tr th:only-of-type {\n",
              "        vertical-align: middle;\n",
              "    }\n",
              "\n",
              "    .dataframe tbody tr th {\n",
              "        vertical-align: top;\n",
              "    }\n",
              "\n",
              "    .dataframe thead th {\n",
              "        text-align: right;\n",
              "    }\n",
              "</style>\n",
              "<table border=\"1\" class=\"dataframe\">\n",
              "  <thead>\n",
              "    <tr style=\"text-align: right;\">\n",
              "      <th></th>\n",
              "      <th>CLOSE_SPY</th>\n",
              "      <th>OPEN</th>\n",
              "      <th>HIGH</th>\n",
              "      <th>LOW</th>\n",
              "      <th>VOLUME</th>\n",
              "      <th>CLOSE_GLD</th>\n",
              "      <th>CLOSE_FXY</th>\n",
              "      <th>CLOSE_T10Y2Y</th>\n",
              "      <th>CLOSE_TED</th>\n",
              "      <th>CLOSE_USO</th>\n",
              "      <th>CLOSE_UUP</th>\n",
              "      <th>CLOSE_VIX</th>\n",
              "      <th>CLOSE_VWO</th>\n",
              "      <th>MA_45</th>\n",
              "      <th>VMA_45</th>\n",
              "      <th>RSI_14</th>\n",
              "      <th>target</th>\n",
              "    </tr>\n",
              "    <tr>\n",
              "      <th>Dates</th>\n",
              "      <th></th>\n",
              "      <th></th>\n",
              "      <th></th>\n",
              "      <th></th>\n",
              "      <th></th>\n",
              "      <th></th>\n",
              "      <th></th>\n",
              "      <th></th>\n",
              "      <th></th>\n",
              "      <th></th>\n",
              "      <th></th>\n",
              "      <th></th>\n",
              "      <th></th>\n",
              "      <th></th>\n",
              "      <th></th>\n",
              "      <th></th>\n",
              "      <th></th>\n",
              "    </tr>\n",
              "  </thead>\n",
              "  <tbody>\n",
              "    <tr>\n",
              "      <th>2018-12-20</th>\n",
              "      <td>247.17</td>\n",
              "      <td>249.86</td>\n",
              "      <td>251.620</td>\n",
              "      <td>245.0</td>\n",
              "      <td>252053406.0</td>\n",
              "      <td>119.24</td>\n",
              "      <td>85.87</td>\n",
              "      <td>1.7807</td>\n",
              "      <td>0.48</td>\n",
              "      <td>9.72</td>\n",
              "      <td>25.77</td>\n",
              "      <td>28.38</td>\n",
              "      <td>38.18</td>\n",
              "      <td>269.767778</td>\n",
              "      <td>1.240592e+08</td>\n",
              "      <td>0.172439</td>\n",
              "      <td>-0.016278</td>\n",
              "    </tr>\n",
              "    <tr>\n",
              "      <th>2018-12-21</th>\n",
              "      <td>240.70</td>\n",
              "      <td>246.74</td>\n",
              "      <td>249.710</td>\n",
              "      <td>240.0</td>\n",
              "      <td>255345594.0</td>\n",
              "      <td>118.72</td>\n",
              "      <td>85.87</td>\n",
              "      <td>1.7651</td>\n",
              "      <td>0.48</td>\n",
              "      <td>9.57</td>\n",
              "      <td>25.94</td>\n",
              "      <td>30.11</td>\n",
              "      <td>37.87</td>\n",
              "      <td>269.018889</td>\n",
              "      <td>1.274610e+08</td>\n",
              "      <td>0.142578</td>\n",
              "      <td>-0.026176</td>\n",
              "    </tr>\n",
              "    <tr>\n",
              "      <th>2018-12-24</th>\n",
              "      <td>234.34</td>\n",
              "      <td>239.04</td>\n",
              "      <td>240.836</td>\n",
              "      <td>234.0</td>\n",
              "      <td>147311594.0</td>\n",
              "      <td>120.02</td>\n",
              "      <td>86.55</td>\n",
              "      <td>1.7505</td>\n",
              "      <td>0.40</td>\n",
              "      <td>9.29</td>\n",
              "      <td>25.55</td>\n",
              "      <td>36.07</td>\n",
              "      <td>37.32</td>\n",
              "      <td>267.995333</td>\n",
              "      <td>1.281067e+08</td>\n",
              "      <td>0.115003</td>\n",
              "      <td>-0.026423</td>\n",
              "    </tr>\n",
              "    <tr>\n",
              "      <th>2018-12-27</th>\n",
              "      <td>248.07</td>\n",
              "      <td>242.57</td>\n",
              "      <td>248.290</td>\n",
              "      <td>239.0</td>\n",
              "      <td>186267297.0</td>\n",
              "      <td>120.57</td>\n",
              "      <td>86.00</td>\n",
              "      <td>1.7581</td>\n",
              "      <td>0.44</td>\n",
              "      <td>9.62</td>\n",
              "      <td>25.57</td>\n",
              "      <td>29.96</td>\n",
              "      <td>37.90</td>\n",
              "      <td>267.275778</td>\n",
              "      <td>1.297876e+08</td>\n",
              "      <td>0.307099</td>\n",
              "      <td>0.058590</td>\n",
              "    </tr>\n",
              "    <tr>\n",
              "      <th>2018-12-28</th>\n",
              "      <td>247.75</td>\n",
              "      <td>249.58</td>\n",
              "      <td>251.400</td>\n",
              "      <td>246.0</td>\n",
              "      <td>153100188.0</td>\n",
              "      <td>121.06</td>\n",
              "      <td>86.63</td>\n",
              "      <td>1.7320</td>\n",
              "      <td>0.45</td>\n",
              "      <td>9.53</td>\n",
              "      <td>25.50</td>\n",
              "      <td>28.34</td>\n",
              "      <td>38.17</td>\n",
              "      <td>266.639111</td>\n",
              "      <td>1.301996e+08</td>\n",
              "      <td>0.372653</td>\n",
              "      <td>-0.001290</td>\n",
              "    </tr>\n",
              "  </tbody>\n",
              "</table>\n",
              "</div>"
            ],
            "text/plain": [
              "            CLOSE_SPY    OPEN     HIGH    LOW       VOLUME  CLOSE_GLD  \\\n",
              "Dates                                                                   \n",
              "2018-12-20     247.17  249.86  251.620  245.0  252053406.0     119.24   \n",
              "2018-12-21     240.70  246.74  249.710  240.0  255345594.0     118.72   \n",
              "2018-12-24     234.34  239.04  240.836  234.0  147311594.0     120.02   \n",
              "2018-12-27     248.07  242.57  248.290  239.0  186267297.0     120.57   \n",
              "2018-12-28     247.75  249.58  251.400  246.0  153100188.0     121.06   \n",
              "\n",
              "            CLOSE_FXY  CLOSE_T10Y2Y  CLOSE_TED  CLOSE_USO  CLOSE_UUP  \\\n",
              "Dates                                                                  \n",
              "2018-12-20      85.87        1.7807       0.48       9.72      25.77   \n",
              "2018-12-21      85.87        1.7651       0.48       9.57      25.94   \n",
              "2018-12-24      86.55        1.7505       0.40       9.29      25.55   \n",
              "2018-12-27      86.00        1.7581       0.44       9.62      25.57   \n",
              "2018-12-28      86.63        1.7320       0.45       9.53      25.50   \n",
              "\n",
              "            CLOSE_VIX  CLOSE_VWO       MA_45        VMA_45    RSI_14    target  \n",
              "Dates                                                                           \n",
              "2018-12-20      28.38      38.18  269.767778  1.240592e+08  0.172439 -0.016278  \n",
              "2018-12-21      30.11      37.87  269.018889  1.274610e+08  0.142578 -0.026176  \n",
              "2018-12-24      36.07      37.32  267.995333  1.281067e+08  0.115003 -0.026423  \n",
              "2018-12-27      29.96      37.90  267.275778  1.297876e+08  0.307099  0.058590  \n",
              "2018-12-28      28.34      38.17  266.639111  1.301996e+08  0.372653 -0.001290  "
            ]
          },
          "metadata": {
            "tags": []
          },
          "execution_count": 11
        }
      ]
    },
    {
      "cell_type": "code",
      "metadata": {
        "colab": {
          "base_uri": "https://localhost:8080/"
        },
        "id": "SGZZdUCG7rzk",
        "outputId": "be157b19-61b6-4546-f10a-4a0ec1d701f9"
      },
      "source": [
        "# 1번 Case 수수료 0으로 했을 때\n",
        "# df['target'] = np.where(df['target'] > 0.0005 , 1, -1)\n",
        "df['target'] = np.where(df['target'] > 0 , 1, -1) # 0보다 크면 1, 작으면 -1\n",
        "df['target'].value_counts()"
      ],
      "execution_count": 12,
      "outputs": [
        {
          "output_type": "execute_result",
          "data": {
            "text/plain": [
              " 1    1471\n",
              "-1    1256\n",
              "Name: target, dtype: int64"
            ]
          },
          "metadata": {
            "tags": []
          },
          "execution_count": 12
        }
      ]
    },
    {
      "cell_type": "code",
      "metadata": {
        "colab": {
          "base_uri": "https://localhost:8080/"
        },
        "id": "SXf5jWQg7r2V",
        "outputId": "ad889d73-661e-4309-8826-f7a89507cff1"
      },
      "source": [
        "df['target'] = df['target'].shift(-1) # 당일 데이터를 활용해 다음날 예측, 다음날 트렌드를 한행 앞으로 당김\n",
        "df = df.dropna()\n",
        "len(df)"
      ],
      "execution_count": 13,
      "outputs": [
        {
          "output_type": "execute_result",
          "data": {
            "text/plain": [
              "2726"
            ]
          },
          "metadata": {
            "tags": []
          },
          "execution_count": 13
        }
      ]
    },
    {
      "cell_type": "code",
      "metadata": {
        "colab": {
          "base_uri": "https://localhost:8080/",
          "height": 340
        },
        "id": "s-pLH2VA7r42",
        "outputId": "abd7e7ad-626a-4b15-de54-33b0761e50f4"
      },
      "source": [
        "df['target'] = df['target'].astype(np.int64) # 정수처리\n",
        "df.tail()"
      ],
      "execution_count": 14,
      "outputs": [
        {
          "output_type": "execute_result",
          "data": {
            "text/html": [
              "<div>\n",
              "<style scoped>\n",
              "    .dataframe tbody tr th:only-of-type {\n",
              "        vertical-align: middle;\n",
              "    }\n",
              "\n",
              "    .dataframe tbody tr th {\n",
              "        vertical-align: top;\n",
              "    }\n",
              "\n",
              "    .dataframe thead th {\n",
              "        text-align: right;\n",
              "    }\n",
              "</style>\n",
              "<table border=\"1\" class=\"dataframe\">\n",
              "  <thead>\n",
              "    <tr style=\"text-align: right;\">\n",
              "      <th></th>\n",
              "      <th>CLOSE_SPY</th>\n",
              "      <th>OPEN</th>\n",
              "      <th>HIGH</th>\n",
              "      <th>LOW</th>\n",
              "      <th>VOLUME</th>\n",
              "      <th>CLOSE_GLD</th>\n",
              "      <th>CLOSE_FXY</th>\n",
              "      <th>CLOSE_T10Y2Y</th>\n",
              "      <th>CLOSE_TED</th>\n",
              "      <th>CLOSE_USO</th>\n",
              "      <th>CLOSE_UUP</th>\n",
              "      <th>CLOSE_VIX</th>\n",
              "      <th>CLOSE_VWO</th>\n",
              "      <th>MA_45</th>\n",
              "      <th>VMA_45</th>\n",
              "      <th>RSI_14</th>\n",
              "      <th>target</th>\n",
              "    </tr>\n",
              "    <tr>\n",
              "      <th>Dates</th>\n",
              "      <th></th>\n",
              "      <th></th>\n",
              "      <th></th>\n",
              "      <th></th>\n",
              "      <th></th>\n",
              "      <th></th>\n",
              "      <th></th>\n",
              "      <th></th>\n",
              "      <th></th>\n",
              "      <th></th>\n",
              "      <th></th>\n",
              "      <th></th>\n",
              "      <th></th>\n",
              "      <th></th>\n",
              "      <th></th>\n",
              "      <th></th>\n",
              "      <th></th>\n",
              "    </tr>\n",
              "  </thead>\n",
              "  <tbody>\n",
              "    <tr>\n",
              "      <th>2018-12-19</th>\n",
              "      <td>251.26</td>\n",
              "      <td>255.17</td>\n",
              "      <td>259.400</td>\n",
              "      <td>249.0</td>\n",
              "      <td>214992797.0</td>\n",
              "      <td>117.43</td>\n",
              "      <td>84.83</td>\n",
              "      <td>1.7824</td>\n",
              "      <td>0.44</td>\n",
              "      <td>10.02</td>\n",
              "      <td>25.97</td>\n",
              "      <td>25.58</td>\n",
              "      <td>37.89</td>\n",
              "      <td>270.407333</td>\n",
              "      <td>1.225288e+08</td>\n",
              "      <td>0.201733</td>\n",
              "      <td>-1</td>\n",
              "    </tr>\n",
              "    <tr>\n",
              "      <th>2018-12-20</th>\n",
              "      <td>247.17</td>\n",
              "      <td>249.86</td>\n",
              "      <td>251.620</td>\n",
              "      <td>245.0</td>\n",
              "      <td>252053406.0</td>\n",
              "      <td>119.24</td>\n",
              "      <td>85.87</td>\n",
              "      <td>1.7807</td>\n",
              "      <td>0.48</td>\n",
              "      <td>9.72</td>\n",
              "      <td>25.77</td>\n",
              "      <td>28.38</td>\n",
              "      <td>38.18</td>\n",
              "      <td>269.767778</td>\n",
              "      <td>1.240592e+08</td>\n",
              "      <td>0.172439</td>\n",
              "      <td>-1</td>\n",
              "    </tr>\n",
              "    <tr>\n",
              "      <th>2018-12-21</th>\n",
              "      <td>240.70</td>\n",
              "      <td>246.74</td>\n",
              "      <td>249.710</td>\n",
              "      <td>240.0</td>\n",
              "      <td>255345594.0</td>\n",
              "      <td>118.72</td>\n",
              "      <td>85.87</td>\n",
              "      <td>1.7651</td>\n",
              "      <td>0.48</td>\n",
              "      <td>9.57</td>\n",
              "      <td>25.94</td>\n",
              "      <td>30.11</td>\n",
              "      <td>37.87</td>\n",
              "      <td>269.018889</td>\n",
              "      <td>1.274610e+08</td>\n",
              "      <td>0.142578</td>\n",
              "      <td>-1</td>\n",
              "    </tr>\n",
              "    <tr>\n",
              "      <th>2018-12-24</th>\n",
              "      <td>234.34</td>\n",
              "      <td>239.04</td>\n",
              "      <td>240.836</td>\n",
              "      <td>234.0</td>\n",
              "      <td>147311594.0</td>\n",
              "      <td>120.02</td>\n",
              "      <td>86.55</td>\n",
              "      <td>1.7505</td>\n",
              "      <td>0.40</td>\n",
              "      <td>9.29</td>\n",
              "      <td>25.55</td>\n",
              "      <td>36.07</td>\n",
              "      <td>37.32</td>\n",
              "      <td>267.995333</td>\n",
              "      <td>1.281067e+08</td>\n",
              "      <td>0.115003</td>\n",
              "      <td>1</td>\n",
              "    </tr>\n",
              "    <tr>\n",
              "      <th>2018-12-27</th>\n",
              "      <td>248.07</td>\n",
              "      <td>242.57</td>\n",
              "      <td>248.290</td>\n",
              "      <td>239.0</td>\n",
              "      <td>186267297.0</td>\n",
              "      <td>120.57</td>\n",
              "      <td>86.00</td>\n",
              "      <td>1.7581</td>\n",
              "      <td>0.44</td>\n",
              "      <td>9.62</td>\n",
              "      <td>25.57</td>\n",
              "      <td>29.96</td>\n",
              "      <td>37.90</td>\n",
              "      <td>267.275778</td>\n",
              "      <td>1.297876e+08</td>\n",
              "      <td>0.307099</td>\n",
              "      <td>-1</td>\n",
              "    </tr>\n",
              "  </tbody>\n",
              "</table>\n",
              "</div>"
            ],
            "text/plain": [
              "            CLOSE_SPY    OPEN     HIGH    LOW       VOLUME  CLOSE_GLD  \\\n",
              "Dates                                                                   \n",
              "2018-12-19     251.26  255.17  259.400  249.0  214992797.0     117.43   \n",
              "2018-12-20     247.17  249.86  251.620  245.0  252053406.0     119.24   \n",
              "2018-12-21     240.70  246.74  249.710  240.0  255345594.0     118.72   \n",
              "2018-12-24     234.34  239.04  240.836  234.0  147311594.0     120.02   \n",
              "2018-12-27     248.07  242.57  248.290  239.0  186267297.0     120.57   \n",
              "\n",
              "            CLOSE_FXY  CLOSE_T10Y2Y  CLOSE_TED  CLOSE_USO  CLOSE_UUP  \\\n",
              "Dates                                                                  \n",
              "2018-12-19      84.83        1.7824       0.44      10.02      25.97   \n",
              "2018-12-20      85.87        1.7807       0.48       9.72      25.77   \n",
              "2018-12-21      85.87        1.7651       0.48       9.57      25.94   \n",
              "2018-12-24      86.55        1.7505       0.40       9.29      25.55   \n",
              "2018-12-27      86.00        1.7581       0.44       9.62      25.57   \n",
              "\n",
              "            CLOSE_VIX  CLOSE_VWO       MA_45        VMA_45    RSI_14  target  \n",
              "Dates                                                                         \n",
              "2018-12-19      25.58      37.89  270.407333  1.225288e+08  0.201733      -1  \n",
              "2018-12-20      28.38      38.18  269.767778  1.240592e+08  0.172439      -1  \n",
              "2018-12-21      30.11      37.87  269.018889  1.274610e+08  0.142578      -1  \n",
              "2018-12-24      36.07      37.32  267.995333  1.281067e+08  0.115003       1  \n",
              "2018-12-27      29.96      37.90  267.275778  1.297876e+08  0.307099      -1  "
            ]
          },
          "metadata": {
            "tags": []
          },
          "execution_count": 14
        }
      ]
    },
    {
      "cell_type": "code",
      "metadata": {
        "colab": {
          "base_uri": "https://localhost:8080/",
          "height": 340
        },
        "id": "TtbtA_8M7r6x",
        "outputId": "b6e6ca18-0702-4792-a36b-6269be98b06d"
      },
      "source": [
        "y_var = df['target']\n",
        "# 예측에 사용하지 않는 변수 삭제\n",
        "x_var = df.drop(['target', 'OPEN','HIGH','LOW', 'VOLUME','CLOSE_SPY'], axis=1)\n",
        "x_var.head()"
      ],
      "execution_count": 15,
      "outputs": [
        {
          "output_type": "execute_result",
          "data": {
            "text/html": [
              "<div>\n",
              "<style scoped>\n",
              "    .dataframe tbody tr th:only-of-type {\n",
              "        vertical-align: middle;\n",
              "    }\n",
              "\n",
              "    .dataframe tbody tr th {\n",
              "        vertical-align: top;\n",
              "    }\n",
              "\n",
              "    .dataframe thead th {\n",
              "        text-align: right;\n",
              "    }\n",
              "</style>\n",
              "<table border=\"1\" class=\"dataframe\">\n",
              "  <thead>\n",
              "    <tr style=\"text-align: right;\">\n",
              "      <th></th>\n",
              "      <th>CLOSE_GLD</th>\n",
              "      <th>CLOSE_FXY</th>\n",
              "      <th>CLOSE_T10Y2Y</th>\n",
              "      <th>CLOSE_TED</th>\n",
              "      <th>CLOSE_USO</th>\n",
              "      <th>CLOSE_UUP</th>\n",
              "      <th>CLOSE_VIX</th>\n",
              "      <th>CLOSE_VWO</th>\n",
              "      <th>MA_45</th>\n",
              "      <th>VMA_45</th>\n",
              "      <th>RSI_14</th>\n",
              "    </tr>\n",
              "    <tr>\n",
              "      <th>Dates</th>\n",
              "      <th></th>\n",
              "      <th></th>\n",
              "      <th></th>\n",
              "      <th></th>\n",
              "      <th></th>\n",
              "      <th></th>\n",
              "      <th></th>\n",
              "      <th></th>\n",
              "      <th></th>\n",
              "      <th></th>\n",
              "      <th></th>\n",
              "    </tr>\n",
              "  </thead>\n",
              "  <tbody>\n",
              "    <tr>\n",
              "      <th>2007-04-27</th>\n",
              "      <td>67.56</td>\n",
              "      <td>83.7300</td>\n",
              "      <td>2.4474</td>\n",
              "      <td>0.55</td>\n",
              "      <td>51.84</td>\n",
              "      <td>24.54</td>\n",
              "      <td>12.45</td>\n",
              "      <td>41.750</td>\n",
              "      <td>143.551556</td>\n",
              "      <td>1.106696e+08</td>\n",
              "      <td>0.670018</td>\n",
              "    </tr>\n",
              "    <tr>\n",
              "      <th>2007-04-30</th>\n",
              "      <td>67.09</td>\n",
              "      <td>83.7166</td>\n",
              "      <td>2.4361</td>\n",
              "      <td>0.57</td>\n",
              "      <td>51.24</td>\n",
              "      <td>24.49</td>\n",
              "      <td>14.22</td>\n",
              "      <td>40.935</td>\n",
              "      <td>143.601556</td>\n",
              "      <td>1.116466e+08</td>\n",
              "      <td>0.531751</td>\n",
              "    </tr>\n",
              "    <tr>\n",
              "      <th>2007-05-02</th>\n",
              "      <td>66.66</td>\n",
              "      <td>83.3800</td>\n",
              "      <td>2.4366</td>\n",
              "      <td>0.59</td>\n",
              "      <td>49.59</td>\n",
              "      <td>24.66</td>\n",
              "      <td>13.08</td>\n",
              "      <td>42.020</td>\n",
              "      <td>143.680667</td>\n",
              "      <td>1.121613e+08</td>\n",
              "      <td>0.554050</td>\n",
              "    </tr>\n",
              "    <tr>\n",
              "      <th>2007-05-03</th>\n",
              "      <td>67.49</td>\n",
              "      <td>83.1100</td>\n",
              "      <td>2.4346</td>\n",
              "      <td>0.60</td>\n",
              "      <td>49.28</td>\n",
              "      <td>24.69</td>\n",
              "      <td>13.09</td>\n",
              "      <td>42.435</td>\n",
              "      <td>143.780222</td>\n",
              "      <td>1.123421e+08</td>\n",
              "      <td>0.601028</td>\n",
              "    </tr>\n",
              "    <tr>\n",
              "      <th>2007-05-04</th>\n",
              "      <td>68.19</td>\n",
              "      <td>83.2300</td>\n",
              "      <td>2.4006</td>\n",
              "      <td>0.60</td>\n",
              "      <td>48.30</td>\n",
              "      <td>24.60</td>\n",
              "      <td>12.91</td>\n",
              "      <td>42.595</td>\n",
              "      <td>143.905111</td>\n",
              "      <td>1.128853e+08</td>\n",
              "      <td>0.665987</td>\n",
              "    </tr>\n",
              "  </tbody>\n",
              "</table>\n",
              "</div>"
            ],
            "text/plain": [
              "            CLOSE_GLD  CLOSE_FXY  CLOSE_T10Y2Y  CLOSE_TED  CLOSE_USO  \\\n",
              "Dates                                                                  \n",
              "2007-04-27      67.56    83.7300        2.4474       0.55      51.84   \n",
              "2007-04-30      67.09    83.7166        2.4361       0.57      51.24   \n",
              "2007-05-02      66.66    83.3800        2.4366       0.59      49.59   \n",
              "2007-05-03      67.49    83.1100        2.4346       0.60      49.28   \n",
              "2007-05-04      68.19    83.2300        2.4006       0.60      48.30   \n",
              "\n",
              "            CLOSE_UUP  CLOSE_VIX  CLOSE_VWO       MA_45        VMA_45  \\\n",
              "Dates                                                                   \n",
              "2007-04-27      24.54      12.45     41.750  143.551556  1.106696e+08   \n",
              "2007-04-30      24.49      14.22     40.935  143.601556  1.116466e+08   \n",
              "2007-05-02      24.66      13.08     42.020  143.680667  1.121613e+08   \n",
              "2007-05-03      24.69      13.09     42.435  143.780222  1.123421e+08   \n",
              "2007-05-04      24.60      12.91     42.595  143.905111  1.128853e+08   \n",
              "\n",
              "              RSI_14  \n",
              "Dates                 \n",
              "2007-04-27  0.670018  \n",
              "2007-04-30  0.531751  \n",
              "2007-05-02  0.554050  \n",
              "2007-05-03  0.601028  \n",
              "2007-05-04  0.665987  "
            ]
          },
          "metadata": {
            "tags": []
          },
          "execution_count": 15
        }
      ]
    },
    {
      "cell_type": "code",
      "metadata": {
        "colab": {
          "base_uri": "https://localhost:8080/"
        },
        "id": "urv9l9gs-Olb",
        "outputId": "8ee2441c-fef1-4030-f6db-97550da78e95"
      },
      "source": [
        "up=df[df['target']==1].target.count()\n",
        "total=df.target.count()\n",
        "print('up/down ratio: {0:.2f}'.format((up/total)))"
      ],
      "execution_count": 16,
      "outputs": [
        {
          "output_type": "stream",
          "text": [
            "up/down ratio: 0.54\n"
          ],
          "name": "stdout"
        }
      ]
    },
    {
      "cell_type": "code",
      "metadata": {
        "colab": {
          "base_uri": "https://localhost:8080/"
        },
        "id": "TcmPvmId-Ony",
        "outputId": "30a01802-3592-4762-8bfe-991c3bea54d3"
      },
      "source": [
        "#훈련 세트와 테스트 세트를 나눈다.\n",
        "#shuffle=False을 설정해 기간이 섞이지 않도록 만든다.\n",
        "X_train, X_test, y_train, y_test = train_test_split(x_var, \n",
        "                                                    y_var, \n",
        "                                                    test_size=0.3, \n",
        "                                                    shuffle=False, \n",
        "                                                    random_state=3)\n",
        "\n",
        "print('X_train:',X_train.shape, ' ,y_train:', y_train.shape)\n",
        "print('X_test:',X_test.shape, ' ,y_test:', y_test.shape)\n",
        "\n",
        "\n",
        "#훈련 세트와 테스트 세트에 포함된 양성 샘플(up) 비율을 확인한다.\n",
        "train_count = y_train.count()\n",
        "test_count = y_test.count()\n",
        "\n",
        "print('train set label ratio')\n",
        "print(y_train.value_counts()/train_count)\n",
        "print('test set label ratio')\n",
        "print(y_test.value_counts()/test_count)"
      ],
      "execution_count": 17,
      "outputs": [
        {
          "output_type": "stream",
          "text": [
            "X_train: (1908, 11)  ,y_train: (1908,)\n",
            "X_test: (818, 11)  ,y_test: (818,)\n",
            "train set label ratio\n",
            " 1    0.543501\n",
            "-1    0.456499\n",
            "Name: target, dtype: float64\n",
            "test set label ratio\n",
            " 1    0.530562\n",
            "-1    0.469438\n",
            "Name: target, dtype: float64\n"
          ],
          "name": "stdout"
        }
      ]
    },
    {
      "cell_type": "code",
      "metadata": {
        "id": "v6DnXH03-ihB"
      },
      "source": [
        "def get_confusion_matrix(y_test, pred):\n",
        "    confusion = confusion_matrix(y_test, pred)\n",
        "    accuracy = accuracy_score(y_test, pred)\n",
        "    precision = precision_score(y_test, pred)\n",
        "    recall = recall_score(y_test, pred)\n",
        "    f1 = f1_score(y_test, pred)\n",
        "    roc_score = roc_auc_score(y_test, pred)\n",
        "    print('confusion matrix')\n",
        "    print('accuracy:{0:.4f},precision:{1:.4f},recall:{2:.4f},F1:{3:.4f},ROC AUC score:{4:.4f}'.format(accuracy, precision, recall, f1,roc_score))"
      ],
      "execution_count": 18,
      "outputs": []
    },
    {
      "cell_type": "code",
      "metadata": {
        "colab": {
          "base_uri": "https://localhost:8080/"
        },
        "id": "lSQIXSg3-iji",
        "outputId": "343ecff1-5ebf-4862-ef31-cf0883cf2ad2"
      },
      "source": [
        "# 수익률 0이였을 때\n",
        "# 1-1번째 모델링(XGBoost Classifier)\n",
        "\n",
        "# XGBClassifier 참고\n",
        "# https://joyfuls.tistory.com/63\n",
        "# https://statkclee.github.io/model/model-python-xgboost-hyper.html\n",
        "xgb_dis = XGBClassifier(n_estimators=400, learning_rate=0.1, max_depth=3) # 의사결정트리400개\n",
        "xgb_dis.fit(X_train, y_train)\n",
        "xgb_pred = xgb_dis.predict(X_test)\n",
        "\n",
        "print(xgb_dis)\n",
        "print(xgb_dis.predict_proba(X_test))"
      ],
      "execution_count": 19,
      "outputs": [
        {
          "output_type": "stream",
          "text": [
            "XGBClassifier(base_score=0.5, booster='gbtree', colsample_bylevel=1,\n",
            "              colsample_bynode=1, colsample_bytree=1, gamma=0,\n",
            "              learning_rate=0.1, max_delta_step=0, max_depth=3,\n",
            "              min_child_weight=1, missing=None, n_estimators=400, n_jobs=1,\n",
            "              nthread=None, objective='binary:logistic', random_state=0,\n",
            "              reg_alpha=0, reg_lambda=1, scale_pos_weight=1, seed=None,\n",
            "              silent=None, subsample=1, verbosity=1)\n",
            "[[0.7526408  0.24735922]\n",
            " [0.9640353  0.03596473]\n",
            " [0.6700425  0.32995752]\n",
            " ...\n",
            " [0.08560187 0.91439813]\n",
            " [0.07786518 0.9221348 ]\n",
            " [0.10759658 0.8924034 ]]\n"
          ],
          "name": "stdout"
        }
      ]
    },
    {
      "cell_type": "code",
      "metadata": {
        "colab": {
          "base_uri": "https://localhost:8080/"
        },
        "id": "jP3NVf_U-OqF",
        "outputId": "406ee736-a665-465b-d7fa-72f5b38db1e1"
      },
      "source": [
        "# 훈련 data accurary\n",
        "print(xgb_dis.score(X_train, y_train)) \n",
        "print()\n",
        "# 테스트 data 결과\n",
        "get_confusion_matrix(y_test, xgb_pred)"
      ],
      "execution_count": 20,
      "outputs": [
        {
          "output_type": "stream",
          "text": [
            "0.8763102725366876\n",
            "\n",
            "confusion matrix\n",
            "accuracy:0.4914,precision:0.5242,recall:0.4493,F1:0.4839,ROC AUC score:0.4942\n"
          ],
          "name": "stdout"
        }
      ]
    },
    {
      "cell_type": "code",
      "metadata": {
        "id": "MpGAZsrHBF_N"
      },
      "source": [
        "# 1-2번째 모델링(Random Forest Classifier)\n",
        "\n",
        "n_estimators = range(10,200,10)\n",
        "params = {\n",
        "    'bootstrap': [True],\n",
        "    'n_estimators':n_estimators,\n",
        "    'max_depth':[4,6,8,10,12],\n",
        "    'min_samples_leaf': [2, 3, 4, 5],\n",
        "    'min_samples_split': [2, 4, 6, 8, 10],\n",
        "    'max_features':[4]\n",
        "}"
      ],
      "execution_count": 21,
      "outputs": []
    },
    {
      "cell_type": "code",
      "metadata": {
        "colab": {
          "base_uri": "https://localhost:8080/"
        },
        "id": "8zkxZAnmBgkE",
        "outputId": "eb49ae29-f011-4212-fb91-40fec456ae9a"
      },
      "source": [
        "my_cv = TimeSeriesSplit(n_splits=5).split(X_train)\n",
        "my_cv"
      ],
      "execution_count": 22,
      "outputs": [
        {
          "output_type": "execute_result",
          "data": {
            "text/plain": [
              "<generator object TimeSeriesSplit.split at 0x7f7690021e08>"
            ]
          },
          "metadata": {
            "tags": []
          },
          "execution_count": 22
        }
      ]
    },
    {
      "cell_type": "code",
      "metadata": {
        "colab": {
          "base_uri": "https://localhost:8080/"
        },
        "id": "jo0CjneBBgmv",
        "outputId": "aa81f89e-6c42-4958-d1e8-2b8142ad56c2"
      },
      "source": [
        "# 여러가지 값을 돌아가면서 설정된 페라미터로 테스트\n",
        "clf = GridSearchCV(RandomForestClassifier(), params, cv=my_cv, n_jobs=-1)\n",
        "clf "
      ],
      "execution_count": 23,
      "outputs": [
        {
          "output_type": "execute_result",
          "data": {
            "text/plain": [
              "GridSearchCV(cv=<generator object TimeSeriesSplit.split at 0x7f7690021e08>,\n",
              "             error_score=nan,\n",
              "             estimator=RandomForestClassifier(bootstrap=True, ccp_alpha=0.0,\n",
              "                                              class_weight=None,\n",
              "                                              criterion='gini', max_depth=None,\n",
              "                                              max_features='auto',\n",
              "                                              max_leaf_nodes=None,\n",
              "                                              max_samples=None,\n",
              "                                              min_impurity_decrease=0.0,\n",
              "                                              min_impurity_split=None,\n",
              "                                              min_samples_leaf=1,\n",
              "                                              min_samples_split=2,\n",
              "                                              min_w...\n",
              "                                              n_estimators=100, n_jobs=None,\n",
              "                                              oob_score=False,\n",
              "                                              random_state=None, verbose=0,\n",
              "                                              warm_start=False),\n",
              "             iid='deprecated', n_jobs=-1,\n",
              "             param_grid={'bootstrap': [True], 'max_depth': [4, 6, 8, 10, 12],\n",
              "                         'max_features': [4], 'min_samples_leaf': [2, 3, 4, 5],\n",
              "                         'min_samples_split': [2, 4, 6, 8, 10],\n",
              "                         'n_estimators': range(10, 200, 10)},\n",
              "             pre_dispatch='2*n_jobs', refit=True, return_train_score=False,\n",
              "             scoring=None, verbose=0)"
            ]
          },
          "metadata": {
            "tags": []
          },
          "execution_count": 23
        }
      ]
    },
    {
      "cell_type": "code",
      "metadata": {
        "colab": {
          "base_uri": "https://localhost:8080/"
        },
        "id": "6Djp8r6fBkyA",
        "outputId": "a92ca595-7952-46c3-b128-9fed7745eac0"
      },
      "source": [
        "import time\n",
        "start_time = time.time()\n",
        "clf.fit(X_train, y_train)\n",
        "print(time.time() - start_time,\" seconds consumed\")\n"
      ],
      "execution_count": 24,
      "outputs": [
        {
          "output_type": "stream",
          "text": [
            "1973.473917722702  seconds consumed\n"
          ],
          "name": "stdout"
        }
      ]
    },
    {
      "cell_type": "code",
      "metadata": {
        "colab": {
          "base_uri": "https://localhost:8080/"
        },
        "id": "qQK5Vjq8E-CN",
        "outputId": "2129ebf3-7425-4328-c678-7bf75a44dedf"
      },
      "source": [
        "\n",
        "## Random Forest에서 best param\n",
        "print('best parameter:\\n', clf.best_params_)\n",
        "print('best prediction:{0:.4f}'.format(clf.best_score_))\n",
        "\n",
        "# 테스트 data 결과\n",
        "pred_con = clf.predict(X_test)\n",
        "accuracy_con = accuracy_score(y_test, pred_con)\n",
        "print('accuracy:{0:.4f}'.format(accuracy_con))\n",
        "get_confusion_matrix(y_test, pred_con)"
      ],
      "execution_count": 25,
      "outputs": [
        {
          "output_type": "stream",
          "text": [
            "best parameter:\n",
            " {'bootstrap': True, 'max_depth': 4, 'max_features': 4, 'min_samples_leaf': 5, 'min_samples_split': 8, 'n_estimators': 150}\n",
            "best prediction:0.5566\n",
            "accuracy:0.4976\n",
            "confusion matrix\n",
            "accuracy:0.4976,precision:0.5370,recall:0.3848,F1:0.4483,ROC AUC score:0.5049\n"
          ],
          "name": "stdout"
        }
      ]
    },
    {
      "cell_type": "code",
      "metadata": {
        "id": "DhLLr2JuBxTv"
      },
      "source": [
        "# 2번 0.05% 수익률 적용시.\n",
        "df = pd.read_csv('./ETFs_main.csv')\n",
        "df = moving_average(df, 45)\n",
        "df = volume_moving_average(df, 45)\n",
        "df = relative_strength_index(df, 14)\n",
        "df = df.set_index('Dates')\n",
        "df = df.dropna()\n",
        "df['target'] = df['CLOSE_SPY'].pct_change()"
      ],
      "execution_count": 26,
      "outputs": []
    },
    {
      "cell_type": "code",
      "metadata": {
        "colab": {
          "base_uri": "https://localhost:8080/"
        },
        "id": "eEZVcq1HBk0L",
        "outputId": "6c9ffc36-245d-4b13-cd97-2adb735aa3da"
      },
      "source": [
        "df['target'] = np.where(df['target'] > 0.0005 , 1, -1) # 수익률 0.05% 이상시 오른것으로 간주!\n",
        "# df['target'] = np.where(df['target'] > 0 , 1, -1)\n",
        "print(df['target'].value_counts()) # 상승/하락 확률이 거의 동일해짐\n",
        "\n",
        "df['target'] = df['target'].shift(-1)\n",
        "df = df.dropna()\n",
        "len(df)\n",
        "\n",
        "df['target'] = df['target'].astype(np.int64)\n",
        "y_var = df['target']\n",
        "# 예측에 사용하지 않는 변수 삭제\n",
        "x_var = df.drop(['target', 'OPEN','HIGH','LOW', 'VOLUME','CLOSE_SPY'], axis=1) \n",
        "up=df[df['target']==1].target.count()\n",
        "total=df.target.count()\n",
        "print('up/down ratio: {0:.2f}'.format((up/total)))"
      ],
      "execution_count": 27,
      "outputs": [
        {
          "output_type": "stream",
          "text": [
            " 1    1375\n",
            "-1    1352\n",
            "Name: target, dtype: int64\n",
            "up/down ratio: 0.50\n"
          ],
          "name": "stdout"
        }
      ]
    },
    {
      "cell_type": "code",
      "metadata": {
        "colab": {
          "base_uri": "https://localhost:8080/"
        },
        "id": "sz6d7A-PCQdC",
        "outputId": "7df21de7-03e2-43dc-c7c3-2b6bbd54a075"
      },
      "source": [
        "#훈련 세트와 테스트 세트를 나눈다.\n",
        "#shuffle=False을 설정해 기간이 섞이지 않도록 만든다.\n",
        "X_train, X_test, y_train, y_test = train_test_split(x_var, \n",
        "                                                    y_var, \n",
        "                                                    test_size=0.3, \n",
        "                                                    shuffle=False, \n",
        "                                                    random_state=3)\n",
        "\n",
        "#훈련 세트와 테스트 세트에 포함된 양성 샘플(up) 비율을 확인한다.\n",
        "train_count = y_train.count()\n",
        "test_count = y_test.count()\n",
        "\n",
        "print('train set label ratio')\n",
        "print(y_train.value_counts()/train_count)\n",
        "print('test set label ratio')\n",
        "print(y_test.value_counts()/test_count)"
      ],
      "execution_count": 28,
      "outputs": [
        {
          "output_type": "stream",
          "text": [
            "train set label ratio\n",
            " 1    0.509958\n",
            "-1    0.490042\n",
            "Name: target, dtype: float64\n",
            "test set label ratio\n",
            "-1    0.508557\n",
            " 1    0.491443\n",
            "Name: target, dtype: float64\n"
          ],
          "name": "stdout"
        }
      ]
    },
    {
      "cell_type": "code",
      "metadata": {
        "colab": {
          "base_uri": "https://localhost:8080/"
        },
        "id": "JW8fOy5RCQfn",
        "outputId": "c6410cea-a7f1-43c8-d095-1d2fb327df08"
      },
      "source": [
        "xgb_dis = XGBClassifier(n_estimators=400, learning_rate=0.1, max_depth=3)\n",
        "xgb_dis.fit(X_train, y_train)\n",
        "xgb_pred = xgb_dis.predict(X_test)\n",
        "print(xgb_dis.score(X_train, y_train))\n",
        "get_confusion_matrix(y_test, xgb_pred)"
      ],
      "execution_count": 29,
      "outputs": [
        {
          "output_type": "stream",
          "text": [
            "0.8726415094339622\n",
            "confusion matrix\n",
            "accuracy:0.5012,precision:0.4920,recall:0.4602,F1:0.4756,ROC AUC score:0.5005\n"
          ],
          "name": "stdout"
        }
      ]
    },
    {
      "cell_type": "code",
      "metadata": {
        "id": "FzFHna6kCfx_"
      },
      "source": [
        "n_estimators = range(10,200,10)\n",
        "\n",
        "params = {\n",
        "    'bootstrap': [True],\n",
        "    'n_estimators':n_estimators,\n",
        "    'max_depth':[4,6,8,10,12],\n",
        "    'min_samples_leaf': [2, 3, 4, 5],\n",
        "    'min_samples_split': [2, 4, 6, 8, 10],\n",
        "    'max_features':[4]\n",
        "}\n",
        "\n",
        "my_cv = TimeSeriesSplit(n_splits=5).split(X_train)\n",
        "clf = GridSearchCV(RandomForestClassifier(), params, cv=my_cv, n_jobs=-1)"
      ],
      "execution_count": 30,
      "outputs": []
    },
    {
      "cell_type": "code",
      "metadata": {
        "id": "xOUSB5mwCkbB"
      },
      "source": [
        "start_time = time.time()\n",
        "clf.fit(X_train, y_train)\n",
        "print(time.time() - start_time,\" seconds consumed\")"
      ],
      "execution_count": null,
      "outputs": []
    },
    {
      "cell_type": "code",
      "metadata": {
        "id": "3JclX8-XCkds"
      },
      "source": [
        "## Random Forest에서 best param\n",
        "print('best parameter:\\n', clf.best_params_)\n",
        "print('best prediction:{0:.4f}'.format(clf.best_score_))\n",
        "\n",
        "pred_con = clf.predict(X_test)\n",
        "accuracy_con = accuracy_score(y_test, pred_con)\n",
        "print('accuracy:{0:.4f}'.format(accuracy_con))\n",
        "get_confusion_matrix(y_test, pred_con)"
      ],
      "execution_count": null,
      "outputs": []
    }
  ]
}