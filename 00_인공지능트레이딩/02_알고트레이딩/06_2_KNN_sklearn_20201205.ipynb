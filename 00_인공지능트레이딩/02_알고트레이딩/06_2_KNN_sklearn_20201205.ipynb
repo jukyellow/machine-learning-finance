{
  "nbformat": 4,
  "nbformat_minor": 0,
  "metadata": {
    "colab": {
      "name": "06_2_KNN_sklearn_20201205.ipynb",
      "provenance": [],
      "collapsed_sections": []
    },
    "kernelspec": {
      "name": "python3",
      "display_name": "Python 3"
    },
    "accelerator": "GPU"
  },
  "cells": [
    {
      "cell_type": "code",
      "metadata": {
        "id": "wbZ_ss4b0nc0"
      },
      "source": [
        "# https://github.com/jukyellow/algoTrade/blob/master/ch06/6.2%20KNN_ml%20st.ipynb\n",
        "# KNN(K-nearest neighbor) : 분류를 함에 있어서 어떠한 분포도 가정하지 않기 때문에, 비모수적방법(non-parametric method) 에 속한다.\n",
        "# Data : S&P 500 지수를 추종하는 ETF 상품?인 SPY를 사용"
      ],
      "execution_count": 1,
      "outputs": []
    },
    {
      "cell_type": "code",
      "metadata": {
        "id": "P1Z9xdX3zE5o"
      },
      "source": [
        "import numpy as np\n",
        "import pandas as pd\n",
        "\n",
        "import matplotlib.pyplot as plt\n",
        "from sklearn.neighbors import KNeighborsClassifier \n",
        "from sklearn.metrics import accuracy_score\n",
        "\n",
        "from pandas_datareader import data as pdr #Yahoo Finance으로부터 데이터를 불러오기 위한 패키지"
      ],
      "execution_count": 2,
      "outputs": []
    },
    {
      "cell_type": "code",
      "metadata": {
        "id": "oFT1pM8p0w7L"
      },
      "source": [
        "df = pdr.get_data_yahoo('SPY','2017-01-01','2020-12-01')"
      ],
      "execution_count": 20,
      "outputs": []
    },
    {
      "cell_type": "code",
      "metadata": {
        "colab": {
          "base_uri": "https://localhost:8080/",
          "height": 235
        },
        "id": "DFZiAmXu01Lz",
        "outputId": "81fe8c9f-596f-4753-890c-3b2e57f2f2b5"
      },
      "source": [
        "df = df.dropna()\n",
        "df.head()"
      ],
      "execution_count": 21,
      "outputs": [
        {
          "output_type": "execute_result",
          "data": {
            "text/html": [
              "<div>\n",
              "<style scoped>\n",
              "    .dataframe tbody tr th:only-of-type {\n",
              "        vertical-align: middle;\n",
              "    }\n",
              "\n",
              "    .dataframe tbody tr th {\n",
              "        vertical-align: top;\n",
              "    }\n",
              "\n",
              "    .dataframe thead th {\n",
              "        text-align: right;\n",
              "    }\n",
              "</style>\n",
              "<table border=\"1\" class=\"dataframe\">\n",
              "  <thead>\n",
              "    <tr style=\"text-align: right;\">\n",
              "      <th></th>\n",
              "      <th>High</th>\n",
              "      <th>Low</th>\n",
              "      <th>Open</th>\n",
              "      <th>Close</th>\n",
              "      <th>Volume</th>\n",
              "      <th>Adj Close</th>\n",
              "    </tr>\n",
              "    <tr>\n",
              "      <th>Date</th>\n",
              "      <th></th>\n",
              "      <th></th>\n",
              "      <th></th>\n",
              "      <th></th>\n",
              "      <th></th>\n",
              "      <th></th>\n",
              "    </tr>\n",
              "  </thead>\n",
              "  <tbody>\n",
              "    <tr>\n",
              "      <th>2017-01-03</th>\n",
              "      <td>225.830002</td>\n",
              "      <td>223.880005</td>\n",
              "      <td>225.039993</td>\n",
              "      <td>225.240005</td>\n",
              "      <td>91366500.0</td>\n",
              "      <td>209.785889</td>\n",
              "    </tr>\n",
              "    <tr>\n",
              "      <th>2017-01-04</th>\n",
              "      <td>226.750000</td>\n",
              "      <td>225.610001</td>\n",
              "      <td>225.619995</td>\n",
              "      <td>226.580002</td>\n",
              "      <td>78744400.0</td>\n",
              "      <td>211.033981</td>\n",
              "    </tr>\n",
              "    <tr>\n",
              "      <th>2017-01-05</th>\n",
              "      <td>226.580002</td>\n",
              "      <td>225.479996</td>\n",
              "      <td>226.270004</td>\n",
              "      <td>226.399994</td>\n",
              "      <td>78379000.0</td>\n",
              "      <td>210.866318</td>\n",
              "    </tr>\n",
              "    <tr>\n",
              "      <th>2017-01-06</th>\n",
              "      <td>227.750000</td>\n",
              "      <td>225.899994</td>\n",
              "      <td>226.529999</td>\n",
              "      <td>227.210007</td>\n",
              "      <td>71559900.0</td>\n",
              "      <td>211.620728</td>\n",
              "    </tr>\n",
              "    <tr>\n",
              "      <th>2017-01-09</th>\n",
              "      <td>227.070007</td>\n",
              "      <td>226.419998</td>\n",
              "      <td>226.910004</td>\n",
              "      <td>226.460007</td>\n",
              "      <td>46939700.0</td>\n",
              "      <td>210.922211</td>\n",
              "    </tr>\n",
              "  </tbody>\n",
              "</table>\n",
              "</div>"
            ],
            "text/plain": [
              "                  High         Low  ...      Volume   Adj Close\n",
              "Date                                ...                        \n",
              "2017-01-03  225.830002  223.880005  ...  91366500.0  209.785889\n",
              "2017-01-04  226.750000  225.610001  ...  78744400.0  211.033981\n",
              "2017-01-05  226.580002  225.479996  ...  78379000.0  210.866318\n",
              "2017-01-06  227.750000  225.899994  ...  71559900.0  211.620728\n",
              "2017-01-09  227.070007  226.419998  ...  46939700.0  210.922211\n",
              "\n",
              "[5 rows x 6 columns]"
            ]
          },
          "metadata": {
            "tags": []
          },
          "execution_count": 21
        }
      ]
    },
    {
      "cell_type": "code",
      "metadata": {
        "colab": {
          "base_uri": "https://localhost:8080/",
          "height": 235
        },
        "id": "nig2-RF10-Da",
        "outputId": "2f115903-fe85-4f08-c247-450507d7a633"
      },
      "source": [
        "df.tail()"
      ],
      "execution_count": 22,
      "outputs": [
        {
          "output_type": "execute_result",
          "data": {
            "text/html": [
              "<div>\n",
              "<style scoped>\n",
              "    .dataframe tbody tr th:only-of-type {\n",
              "        vertical-align: middle;\n",
              "    }\n",
              "\n",
              "    .dataframe tbody tr th {\n",
              "        vertical-align: top;\n",
              "    }\n",
              "\n",
              "    .dataframe thead th {\n",
              "        text-align: right;\n",
              "    }\n",
              "</style>\n",
              "<table border=\"1\" class=\"dataframe\">\n",
              "  <thead>\n",
              "    <tr style=\"text-align: right;\">\n",
              "      <th></th>\n",
              "      <th>High</th>\n",
              "      <th>Low</th>\n",
              "      <th>Open</th>\n",
              "      <th>Close</th>\n",
              "      <th>Volume</th>\n",
              "      <th>Adj Close</th>\n",
              "    </tr>\n",
              "    <tr>\n",
              "      <th>Date</th>\n",
              "      <th></th>\n",
              "      <th></th>\n",
              "      <th></th>\n",
              "      <th></th>\n",
              "      <th></th>\n",
              "      <th></th>\n",
              "    </tr>\n",
              "  </thead>\n",
              "  <tbody>\n",
              "    <tr>\n",
              "      <th>2020-11-24</th>\n",
              "      <td>363.809998</td>\n",
              "      <td>359.290009</td>\n",
              "      <td>360.209991</td>\n",
              "      <td>363.220001</td>\n",
              "      <td>62415900.0</td>\n",
              "      <td>363.220001</td>\n",
              "    </tr>\n",
              "    <tr>\n",
              "      <th>2020-11-25</th>\n",
              "      <td>363.160004</td>\n",
              "      <td>361.480011</td>\n",
              "      <td>363.130005</td>\n",
              "      <td>362.660004</td>\n",
              "      <td>45330900.0</td>\n",
              "      <td>362.660004</td>\n",
              "    </tr>\n",
              "    <tr>\n",
              "      <th>2020-11-27</th>\n",
              "      <td>364.179993</td>\n",
              "      <td>362.579987</td>\n",
              "      <td>363.839996</td>\n",
              "      <td>363.670013</td>\n",
              "      <td>28514100.0</td>\n",
              "      <td>363.670013</td>\n",
              "    </tr>\n",
              "    <tr>\n",
              "      <th>2020-11-30</th>\n",
              "      <td>363.119995</td>\n",
              "      <td>359.170013</td>\n",
              "      <td>362.829987</td>\n",
              "      <td>362.059998</td>\n",
              "      <td>83872700.0</td>\n",
              "      <td>362.059998</td>\n",
              "    </tr>\n",
              "    <tr>\n",
              "      <th>2020-12-01</th>\n",
              "      <td>367.679993</td>\n",
              "      <td>364.929993</td>\n",
              "      <td>365.570007</td>\n",
              "      <td>366.019989</td>\n",
              "      <td>74505000.0</td>\n",
              "      <td>366.019989</td>\n",
              "    </tr>\n",
              "  </tbody>\n",
              "</table>\n",
              "</div>"
            ],
            "text/plain": [
              "                  High         Low  ...      Volume   Adj Close\n",
              "Date                                ...                        \n",
              "2020-11-24  363.809998  359.290009  ...  62415900.0  363.220001\n",
              "2020-11-25  363.160004  361.480011  ...  45330900.0  362.660004\n",
              "2020-11-27  364.179993  362.579987  ...  28514100.0  363.670013\n",
              "2020-11-30  363.119995  359.170013  ...  83872700.0  362.059998\n",
              "2020-12-01  367.679993  364.929993  ...  74505000.0  366.019989\n",
              "\n",
              "[5 rows x 6 columns]"
            ]
          },
          "metadata": {
            "tags": []
          },
          "execution_count": 22
        }
      ]
    },
    {
      "cell_type": "code",
      "metadata": {
        "colab": {
          "base_uri": "https://localhost:8080/",
          "height": 235
        },
        "id": "a-k8hw9u0w93",
        "outputId": "ae02bbb8-cb5a-4b2d-90a0-7e6cc59acb2d"
      },
      "source": [
        "tmp_df = df[['Open','High','Low','Close']].copy()\n",
        "tmp_df.head()"
      ],
      "execution_count": 25,
      "outputs": [
        {
          "output_type": "execute_result",
          "data": {
            "text/html": [
              "<div>\n",
              "<style scoped>\n",
              "    .dataframe tbody tr th:only-of-type {\n",
              "        vertical-align: middle;\n",
              "    }\n",
              "\n",
              "    .dataframe tbody tr th {\n",
              "        vertical-align: top;\n",
              "    }\n",
              "\n",
              "    .dataframe thead th {\n",
              "        text-align: right;\n",
              "    }\n",
              "</style>\n",
              "<table border=\"1\" class=\"dataframe\">\n",
              "  <thead>\n",
              "    <tr style=\"text-align: right;\">\n",
              "      <th></th>\n",
              "      <th>Open</th>\n",
              "      <th>High</th>\n",
              "      <th>Low</th>\n",
              "      <th>Close</th>\n",
              "    </tr>\n",
              "    <tr>\n",
              "      <th>Date</th>\n",
              "      <th></th>\n",
              "      <th></th>\n",
              "      <th></th>\n",
              "      <th></th>\n",
              "    </tr>\n",
              "  </thead>\n",
              "  <tbody>\n",
              "    <tr>\n",
              "      <th>2017-01-03</th>\n",
              "      <td>225.039993</td>\n",
              "      <td>225.830002</td>\n",
              "      <td>223.880005</td>\n",
              "      <td>225.240005</td>\n",
              "    </tr>\n",
              "    <tr>\n",
              "      <th>2017-01-04</th>\n",
              "      <td>225.619995</td>\n",
              "      <td>226.750000</td>\n",
              "      <td>225.610001</td>\n",
              "      <td>226.580002</td>\n",
              "    </tr>\n",
              "    <tr>\n",
              "      <th>2017-01-05</th>\n",
              "      <td>226.270004</td>\n",
              "      <td>226.580002</td>\n",
              "      <td>225.479996</td>\n",
              "      <td>226.399994</td>\n",
              "    </tr>\n",
              "    <tr>\n",
              "      <th>2017-01-06</th>\n",
              "      <td>226.529999</td>\n",
              "      <td>227.750000</td>\n",
              "      <td>225.899994</td>\n",
              "      <td>227.210007</td>\n",
              "    </tr>\n",
              "    <tr>\n",
              "      <th>2017-01-09</th>\n",
              "      <td>226.910004</td>\n",
              "      <td>227.070007</td>\n",
              "      <td>226.419998</td>\n",
              "      <td>226.460007</td>\n",
              "    </tr>\n",
              "  </tbody>\n",
              "</table>\n",
              "</div>"
            ],
            "text/plain": [
              "                  Open        High         Low       Close\n",
              "Date                                                      \n",
              "2017-01-03  225.039993  225.830002  223.880005  225.240005\n",
              "2017-01-04  225.619995  226.750000  225.610001  226.580002\n",
              "2017-01-05  226.270004  226.580002  225.479996  226.399994\n",
              "2017-01-06  226.529999  227.750000  225.899994  227.210007\n",
              "2017-01-09  226.910004  227.070007  226.419998  226.460007"
            ]
          },
          "metadata": {
            "tags": []
          },
          "execution_count": 25
        }
      ]
    },
    {
      "cell_type": "code",
      "metadata": {
        "colab": {
          "base_uri": "https://localhost:8080/"
        },
        "id": "QNH-vgqO0xBL",
        "outputId": "82d4ee9c-2985-408f-acb2-cc0f9516e54f"
      },
      "source": [
        "tmp_df['Open-Close'] = tmp_df['Open'] - tmp_df['Close']\n",
        "tmp_df['High-Low'] = tmp_df['High'] - tmp_df['Low']\n",
        "tmp_df = tmp_df.dropna()\n",
        "X = tmp_df[['Open-Close','High-Low']]\n",
        "Y = np.where(tmp_df['Close'].shift(-1) > tmp_df['Open'].shift(-1), 1, -1)\n",
        "\n",
        "print(X.head())\n",
        "print(Y)"
      ],
      "execution_count": 26,
      "outputs": [
        {
          "output_type": "stream",
          "text": [
            "            Open-Close  High-Low\n",
            "Date                            \n",
            "2017-01-03   -0.200012  1.949997\n",
            "2017-01-04   -0.960007  1.139999\n",
            "2017-01-05   -0.129990  1.100006\n",
            "2017-01-06   -0.680008  1.850006\n",
            "2017-01-09    0.449997  0.650009\n",
            "[ 1  1  1 -1 -1  1  1  1 -1  1 -1  1 -1  1  1 -1 -1 -1  1  1  1  1  1 -1\n",
            "  1  1  1  1  1  1 -1  1  1  1 -1  1  1 -1  1 -1  1  1 -1 -1  1 -1  1 -1\n",
            "  1 -1 -1 -1 -1  1 -1 -1  1  1  1  1 -1 -1  1 -1  1  1 -1  1 -1 -1  1  1\n",
            " -1  1 -1 -1  1 -1 -1 -1 -1 -1 -1 -1  1 -1 -1  1  1 -1  1 -1 -1  1  1  1\n",
            "  1  1  1  1  1 -1  1  1  1 -1  1  1 -1  1  1 -1  1 -1  1 -1 -1 -1  1 -1\n",
            " -1  1 -1 -1 -1  1 -1  1  1 -1  1  1  1  1  1  1 -1  1  1 -1 -1 -1  1 -1\n",
            " -1 -1 -1 -1  1 -1  1 -1  1  1 -1 -1 -1 -1  1  1  1 -1 -1 -1  1  1  1 -1\n",
            " -1  1 -1  1  1  1  1  1  1  1 -1 -1 -1  1 -1 -1  1  1  1  1  1  1  1  1\n",
            " -1  1  1 -1 -1  1  1 -1  1  1 -1 -1 -1 -1  1  1 -1 -1  1  1  1 -1  1  1\n",
            "  1  1  1 -1  1 -1  1  1 -1  1 -1  1 -1  1 -1 -1 -1 -1 -1  1 -1 -1 -1 -1\n",
            "  1  1 -1 -1 -1 -1  1 -1 -1 -1  1  1  1  1  1  1  1  1  1 -1  1 -1  1  1\n",
            "  1 -1 -1  1 -1 -1 -1  1 -1 -1  1 -1 -1  1  1  1  1  1  1 -1 -1 -1  1  1\n",
            " -1 -1 -1  1  1 -1  1  1  1 -1 -1 -1 -1 -1 -1  1 -1 -1 -1  1 -1 -1  1 -1\n",
            "  1  1  1 -1 -1  1  1  1 -1  1  1 -1 -1 -1 -1 -1  1  1 -1 -1  1 -1  1  1\n",
            "  1  1  1  1  1 -1 -1  1  1 -1  1 -1  1 -1 -1 -1  1 -1  1  1  1  1 -1  1\n",
            "  1 -1 -1 -1  1  1  1 -1 -1 -1 -1 -1 -1  1 -1  1 -1  1  1  1  1 -1  1  1\n",
            " -1  1  1 -1 -1  1 -1  1  1 -1 -1  1 -1  1  1  1  1  1 -1 -1 -1  1 -1  1\n",
            "  1  1  1  1 -1  1  1 -1  1 -1  1 -1 -1 -1  1 -1  1  1  1 -1 -1  1  1  1\n",
            " -1 -1 -1 -1  1  1 -1 -1 -1 -1 -1  1  1 -1 -1 -1 -1  1  1 -1 -1 -1  1 -1\n",
            "  1 -1 -1  1 -1  1 -1  1  1  1  1 -1 -1 -1 -1  1  1 -1 -1 -1  1  1  1  1\n",
            "  1  1 -1 -1  1 -1  1 -1 -1 -1 -1 -1 -1 -1 -1 -1 -1  1  1 -1  1  1 -1  1\n",
            "  1 -1  1  1  1  1  1  1  1  1 -1 -1  1  1  1 -1  1  1 -1  1  1 -1 -1  1\n",
            " -1  1 -1  1  1  1  1 -1  1 -1  1  1 -1 -1 -1 -1 -1 -1  1  1  1  1 -1  1\n",
            "  1 -1 -1  1 -1  1  1 -1  1  1  1 -1 -1  1  1  1 -1  1 -1  1 -1 -1 -1 -1\n",
            "  1  1 -1 -1  1  1  1 -1 -1  1  1 -1 -1  1  1 -1  1  1  1  1 -1  1  1 -1\n",
            " -1 -1 -1 -1 -1 -1  1  1  1  1 -1 -1 -1  1 -1 -1  1  1 -1 -1 -1 -1 -1  1\n",
            "  1 -1  1  1  1 -1  1  1 -1  1 -1 -1 -1  1 -1  1  1  1 -1  1 -1  1 -1 -1\n",
            " -1 -1  1  1  1 -1 -1  1 -1 -1  1  1 -1 -1 -1 -1  1 -1  1  1 -1  1  1  1\n",
            " -1 -1  1  1  1 -1  1  1  1 -1 -1  1 -1  1 -1 -1  1 -1 -1  1  1 -1 -1  1\n",
            "  1  1  1  1  1 -1 -1  1 -1  1 -1  1  1  1  1 -1  1 -1 -1  1 -1  1  1  1\n",
            "  1  1  1  1 -1 -1 -1 -1  1  1  1 -1 -1  1  1 -1  1 -1 -1  1  1  1  1 -1\n",
            " -1  1  1 -1 -1  1 -1 -1  1  1  1  1 -1  1  1 -1  1 -1  1  1  1  1 -1  1\n",
            " -1  1  1 -1  1 -1  1  1  1  1 -1  1 -1  1  1  1  1  1 -1 -1 -1 -1 -1 -1\n",
            "  1  1 -1  1 -1  1 -1  1 -1 -1  1 -1  1  1  1 -1 -1  1  1  1  1  1 -1 -1\n",
            "  1 -1  1 -1  1  1 -1  1  1 -1  1 -1 -1  1 -1  1  1 -1  1 -1 -1  1 -1 -1\n",
            " -1  1  1 -1 -1  1  1  1 -1  1 -1  1 -1  1 -1  1  1  1  1  1  1  1  1 -1\n",
            " -1 -1  1 -1 -1  1 -1  1 -1 -1  1 -1  1  1  1 -1  1 -1  1 -1  1 -1  1 -1\n",
            "  1 -1  1 -1  1 -1 -1  1 -1  1  1  1  1  1  1  1  1  1 -1  1  1  1 -1  1\n",
            " -1  1  1  1  1  1 -1  1 -1  1  1 -1 -1 -1  1 -1 -1  1 -1 -1  1 -1  1  1\n",
            " -1  1  1  1 -1  1 -1  1  1 -1  1  1  1  1 -1 -1  1 -1 -1 -1 -1  1 -1 -1\n",
            " -1 -1  1 -1 -1  1  1  1  1 -1  1  1 -1  1  1  1 -1  1 -1  1  1 -1 -1 -1\n",
            "  1 -1]\n"
          ],
          "name": "stdout"
        }
      ]
    },
    {
      "cell_type": "code",
      "metadata": {
        "id": "Yqo-N83J1dFT"
      },
      "source": [
        "x_min, x_max = X['Open-Close'].min() - .5, X['Open-Close'].max() + .5\n",
        "y_min, y_max = X['High-Low'].min() - .5, X['High-Low'].max() + .5"
      ],
      "execution_count": 27,
      "outputs": []
    },
    {
      "cell_type": "code",
      "metadata": {
        "colab": {
          "base_uri": "https://localhost:8080/",
          "height": 279
        },
        "id": "NecooYAd1dI0",
        "outputId": "b345b8b0-f1f6-4e15-f095-4831cf80eb1f"
      },
      "source": [
        "plt.scatter(X['Open-Close'], X['High-Low'], c=Y, cmap=plt.cm.Set1, edgecolor='k')\n",
        "plt.xlabel('Open-Close')\n",
        "plt.ylabel('High-Low')\n",
        "plt.xlim(x_min, x_max)\n",
        "plt.ylim(y_min, y_max)\n",
        "plt.show()"
      ],
      "execution_count": 28,
      "outputs": [
        {
          "output_type": "display_data",
          "data": {
            "image/png": "[encoded data removed]",
            "text/plain": [
              "<Figure size 432x288 with 1 Axes>"
            ]
          },
          "metadata": {
            "tags": [],
            "needs_background": "light"
          }
        }
      ]
    },
    {
      "cell_type": "code",
      "metadata": {
        "id": "5utesXdu1dMZ"
      },
      "source": [
        "# 학습 데이터와 테스트 데이터를 분할한다\n",
        "split_ratio = 0.7\n",
        "split = int(split_ratio* len(tmp_df))\n",
        "X_train = X[:split]\n",
        "Y_train = Y[:split]\n",
        "\n",
        "X_test = X[split:]\n",
        "Y_test = Y[split:]"
      ],
      "execution_count": 29,
      "outputs": []
    },
    {
      "cell_type": "code",
      "metadata": {
        "id": "NvgtuXJf1vms"
      },
      "source": [
        "#for 반복문을 통해 1~15까지의 k값을 가진 모델을 만들어 본다\n",
        "train_acc = []\n",
        "test_acc = []\n",
        "\n",
        "for n in range(1,15):\n",
        "    clf = KNeighborsClassifier(n_jobs=-1, n_neighbors=n)\n",
        "    clf.fit(X_train, Y_train)\n",
        "    prediction = clf.predict(X_test)\n",
        "    train_acc.append(clf.score(X_train, Y_train))\n",
        "    test_acc.append((prediction==Y_test).mean())"
      ],
      "execution_count": 30,
      "outputs": []
    },
    {
      "cell_type": "code",
      "metadata": {
        "colab": {
          "base_uri": "https://localhost:8080/",
          "height": 570
        },
        "id": "K7guL2RY1vsn",
        "outputId": "e7fc2205-4c89-45ae-f762-009be3a08a74"
      },
      "source": [
        "# 위에서 만든 결과를 그래프로 만들어 준다\n",
        "plt.figure(figsize=(12, 9))\n",
        "plt.plot(range(1, 15), train_acc, label='TRAIN set')\n",
        "plt.plot(range(1, 15), test_acc, label='TEST set')\n",
        "plt.xlabel(\"n_neighbors\")\n",
        "plt.ylabel(\"accuracy\")\n",
        "plt.xticks(np.arange(0, 16, step=1))\n",
        "plt.legend()"
      ],
      "execution_count": 31,
      "outputs": [
        {
          "output_type": "execute_result",
          "data": {
            "text/plain": [
              "<matplotlib.legend.Legend at 0x7fa3136cd518>"
            ]
          },
          "metadata": {
            "tags": []
          },
          "execution_count": 31
        },
        {
          "output_type": "display_data",
          "data": {
            "image/png": "[encoded data removed]",
            "text/plain": [
              "<Figure size 864x648 with 1 Axes>"
            ]
          },
          "metadata": {
            "tags": [],
            "needs_background": "light"
          }
        }
      ]
    },
    {
      "cell_type": "code",
      "metadata": {
        "colab": {
          "base_uri": "https://localhost:8080/"
        },
        "id": "AAyDTI_-1_8N",
        "outputId": "9b91f798-bf7a-4b50-dd7d-be87374e34ca"
      },
      "source": [
        "knn = KNeighborsClassifier(n_neighbors = 7) # 7일때가 가장 테스트 성능이 높았음!\n",
        "\n",
        "knn.fit(X_train,Y_train)\n",
        "\n",
        "accuracy_train = accuracy_score(Y_train, knn.predict(X_train))\n",
        "accuracy_test = accuracy_score(Y_test, knn.predict(X_test))\n",
        "\n",
        "print('훈련 정확도 : %.2f' % accuracy_train)\n",
        "print('테스트 정확도 : %.2f' % accuracy_test)"
      ],
      "execution_count": 33,
      "outputs": [
        {
          "output_type": "stream",
          "text": [
            "훈련 정확도 : 0.69\n",
            "테스트 정확도 : 0.51\n"
          ],
          "name": "stdout"
        }
      ]
    },
    {
      "cell_type": "markdown",
      "metadata": {
        "id": "C0SRbGsc2gpz"
      },
      "source": [
        "# KNN 모델을 활용한 간단한 투자전략 만들기\n",
        "* KNN 모델\n",
        "1 이라고 예측하면 매수,\n",
        "-1 이라고 예측하면 공매도"
      ]
    },
    {
      "cell_type": "code",
      "metadata": {
        "colab": {
          "base_uri": "https://localhost:8080/",
          "height": 374
        },
        "id": "7Dga9-f02UwE",
        "outputId": "538fd4c5-d88f-49c3-ddeb-017900a55068"
      },
      "source": [
        "tmp_df['Predicted_Signal'] = knn.predict(X)\n",
        "\n",
        "tmp_df['SPY_ret'] = np.log(tmp_df['Close'] / tmp_df['Open'])\n",
        "cum_spy_ret = tmp_df[split:]['SPY_ret'].cumsum() * 100\n",
        "\n",
        "tmp_df['strategy_ret'] = tmp_df['SPY_ret'] * tmp_df['Predicted_Signal'].shift(1)\n",
        "cum_st_ret = tmp_df[split:]['strategy_ret'].cumsum() * 100\n",
        "\n",
        "plt.figure(figsize=(12,6))\n",
        "plt.plot(cum_spy_ret, color='b',label='spy ret')\n",
        "plt.plot(cum_st_ret , color='r', label='strategy ret')\n",
        "plt.legend()\n",
        "plt.show()\n",
        "\n",
        "# 바이앤홀드 전략을 구사했을 경우의, 시그널에 따라 매매했을 경우의 수익률 그래프..."
      ],
      "execution_count": 34,
      "outputs": [
        {
          "output_type": "display_data",
          "data": {
            "image/png": "[encoded data removed]",
            "text/plain": [
              "<Figure size 864x432 with 1 Axes>"
            ]
          },
          "metadata": {
            "tags": [],
            "needs_background": "light"
          }
        }
      ]
    },
    {
      "cell_type": "code",
      "metadata": {
        "colab": {
          "base_uri": "https://localhost:8080/"
        },
        "id": "-xtgsVse2Uyc",
        "outputId": "322eb2b6-7184-476d-d98c-f1f9707437be"
      },
      "source": [
        "print('TOTAL : ',tmp_df['Predicted_Signal'].count())\n",
        "print('UP predict : ',tmp_df.loc[tmp_df['Predicted_Signal'] == 1,['Predicted_Signal']].count()[0])\n",
        "print('DOWN predict : ',tmp_df.loc[tmp_df['Predicted_Signal'] == -1,['Predicted_Signal']].count()[0])"
      ],
      "execution_count": 35,
      "outputs": [
        {
          "output_type": "stream",
          "text": [
            "TOTAL :  986\n",
            "UP predict :  526\n",
            "DOWN predict :  460\n"
          ],
          "name": "stdout"
        }
      ]
    },
    {
      "cell_type": "code",
      "metadata": {
        "colab": {
          "base_uri": "https://localhost:8080/"
        },
        "id": "aU9rQW-K2U0k",
        "outputId": "cf6cb2d7-9f8f-4f74-c718-2f5524fea37d"
      },
      "source": [
        "test = tmp_df[split:]['SPY_ret']\n",
        "test.cumsum()"
      ],
      "execution_count": 17,
      "outputs": [
        {
          "output_type": "execute_result",
          "data": {
            "text/plain": [
              "Date\n",
              "2018-04-02   -0.019538\n",
              "2018-04-03   -0.012226\n",
              "2018-04-04    0.013953\n",
              "2018-04-05    0.014292\n",
              "2018-04-06    0.000146\n",
              "                ...   \n",
              "2020-11-24    0.026353\n",
              "2020-11-25    0.025058\n",
              "2020-11-27    0.024591\n",
              "2020-11-30    0.022466\n",
              "2020-12-01    0.023697\n",
              "Name: SPY_ret, Length: 674, dtype: float64"
            ]
          },
          "metadata": {
            "tags": []
          },
          "execution_count": 17
        }
      ]
    },
    {
      "cell_type": "code",
      "metadata": {
        "colab": {
          "base_uri": "https://localhost:8080/"
        },
        "id": "z3kpTDJG2U3L",
        "outputId": "e3aa9ae1-05b9-495d-92ef-9653923e131d"
      },
      "source": [
        "# 샤프지수\n",
        "std = cum_st_ret.std()\n",
        "sharpe = (cum_st_ret - cum_spy_ret) / std\n",
        "sharpe = sharpe.mean()\n",
        "print('Sharpe ratio : %.2f' % sharpe)\n",
        "\n",
        "# 추세나, 계절성이 있다면 KNN은 잘 포착하지 못함, 사전에 추세나 계절성을 분해한다면 더 좋을 결과가 나올것."
      ],
      "execution_count": 18,
      "outputs": [
        {
          "output_type": "stream",
          "text": [
            "Sharpe ratio : 1.44\n"
          ],
          "name": "stdout"
        }
      ]
    },
    {
      "cell_type": "code",
      "metadata": {
        "colab": {
          "base_uri": "https://localhost:8080/"
        },
        "id": "V5V2K8Nc22La",
        "outputId": "d8d189ba-11ff-4913-b592-91ebed253e20"
      },
      "source": [
        "cum_spy_ret\n",
        "#참고: https://blog.quantinsti.com/machine-learning-k-nearest-neighbors-knn-algorithm-python/ 참고"
      ],
      "execution_count": 19,
      "outputs": [
        {
          "output_type": "execute_result",
          "data": {
            "text/plain": [
              "Date\n",
              "2018-04-02   -1.953828\n",
              "2018-04-03   -1.222552\n",
              "2018-04-04    1.395267\n",
              "2018-04-05    1.429163\n",
              "2018-04-06    0.014600\n",
              "                ...   \n",
              "2020-11-24    2.635337\n",
              "2020-11-25    2.505823\n",
              "2020-11-27    2.459093\n",
              "2020-11-30    2.246650\n",
              "2020-12-01    2.369665\n",
              "Name: SPY_ret, Length: 674, dtype: float64"
            ]
          },
          "metadata": {
            "tags": []
          },
          "execution_count": 19
        }
      ]
    }
  ]
}