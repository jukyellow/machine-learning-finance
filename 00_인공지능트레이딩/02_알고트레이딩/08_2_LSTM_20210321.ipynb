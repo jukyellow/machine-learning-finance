{
  "nbformat": 4,
  "nbformat_minor": 0,
  "metadata": {
    "colab": {
      "name": "08_2_RNN_20210321.ipynb",
      "provenance": [],
      "collapsed_sections": []
    },
    "kernelspec": {
      "name": "python3",
      "display_name": "Python 3"
    },
    "language_info": {
      "name": "python"
    },
    "accelerator": "GPU"
  },
  "cells": [
    {
      "cell_type": "code",
      "metadata": {
        "id": "BNX4dd2O279a"
      },
      "source": [
        "# https://github.com/jukyellow/algoTrade/tree/master/ch08/8.2%20RNN%EC%9D%84%20%ED%99%9C%EC%9A%A9%ED%95%9C%20%EC%A3%BC%EA%B0%80%20%EB%B0%A9%ED%96%A5%EC%84%B1%20%EB%B6%84%EB%A5%98%20%EC%98%88%EC%B8%A1\n"
      ],
      "execution_count": 1,
      "outputs": []
    },
    {
      "cell_type": "code",
      "metadata": {
        "id": "ZiJqFA3v8F8i"
      },
      "source": [
        "# 모델링에서 사용한 변수\n",
        "# 1. 가격 데이터: 시가/고가/저가/거래량/로그수익률 등\n",
        "# 2. 기술지표 데이터: 이동평균/이동표준편차(5,10일), 볼린저밴드, ATR(주식의 변동성 측정값), 1개월모멘텀(한달전가격과 현재의 가격차이), CCI(사이클트렌드오실레이터),3개월모멘텀 변동비율,MACD(모멘텀트렌드지표), 매수/매도스트레스측정\n",
        "# 3. 시장데이터: S&P 500, 반도체(SOX)지수, 변동성지수(VIX)"
      ],
      "execution_count": 2,
      "outputs": []
    },
    {
      "cell_type": "code",
      "metadata": {
        "id": "hqZGICO-8F-u"
      },
      "source": [
        "#  절차\n",
        "# 1. Raw데이터 불러오기\n",
        "# 2. 데이터 가공 및 결합하기\n",
        "# 3. 훈련,검증,테스트 데이터넷 분리하기\n",
        "# 4. 학습에 용이하도록 데이터 정규화\n",
        "# 5. 특성데이터/레이블 데이터 나누기"
      ],
      "execution_count": 3,
      "outputs": []
    },
    {
      "cell_type": "code",
      "metadata": {
        "colab": {
          "base_uri": "https://localhost:8080/"
        },
        "id": "56ksMXryCHgR",
        "outputId": "e25209cc-a506-4c0f-e8f9-097438ee98ee"
      },
      "source": [
        "# https://github.com/tensortrade-org/tensortrade/issues/38\n",
        "# !wget http://prdownloads.sourceforge.net/ta-lib/ta-lib-0.4.0-src.tar.gz\n",
        "# !tar -xzvf ta-lib-0.4.0-src.tar.gz\n",
        "# %cd ta-lib\n",
        "# !./configure --prefix=/usr\n",
        "# !make\n",
        "# !make install\n",
        "# !pip install Ta-Lib\n",
        "\n",
        "# (2020) https://stackoverflow.com/questions/49648391/how-to-install-ta-lib-in-google-colab\n",
        "url = 'https://launchpad.net/~mario-mariomedina/+archive/ubuntu/talib/+files'\n",
        "!wget $url/libta-lib0_0.4.0-oneiric1_amd64.deb -qO libta.deb\n",
        "!wget $url/ta-lib0-dev_0.4.0-oneiric1_amd64.deb -qO ta.deb\n",
        "!dpkg -i libta.deb ta.deb\n",
        "!pip install ta-lib\n",
        "import talib"
      ],
      "execution_count": 4,
      "outputs": [
        {
          "output_type": "stream",
          "text": [
            "(Reading database ... \r(Reading database ... 5%\r(Reading database ... 10%\r(Reading database ... 15%\r(Reading database ... 20%\r(Reading database ... 25%\r(Reading database ... 30%\r(Reading database ... 35%\r(Reading database ... 40%\r(Reading database ... 45%\r(Reading database ... 50%\r(Reading database ... 55%\r(Reading database ... 60%\r(Reading database ... 65%\r(Reading database ... 70%\r(Reading database ... 75%\r(Reading database ... 80%\r(Reading database ... 85%\r(Reading database ... 90%\r(Reading database ... 95%\r(Reading database ... 100%\r(Reading database ... 161006 files and directories currently installed.)\n",
            "Preparing to unpack libta.deb ...\n",
            "Unpacking libta-lib0 (0.4.0-oneiric1) over (0.4.0-oneiric1) ...\n",
            "Preparing to unpack ta.deb ...\n",
            "Unpacking ta-lib0-dev (0.4.0-oneiric1) over (0.4.0-oneiric1) ...\n",
            "Setting up libta-lib0 (0.4.0-oneiric1) ...\n",
            "Setting up ta-lib0-dev (0.4.0-oneiric1) ...\n",
            "Processing triggers for man-db (2.8.3-2ubuntu0.1) ...\n",
            "Processing triggers for libc-bin (2.27-3ubuntu1.2) ...\n",
            "/sbin/ldconfig.real: /usr/local/lib/python3.7/dist-packages/ideep4py/lib/libmkldnn.so.0 is not a symbolic link\n",
            "\n",
            "Requirement already satisfied: ta-lib in /usr/local/lib/python3.7/dist-packages (0.4.19)\n",
            "Requirement already satisfied: numpy in /usr/local/lib/python3.7/dist-packages (from ta-lib) (1.19.5)\n"
          ],
          "name": "stdout"
        }
      ]
    },
    {
      "cell_type": "code",
      "metadata": {
        "id": "dwuy1cKd8GE5"
      },
      "source": [
        "import pandas as pd \n",
        "import pandas_datareader as pdr\n",
        "import talib \n",
        "import matplotlib.pyplot as plt\n",
        "import numpy as np\n",
        "import scipy.stats as stats\n",
        "import math\n",
        "from sklearn.preprocessing import MinMaxScaler\n",
        "\n",
        "import numpy as np\n",
        "import tensorflow as tf\n",
        "import random as python_random\n",
        "\n",
        "seed_number = 7\n",
        "np.random.seed(seed_number)\n",
        "python_random.seed(seed_number)\n",
        "#tf.set_random_seed(seed_number) # v1\n",
        "tf.random.set_seed(seed_number) # v2"
      ],
      "execution_count": 5,
      "outputs": []
    },
    {
      "cell_type": "code",
      "metadata": {
        "id": "O5z9kaPVBAeL"
      },
      "source": [
        "# import pandas as pd\n",
        "# import pandas_datareader as pdr\n",
        "# intc_df = pdr.get_data_yahoo('INC', start='2000-01-01')\n",
        "# sox_df = pdr.get_data_yahoo('^SOX', start='2000-01-01')\n",
        "# vix_df = pdr.get_data_yahoo('^VIX', start='2000-01-01')\n",
        "# snp500_df = pdr.get_data_yahoo('^GSPC', start='2000-01-01')\n",
        "# intc_df.to_csv('intc.csv')\n",
        "# sox_df.to_csv('sox.csv')\n",
        "# vix_df.to_csv('vix.csv')\n",
        "# snp500_df.to_csv('s&p500.csv')\n",
        "\n",
        "# data Load\n",
        "df = pd.read_csv('/content/intc.csv', index_col='Date', parse_dates=True)\n",
        "sox_df = pd.read_csv('/content/sox_df.csv', index_col='Date', parse_dates=True)\n",
        "vix_df = pd.read_csv('/content/vix_df.csv', index_col='Date', parse_dates=True)\n",
        "snp500_df = pd.read_csv('/content/s&p500.csv', index_col='Date', parse_dates=True)"
      ],
      "execution_count": 6,
      "outputs": []
    },
    {
      "cell_type": "code",
      "metadata": {
        "colab": {
          "base_uri": "https://localhost:8080/",
          "height": 357
        },
        "id": "3mIAovoeEGMq",
        "outputId": "fa766007-755c-4b03-c6a6-51af44237085"
      },
      "source": [
        "# 기술지표 추출\n",
        "# data Feature\n",
        "df['next_price'] = df['Adj Close'].shift(-1) # 다음날 수익률 예측: 다음날 시가와 종가간의 수정종가를 하루 미뤄줌\n",
        "df['next_rtn'] = df['Close'] / df['Open'] -1\n",
        "df['log_return'] = np.log(1 + df['Adj Close'].pct_change())\n",
        "df['CCI'] = talib.CCI(df['High'], df['Low'], df['Adj Close'], timeperiod=14)\n",
        "\n",
        "#1.RA(이동평균션) : Standard deviation rolling average\n",
        "# Moving Average\n",
        "df['MA5'] = talib.SMA(df['Close'],timeperiod=5)\n",
        "df['MA10'] = talib.SMA(df['Close'],timeperiod=10)\n",
        "df['RASD5'] = talib.SMA(talib.STDDEV(df['Close'], timeperiod=5, nbdev=1),timeperiod=5)\n",
        "df['RASD10'] = talib.SMA(talib.STDDEV(df['Close'], timeperiod=5, nbdev=1),timeperiod=10)\n",
        "\n",
        "#2.MACD : Moving Average Convergence/Divergence\n",
        "macd, macdsignal, macdhist = talib.MACD(df['Close'], fastperiod=12, slowperiod=26, signalperiod=9)\n",
        "df['MACD'] = macd \n",
        "\n",
        "# Momentum(모멘텀) Indicators\n",
        "#3.CCI : Commodity Channel Index\n",
        "df['CCI'] = talib.CCI(df['High'], df['Low'], df['Close'], timeperiod=14)\n",
        "# Volatility Indicators \n",
        "\n",
        "#4.ATR(변동성) : Average True Range\n",
        "df['ATR'] = talib.ATR(df['High'], df['Low'], df['Close'], timeperiod=14)\n",
        "\n",
        "#5.BOLL(볼린저 밴드) : Bollinger Band\n",
        "upper, middle, lower = talib.BBANDS(df['Close'],timeperiod=20,nbdevup=2,nbdevdn=2,matype=0)\n",
        "df['ub'] = upper\n",
        "df['middle'] = middle\n",
        "df['lb'] = lower\n",
        "\n",
        "#7.MTM1 \n",
        "df['MTM1'] = talib.MOM(df['Close'], timeperiod=1)\n",
        "\n",
        "#7.MTM3\n",
        "df['MTM3'] = talib.MOM(df['Close'], timeperiod=3)\n",
        "\n",
        "#8.ROC : Rate of change : ((price/prevPrice)-1)*100\n",
        "df['ROC'] = talib.ROC(df['Close'], timeperiod=60)\n",
        "\n",
        "#9.WPR : william percent range (Williams' %R)\n",
        "df['WPR'] = talib.WILLR(df['High'], df['Low'], df['Close'], timeperiod=14)\n",
        "\n",
        "df.head()"
      ],
      "execution_count": 7,
      "outputs": [
        {
          "output_type": "execute_result",
          "data": {
            "text/html": [
              "<div>\n",
              "<style scoped>\n",
              "    .dataframe tbody tr th:only-of-type {\n",
              "        vertical-align: middle;\n",
              "    }\n",
              "\n",
              "    .dataframe tbody tr th {\n",
              "        vertical-align: top;\n",
              "    }\n",
              "\n",
              "    .dataframe thead th {\n",
              "        text-align: right;\n",
              "    }\n",
              "</style>\n",
              "<table border=\"1\" class=\"dataframe\">\n",
              "  <thead>\n",
              "    <tr style=\"text-align: right;\">\n",
              "      <th></th>\n",
              "      <th>High</th>\n",
              "      <th>Low</th>\n",
              "      <th>Open</th>\n",
              "      <th>Close</th>\n",
              "      <th>Volume</th>\n",
              "      <th>Adj Close</th>\n",
              "      <th>next_price</th>\n",
              "      <th>next_rtn</th>\n",
              "      <th>log_return</th>\n",
              "      <th>CCI</th>\n",
              "      <th>MA5</th>\n",
              "      <th>MA10</th>\n",
              "      <th>RASD5</th>\n",
              "      <th>RASD10</th>\n",
              "      <th>MACD</th>\n",
              "      <th>ATR</th>\n",
              "      <th>ub</th>\n",
              "      <th>middle</th>\n",
              "      <th>lb</th>\n",
              "      <th>MTM1</th>\n",
              "      <th>MTM3</th>\n",
              "      <th>ROC</th>\n",
              "      <th>WPR</th>\n",
              "    </tr>\n",
              "    <tr>\n",
              "      <th>Date</th>\n",
              "      <th></th>\n",
              "      <th></th>\n",
              "      <th></th>\n",
              "      <th></th>\n",
              "      <th></th>\n",
              "      <th></th>\n",
              "      <th></th>\n",
              "      <th></th>\n",
              "      <th></th>\n",
              "      <th></th>\n",
              "      <th></th>\n",
              "      <th></th>\n",
              "      <th></th>\n",
              "      <th></th>\n",
              "      <th></th>\n",
              "      <th></th>\n",
              "      <th></th>\n",
              "      <th></th>\n",
              "      <th></th>\n",
              "      <th></th>\n",
              "      <th></th>\n",
              "      <th></th>\n",
              "      <th></th>\n",
              "    </tr>\n",
              "  </thead>\n",
              "  <tbody>\n",
              "    <tr>\n",
              "      <th>1999-12-31</th>\n",
              "      <td>41.9375</td>\n",
              "      <td>40.96875</td>\n",
              "      <td>41.906250</td>\n",
              "      <td>41.15625</td>\n",
              "      <td>11572000.0</td>\n",
              "      <td>26.504349</td>\n",
              "      <td>28.013699</td>\n",
              "      <td>-0.017897</td>\n",
              "      <td>NaN</td>\n",
              "      <td>NaN</td>\n",
              "      <td>NaN</td>\n",
              "      <td>NaN</td>\n",
              "      <td>NaN</td>\n",
              "      <td>NaN</td>\n",
              "      <td>NaN</td>\n",
              "      <td>NaN</td>\n",
              "      <td>NaN</td>\n",
              "      <td>NaN</td>\n",
              "      <td>NaN</td>\n",
              "      <td>NaN</td>\n",
              "      <td>NaN</td>\n",
              "      <td>NaN</td>\n",
              "      <td>NaN</td>\n",
              "    </tr>\n",
              "    <tr>\n",
              "      <th>2000-01-03</th>\n",
              "      <td>43.6875</td>\n",
              "      <td>41.62500</td>\n",
              "      <td>41.632812</td>\n",
              "      <td>43.50000</td>\n",
              "      <td>57710200.0</td>\n",
              "      <td>28.013699</td>\n",
              "      <td>26.705585</td>\n",
              "      <td>0.044849</td>\n",
              "      <td>0.055385</td>\n",
              "      <td>NaN</td>\n",
              "      <td>NaN</td>\n",
              "      <td>NaN</td>\n",
              "      <td>NaN</td>\n",
              "      <td>NaN</td>\n",
              "      <td>NaN</td>\n",
              "      <td>NaN</td>\n",
              "      <td>NaN</td>\n",
              "      <td>NaN</td>\n",
              "      <td>NaN</td>\n",
              "      <td>2.34375</td>\n",
              "      <td>NaN</td>\n",
              "      <td>NaN</td>\n",
              "      <td>NaN</td>\n",
              "    </tr>\n",
              "    <tr>\n",
              "      <th>2000-01-04</th>\n",
              "      <td>43.9375</td>\n",
              "      <td>41.12500</td>\n",
              "      <td>42.718750</td>\n",
              "      <td>41.46875</td>\n",
              "      <td>51019600.0</td>\n",
              "      <td>26.705585</td>\n",
              "      <td>26.926966</td>\n",
              "      <td>-0.029261</td>\n",
              "      <td>-0.047821</td>\n",
              "      <td>NaN</td>\n",
              "      <td>NaN</td>\n",
              "      <td>NaN</td>\n",
              "      <td>NaN</td>\n",
              "      <td>NaN</td>\n",
              "      <td>NaN</td>\n",
              "      <td>NaN</td>\n",
              "      <td>NaN</td>\n",
              "      <td>NaN</td>\n",
              "      <td>NaN</td>\n",
              "      <td>-2.03125</td>\n",
              "      <td>NaN</td>\n",
              "      <td>NaN</td>\n",
              "      <td>NaN</td>\n",
              "    </tr>\n",
              "    <tr>\n",
              "      <th>2000-01-05</th>\n",
              "      <td>42.9375</td>\n",
              "      <td>40.25000</td>\n",
              "      <td>41.500000</td>\n",
              "      <td>41.81250</td>\n",
              "      <td>52389000.0</td>\n",
              "      <td>26.926966</td>\n",
              "      <td>25.357227</td>\n",
              "      <td>0.007530</td>\n",
              "      <td>0.008255</td>\n",
              "      <td>NaN</td>\n",
              "      <td>NaN</td>\n",
              "      <td>NaN</td>\n",
              "      <td>NaN</td>\n",
              "      <td>NaN</td>\n",
              "      <td>NaN</td>\n",
              "      <td>NaN</td>\n",
              "      <td>NaN</td>\n",
              "      <td>NaN</td>\n",
              "      <td>NaN</td>\n",
              "      <td>0.34375</td>\n",
              "      <td>0.65625</td>\n",
              "      <td>NaN</td>\n",
              "      <td>NaN</td>\n",
              "    </tr>\n",
              "    <tr>\n",
              "      <th>2000-01-06</th>\n",
              "      <td>41.6875</td>\n",
              "      <td>39.09375</td>\n",
              "      <td>40.875000</td>\n",
              "      <td>39.37500</td>\n",
              "      <td>55171200.0</td>\n",
              "      <td>25.357227</td>\n",
              "      <td>26.403713</td>\n",
              "      <td>-0.036697</td>\n",
              "      <td>-0.060064</td>\n",
              "      <td>NaN</td>\n",
              "      <td>41.4625</td>\n",
              "      <td>NaN</td>\n",
              "      <td>NaN</td>\n",
              "      <td>NaN</td>\n",
              "      <td>NaN</td>\n",
              "      <td>NaN</td>\n",
              "      <td>NaN</td>\n",
              "      <td>NaN</td>\n",
              "      <td>NaN</td>\n",
              "      <td>-2.43750</td>\n",
              "      <td>-4.12500</td>\n",
              "      <td>NaN</td>\n",
              "      <td>NaN</td>\n",
              "    </tr>\n",
              "  </tbody>\n",
              "</table>\n",
              "</div>"
            ],
            "text/plain": [
              "               High       Low       Open     Close  ...     MTM1     MTM3  ROC  WPR\n",
              "Date                                                ...                            \n",
              "1999-12-31  41.9375  40.96875  41.906250  41.15625  ...      NaN      NaN  NaN  NaN\n",
              "2000-01-03  43.6875  41.62500  41.632812  43.50000  ...  2.34375      NaN  NaN  NaN\n",
              "2000-01-04  43.9375  41.12500  42.718750  41.46875  ... -2.03125      NaN  NaN  NaN\n",
              "2000-01-05  42.9375  40.25000  41.500000  41.81250  ...  0.34375  0.65625  NaN  NaN\n",
              "2000-01-06  41.6875  39.09375  40.875000  39.37500  ... -2.43750 -4.12500  NaN  NaN\n",
              "\n",
              "[5 rows x 23 columns]"
            ]
          },
          "metadata": {
            "tags": []
          },
          "execution_count": 7
        }
      ]
    },
    {
      "cell_type": "code",
      "metadata": {
        "colab": {
          "base_uri": "https://localhost:8080/",
          "height": 357
        },
        "id": "8IbKdJO8E3CC",
        "outputId": "661ea47f-f490-4988-aac7-3f0a0976b7e2"
      },
      "source": [
        "#시장지수 데이터 추가\n",
        "snp500_df = snp500_df.loc[:,['Close']].copy()\n",
        "snp500_df.rename(columns={'Close':'S&P500'},inplace=True) #컬럼명 변경(컬럼명 중복문제 회피)\n",
        "sox_df = sox_df.loc[:,['Close']].copy()\n",
        "sox_df.rename(columns={'Close':'SOX'},inplace=True)\n",
        "vix_df = vix_df.loc[:,['Close']].copy()\n",
        "vix_df.rename(columns={'Close':'VIX'},inplace=True)\n",
        "\n",
        "df = df.join(snp500_df,how='left') # 데이터 결합\n",
        "df = df.join(sox_df,how='left')\n",
        "df = df.join(vix_df,how='left')\n",
        "\n",
        "df.head()"
      ],
      "execution_count": 8,
      "outputs": [
        {
          "output_type": "execute_result",
          "data": {
            "text/html": [
              "<div>\n",
              "<style scoped>\n",
              "    .dataframe tbody tr th:only-of-type {\n",
              "        vertical-align: middle;\n",
              "    }\n",
              "\n",
              "    .dataframe tbody tr th {\n",
              "        vertical-align: top;\n",
              "    }\n",
              "\n",
              "    .dataframe thead th {\n",
              "        text-align: right;\n",
              "    }\n",
              "</style>\n",
              "<table border=\"1\" class=\"dataframe\">\n",
              "  <thead>\n",
              "    <tr style=\"text-align: right;\">\n",
              "      <th></th>\n",
              "      <th>High</th>\n",
              "      <th>Low</th>\n",
              "      <th>Open</th>\n",
              "      <th>Close</th>\n",
              "      <th>Volume</th>\n",
              "      <th>Adj Close</th>\n",
              "      <th>next_price</th>\n",
              "      <th>next_rtn</th>\n",
              "      <th>log_return</th>\n",
              "      <th>CCI</th>\n",
              "      <th>MA5</th>\n",
              "      <th>MA10</th>\n",
              "      <th>RASD5</th>\n",
              "      <th>RASD10</th>\n",
              "      <th>MACD</th>\n",
              "      <th>ATR</th>\n",
              "      <th>ub</th>\n",
              "      <th>middle</th>\n",
              "      <th>lb</th>\n",
              "      <th>MTM1</th>\n",
              "      <th>MTM3</th>\n",
              "      <th>ROC</th>\n",
              "      <th>WPR</th>\n",
              "      <th>S&amp;P500</th>\n",
              "      <th>SOX</th>\n",
              "      <th>VIX</th>\n",
              "    </tr>\n",
              "    <tr>\n",
              "      <th>Date</th>\n",
              "      <th></th>\n",
              "      <th></th>\n",
              "      <th></th>\n",
              "      <th></th>\n",
              "      <th></th>\n",
              "      <th></th>\n",
              "      <th></th>\n",
              "      <th></th>\n",
              "      <th></th>\n",
              "      <th></th>\n",
              "      <th></th>\n",
              "      <th></th>\n",
              "      <th></th>\n",
              "      <th></th>\n",
              "      <th></th>\n",
              "      <th></th>\n",
              "      <th></th>\n",
              "      <th></th>\n",
              "      <th></th>\n",
              "      <th></th>\n",
              "      <th></th>\n",
              "      <th></th>\n",
              "      <th></th>\n",
              "      <th></th>\n",
              "      <th></th>\n",
              "      <th></th>\n",
              "    </tr>\n",
              "  </thead>\n",
              "  <tbody>\n",
              "    <tr>\n",
              "      <th>1999-12-31</th>\n",
              "      <td>41.9375</td>\n",
              "      <td>40.96875</td>\n",
              "      <td>41.906250</td>\n",
              "      <td>41.15625</td>\n",
              "      <td>11572000.0</td>\n",
              "      <td>26.504349</td>\n",
              "      <td>28.013699</td>\n",
              "      <td>-0.017897</td>\n",
              "      <td>NaN</td>\n",
              "      <td>NaN</td>\n",
              "      <td>NaN</td>\n",
              "      <td>NaN</td>\n",
              "      <td>NaN</td>\n",
              "      <td>NaN</td>\n",
              "      <td>NaN</td>\n",
              "      <td>NaN</td>\n",
              "      <td>NaN</td>\n",
              "      <td>NaN</td>\n",
              "      <td>NaN</td>\n",
              "      <td>NaN</td>\n",
              "      <td>NaN</td>\n",
              "      <td>NaN</td>\n",
              "      <td>NaN</td>\n",
              "      <td>1469.250000</td>\n",
              "      <td>704.559998</td>\n",
              "      <td>24.639999</td>\n",
              "    </tr>\n",
              "    <tr>\n",
              "      <th>2000-01-03</th>\n",
              "      <td>43.6875</td>\n",
              "      <td>41.62500</td>\n",
              "      <td>41.632812</td>\n",
              "      <td>43.50000</td>\n",
              "      <td>57710200.0</td>\n",
              "      <td>28.013699</td>\n",
              "      <td>26.705585</td>\n",
              "      <td>0.044849</td>\n",
              "      <td>0.055385</td>\n",
              "      <td>NaN</td>\n",
              "      <td>NaN</td>\n",
              "      <td>NaN</td>\n",
              "      <td>NaN</td>\n",
              "      <td>NaN</td>\n",
              "      <td>NaN</td>\n",
              "      <td>NaN</td>\n",
              "      <td>NaN</td>\n",
              "      <td>NaN</td>\n",
              "      <td>NaN</td>\n",
              "      <td>2.34375</td>\n",
              "      <td>NaN</td>\n",
              "      <td>NaN</td>\n",
              "      <td>NaN</td>\n",
              "      <td>1455.219971</td>\n",
              "      <td>713.200012</td>\n",
              "      <td>24.209999</td>\n",
              "    </tr>\n",
              "    <tr>\n",
              "      <th>2000-01-04</th>\n",
              "      <td>43.9375</td>\n",
              "      <td>41.12500</td>\n",
              "      <td>42.718750</td>\n",
              "      <td>41.46875</td>\n",
              "      <td>51019600.0</td>\n",
              "      <td>26.705585</td>\n",
              "      <td>26.926966</td>\n",
              "      <td>-0.029261</td>\n",
              "      <td>-0.047821</td>\n",
              "      <td>NaN</td>\n",
              "      <td>NaN</td>\n",
              "      <td>NaN</td>\n",
              "      <td>NaN</td>\n",
              "      <td>NaN</td>\n",
              "      <td>NaN</td>\n",
              "      <td>NaN</td>\n",
              "      <td>NaN</td>\n",
              "      <td>NaN</td>\n",
              "      <td>NaN</td>\n",
              "      <td>-2.03125</td>\n",
              "      <td>NaN</td>\n",
              "      <td>NaN</td>\n",
              "      <td>NaN</td>\n",
              "      <td>1399.420044</td>\n",
              "      <td>687.320007</td>\n",
              "      <td>27.010000</td>\n",
              "    </tr>\n",
              "    <tr>\n",
              "      <th>2000-01-05</th>\n",
              "      <td>42.9375</td>\n",
              "      <td>40.25000</td>\n",
              "      <td>41.500000</td>\n",
              "      <td>41.81250</td>\n",
              "      <td>52389000.0</td>\n",
              "      <td>26.926966</td>\n",
              "      <td>25.357227</td>\n",
              "      <td>0.007530</td>\n",
              "      <td>0.008255</td>\n",
              "      <td>NaN</td>\n",
              "      <td>NaN</td>\n",
              "      <td>NaN</td>\n",
              "      <td>NaN</td>\n",
              "      <td>NaN</td>\n",
              "      <td>NaN</td>\n",
              "      <td>NaN</td>\n",
              "      <td>NaN</td>\n",
              "      <td>NaN</td>\n",
              "      <td>NaN</td>\n",
              "      <td>0.34375</td>\n",
              "      <td>0.65625</td>\n",
              "      <td>NaN</td>\n",
              "      <td>NaN</td>\n",
              "      <td>1402.109985</td>\n",
              "      <td>678.539978</td>\n",
              "      <td>26.410000</td>\n",
              "    </tr>\n",
              "    <tr>\n",
              "      <th>2000-01-06</th>\n",
              "      <td>41.6875</td>\n",
              "      <td>39.09375</td>\n",
              "      <td>40.875000</td>\n",
              "      <td>39.37500</td>\n",
              "      <td>55171200.0</td>\n",
              "      <td>25.357227</td>\n",
              "      <td>26.403713</td>\n",
              "      <td>-0.036697</td>\n",
              "      <td>-0.060064</td>\n",
              "      <td>NaN</td>\n",
              "      <td>41.4625</td>\n",
              "      <td>NaN</td>\n",
              "      <td>NaN</td>\n",
              "      <td>NaN</td>\n",
              "      <td>NaN</td>\n",
              "      <td>NaN</td>\n",
              "      <td>NaN</td>\n",
              "      <td>NaN</td>\n",
              "      <td>NaN</td>\n",
              "      <td>-2.43750</td>\n",
              "      <td>-4.12500</td>\n",
              "      <td>NaN</td>\n",
              "      <td>NaN</td>\n",
              "      <td>1403.449951</td>\n",
              "      <td>669.330017</td>\n",
              "      <td>25.730000</td>\n",
              "    </tr>\n",
              "  </tbody>\n",
              "</table>\n",
              "</div>"
            ],
            "text/plain": [
              "               High       Low       Open  ...       S&P500         SOX        VIX\n",
              "Date                                      ...                                    \n",
              "1999-12-31  41.9375  40.96875  41.906250  ...  1469.250000  704.559998  24.639999\n",
              "2000-01-03  43.6875  41.62500  41.632812  ...  1455.219971  713.200012  24.209999\n",
              "2000-01-04  43.9375  41.12500  42.718750  ...  1399.420044  687.320007  27.010000\n",
              "2000-01-05  42.9375  40.25000  41.500000  ...  1402.109985  678.539978  26.410000\n",
              "2000-01-06  41.6875  39.09375  40.875000  ...  1403.449951  669.330017  25.730000\n",
              "\n",
              "[5 rows x 26 columns]"
            ]
          },
          "metadata": {
            "tags": []
          },
          "execution_count": 8
        }
      ]
    },
    {
      "cell_type": "code",
      "metadata": {
        "id": "IwXSDN23E7rv"
      },
      "source": [
        "# feature list\n",
        "# feature_list = ['Adj Close', 'log_return', 'CCI','next_price']\n",
        "feature1_list = ['Open','High','Low','Adj Close','Volume','log_return']\n",
        "feature2_list = ['RASD5','RASD10','ub','lb','CCI','ATR','MACD','MA5','MA10','MTM1','MTM3','ROC','WPR']\n",
        "feature3_list = ['S&P500', 'SOX', 'VIX']\n",
        "# feature4_list = ['next_price']\n",
        "feature4_list = ['next_rtn']\n",
        "\n",
        "all_features = feature1_list + feature2_list + feature3_list + feature4_list"
      ],
      "execution_count": 9,
      "outputs": []
    },
    {
      "cell_type": "code",
      "metadata": {
        "id": "42bIf2K3E7uj"
      },
      "source": [
        "# 학습/검증/테스트 구간 분리\n",
        "# 학습2년, 검증/테스트 3개월\n",
        "\n",
        "phase_flag = '3'\n",
        "\n",
        "if phase_flag == '1' :\n",
        "    train_from = '2010-01-04'\n",
        "    train_to = '2012-01-01'\n",
        "\n",
        "    val_from = '2012-01-01'\n",
        "    val_to = '2012-04-01'\n",
        "\n",
        "    test_from = '2012-04-01'\n",
        "    test_to = '2012-07-01'\n",
        "\n",
        "elif phase_flag == '2' :\n",
        "    train_from = '2012-07-01'\n",
        "    train_to = '2014-07-01'\n",
        "\n",
        "    val_from = '2014-07-01'\n",
        "    val_to = '2014-10-01'\n",
        "\n",
        "    test_from = '2014-10-01'\n",
        "    test_to = '2015-01-01'\n",
        "    \n",
        "else : \n",
        "    train_from = '2015-01-01'\n",
        "    train_to = '2017-01-01'\n",
        "\n",
        "    val_from = '2017-01-01'\n",
        "    val_to = '2017-04-01'\n",
        "\n",
        "    test_from = '2017-04-01'\n",
        "    test_to = '2017-07-01'"
      ],
      "execution_count": 10,
      "outputs": []
    },
    {
      "cell_type": "code",
      "metadata": {
        "colab": {
          "base_uri": "https://localhost:8080/",
          "height": 357
        },
        "id": "FpNfKvzxE7xA",
        "outputId": "77a21f05-828f-449e-8724-2566dafe45b5"
      },
      "source": [
        "# train / validation / testing\n",
        "train_df  = df.loc[train_from:train_to,all_features].copy()\n",
        "val_df = df.loc[val_from:val_to,all_features].copy()\n",
        "test_df   = df.loc[test_from:test_to,all_features].copy()\n",
        "\n",
        "train_df.head()"
      ],
      "execution_count": 11,
      "outputs": [
        {
          "output_type": "execute_result",
          "data": {
            "text/html": [
              "<div>\n",
              "<style scoped>\n",
              "    .dataframe tbody tr th:only-of-type {\n",
              "        vertical-align: middle;\n",
              "    }\n",
              "\n",
              "    .dataframe tbody tr th {\n",
              "        vertical-align: top;\n",
              "    }\n",
              "\n",
              "    .dataframe thead th {\n",
              "        text-align: right;\n",
              "    }\n",
              "</style>\n",
              "<table border=\"1\" class=\"dataframe\">\n",
              "  <thead>\n",
              "    <tr style=\"text-align: right;\">\n",
              "      <th></th>\n",
              "      <th>Open</th>\n",
              "      <th>High</th>\n",
              "      <th>Low</th>\n",
              "      <th>Adj Close</th>\n",
              "      <th>Volume</th>\n",
              "      <th>log_return</th>\n",
              "      <th>RASD5</th>\n",
              "      <th>RASD10</th>\n",
              "      <th>ub</th>\n",
              "      <th>lb</th>\n",
              "      <th>CCI</th>\n",
              "      <th>ATR</th>\n",
              "      <th>MACD</th>\n",
              "      <th>MA5</th>\n",
              "      <th>MA10</th>\n",
              "      <th>MTM1</th>\n",
              "      <th>MTM3</th>\n",
              "      <th>ROC</th>\n",
              "      <th>WPR</th>\n",
              "      <th>S&amp;P500</th>\n",
              "      <th>SOX</th>\n",
              "      <th>VIX</th>\n",
              "      <th>next_rtn</th>\n",
              "    </tr>\n",
              "    <tr>\n",
              "      <th>Date</th>\n",
              "      <th></th>\n",
              "      <th></th>\n",
              "      <th></th>\n",
              "      <th></th>\n",
              "      <th></th>\n",
              "      <th></th>\n",
              "      <th></th>\n",
              "      <th></th>\n",
              "      <th></th>\n",
              "      <th></th>\n",
              "      <th></th>\n",
              "      <th></th>\n",
              "      <th></th>\n",
              "      <th></th>\n",
              "      <th></th>\n",
              "      <th></th>\n",
              "      <th></th>\n",
              "      <th></th>\n",
              "      <th></th>\n",
              "      <th></th>\n",
              "      <th></th>\n",
              "      <th></th>\n",
              "      <th></th>\n",
              "    </tr>\n",
              "  </thead>\n",
              "  <tbody>\n",
              "    <tr>\n",
              "      <th>2015-01-02</th>\n",
              "      <td>36.669998</td>\n",
              "      <td>37.160000</td>\n",
              "      <td>36.110001</td>\n",
              "      <td>31.625349</td>\n",
              "      <td>23605600.0</td>\n",
              "      <td>0.001927</td>\n",
              "      <td>0.360369</td>\n",
              "      <td>0.422398</td>\n",
              "      <td>37.964195</td>\n",
              "      <td>35.625804</td>\n",
              "      <td>-31.453150</td>\n",
              "      <td>0.695825</td>\n",
              "      <td>0.303488</td>\n",
              "      <td>36.828</td>\n",
              "      <td>36.961</td>\n",
              "      <td>0.070000</td>\n",
              "      <td>-0.820000</td>\n",
              "      <td>8.634596</td>\n",
              "      <td>-57.261459</td>\n",
              "      <td>2058.199951</td>\n",
              "      <td>686.729980</td>\n",
              "      <td>17.790001</td>\n",
              "      <td>-0.008454</td>\n",
              "    </tr>\n",
              "    <tr>\n",
              "      <th>2015-01-05</th>\n",
              "      <td>36.200001</td>\n",
              "      <td>36.450001</td>\n",
              "      <td>35.939999</td>\n",
              "      <td>31.268734</td>\n",
              "      <td>32785000.0</td>\n",
              "      <td>-0.011340</td>\n",
              "      <td>0.359143</td>\n",
              "      <td>0.416504</td>\n",
              "      <td>37.902114</td>\n",
              "      <td>35.536885</td>\n",
              "      <td>-87.370255</td>\n",
              "      <td>0.682552</td>\n",
              "      <td>0.216350</td>\n",
              "      <td>36.508</td>\n",
              "      <td>36.854</td>\n",
              "      <td>-0.410000</td>\n",
              "      <td>-0.809998</td>\n",
              "      <td>4.902248</td>\n",
              "      <td>-74.273902</td>\n",
              "      <td>2020.579956</td>\n",
              "      <td>673.590027</td>\n",
              "      <td>19.920000</td>\n",
              "      <td>-0.006906</td>\n",
              "    </tr>\n",
              "    <tr>\n",
              "      <th>2015-01-06</th>\n",
              "      <td>36.080002</td>\n",
              "      <td>36.230000</td>\n",
              "      <td>35.259998</td>\n",
              "      <td>30.685978</td>\n",
              "      <td>30847600.0</td>\n",
              "      <td>-0.018813</td>\n",
              "      <td>0.429746</td>\n",
              "      <td>0.417354</td>\n",
              "      <td>37.855069</td>\n",
              "      <td>35.344930</td>\n",
              "      <td>-141.831811</td>\n",
              "      <td>0.703084</td>\n",
              "      <td>0.092167</td>\n",
              "      <td>36.128</td>\n",
              "      <td>36.745</td>\n",
              "      <td>-0.670002</td>\n",
              "      <td>-1.010002</td>\n",
              "      <td>4.937537</td>\n",
              "      <td>-99.193531</td>\n",
              "      <td>2002.609985</td>\n",
              "      <td>658.830017</td>\n",
              "      <td>21.120001</td>\n",
              "      <td>-0.022173</td>\n",
              "    </tr>\n",
              "    <tr>\n",
              "      <th>2015-01-07</th>\n",
              "      <td>35.639999</td>\n",
              "      <td>36.070000</td>\n",
              "      <td>35.270000</td>\n",
              "      <td>31.329620</td>\n",
              "      <td>27725200.0</td>\n",
              "      <td>0.020758</td>\n",
              "      <td>0.449678</td>\n",
              "      <td>0.396641</td>\n",
              "      <td>37.788620</td>\n",
              "      <td>35.293380</td>\n",
              "      <td>-114.324726</td>\n",
              "      <td>0.710006</td>\n",
              "      <td>0.052853</td>\n",
              "      <td>35.980</td>\n",
              "      <td>36.626</td>\n",
              "      <td>0.740002</td>\n",
              "      <td>-0.340000</td>\n",
              "      <td>12.879977</td>\n",
              "      <td>-69.354794</td>\n",
              "      <td>2025.900024</td>\n",
              "      <td>665.270020</td>\n",
              "      <td>19.309999</td>\n",
              "      <td>0.010662</td>\n",
              "    </tr>\n",
              "    <tr>\n",
              "      <th>2015-01-08</th>\n",
              "      <td>36.369999</td>\n",
              "      <td>37.000000</td>\n",
              "      <td>36.259998</td>\n",
              "      <td>31.912374</td>\n",
              "      <td>31765400.0</td>\n",
              "      <td>0.018430</td>\n",
              "      <td>0.450896</td>\n",
              "      <td>0.396890</td>\n",
              "      <td>37.770449</td>\n",
              "      <td>35.291550</td>\n",
              "      <td>-11.701877</td>\n",
              "      <td>0.729292</td>\n",
              "      <td>0.074897</td>\n",
              "      <td>36.060</td>\n",
              "      <td>36.552</td>\n",
              "      <td>0.669998</td>\n",
              "      <td>0.739998</td>\n",
              "      <td>16.587224</td>\n",
              "      <td>-42.338775</td>\n",
              "      <td>2062.139893</td>\n",
              "      <td>684.650024</td>\n",
              "      <td>17.010000</td>\n",
              "      <td>0.008798</td>\n",
              "    </tr>\n",
              "  </tbody>\n",
              "</table>\n",
              "</div>"
            ],
            "text/plain": [
              "                 Open       High        Low  ...         SOX        VIX  next_rtn\n",
              "Date                                         ...                                 \n",
              "2015-01-02  36.669998  37.160000  36.110001  ...  686.729980  17.790001 -0.008454\n",
              "2015-01-05  36.200001  36.450001  35.939999  ...  673.590027  19.920000 -0.006906\n",
              "2015-01-06  36.080002  36.230000  35.259998  ...  658.830017  21.120001 -0.022173\n",
              "2015-01-07  35.639999  36.070000  35.270000  ...  665.270020  19.309999  0.010662\n",
              "2015-01-08  36.369999  37.000000  36.259998  ...  684.650024  17.010000  0.008798\n",
              "\n",
              "[5 rows x 23 columns]"
            ]
          },
          "metadata": {
            "tags": []
          },
          "execution_count": 11
        }
      ]
    },
    {
      "cell_type": "code",
      "metadata": {
        "id": "Q41F1FytE7y6"
      },
      "source": [
        "# data 정규화\n",
        "def min_max_normal(tmp_df):\n",
        "    eng_list = []\n",
        "    sample_df = tmp_df.copy()\n",
        "    for x in all_features:\n",
        "        if x in feature4_list :\n",
        "            continue\n",
        "        series = sample_df[x].copy()\n",
        "        values = series.values\n",
        "        values = values.reshape((len(values), 1))\n",
        "        # train the normalization\n",
        "        scaler = MinMaxScaler(feature_range=(0, 1)) #최소,최대 정규화\n",
        "        scaler = scaler.fit(values)\n",
        "#         print('columns : %s , Min: %f, Max: %f' % (x, scaler.data_min_, scaler.data_max_))\n",
        "        # normalize the dataset and print\n",
        "        normalized = scaler.transform(values)\n",
        "        new_feature = '{}_normal'.format(x)\n",
        "        eng_list.append(new_feature)\n",
        "        sample_df[new_feature] = normalized\n",
        "    return sample_df, eng_list"
      ],
      "execution_count": 12,
      "outputs": []
    },
    {
      "cell_type": "code",
      "metadata": {
        "id": "Hp83adGEE71a"
      },
      "source": [
        "train_sample_df, eng_list =  min_max_normal(train_df)\n",
        "val_sample_df, eng_list =  min_max_normal(val_df)\n",
        "test_sample_df, eng_list = min_max_normal(test_df)"
      ],
      "execution_count": 19,
      "outputs": []
    },
    {
      "cell_type": "code",
      "metadata": {
        "colab": {
          "base_uri": "https://localhost:8080/"
        },
        "id": "rMgucNHnpjr0",
        "outputId": "7eb7a36f-8e70-499b-eb27-137af2924a68"
      },
      "source": [
        "print(train_sample_df.head())\n",
        "print(eng_list)"
      ],
      "execution_count": 20,
      "outputs": [
        {
          "output_type": "stream",
          "text": [
            "                 Open       High  ...  SOX_normal  VIX_normal\n",
            "Date                              ...                        \n",
            "2015-01-02  36.669998  37.160000  ...    0.335631    0.221242\n",
            "2015-01-05  36.200001  36.450001  ...    0.301055    0.293519\n",
            "2015-01-06  36.080002  36.230000  ...    0.262216    0.334238\n",
            "2015-01-07  35.639999  36.070000  ...    0.279162    0.272820\n",
            "2015-01-08  36.369999  37.000000  ...    0.330158    0.194774\n",
            "\n",
            "[5 rows x 45 columns]\n",
            "['Open_normal', 'High_normal', 'Low_normal', 'Adj Close_normal', 'Volume_normal', 'log_return_normal', 'RASD5_normal', 'RASD10_normal', 'ub_normal', 'lb_normal', 'CCI_normal', 'ATR_normal', 'MACD_normal', 'MA5_normal', 'MA10_normal', 'MTM1_normal', 'MTM3_normal', 'ROC_normal', 'WPR_normal', 'S&P500_normal', 'SOX_normal', 'VIX_normal']\n"
          ],
          "name": "stdout"
        }
      ]
    },
    {
      "cell_type": "code",
      "metadata": {
        "id": "QkvNmaS8E730"
      },
      "source": [
        "# LSTM Model 훈련데이터 구분하기\n",
        "num_step = 5\n",
        "num_unit = 200\n",
        "\n",
        "def create_dateset_binary(data, feature_list, step, n):\n",
        "    '''\n",
        "    다음날 시종가 수익률 라벨링.\n",
        "    '''\n",
        "    train_xdata = np.array(data[feature_list[0:n]])\n",
        "    \n",
        "    # 가장 뒤 n step을 제외하기 위해. 왜냐하면 학습 input으로는 어차피 10개만 주려고 하니깐.\n",
        "    m = np.arange(len(train_xdata) - step)\n",
        "    #     np.random.shuffle(m)  # shufflee은 빼자.\n",
        "    x, y = [], []\n",
        "    for i in m:\n",
        "        a = train_xdata[i:(i+step)] # 각 단계마다 사용할 학습데이터 기간\n",
        "        x.append(a)\n",
        "    x_batch = np.reshape(np.array(x), (len(m), step, n)) # 신경망 변수로 변경(data, batch_size, dimension?)\n",
        "    \n",
        "    train_ydata = np.array(data[[feature_list[n]]]) #레이블링 Data(종가)\n",
        "    # n_step 이상부터 답을 사용할 수 있는거니깐. \n",
        "    for i in m + step :\n",
        "        next_rtn = train_ydata[i][0]\n",
        "        if next_rtn > 0 :\n",
        "            label = 1\n",
        "        else :\n",
        "            label = 0\n",
        "        y.append(label)\n",
        "    y_batch = np.reshape(np.array(y), (-1,1))\n",
        "    return x_batch, y_batch"
      ],
      "execution_count": 21,
      "outputs": []
    },
    {
      "cell_type": "code",
      "metadata": {
        "colab": {
          "base_uri": "https://localhost:8080/"
        },
        "id": "nLUg3ADXFcnb",
        "outputId": "a9d12651-9890-4424-e491-c4274b9fab33"
      },
      "source": [
        "eng_list = eng_list + feature4_list\n",
        "n_feature = len(eng_list)-1\n",
        "# LSTM할때 사용했던 소스코드.\n",
        "x_train, y_train = create_dateset_binary(train_sample_df[eng_list], eng_list, num_step, n_feature)\n",
        "x_val, y_val = create_dateset_binary(val_sample_df[eng_list], eng_list, num_step, n_feature)\n",
        "x_test, y_test = create_dateset_binary(test_sample_df[eng_list], eng_list, num_step, n_feature)\n",
        "\n",
        "print(x_train[0:1])\n",
        "print()\n",
        "print(y_train[0:2])"
      ],
      "execution_count": 22,
      "outputs": [
        {
          "output_type": "stream",
          "text": [
            "[[[0.87892706 0.89295266 0.86262465 0.71857449 0.17448571 0.61890837\n",
            "   0.2833929  0.39743783 0.87320767 0.89599294 0.47126977 0.49100894\n",
            "   0.61170464 0.90072938 0.92654924 0.62244902 0.4087722  0.62416874\n",
            "   0.42738541 0.51762152 0.33563134 0.22124195]\n",
            "  [0.84291193 0.82961644 0.84957768 0.68880907 0.26491548 0.53456841\n",
            "   0.28217796 0.39023861 0.86673075 0.88766971 0.37849591 0.46770197\n",
            "   0.57672604 0.87226472 0.91613967 0.52448996 0.41052696 0.55239843\n",
            "   0.25726098 0.43263147 0.30105525 0.29351881]\n",
            "  [0.83371661 0.809991   0.7973904  0.64016845 0.24582942 0.48706551\n",
            "   0.35217903 0.39127686 0.86182254 0.86970184 0.28813699 0.50375553\n",
            "   0.52687678 0.83846288 0.90553553 0.47142832 0.37543844 0.55307702\n",
            "   0.00806469 0.39203421 0.26221618 0.33423821]\n",
            "  [0.79999994 0.79571805 0.79815803 0.69389104 0.21506946 0.73861726\n",
            "   0.37194101 0.3659754  0.85488983 0.86487649 0.33377488 0.51591121\n",
            "   0.51109566 0.825298   0.89395854 0.75918408 0.49298263 0.70580428\n",
            "   0.30645206 0.44465042 0.27916222 0.27281977]\n",
            "  [0.85593861 0.87867971 0.87413637 0.7425315  0.25487102 0.72381622\n",
            "   0.37314806 0.36627919 0.85299412 0.86470522 0.50403975 0.54977531\n",
            "   0.5199443  0.83241413 0.88675938 0.74489765 0.68245594 0.77709191\n",
            "   0.57661225 0.52652252 0.3301582  0.19477433]]]\n",
            "\n",
            "[[0]\n",
            " [0]]\n"
          ],
          "name": "stdout"
        }
      ]
    },
    {
      "cell_type": "code",
      "metadata": {
        "colab": {
          "base_uri": "https://localhost:8080/"
        },
        "id": "otsYWyiPFcqb",
        "outputId": "73197a39-c82c-43f2-de6d-2f4c1a8575da"
      },
      "source": [
        "from tensorflow.keras.utils import to_categorical\n",
        "\n",
        "y_train = to_categorical(y_train, 2)\n",
        "y_val = to_categorical(y_val, 2)\n",
        "y_test = to_categorical(y_test, 2)\n",
        "\n",
        "print(pd.DataFrame(y_train).sum())\n",
        "print(pd.DataFrame(y_val).sum())\n",
        "print(pd.DataFrame(y_test).sum())"
      ],
      "execution_count": 23,
      "outputs": [
        {
          "output_type": "stream",
          "text": [
            "0    229.0\n",
            "1    270.0\n",
            "dtype: float32\n",
            "0    29.0\n",
            "1    28.0\n",
            "dtype: float32\n",
            "0    31.0\n",
            "1    27.0\n",
            "dtype: float32\n"
          ],
          "name": "stdout"
        }
      ]
    },
    {
      "cell_type": "code",
      "metadata": {
        "colab": {
          "base_uri": "https://localhost:8080/"
        },
        "id": "VhFziE_gFcsf",
        "outputId": "cc471bfe-0e3b-4d36-f94e-1df4fbe76df2"
      },
      "source": [
        "x_train.shape"
      ],
      "execution_count": 25,
      "outputs": [
        {
          "output_type": "execute_result",
          "data": {
            "text/plain": [
              "(499, 5, 22)"
            ]
          },
          "metadata": {
            "tags": []
          },
          "execution_count": 25
        }
      ]
    },
    {
      "cell_type": "code",
      "metadata": {
        "id": "NL-UNck9Fcuf"
      },
      "source": [
        "from tensorflow.keras.models import Model\n",
        "from tensorflow.keras.models import load_model\n",
        "from tensorflow.keras.layers import Input, Dense, LSTM\n",
        "from tensorflow.keras.layers import Activation, BatchNormalization\n",
        "from tensorflow.keras.layers import Dropout\n",
        "from tensorflow.keras import backend as K\n",
        "from tensorflow.keras import regularizers"
      ],
      "execution_count": 26,
      "outputs": []
    },
    {
      "cell_type": "code",
      "metadata": {
        "colab": {
          "base_uri": "https://localhost:8080/"
        },
        "id": "KKDn0aJLFcwk",
        "outputId": "4b316a8d-00f6-4a3f-de26-0cee00af3bda"
      },
      "source": [
        "# LSTM 모델을 생성한다.\n",
        "K.clear_session()\n",
        "input_layer = Input(batch_shape=(None, x_train.shape[1], x_train.shape[2]))\n",
        "layer_lstm_1 = LSTM(num_unit, return_sequences = True, recurrent_regularizer = regularizers.l2(0.01))(input_layer)\n",
        "layer_lstm_1 = BatchNormalization()(layer_lstm_1)\n",
        "layer_lstm_2 = LSTM(num_unit, return_sequences = True, recurrent_regularizer = regularizers.l2(0.01))(layer_lstm_1)\n",
        "layer_lstm_2 = Dropout(0.25)(layer_lstm_2)\n",
        "layer_lstm_3 = LSTM(num_unit, return_sequences = True, recurrent_regularizer = regularizers.l2(0.01))(layer_lstm_2)\n",
        "layer_lstm_3 = BatchNormalization()(layer_lstm_3)\n",
        "layer_lstm_4 = LSTM(num_unit, return_sequences = True, recurrent_regularizer = regularizers.l2(0.01))(layer_lstm_3)\n",
        "layer_lstm_4 = Dropout(0.25)(layer_lstm_4)\n",
        "layer_lstm_5 = LSTM(num_unit , recurrent_regularizer = regularizers.l2(0.01))(layer_lstm_4)\n",
        "layer_lstm_5 = BatchNormalization()(layer_lstm_5)\n",
        "output_layer = Dense(2, activation='sigmoid')(layer_lstm_5)\n",
        "\n",
        "model = Model(input_layer, output_layer)\n",
        "model.compile(loss='categorical_crossentropy',optimizer='adam', metrics=['accuracy'])\n",
        "model.summary()\n",
        "\n",
        "#https://ratsgo.github.io/natural%20language%20processing/2017/03/09/rnnlstm/ 이 말인 즉슨 LSTM이 자체 gate 별 활성화 함수를 갖고있다"
      ],
      "execution_count": 27,
      "outputs": [
        {
          "output_type": "stream",
          "text": [
            "Model: \"model\"\n",
            "_________________________________________________________________\n",
            "Layer (type)                 Output Shape              Param #   \n",
            "=================================================================\n",
            "input_1 (InputLayer)         [(None, 5, 22)]           0         \n",
            "_________________________________________________________________\n",
            "lstm (LSTM)                  (None, 5, 200)            178400    \n",
            "_________________________________________________________________\n",
            "batch_normalization (BatchNo (None, 5, 200)            800       \n",
            "_________________________________________________________________\n",
            "lstm_1 (LSTM)                (None, 5, 200)            320800    \n",
            "_________________________________________________________________\n",
            "dropout (Dropout)            (None, 5, 200)            0         \n",
            "_________________________________________________________________\n",
            "lstm_2 (LSTM)                (None, 5, 200)            320800    \n",
            "_________________________________________________________________\n",
            "batch_normalization_1 (Batch (None, 5, 200)            800       \n",
            "_________________________________________________________________\n",
            "lstm_3 (LSTM)                (None, 5, 200)            320800    \n",
            "_________________________________________________________________\n",
            "dropout_1 (Dropout)          (None, 5, 200)            0         \n",
            "_________________________________________________________________\n",
            "lstm_4 (LSTM)                (None, 200)               320800    \n",
            "_________________________________________________________________\n",
            "batch_normalization_2 (Batch (None, 200)               800       \n",
            "_________________________________________________________________\n",
            "dense (Dense)                (None, 2)                 402       \n",
            "=================================================================\n",
            "Total params: 1,464,402\n",
            "Trainable params: 1,463,202\n",
            "Non-trainable params: 1,200\n",
            "_________________________________________________________________\n"
          ],
          "name": "stdout"
        }
      ]
    },
    {
      "cell_type": "code",
      "metadata": {
        "colab": {
          "base_uri": "https://localhost:8080/"
        },
        "id": "kxH9asHxGEG1",
        "outputId": "c035ec13-2cba-4970-dcda-a6b08cdc80ec"
      },
      "source": [
        "y_val.shape"
      ],
      "execution_count": 28,
      "outputs": [
        {
          "output_type": "execute_result",
          "data": {
            "text/plain": [
              "(57, 2)"
            ]
          },
          "metadata": {
            "tags": []
          },
          "execution_count": 28
        }
      ]
    },
    {
      "cell_type": "code",
      "metadata": {
        "colab": {
          "base_uri": "https://localhost:8080/"
        },
        "id": "WfKn0kcLGEJu",
        "outputId": "8721e4ef-8284-47c9-b00c-1c66f60cd979"
      },
      "source": [
        "history = model.fit(x_train,y_train,epochs=20, batch_size=10, validation_data=(x_val, y_val))"
      ],
      "execution_count": 29,
      "outputs": [
        {
          "output_type": "stream",
          "text": [
            "Epoch 1/20\n",
            "50/50 [==============================] - 22s 38ms/step - loss: 8.4596 - accuracy: 0.4886 - val_loss: 3.0937 - val_accuracy: 0.4912\n",
            "Epoch 2/20\n",
            "50/50 [==============================] - 1s 10ms/step - loss: 2.5541 - accuracy: 0.5716 - val_loss: 1.5076 - val_accuracy: 0.4912\n",
            "Epoch 3/20\n",
            "50/50 [==============================] - 1s 10ms/step - loss: 1.3647 - accuracy: 0.5289 - val_loss: 1.0116 - val_accuracy: 0.5614\n",
            "Epoch 4/20\n",
            "50/50 [==============================] - 1s 10ms/step - loss: 1.0026 - accuracy: 0.5790 - val_loss: 0.8377 - val_accuracy: 0.5614\n",
            "Epoch 5/20\n",
            "50/50 [==============================] - 0s 10ms/step - loss: 0.8406 - accuracy: 0.5642 - val_loss: 0.7616 - val_accuracy: 0.5263\n",
            "Epoch 6/20\n",
            "50/50 [==============================] - 0s 10ms/step - loss: 0.8034 - accuracy: 0.5353 - val_loss: 0.7628 - val_accuracy: 0.4561\n",
            "Epoch 7/20\n",
            "50/50 [==============================] - 0s 10ms/step - loss: 0.7770 - accuracy: 0.5166 - val_loss: 0.7513 - val_accuracy: 0.4386\n",
            "Epoch 8/20\n",
            "50/50 [==============================] - 0s 10ms/step - loss: 0.7623 - accuracy: 0.5416 - val_loss: 0.7380 - val_accuracy: 0.5088\n",
            "Epoch 9/20\n",
            "50/50 [==============================] - 0s 10ms/step - loss: 0.7491 - accuracy: 0.5267 - val_loss: 0.7716 - val_accuracy: 0.4737\n",
            "Epoch 10/20\n",
            "50/50 [==============================] - 1s 10ms/step - loss: 0.6993 - accuracy: 0.6162 - val_loss: 0.8093 - val_accuracy: 0.4386\n",
            "Epoch 11/20\n",
            "50/50 [==============================] - 0s 10ms/step - loss: 0.7723 - accuracy: 0.4906 - val_loss: 0.8526 - val_accuracy: 0.5263\n",
            "Epoch 12/20\n",
            "50/50 [==============================] - 1s 10ms/step - loss: 0.7394 - accuracy: 0.5201 - val_loss: 0.7284 - val_accuracy: 0.4737\n",
            "Epoch 13/20\n",
            "50/50 [==============================] - 0s 10ms/step - loss: 0.7244 - accuracy: 0.5633 - val_loss: 0.7861 - val_accuracy: 0.5263\n",
            "Epoch 14/20\n",
            "50/50 [==============================] - 0s 10ms/step - loss: 0.7291 - accuracy: 0.5589 - val_loss: 0.8094 - val_accuracy: 0.5088\n",
            "Epoch 15/20\n",
            "50/50 [==============================] - 0s 10ms/step - loss: 0.7427 - accuracy: 0.5178 - val_loss: 0.7906 - val_accuracy: 0.4737\n",
            "Epoch 16/20\n",
            "50/50 [==============================] - 0s 10ms/step - loss: 0.7308 - accuracy: 0.5558 - val_loss: 0.7570 - val_accuracy: 0.4561\n",
            "Epoch 17/20\n",
            "50/50 [==============================] - 0s 10ms/step - loss: 0.7004 - accuracy: 0.5760 - val_loss: 0.7603 - val_accuracy: 0.4211\n",
            "Epoch 18/20\n",
            "50/50 [==============================] - 1s 10ms/step - loss: 0.7493 - accuracy: 0.5013 - val_loss: 0.8389 - val_accuracy: 0.4386\n",
            "Epoch 19/20\n",
            "50/50 [==============================] - 0s 10ms/step - loss: 0.7120 - accuracy: 0.5632 - val_loss: 0.7959 - val_accuracy: 0.5088\n",
            "Epoch 20/20\n",
            "50/50 [==============================] - 1s 10ms/step - loss: 0.7226 - accuracy: 0.5740 - val_loss: 1.0254 - val_accuracy: 0.4912\n"
          ],
          "name": "stdout"
        }
      ]
    },
    {
      "cell_type": "code",
      "metadata": {
        "colab": {
          "base_uri": "https://localhost:8080/",
          "height": 336
        },
        "id": "tvWqeSBpGENd",
        "outputId": "9b30563f-52fd-41bd-e834-903d23819413"
      },
      "source": [
        "def plot_history(history):\n",
        "    plt.figure(figsize=(15, 5))\n",
        "    ax = plt.subplot(1, 2, 1)\n",
        "    plt.plot(history.history[\"loss\"])\n",
        "    plt.title(\"Train loss\")\n",
        "    ax = plt.subplot(1, 2, 2)\n",
        "    plt.plot(history.history[\"val_loss\"])\n",
        "    plt.title(\"Test loss\")\n",
        "    plt.savefig('sample.png')\n",
        "\n",
        "plot_history(history) # 3단계"
      ],
      "execution_count": 30,
      "outputs": [
        {
          "output_type": "display_data",
          "data": {
            "image/png": "[encoded data removed]",
            "text/plain": [
              "<Figure size 1080x360 with 2 Axes>"
            ]
          },
          "metadata": {
            "tags": [],
            "needs_background": "light"
          }
        }
      ]
    },
    {
      "cell_type": "code",
      "metadata": {
        "id": "t-Uh6wYxGEQU"
      },
      "source": [
        "# 예측\n",
        "\n",
        "from sklearn.metrics import confusion_matrix\n",
        "from sklearn.metrics import classification_report\n",
        "\n",
        "predicted = model.predict(x_test)\n",
        "y_pred = np.argmax(predicted, axis=1)\n",
        "Y_test = np.argmax(y_test, axis=1)\n",
        "cm = confusion_matrix(Y_test, y_pred)\n",
        "report = classification_report(Y_test, y_pred)"
      ],
      "execution_count": 31,
      "outputs": []
    },
    {
      "cell_type": "code",
      "metadata": {
        "id": "HY00aN6LGa2Y"
      },
      "source": [
        "# ROC AUC 커브 만들어보기\n",
        "\n",
        "%matplotlib inline\n",
        "import matplotlib.pyplot as plt\n",
        "from sklearn.metrics import roc_curve, auc\n",
        "\n",
        "# Plot a confusion matrix.\n",
        "# cm is the confusion matrix, names are the names of the classes.\n",
        "def plot_confusion_matrix(cm, names, title='Confusion matrix', cmap=plt.cm.Blues):\n",
        "    plt.imshow(cm, interpolation='nearest', cmap=cmap)\n",
        "    plt.title(title)\n",
        "    plt.colorbar()\n",
        "    tick_marks = np.arange(len(names))\n",
        "    plt.xticks(tick_marks, names, rotation=45)\n",
        "    plt.yticks(tick_marks, names)\n",
        "    plt.tight_layout()\n",
        "    plt.ylabel('True label')\n",
        "    plt.xlabel('Predicted label')\n",
        "    \n",
        "\n",
        "# Plot an ROC. pred - the predictions, y - the expected output.\n",
        "def plot_roc(pred,y):\n",
        "    fpr, tpr, _ = roc_curve(y, pred)\n",
        "    roc_auc = auc(fpr, tpr)\n",
        "\n",
        "    plt.figure()\n",
        "    plt.plot(fpr, tpr, label='ROC curve (area = %0.2f)' % roc_auc)\n",
        "    plt.plot([0, 1], [0, 1], 'k--')\n",
        "    plt.xlim([0.0, 1.0])\n",
        "    plt.ylim([0.0, 1.05])\n",
        "    plt.xlabel('False Positive Rate')\n",
        "    plt.ylabel('True Positive Rate')\n",
        "    plt.title('Receiver Operating Characteristic (ROC)')\n",
        "    plt.legend(loc=\"lower right\")\n",
        "    plt.show()"
      ],
      "execution_count": 32,
      "outputs": []
    },
    {
      "cell_type": "code",
      "metadata": {
        "colab": {
          "base_uri": "https://localhost:8080/",
          "height": 313
        },
        "id": "oOjr0U5dGa4j",
        "outputId": "096015c3-544a-4e35-abcf-47d13b32e282"
      },
      "source": [
        "plot_roc(y_pred,Y_test)\n",
        "from sklearn.metrics import roc_auc_score\n",
        "roc_score = roc_auc_score(Y_test,y_pred)\n",
        "print('ROC AUC 값 : {0:.4f}'.format(roc_score))"
      ],
      "execution_count": 33,
      "outputs": [
        {
          "output_type": "display_data",
          "data": {
            "image/png": "[encoded data removed]",
            "text/plain": [
              "<Figure size 432x288 with 1 Axes>"
            ]
          },
          "metadata": {
            "tags": [],
            "needs_background": "light"
          }
        },
        {
          "output_type": "stream",
          "text": [
            "ROC AUC 값 : 0.4976\n"
          ],
          "name": "stdout"
        }
      ]
    },
    {
      "cell_type": "code",
      "metadata": {
        "colab": {
          "base_uri": "https://localhost:8080/"
        },
        "id": "Xtm-0BwMGn7Y",
        "outputId": "9a05c469-b5f1-43dd-cdb0-0cfc6332ddc9"
      },
      "source": [
        "# Drop & Batch\n",
        "y_pred"
      ],
      "execution_count": 34,
      "outputs": [
        {
          "output_type": "execute_result",
          "data": {
            "text/plain": [
              "array([1, 1, 1, 1, 0, 1, 1, 1, 1, 1, 1, 1, 1, 1, 1, 1, 1, 1, 1, 1, 1, 1,\n",
              "       1, 1, 1, 1, 1, 1, 1, 1, 1, 1, 1, 1, 1, 1, 1, 1, 1, 1, 1, 1, 0, 1,\n",
              "       1, 1, 1, 1, 1, 1, 1, 1, 1, 1, 1, 1, 1, 1])"
            ]
          },
          "metadata": {
            "tags": []
          },
          "execution_count": 34
        }
      ]
    },
    {
      "cell_type": "code",
      "metadata": {
        "id": "0UvC0a8aGn9f"
      },
      "source": [
        "tn = cm[0][0]\n",
        "fn = cm[1][0]\n",
        "tp = cm[1][1]\n",
        "fp = cm[0][1]\n",
        "if tp == 0:\n",
        "    tp = 1\n",
        "if tn == 0:\n",
        "    tn = 1\n",
        "if fp == 0:\n",
        "    fp = 1\n",
        "if fn == 0:\n",
        "    fn = 1\n",
        "TPR = float(tp)/(float(tp)+float(fn))\n",
        "FPR = float(fp)/(float(fp)+float(tn))\n",
        "accuracy = round((float(tp) + float(tn))/(float(tp) +\n",
        "                                          float(fp) + float(fn) + float(tn)), 3)\n",
        "specitivity = round(float(tn)/(float(tn) + float(fp)), 3)\n",
        "sensitivity = round(float(tp)/(float(tp) + float(fn)), 3)\n",
        "mcc = round((float(tp)*float(tn) - float(fp)*float(fn))/math.sqrt(\n",
        "    (float(tp)+float(fp))\n",
        "    * (float(tp)+float(fn))\n",
        "    * (float(tn)+float(fp))\n",
        "    * (float(tn)+float(fn))\n",
        "), 3)\n",
        "\n",
        "f_output = open('binary_lstm_open_close_phase3_dropout_batch_Normal_3단계 test.txt', 'a')\n",
        "f_output.write('=======\\n')\n",
        "f_output.write('{}epochs_{}batch\\n'.format(\n",
        "    20, 10))\n",
        "f_output.write('TN: {}\\n'.format(tn))\n",
        "f_output.write('FN: {}\\n'.format(fn))\n",
        "f_output.write('TP: {}\\n'.format(tp))\n",
        "f_output.write('FP: {}\\n'.format(fp))\n",
        "f_output.write('TPR: {}\\n'.format(TPR))\n",
        "f_output.write('FPR: {}\\n'.format(FPR))\n",
        "f_output.write('accuracy: {}\\n'.format(accuracy))\n",
        "f_output.write('specitivity: {}\\n'.format(specitivity))\n",
        "f_output.write(\"sensitivity : {}\\n\".format(sensitivity))\n",
        "f_output.write(\"mcc : {}\\n\".format(mcc))\n",
        "f_output.write(\"{}\".format(report))\n",
        "f_output.write('=======\\n')\n",
        "f_output.close()"
      ],
      "execution_count": 35,
      "outputs": []
    },
    {
      "cell_type": "code",
      "metadata": {
        "colab": {
          "base_uri": "https://localhost:8080/"
        },
        "id": "0dRLoUJesypv",
        "outputId": "10c0ff53-f444-418c-e1ad-51d491bb2269"
      },
      "source": [
        "# 예측.\n",
        "# y_hat = model.predict(x_test, batch_size = 1)\n",
        "print(len(y_test))\n",
        "print(len(y_pred))"
      ],
      "execution_count": 36,
      "outputs": [
        {
          "output_type": "stream",
          "text": [
            "58\n",
            "58\n"
          ],
          "name": "stdout"
        }
      ]
    },
    {
      "cell_type": "code",
      "metadata": {
        "colab": {
          "base_uri": "https://localhost:8080/",
          "height": 295
        },
        "id": "QAZd2MTKsytA",
        "outputId": "201262e6-0e3c-4518-d788-7a149e40914a"
      },
      "source": [
        "train_sample_df['Adj Close'].plot()"
      ],
      "execution_count": 37,
      "outputs": [
        {
          "output_type": "execute_result",
          "data": {
            "text/plain": [
              "<matplotlib.axes._subplots.AxesSubplot at 0x7fbb947d1a10>"
            ]
          },
          "metadata": {
            "tags": []
          },
          "execution_count": 37
        },
        {
          "output_type": "display_data",
          "data": {
            "image/png": "[encoded data removed]",
            "text/plain": [
              "<Figure size 432x288 with 1 Axes>"
            ]
          },
          "metadata": {
            "tags": [],
            "needs_background": "light"
          }
        }
      ]
    },
    {
      "cell_type": "code",
      "metadata": {
        "colab": {
          "base_uri": "https://localhost:8080/",
          "height": 304
        },
        "id": "eoW-eQNCs157",
        "outputId": "5d82020b-aaac-4c81-a39b-1e6be2f0addd"
      },
      "source": [
        "test_sample_df['Adj Close'].plot()"
      ],
      "execution_count": 38,
      "outputs": [
        {
          "output_type": "execute_result",
          "data": {
            "text/plain": [
              "<matplotlib.axes._subplots.AxesSubplot at 0x7fbb947d8650>"
            ]
          },
          "metadata": {
            "tags": []
          },
          "execution_count": 38
        },
        {
          "output_type": "display_data",
          "data": {
            "image/png": "[encoded data removed]",
            "text/plain": [
              "<Figure size 432x288 with 1 Axes>"
            ]
          },
          "metadata": {
            "tags": [],
            "needs_background": "light"
          }
        }
      ]
    },
    {
      "cell_type": "code",
      "metadata": {
        "id": "0H627EXks18h"
      },
      "source": [
        "# 3단계 \n",
        "lstm_book_df = test_sample_df[['Adj Close','next_rtn']].copy()\n",
        "# ### 이 문제에 있어서 Series와 DataFrame의 차이는 뭐지?\n",
        "t1 = pd.DataFrame(data = y_pred,columns=['position'],index = lstm_book_df.index[5:])\n",
        "lstm_book_df = lstm_book_df.join(t1,how='left')\n",
        "lstm_book_df.fillna(0,inplace=True)\n",
        "lstm_book_df['ret'] = lstm_book_df['Adj Close'].pct_change()\n",
        "lstm_book_df['lstm_ret'] = lstm_book_df['next_rtn'] * lstm_book_df['position'].shift(1)\n",
        "lstm_book_df['lstm_cumret'] = (lstm_book_df['lstm_ret'] + 1).cumprod()\n",
        "lstm_book_df['bm_cumret'] = (lstm_book_df['ret'] + 1).cumprod()"
      ],
      "execution_count": 39,
      "outputs": []
    },
    {
      "cell_type": "code",
      "metadata": {
        "colab": {
          "base_uri": "https://localhost:8080/",
          "height": 303
        },
        "id": "zqN7IqFas1_W",
        "outputId": "122bf045-0e95-41da-b656-2db1322d376d"
      },
      "source": [
        "lstm_book_df[['lstm_cumret','bm_cumret']].plot()"
      ],
      "execution_count": 40,
      "outputs": [
        {
          "output_type": "execute_result",
          "data": {
            "text/plain": [
              "<matplotlib.axes._subplots.AxesSubplot at 0x7fbb94747690>"
            ]
          },
          "metadata": {
            "tags": []
          },
          "execution_count": 40
        },
        {
          "output_type": "display_data",
          "data": {
            "image/png": "[encoded data removed]",
            "text/plain": [
              "<Figure size 432x288 with 1 Axes>"
            ]
          },
          "metadata": {
            "tags": [],
            "needs_background": "light"
          }
        }
      ]
    },
    {
      "cell_type": "code",
      "metadata": {
        "colab": {
          "base_uri": "https://localhost:8080/",
          "height": 303
        },
        "id": "Q8yNinB9s2BK",
        "outputId": "3a9513d0-d735-49b9-89c0-79511b6271fb"
      },
      "source": [
        "# 백테스트팅\n",
        "historical_max = lstm_book_df['Adj Close'].cummax()\n",
        "daily_drawdown = lstm_book_df['Adj Close'] / historical_max - 1.0\n",
        "historical_dd = daily_drawdown.cummin()\n",
        "historical_dd.plot()"
      ],
      "execution_count": 42,
      "outputs": [
        {
          "output_type": "execute_result",
          "data": {
            "text/plain": [
              "<matplotlib.axes._subplots.AxesSubplot at 0x7fbb84815210>"
            ]
          },
          "metadata": {
            "tags": []
          },
          "execution_count": 42
        },
        {
          "output_type": "display_data",
          "data": {
            "image/png": "[encoded data removed]",
            "text/plain": [
              "<Figure size 432x288 with 1 Axes>"
            ]
          },
          "metadata": {
            "tags": [],
            "needs_background": "light"
          }
        }
      ]
    },
    {
      "cell_type": "code",
      "metadata": {
        "colab": {
          "base_uri": "https://localhost:8080/",
          "height": 235
        },
        "id": "AbJxtpUDtnul",
        "outputId": "13df7caa-7d4d-4973-eb1e-cbf207266d93"
      },
      "source": [
        "lstm_book_df.head()"
      ],
      "execution_count": 46,
      "outputs": [
        {
          "output_type": "execute_result",
          "data": {
            "text/html": [
              "<div>\n",
              "<style scoped>\n",
              "    .dataframe tbody tr th:only-of-type {\n",
              "        vertical-align: middle;\n",
              "    }\n",
              "\n",
              "    .dataframe tbody tr th {\n",
              "        vertical-align: top;\n",
              "    }\n",
              "\n",
              "    .dataframe thead th {\n",
              "        text-align: right;\n",
              "    }\n",
              "</style>\n",
              "<table border=\"1\" class=\"dataframe\">\n",
              "  <thead>\n",
              "    <tr style=\"text-align: right;\">\n",
              "      <th></th>\n",
              "      <th>Adj Close</th>\n",
              "      <th>next_rtn</th>\n",
              "      <th>position</th>\n",
              "      <th>ret</th>\n",
              "      <th>lstm_ret</th>\n",
              "      <th>lstm_cumret</th>\n",
              "      <th>bm_cumret</th>\n",
              "    </tr>\n",
              "    <tr>\n",
              "      <th>Date</th>\n",
              "      <th></th>\n",
              "      <th></th>\n",
              "      <th></th>\n",
              "      <th></th>\n",
              "      <th></th>\n",
              "      <th></th>\n",
              "      <th></th>\n",
              "    </tr>\n",
              "  </thead>\n",
              "  <tbody>\n",
              "    <tr>\n",
              "      <th>2017-04-03</th>\n",
              "      <td>33.705460</td>\n",
              "      <td>-0.000829</td>\n",
              "      <td>0.0</td>\n",
              "      <td>NaN</td>\n",
              "      <td>NaN</td>\n",
              "      <td>NaN</td>\n",
              "      <td>NaN</td>\n",
              "    </tr>\n",
              "    <tr>\n",
              "      <th>2017-04-04</th>\n",
              "      <td>33.817307</td>\n",
              "      <td>0.004430</td>\n",
              "      <td>0.0</td>\n",
              "      <td>0.003318</td>\n",
              "      <td>0.0</td>\n",
              "      <td>1.0</td>\n",
              "      <td>1.003318</td>\n",
              "    </tr>\n",
              "    <tr>\n",
              "      <th>2017-04-05</th>\n",
              "      <td>33.761391</td>\n",
              "      <td>-0.005764</td>\n",
              "      <td>0.0</td>\n",
              "      <td>-0.001653</td>\n",
              "      <td>-0.0</td>\n",
              "      <td>1.0</td>\n",
              "      <td>1.001659</td>\n",
              "    </tr>\n",
              "    <tr>\n",
              "      <th>2017-04-06</th>\n",
              "      <td>33.584286</td>\n",
              "      <td>-0.002768</td>\n",
              "      <td>0.0</td>\n",
              "      <td>-0.005246</td>\n",
              "      <td>-0.0</td>\n",
              "      <td>1.0</td>\n",
              "      <td>0.996405</td>\n",
              "    </tr>\n",
              "    <tr>\n",
              "      <th>2017-04-07</th>\n",
              "      <td>33.584286</td>\n",
              "      <td>-0.001109</td>\n",
              "      <td>0.0</td>\n",
              "      <td>0.000000</td>\n",
              "      <td>-0.0</td>\n",
              "      <td>1.0</td>\n",
              "      <td>0.996405</td>\n",
              "    </tr>\n",
              "  </tbody>\n",
              "</table>\n",
              "</div>"
            ],
            "text/plain": [
              "            Adj Close  next_rtn  position  ...  lstm_ret  lstm_cumret  bm_cumret\n",
              "Date                                       ...                                  \n",
              "2017-04-03  33.705460 -0.000829       0.0  ...       NaN          NaN        NaN\n",
              "2017-04-04  33.817307  0.004430       0.0  ...       0.0          1.0   1.003318\n",
              "2017-04-05  33.761391 -0.005764       0.0  ...      -0.0          1.0   1.001659\n",
              "2017-04-06  33.584286 -0.002768       0.0  ...      -0.0          1.0   0.996405\n",
              "2017-04-07  33.584286 -0.001109       0.0  ...      -0.0          1.0   0.996405\n",
              "\n",
              "[5 rows x 7 columns]"
            ]
          },
          "metadata": {
            "tags": []
          },
          "execution_count": 46
        }
      ]
    },
    {
      "cell_type": "code",
      "metadata": {
        "colab": {
          "base_uri": "https://localhost:8080/"
        },
        "id": "dFQhLXtptJwt",
        "outputId": "065aeb85-65ce-4a3e-f26b-2fecbe2ef739"
      },
      "source": [
        "CAGR = lstm_book_df.loc[lstm_book_df.index[-1],'bm_cumret'] ** (252./len(lstm_book_df.index)) -1\n",
        "Sharpe = np.mean(lstm_book_df['ret']) / np.std(lstm_book_df['ret']) * np.sqrt(252.)\n",
        "VOL = np.std(lstm_book_df['ret']) * np.sqrt(252.)\n",
        "MDD = historical_dd.min()\n",
        "print('CAGR : ',round(CAGR*100,2),'%')\n",
        "print('Sharpe : ',round(Sharpe,2))\n",
        "print('VOL : ',round(VOL*100,2),'%')\n",
        "print('MDD : ',round(-1*MDD*100,2),'%')"
      ],
      "execution_count": 43,
      "outputs": [
        {
          "output_type": "stream",
          "text": [
            "CAGR :  -21.92 %\n",
            "Sharpe :  -1.62\n",
            "VOL :  14.82 %\n",
            "MDD :  9.73 %\n"
          ],
          "name": "stdout"
        }
      ]
    },
    {
      "cell_type": "code",
      "metadata": {
        "colab": {
          "base_uri": "https://localhost:8080/"
        },
        "id": "3wwO5T6JtJzg",
        "outputId": "fefc5031-727b-40ef-fe40-34f3add513d4"
      },
      "source": [
        "CAGR = lstm_book_df.loc[lstm_book_df.index[-1],'lstm_cumret'] ** (252./len(lstm_book_df.index)) -1\n",
        "Sharpe = np.mean(lstm_book_df['lstm_ret']) / np.std(lstm_book_df['lstm_ret']) * np.sqrt(252.)\n",
        "VOL = np.std(lstm_book_df['lstm_ret']) * np.sqrt(252.)\n",
        "MDD = historical_dd.min()\n",
        "print('CAGR : ',round(CAGR*100,2),'%')\n",
        "print('Sharpe : ',round(Sharpe,2))\n",
        "print('VOL : ',round(VOL*100,2),'%')\n",
        "print('MDD : ',round(-1*MDD*100,2),'%')"
      ],
      "execution_count": 44,
      "outputs": [
        {
          "output_type": "stream",
          "text": [
            "CAGR :  -16.3 %\n",
            "Sharpe :  -1.61\n",
            "VOL :  10.88 %\n",
            "MDD :  9.73 %\n"
          ],
          "name": "stdout"
        }
      ]
    }
  ]
}