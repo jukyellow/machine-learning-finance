{
  "nbformat": 4,
  "nbformat_minor": 0,
  "metadata": {
    "colab": {
      "name": "04_3_Relative_Momentum_20201118.ipynb",
      "provenance": [],
      "collapsed_sections": []
    },
    "kernelspec": {
      "name": "python3",
      "display_name": "Python 3"
    }
  },
  "cells": [
    {
      "cell_type": "code",
      "metadata": {
        "id": "eXPWCUUoEJAy"
      },
      "source": [
        "# https://github.com/jukyellow/algoTrade/blob/master/ch04/4.4%20%EC%83%81%EB%8C%80%EB%AA%A8%EB%A9%98%ED%85%80.ipynb"
      ],
      "execution_count": null,
      "outputs": []
    },
    {
      "cell_type": "code",
      "metadata": {
        "id": "uW_a2TFuESuR"
      },
      "source": [
        "# 상대모멘텀 계산.\n",
        "\n",
        "# 절대모멘텀 부분에서 월별 수익률을 구한다. pandas pct_change()이거보다는 같은 월별로 묶어서 월초부터 월말까지의 수익률을 구해서 월말로 데이터 프레임을 자른다.\n",
        "# 궁극적으로는 월말 수익률로 피봇해서 볼거다. STD_YM은 key 역할을 하는거고 date를 이용해야겠다.\n",
        "\n",
        "# 작업 순서 구상\n",
        "# 1)월초부터 월말까지의 수익률을 구해서 월말로 데이터 프레임을 자른다.\n",
        "# 2)월말의 수익률 높은순으로 자르고, (0)\n",
        "# 3)자른 종목에만 투자했을 때 얻는 수익률 long-only로 하면 좋겠다.(0)\n",
        "# 4)나온 종목들에 대해서 (다음달 월초)에 매수 후 보유 및 월말에 없어지면 매도(당월). \n",
        "\n",
        "# 듀얼모멘텀은\n",
        "# 이렇게 상대모멘텀 순으로 나온것 중에서,\n",
        "# 이제 절대 모멘텀 진짜 몇 개월 전보다 좋은건지 확인하는 것이다.(겹치는 조건(And 조건)으로 종목 필터링)"
      ],
      "execution_count": 1,
      "outputs": []
    },
    {
      "cell_type": "code",
      "metadata": {
        "id": "po5KJ0j0ESxJ"
      },
      "source": [
        ""
      ],
      "execution_count": null,
      "outputs": []
    }
  ]
}