{
  "nbformat": 4,
  "nbformat_minor": 0,
  "metadata": {
    "colab": {
      "name": "04_1_BollingerBand_Regression_Mean_20201114.ipynb",
      "provenance": [],
      "collapsed_sections": []
    },
    "kernelspec": {
      "name": "python3",
      "display_name": "Python 3"
    }
  },
  "cells": [
    {
      "cell_type": "code",
      "metadata": {
        "id": "rajanGFGg036"
      },
      "source": [
        "# https://github.com/jukyellow/algoTrade/blob/master/ch04/4.2%20%EB%B3%BC%EB%A6%B0%EC%A0%80%EB%B0%B4%EB%93%9C%20%ED%8F%89%EA%B7%A0%ED%9A%8C%EA%B7%80.ipynb"
      ],
      "execution_count": null,
      "outputs": []
    },
    {
      "cell_type": "code",
      "metadata": {
        "id": "yyooIsB6hKu3",
        "outputId": "9e480f1f-9ded-4e4e-ea07-b144ef0cdc83",
        "colab": {
          "base_uri": "https://localhost:8080/"
        }
      },
      "source": [
        "import pandas as pd\n",
        "\n",
        "df = pd.read_csv('SPY.csv')\n",
        "print(df.head())\n",
        "print(df.describe())"
      ],
      "execution_count": 4,
      "outputs": [
        {
          "output_type": "stream",
          "text": [
            "         Date      Open      High       Low     Close  Adj Close   Volume\n",
            "0  1993-01-29  43.96875  43.96875  43.75000  43.93750  26.706757  1003200\n",
            "1  1993-02-01  43.96875  44.25000  43.96875  44.25000  26.896694   480500\n",
            "2  1993-02-02  44.21875  44.37500  44.12500  44.34375  26.953669   201300\n",
            "3  1993-02-03  44.40625  44.84375  44.37500  44.81250  27.238594   529400\n",
            "4  1993-02-04  44.96875  45.09375  44.46875  45.00000  27.352570   531500\n",
            "              Open         High  ...    Adj Close        Volume\n",
            "count  6648.000000  6648.000000  ...  6648.000000  6.648000e+03\n",
            "mean    133.762935   134.541071  ...   110.399391  8.440122e+07\n",
            "std      59.488006    59.671285  ...    64.113369  9.837713e+07\n",
            "min      43.343750    43.531250  ...    26.383823  5.200000e+03\n",
            "25%      96.780937    97.735000  ...    71.256485  6.966775e+06\n",
            "50%     124.433750   125.335938  ...    93.641503  5.709990e+07\n",
            "75%     151.702503   152.514999  ...   125.251474  1.229908e+08\n",
            "max     296.040009   296.309998  ...   294.427979  8.710263e+08\n",
            "\n",
            "[8 rows x 6 columns]\n"
          ],
          "name": "stdout"
        }
      ]
    },
    {
      "cell_type": "code",
      "metadata": {
        "id": "KEfsJXkihKxQ",
        "outputId": "084a1648-7441-49b8-aafa-538c63f1ea47",
        "colab": {
          "base_uri": "https://localhost:8080/"
        }
      },
      "source": [
        "df['CODE'] = 'SPY'\n",
        "print(df.head(3))\n",
        "\n",
        "price_df = df.loc[:,['Date','Adj Close']].copy()\n",
        "print(price_df.head(3))"
      ],
      "execution_count": 5,
      "outputs": [
        {
          "output_type": "stream",
          "text": [
            "         Date      Open      High       Low     Close  Adj Close   Volume CODE\n",
            "0  1993-01-29  43.96875  43.96875  43.75000  43.93750  26.706757  1003200  SPY\n",
            "1  1993-02-01  43.96875  44.25000  43.96875  44.25000  26.896694   480500  SPY\n",
            "2  1993-02-02  44.21875  44.37500  44.12500  44.34375  26.953669   201300  SPY\n",
            "         Date  Adj Close\n",
            "0  1993-01-29  26.706757\n",
            "1  1993-02-01  26.896694\n",
            "2  1993-02-02  26.953669\n"
          ],
          "name": "stdout"
        }
      ]
    },
    {
      "cell_type": "code",
      "metadata": {
        "id": "UQ_bgKq7hK0F",
        "outputId": "779b81ce-3d9b-4d28-ef6b-3083c3fcb5da",
        "colab": {
          "base_uri": "https://localhost:8080/",
          "height": 173
        }
      },
      "source": [
        "# index 변경하고 세팅적용\n",
        "price_df.set_index(['Date'],inplace=True)\n",
        "price_df.head(3)"
      ],
      "execution_count": 6,
      "outputs": [
        {
          "output_type": "execute_result",
          "data": {
            "text/html": [
              "<div>\n",
              "<style scoped>\n",
              "    .dataframe tbody tr th:only-of-type {\n",
              "        vertical-align: middle;\n",
              "    }\n",
              "\n",
              "    .dataframe tbody tr th {\n",
              "        vertical-align: top;\n",
              "    }\n",
              "\n",
              "    .dataframe thead th {\n",
              "        text-align: right;\n",
              "    }\n",
              "</style>\n",
              "<table border=\"1\" class=\"dataframe\">\n",
              "  <thead>\n",
              "    <tr style=\"text-align: right;\">\n",
              "      <th></th>\n",
              "      <th>Adj Close</th>\n",
              "    </tr>\n",
              "    <tr>\n",
              "      <th>Date</th>\n",
              "      <th></th>\n",
              "    </tr>\n",
              "  </thead>\n",
              "  <tbody>\n",
              "    <tr>\n",
              "      <th>1993-01-29</th>\n",
              "      <td>26.706757</td>\n",
              "    </tr>\n",
              "    <tr>\n",
              "      <th>1993-02-01</th>\n",
              "      <td>26.896694</td>\n",
              "    </tr>\n",
              "    <tr>\n",
              "      <th>1993-02-02</th>\n",
              "      <td>26.953669</td>\n",
              "    </tr>\n",
              "  </tbody>\n",
              "</table>\n",
              "</div>"
            ],
            "text/plain": [
              "            Adj Close\n",
              "Date                 \n",
              "1993-01-29  26.706757\n",
              "1993-02-01  26.896694\n",
              "1993-02-02  26.953669"
            ]
          },
          "metadata": {
            "tags": []
          },
          "execution_count": 6
        }
      ]
    },
    {
      "cell_type": "code",
      "metadata": {
        "id": "HWj3TAychK4h",
        "outputId": "ce75cbce-2a56-4a9b-c16d-24079aca43e6",
        "colab": {
          "base_uri": "https://localhost:8080/",
          "height": 297
        }
      },
      "source": [
        "price_df['center'] = price_df['Adj Close'].rolling(20).mean() # 이동평균선을 구한다.\n",
        "price_df.iloc[18:25]"
      ],
      "execution_count": 7,
      "outputs": [
        {
          "output_type": "execute_result",
          "data": {
            "text/html": [
              "<div>\n",
              "<style scoped>\n",
              "    .dataframe tbody tr th:only-of-type {\n",
              "        vertical-align: middle;\n",
              "    }\n",
              "\n",
              "    .dataframe tbody tr th {\n",
              "        vertical-align: top;\n",
              "    }\n",
              "\n",
              "    .dataframe thead th {\n",
              "        text-align: right;\n",
              "    }\n",
              "</style>\n",
              "<table border=\"1\" class=\"dataframe\">\n",
              "  <thead>\n",
              "    <tr style=\"text-align: right;\">\n",
              "      <th></th>\n",
              "      <th>Adj Close</th>\n",
              "      <th>center</th>\n",
              "    </tr>\n",
              "    <tr>\n",
              "      <th>Date</th>\n",
              "      <th></th>\n",
              "      <th></th>\n",
              "    </tr>\n",
              "  </thead>\n",
              "  <tbody>\n",
              "    <tr>\n",
              "      <th>1993-02-25</th>\n",
              "      <td>26.953669</td>\n",
              "      <td>NaN</td>\n",
              "    </tr>\n",
              "    <tr>\n",
              "      <th>1993-02-26</th>\n",
              "      <td>26.991682</td>\n",
              "      <td>26.910942</td>\n",
              "    </tr>\n",
              "    <tr>\n",
              "      <th>1993-03-01</th>\n",
              "      <td>26.915695</td>\n",
              "      <td>26.921389</td>\n",
              "    </tr>\n",
              "    <tr>\n",
              "      <th>1993-03-02</th>\n",
              "      <td>27.314577</td>\n",
              "      <td>26.942283</td>\n",
              "    </tr>\n",
              "    <tr>\n",
              "      <th>1993-03-03</th>\n",
              "      <td>27.428545</td>\n",
              "      <td>26.966027</td>\n",
              "    </tr>\n",
              "    <tr>\n",
              "      <th>1993-03-04</th>\n",
              "      <td>27.276592</td>\n",
              "      <td>26.967927</td>\n",
              "    </tr>\n",
              "    <tr>\n",
              "      <th>1993-03-05</th>\n",
              "      <td>27.200619</td>\n",
              "      <td>26.960329</td>\n",
              "    </tr>\n",
              "  </tbody>\n",
              "</table>\n",
              "</div>"
            ],
            "text/plain": [
              "            Adj Close     center\n",
              "Date                            \n",
              "1993-02-25  26.953669        NaN\n",
              "1993-02-26  26.991682  26.910942\n",
              "1993-03-01  26.915695  26.921389\n",
              "1993-03-02  27.314577  26.942283\n",
              "1993-03-03  27.428545  26.966027\n",
              "1993-03-04  27.276592  26.967927\n",
              "1993-03-05  27.200619  26.960329"
            ]
          },
          "metadata": {
            "tags": []
          },
          "execution_count": 7
        }
      ]
    },
    {
      "cell_type": "code",
      "metadata": {
        "id": "SpsTiMfphK3i",
        "outputId": "935542cc-3aad-4782-da46-f8f5b4edc37e",
        "colab": {
          "base_uri": "https://localhost:8080/"
        }
      },
      "source": [
        "# +2 표준편차를 둔 상단 밴드를 구한다.\n",
        "price_df['ub'] = price_df['center'] + 2 * price_df['Adj Close'].rolling(20).std()\n",
        "print(price_df.iloc[18:25])\n",
        "\n",
        "# -2 표준편차를 둔 하단 밴드를 구한다.\n",
        "price_df['lb'] = price_df['center'] - 2 * price_df['Adj Close'].rolling(20).std()\n",
        "print(price_df.iloc[18:25])"
      ],
      "execution_count": 9,
      "outputs": [
        {
          "output_type": "stream",
          "text": [
            "            Adj Close     center         ub\n",
            "Date                                       \n",
            "1993-02-25  26.953669        NaN        NaN\n",
            "1993-02-26  26.991682  26.910942  27.598068\n",
            "1993-03-01  26.915695  26.921389  27.601764\n",
            "1993-03-02  27.314577  26.942283  27.644772\n",
            "1993-03-03  27.428545  26.966027  27.701465\n",
            "1993-03-04  27.276592  26.967927  27.706519\n",
            "1993-03-05  27.200619  26.960329  27.685261\n",
            "            Adj Close     center         ub         lb\n",
            "Date                                                  \n",
            "1993-02-25  26.953669        NaN        NaN        NaN\n",
            "1993-02-26  26.991682  26.910942  27.598068  26.223816\n",
            "1993-03-01  26.915695  26.921389  27.601764  26.241013\n",
            "1993-03-02  27.314577  26.942283  27.644772  26.239794\n",
            "1993-03-03  27.428545  26.966027  27.701465  26.230589\n",
            "1993-03-04  27.276592  26.967927  27.706519  26.229334\n",
            "1993-03-05  27.200619  26.960329  27.685261  26.235397\n"
          ],
          "name": "stdout"
        }
      ]
    },
    {
      "cell_type": "code",
      "metadata": {
        "id": "M0FawswViruX",
        "outputId": "62be04e4-03f8-478c-ba16-aae5f52ebed9",
        "colab": {
          "base_uri": "https://localhost:8080/"
        }
      },
      "source": [
        "n = 20\n",
        "sigma = 2\n",
        "def bollinger_band(price_df, n, sigma):\n",
        "    bb = price_df.copy()\n",
        "    bb['center'] = price_df['Adj Close'].rolling(n).mean() #중앙 이동평균선\n",
        "    bb['ub'] = bb['center'] + sigma * price_df['Adj Close'].rolling(n).std() # 상단 밴드\n",
        "    bb['lb'] = bb['center'] - sigma * price_df['Adj Close'].rolling(n).std() # 하단 밴드\n",
        "    return bb\n",
        "bollinger = bollinger_band(price_df, n, sigma)\n",
        "print(bollinger.head(21))"
      ],
      "execution_count": 10,
      "outputs": [
        {
          "output_type": "stream",
          "text": [
            "            Adj Close     center         ub         lb\n",
            "Date                                                  \n",
            "1993-01-29  26.706757        NaN        NaN        NaN\n",
            "1993-02-01  26.896694        NaN        NaN        NaN\n",
            "1993-02-02  26.953669        NaN        NaN        NaN\n",
            "1993-02-03  27.238594        NaN        NaN        NaN\n",
            "1993-02-04  27.352570        NaN        NaN        NaN\n",
            "1993-02-05  27.333586        NaN        NaN        NaN\n",
            "1993-02-08  27.333586        NaN        NaN        NaN\n",
            "1993-02-09  27.143635        NaN        NaN        NaN\n",
            "1993-02-10  27.181616        NaN        NaN        NaN\n",
            "1993-02-11  27.314577        NaN        NaN        NaN\n",
            "1993-02-12  27.105640        NaN        NaN        NaN\n",
            "1993-02-16  26.421825        NaN        NaN        NaN\n",
            "1993-02-17  26.402828        NaN        NaN        NaN\n",
            "1993-02-18  26.383823        NaN        NaN        NaN\n",
            "1993-02-19  26.478807        NaN        NaN        NaN\n",
            "1993-02-22  26.573792        NaN        NaN        NaN\n",
            "1993-02-23  26.554792        NaN        NaN        NaN\n",
            "1993-02-24  26.896694        NaN        NaN        NaN\n",
            "1993-02-25  26.953669        NaN        NaN        NaN\n",
            "1993-02-26  26.991682  26.910942  27.598068  26.223816\n",
            "1993-03-01  26.915695  26.921389  27.601764  26.241013\n"
          ],
          "name": "stdout"
        }
      ]
    },
    {
      "cell_type": "code",
      "metadata": {
        "id": "NwnDBPFqirx5",
        "outputId": "30874280-8c69-4ba6-d5fd-39f515719155",
        "colab": {
          "base_uri": "https://localhost:8080/",
          "height": 235
        }
      },
      "source": [
        "#백테스트\n",
        "\n",
        "base_date = '2009-01-02'\n",
        "sample = bollinger.loc[base_date:]\n",
        "sample.head(5)"
      ],
      "execution_count": 11,
      "outputs": [
        {
          "output_type": "execute_result",
          "data": {
            "text/html": [
              "<div>\n",
              "<style scoped>\n",
              "    .dataframe tbody tr th:only-of-type {\n",
              "        vertical-align: middle;\n",
              "    }\n",
              "\n",
              "    .dataframe tbody tr th {\n",
              "        vertical-align: top;\n",
              "    }\n",
              "\n",
              "    .dataframe thead th {\n",
              "        text-align: right;\n",
              "    }\n",
              "</style>\n",
              "<table border=\"1\" class=\"dataframe\">\n",
              "  <thead>\n",
              "    <tr style=\"text-align: right;\">\n",
              "      <th></th>\n",
              "      <th>Adj Close</th>\n",
              "      <th>center</th>\n",
              "      <th>ub</th>\n",
              "      <th>lb</th>\n",
              "    </tr>\n",
              "    <tr>\n",
              "      <th>Date</th>\n",
              "      <th></th>\n",
              "      <th></th>\n",
              "      <th></th>\n",
              "      <th></th>\n",
              "    </tr>\n",
              "  </thead>\n",
              "  <tbody>\n",
              "    <tr>\n",
              "      <th>2009-01-02</th>\n",
              "      <td>75.099487</td>\n",
              "      <td>71.378963</td>\n",
              "      <td>74.538229</td>\n",
              "      <td>68.219698</td>\n",
              "    </tr>\n",
              "    <tr>\n",
              "      <th>2009-01-05</th>\n",
              "      <td>75.010582</td>\n",
              "      <td>71.711677</td>\n",
              "      <td>74.931608</td>\n",
              "      <td>68.491746</td>\n",
              "    </tr>\n",
              "    <tr>\n",
              "      <th>2009-01-06</th>\n",
              "      <td>75.511505</td>\n",
              "      <td>71.964058</td>\n",
              "      <td>75.543401</td>\n",
              "      <td>68.384716</td>\n",
              "    </tr>\n",
              "    <tr>\n",
              "      <th>2009-01-07</th>\n",
              "      <td>73.249435</td>\n",
              "      <td>71.980327</td>\n",
              "      <td>75.580937</td>\n",
              "      <td>68.379718</td>\n",
              "    </tr>\n",
              "    <tr>\n",
              "      <th>2009-01-08</th>\n",
              "      <td>73.548378</td>\n",
              "      <td>72.071645</td>\n",
              "      <td>75.736733</td>\n",
              "      <td>68.406557</td>\n",
              "    </tr>\n",
              "  </tbody>\n",
              "</table>\n",
              "</div>"
            ],
            "text/plain": [
              "            Adj Close     center         ub         lb\n",
              "Date                                                  \n",
              "2009-01-02  75.099487  71.378963  74.538229  68.219698\n",
              "2009-01-05  75.010582  71.711677  74.931608  68.491746\n",
              "2009-01-06  75.511505  71.964058  75.543401  68.384716\n",
              "2009-01-07  73.249435  71.980327  75.580937  68.379718\n",
              "2009-01-08  73.548378  72.071645  75.736733  68.406557"
            ]
          },
          "metadata": {
            "tags": []
          },
          "execution_count": 11
        }
      ]
    },
    {
      "cell_type": "code",
      "metadata": {
        "id": "sqgvpM9Ti7d0",
        "outputId": "aff016b8-66c5-4206-f6f4-29f0ce37a938",
        "colab": {
          "base_uri": "https://localhost:8080/",
          "height": 235
        }
      },
      "source": [
        "#거래장부 생성\n",
        "book = sample[['Adj Close']].copy()\n",
        "book['trade'] = '' #거래내역 컬럼\n",
        "book.head()"
      ],
      "execution_count": 12,
      "outputs": [
        {
          "output_type": "execute_result",
          "data": {
            "text/html": [
              "<div>\n",
              "<style scoped>\n",
              "    .dataframe tbody tr th:only-of-type {\n",
              "        vertical-align: middle;\n",
              "    }\n",
              "\n",
              "    .dataframe tbody tr th {\n",
              "        vertical-align: top;\n",
              "    }\n",
              "\n",
              "    .dataframe thead th {\n",
              "        text-align: right;\n",
              "    }\n",
              "</style>\n",
              "<table border=\"1\" class=\"dataframe\">\n",
              "  <thead>\n",
              "    <tr style=\"text-align: right;\">\n",
              "      <th></th>\n",
              "      <th>Adj Close</th>\n",
              "      <th>trade</th>\n",
              "    </tr>\n",
              "    <tr>\n",
              "      <th>Date</th>\n",
              "      <th></th>\n",
              "      <th></th>\n",
              "    </tr>\n",
              "  </thead>\n",
              "  <tbody>\n",
              "    <tr>\n",
              "      <th>2009-01-02</th>\n",
              "      <td>75.099487</td>\n",
              "      <td></td>\n",
              "    </tr>\n",
              "    <tr>\n",
              "      <th>2009-01-05</th>\n",
              "      <td>75.010582</td>\n",
              "      <td></td>\n",
              "    </tr>\n",
              "    <tr>\n",
              "      <th>2009-01-06</th>\n",
              "      <td>75.511505</td>\n",
              "      <td></td>\n",
              "    </tr>\n",
              "    <tr>\n",
              "      <th>2009-01-07</th>\n",
              "      <td>73.249435</td>\n",
              "      <td></td>\n",
              "    </tr>\n",
              "    <tr>\n",
              "      <th>2009-01-08</th>\n",
              "      <td>73.548378</td>\n",
              "      <td></td>\n",
              "    </tr>\n",
              "  </tbody>\n",
              "</table>\n",
              "</div>"
            ],
            "text/plain": [
              "            Adj Close trade\n",
              "Date                       \n",
              "2009-01-02  75.099487      \n",
              "2009-01-05  75.010582      \n",
              "2009-01-06  75.511505      \n",
              "2009-01-07  73.249435      \n",
              "2009-01-08  73.548378      "
            ]
          },
          "metadata": {
            "tags": []
          },
          "execution_count": 12
        }
      ]
    },
    {
      "cell_type": "code",
      "metadata": {
        "id": "HSK3s4Rvi7gT",
        "outputId": "f630a4ca-64c1-42a9-d7f3-a51c8d99a09b",
        "colab": {
          "base_uri": "https://localhost:8080/",
          "height": 235
        }
      },
      "source": [
        "def create_trade_book(sample):\n",
        "    book = sample[['Adj Close']].copy()\n",
        "    book['trade'] = ''\n",
        "    return (book)\n",
        "book = create_trade_book(sample)\n",
        "book.head()"
      ],
      "execution_count": 13,
      "outputs": [
        {
          "output_type": "execute_result",
          "data": {
            "text/html": [
              "<div>\n",
              "<style scoped>\n",
              "    .dataframe tbody tr th:only-of-type {\n",
              "        vertical-align: middle;\n",
              "    }\n",
              "\n",
              "    .dataframe tbody tr th {\n",
              "        vertical-align: top;\n",
              "    }\n",
              "\n",
              "    .dataframe thead th {\n",
              "        text-align: right;\n",
              "    }\n",
              "</style>\n",
              "<table border=\"1\" class=\"dataframe\">\n",
              "  <thead>\n",
              "    <tr style=\"text-align: right;\">\n",
              "      <th></th>\n",
              "      <th>Adj Close</th>\n",
              "      <th>trade</th>\n",
              "    </tr>\n",
              "    <tr>\n",
              "      <th>Date</th>\n",
              "      <th></th>\n",
              "      <th></th>\n",
              "    </tr>\n",
              "  </thead>\n",
              "  <tbody>\n",
              "    <tr>\n",
              "      <th>2009-01-02</th>\n",
              "      <td>75.099487</td>\n",
              "      <td></td>\n",
              "    </tr>\n",
              "    <tr>\n",
              "      <th>2009-01-05</th>\n",
              "      <td>75.010582</td>\n",
              "      <td></td>\n",
              "    </tr>\n",
              "    <tr>\n",
              "      <th>2009-01-06</th>\n",
              "      <td>75.511505</td>\n",
              "      <td></td>\n",
              "    </tr>\n",
              "    <tr>\n",
              "      <th>2009-01-07</th>\n",
              "      <td>73.249435</td>\n",
              "      <td></td>\n",
              "    </tr>\n",
              "    <tr>\n",
              "      <th>2009-01-08</th>\n",
              "      <td>73.548378</td>\n",
              "      <td></td>\n",
              "    </tr>\n",
              "  </tbody>\n",
              "</table>\n",
              "</div>"
            ],
            "text/plain": [
              "            Adj Close trade\n",
              "Date                       \n",
              "2009-01-02  75.099487      \n",
              "2009-01-05  75.010582      \n",
              "2009-01-06  75.511505      \n",
              "2009-01-07  73.249435      \n",
              "2009-01-08  73.548378      "
            ]
          },
          "metadata": {
            "tags": []
          },
          "execution_count": 13
        }
      ]
    },
    {
      "cell_type": "code",
      "metadata": {
        "id": "RUN-niK0i7jH",
        "outputId": "a5759c22-85bb-4396-e0aa-082e9e5450e4",
        "colab": {
          "base_uri": "https://localhost:8080/",
          "height": 390
        }
      },
      "source": [
        "def tradings(sample, book):\n",
        "    for i in sample.index:\n",
        "        if sample.loc[i, 'Adj Close'] > sample.loc[i, 'ub']: # 상단밴드 이탈시 동작 안함\n",
        "            book.loc[i, 'trade'] = ''\n",
        "        elif sample.loc[i, 'lb'] > sample.loc[i, 'Adj Close']: # 하반밴드 이탈시 매수\n",
        "            if book.shift(1).loc[i, 'trade'] == 'buy':    # 이미 매수상태라면\n",
        "                book.loc[i, 'trade'] = 'buy'     # 매수상태 유지\n",
        "            else:\n",
        "                book.loc[i, 'trade'] = 'buy'    \n",
        "        elif sample.loc[i, 'ub'] >= sample.loc[i, 'Adj Close'] and sample.loc[i, 'Adj Close'] >= sample.loc[i, 'lb']: # 볼린저 밴드 안에 있을 시\n",
        "            if book.shift(1).loc[i, 'trade'] == 'buy':\n",
        "                book.loc[i, 'trade'] = 'buy'  # 매수상태 유지\n",
        "            else:\n",
        "                book.loc[i, 'trade'] = '' # 동작 안함\n",
        "    return (book)\n",
        "book = tradings(sample,book)\n",
        "book.tail(10)"
      ],
      "execution_count": 14,
      "outputs": [
        {
          "output_type": "execute_result",
          "data": {
            "text/html": [
              "<div>\n",
              "<style scoped>\n",
              "    .dataframe tbody tr th:only-of-type {\n",
              "        vertical-align: middle;\n",
              "    }\n",
              "\n",
              "    .dataframe tbody tr th {\n",
              "        vertical-align: top;\n",
              "    }\n",
              "\n",
              "    .dataframe thead th {\n",
              "        text-align: right;\n",
              "    }\n",
              "</style>\n",
              "<table border=\"1\" class=\"dataframe\">\n",
              "  <thead>\n",
              "    <tr style=\"text-align: right;\">\n",
              "      <th></th>\n",
              "      <th>Adj Close</th>\n",
              "      <th>trade</th>\n",
              "    </tr>\n",
              "    <tr>\n",
              "      <th>Date</th>\n",
              "      <th></th>\n",
              "      <th></th>\n",
              "    </tr>\n",
              "  </thead>\n",
              "  <tbody>\n",
              "    <tr>\n",
              "      <th>2019-06-11</th>\n",
              "      <td>287.501678</td>\n",
              "      <td>buy</td>\n",
              "    </tr>\n",
              "    <tr>\n",
              "      <th>2019-06-12</th>\n",
              "      <td>286.994171</td>\n",
              "      <td>buy</td>\n",
              "    </tr>\n",
              "    <tr>\n",
              "      <th>2019-06-13</th>\n",
              "      <td>288.178375</td>\n",
              "      <td>buy</td>\n",
              "    </tr>\n",
              "    <tr>\n",
              "      <th>2019-06-14</th>\n",
              "      <td>287.859955</td>\n",
              "      <td>buy</td>\n",
              "    </tr>\n",
              "    <tr>\n",
              "      <th>2019-06-17</th>\n",
              "      <td>287.969391</td>\n",
              "      <td>buy</td>\n",
              "    </tr>\n",
              "    <tr>\n",
              "      <th>2019-06-18</th>\n",
              "      <td>290.984741</td>\n",
              "      <td>buy</td>\n",
              "    </tr>\n",
              "    <tr>\n",
              "      <th>2019-06-19</th>\n",
              "      <td>291.641541</td>\n",
              "      <td>buy</td>\n",
              "    </tr>\n",
              "    <tr>\n",
              "      <th>2019-06-20</th>\n",
              "      <td>294.427979</td>\n",
              "      <td>buy</td>\n",
              "    </tr>\n",
              "    <tr>\n",
              "      <th>2019-06-21</th>\n",
              "      <td>294.000000</td>\n",
              "      <td>buy</td>\n",
              "    </tr>\n",
              "    <tr>\n",
              "      <th>2019-06-24</th>\n",
              "      <td>293.640015</td>\n",
              "      <td>buy</td>\n",
              "    </tr>\n",
              "  </tbody>\n",
              "</table>\n",
              "</div>"
            ],
            "text/plain": [
              "             Adj Close trade\n",
              "Date                        \n",
              "2019-06-11  287.501678   buy\n",
              "2019-06-12  286.994171   buy\n",
              "2019-06-13  288.178375   buy\n",
              "2019-06-14  287.859955   buy\n",
              "2019-06-17  287.969391   buy\n",
              "2019-06-18  290.984741   buy\n",
              "2019-06-19  291.641541   buy\n",
              "2019-06-20  294.427979   buy\n",
              "2019-06-21  294.000000   buy\n",
              "2019-06-24  293.640015   buy"
            ]
          },
          "metadata": {
            "tags": []
          },
          "execution_count": 14
        }
      ]
    },
    {
      "cell_type": "code",
      "metadata": {
        "id": "yR9rlb8njetZ",
        "outputId": "010c4af5-a07d-4b5d-91ac-585538d7522a",
        "colab": {
          "base_uri": "https://localhost:8080/"
        }
      },
      "source": [
        "for i in book.index:\n",
        "    if book.loc[i, 'trade'] == 'buy' and book.shift(1).loc[i, 'trade'] == '':     # long 진입\n",
        "        buy = book.loc[i, 'Adj Close']\n",
        "        print('진입일 : ',i, 'long 진입가격 : ', buy)\n",
        "    elif book.loc[i, 'trade'] == '' and book.shift(1).loc[i, 'trade'] == 'buy':     # long 청산\n",
        "        sell = book.loc[i, 'Adj Close']\n",
        "        rtn = (sell - buy) / buy + 1 # 손익 계산\n",
        "        book.loc[i, 'return'] = rtn\n",
        "        print('청산일 : ',i, 'long 진입가격 : ', buy, ' |  long 청산가격 : ', \\\n",
        "              sell, ' | return:', round(rtn, 4))\n",
        "\n",
        "    if book.loc[i, 'trade'] == '':     # zero position\n",
        "        buy = 0.0\n",
        "        sell = 0.0"
      ],
      "execution_count": 15,
      "outputs": [
        {
          "output_type": "stream",
          "text": [
            "진입일 :  2009-01-20 long 진입가격 :  65.089966\n",
            "청산일 :  2009-03-23 long 진입가격 :  65.089966  |  long 청산가격 :  66.898392  | return: 1.0278\n",
            "진입일 :  2010-01-22 long 진입가격 :  90.269791\n",
            "청산일 :  2010-04-14 long 진입가격 :  90.269791  |  long 청산가격 :  100.584618  | return: 1.1143\n",
            "진입일 :  2010-05-04 long 진입가격 :  97.538597\n",
            "청산일 :  2010-10-13 long 진입가격 :  97.538597  |  long 청산가격 :  98.862717  | return: 1.0136\n",
            "진입일 :  2011-03-10 long 진입가격 :  109.513054\n",
            "청산일 :  2011-04-26 long 진입가격 :  109.513054  |  long 청산가격 :  114.094101  | return: 1.0418\n",
            "진입일 :  2011-05-23 long 진입가격 :  111.783257\n",
            "청산일 :  2011-06-30 long 진입가격 :  111.783257  |  long 청산가격 :  112.26088  | return: 1.0043\n",
            "진입일 :  2011-08-02 long 진입가격 :  106.748672\n",
            "청산일 :  2012-02-03 long 진입가격 :  106.748672  |  long 청산가격 :  115.768776  | return: 1.0845\n",
            "진입일 :  2012-04-10 long 진입가격 :  117.45151499999999\n",
            "청산일 :  2012-07-03 long 진입가격 :  117.45151499999999  |  long 청산가격 :  119.371857  | return: 1.0164\n",
            "진입일 :  2012-10-23 long 진입가격 :  123.511292\n",
            "청산일 :  2012-12-18 long 진입가격 :  123.511292  |  long 청산가격 :  126.961044  | return: 1.0279\n",
            "진입일 :  2013-06-05 long 진입가격 :  142.477417\n",
            "청산일 :  2013-07-11 long 진입가격 :  142.477417  |  long 청산가격 :  148.711197  | return: 1.0438\n",
            "진입일 :  2013-08-15 long 진입가격 :  147.769791\n",
            "청산일 :  2013-09-11 long 진입가격 :  147.769791  |  long 청산가격 :  150.45195  | return: 1.0182\n",
            "진입일 :  2013-10-08 long 진입가격 :  147.68678300000002\n",
            "청산일 :  2013-10-17 long 진입가격 :  147.68678300000002  |  long 청산가격 :  154.594528  | return: 1.0468\n",
            "진입일 :  2014-01-24 long 진입가격 :  160.52166699999998\n",
            "청산일 :  2014-04-02 long 진입가격 :  160.52166699999998  |  long 청산가격 :  170.233917  | return: 1.0605\n",
            "진입일 :  2014-04-11 long 진입가격 :  163.591492\n",
            "청산일 :  2014-05-27 long 진입가격 :  163.591492  |  long 청산가격 :  172.613312  | return: 1.0551\n",
            "진입일 :  2014-07-31 long 진입가격 :  174.862244\n",
            "청산일 :  2014-09-18 long 진입가격 :  174.862244  |  long 청산가격 :  182.76814299999998  | return: 1.0452\n",
            "진입일 :  2014-09-25 long 진입가격 :  178.636536\n",
            "청산일 :  2016-04-13 long 진입가격 :  178.636536  |  long 청산가격 :  195.218124  | return: 1.0928\n",
            "진입일 :  2016-06-24 long 진입가격 :  191.74258400000002\n",
            "청산일 :  2016-08-11 long 진입가격 :  191.74258400000002  |  long 청산가격 :  206.280853  | return: 1.0758\n",
            "진입일 :  2016-09-09 long 진입가격 :  201.21463\n",
            "청산일 :  2016-12-07 long 진입가격 :  201.21463  |  long 청산가격 :  212.96461499999998  | return: 1.0584\n",
            "진입일 :  2017-03-21 long 진입가격 :  223.89772000000002\n",
            "청산일 :  2017-04-24 long 진입가격 :  223.89772000000002  |  long 청산가격 :  227.19300800000002  | return: 1.0147\n",
            "진입일 :  2017-07-06 long 진입가격 :  231.55455\n",
            "청산일 :  2017-07-14 long 진입가격 :  231.55455  |  long 청산가격 :  236.37718199999998  | return: 1.0208\n",
            "진입일 :  2017-08-10 long 진입가격 :  234.644501\n",
            "청산일 :  2017-09-11 long 진입가격 :  234.644501  |  long 청산가격 :  239.89070099999998  | return: 1.0224\n",
            "진입일 :  2018-02-05 long 진입가격 :  256.626129\n",
            "청산일 :  2018-05-10 long 진입가격 :  256.626129  |  long 청산가격 :  265.551544  | return: 1.0348\n",
            "진입일 :  2018-06-27 long 진입가격 :  264.125763\n",
            "청산일 :  2018-08-07 long 진입가격 :  264.125763  |  long 청산가격 :  280.04098500000003  | return: 1.0603\n",
            "진입일 :  2018-10-10 long 진입가격 :  274.137573\n",
            "청산일 :  2019-03-18 long 진입가격 :  274.137573  |  long 청산가격 :  280.96347000000003  | return: 1.0249\n",
            "진입일 :  2019-05-13 long 진입가격 :  279.50057999999996\n"
          ],
          "name": "stdout"
        }
      ]
    },
    {
      "cell_type": "code",
      "metadata": {
        "id": "s3trMLTxjo3a",
        "outputId": "4f95bf16-42fd-4754-8402-3b7877408b26",
        "colab": {
          "base_uri": "https://localhost:8080/"
        }
      },
      "source": [
        "def returns(book):\n",
        "    # 손익 계산\n",
        "    rtn = 1.0\n",
        "    book['return'] = 1\n",
        "    buy = 0.0\n",
        "    sell = 0.0\n",
        "    for i in book.index:\n",
        "        if book.loc[i, 'trade'] == 'buy' and book.shift(1).loc[i, 'trade'] == '':     # long 진입\n",
        "            buy = book.loc[i, 'Adj Close']\n",
        "            print('진입일 : ',i, 'long 진입가격 : ', buy)\n",
        "        elif book.loc[i, 'trade'] == '' and book.shift(1).loc[i, 'trade'] == 'buy':     # long 청산\n",
        "            sell = book.loc[i, 'Adj Close']\n",
        "            rtn = (sell - buy) / buy + 1 # 손익 계산\n",
        "            book.loc[i, 'return'] = rtn\n",
        "            print('청산일 : ',i, 'long 진입가격 : ', buy, ' |  long 청산가격 : ', \\\n",
        "                  sell, ' | return:', round(rtn, 4))\n",
        "    \n",
        "        if book.loc[i, 'trade'] == '':     # zero position\n",
        "            buy = 0.0\n",
        "            sell = 0.0\n",
        "    \n",
        "    acc_rtn = 1.0\n",
        "    for i in book.index:\n",
        "        rtn = book.loc[i, 'return']\n",
        "        acc_rtn = acc_rtn * rtn  # 누적 수익률 계산\n",
        "        book.loc[i, 'acc return'] = acc_rtn\n",
        "\n",
        "    print ('Accunulated return :', round(acc_rtn, 4))\n",
        "    return (round(acc_rtn, 4))\n",
        "\n",
        "print(returns(book))"
      ],
      "execution_count": 16,
      "outputs": [
        {
          "output_type": "stream",
          "text": [
            "진입일 :  2009-01-20 long 진입가격 :  65.089966\n",
            "청산일 :  2009-03-23 long 진입가격 :  65.089966  |  long 청산가격 :  66.898392  | return: 1.0278\n",
            "진입일 :  2010-01-22 long 진입가격 :  90.269791\n",
            "청산일 :  2010-04-14 long 진입가격 :  90.269791  |  long 청산가격 :  100.584618  | return: 1.1143\n",
            "진입일 :  2010-05-04 long 진입가격 :  97.538597\n",
            "청산일 :  2010-10-13 long 진입가격 :  97.538597  |  long 청산가격 :  98.862717  | return: 1.0136\n",
            "진입일 :  2011-03-10 long 진입가격 :  109.513054\n",
            "청산일 :  2011-04-26 long 진입가격 :  109.513054  |  long 청산가격 :  114.094101  | return: 1.0418\n",
            "진입일 :  2011-05-23 long 진입가격 :  111.783257\n",
            "청산일 :  2011-06-30 long 진입가격 :  111.783257  |  long 청산가격 :  112.26088  | return: 1.0043\n",
            "진입일 :  2011-08-02 long 진입가격 :  106.748672\n",
            "청산일 :  2012-02-03 long 진입가격 :  106.748672  |  long 청산가격 :  115.768776  | return: 1.0845\n",
            "진입일 :  2012-04-10 long 진입가격 :  117.45151499999999\n",
            "청산일 :  2012-07-03 long 진입가격 :  117.45151499999999  |  long 청산가격 :  119.371857  | return: 1.0164\n",
            "진입일 :  2012-10-23 long 진입가격 :  123.511292\n",
            "청산일 :  2012-12-18 long 진입가격 :  123.511292  |  long 청산가격 :  126.961044  | return: 1.0279\n",
            "진입일 :  2013-06-05 long 진입가격 :  142.477417\n",
            "청산일 :  2013-07-11 long 진입가격 :  142.477417  |  long 청산가격 :  148.711197  | return: 1.0438\n",
            "진입일 :  2013-08-15 long 진입가격 :  147.769791\n",
            "청산일 :  2013-09-11 long 진입가격 :  147.769791  |  long 청산가격 :  150.45195  | return: 1.0182\n",
            "진입일 :  2013-10-08 long 진입가격 :  147.68678300000002\n",
            "청산일 :  2013-10-17 long 진입가격 :  147.68678300000002  |  long 청산가격 :  154.594528  | return: 1.0468\n",
            "진입일 :  2014-01-24 long 진입가격 :  160.52166699999998\n",
            "청산일 :  2014-04-02 long 진입가격 :  160.52166699999998  |  long 청산가격 :  170.233917  | return: 1.0605\n",
            "진입일 :  2014-04-11 long 진입가격 :  163.591492\n",
            "청산일 :  2014-05-27 long 진입가격 :  163.591492  |  long 청산가격 :  172.613312  | return: 1.0551\n",
            "진입일 :  2014-07-31 long 진입가격 :  174.862244\n",
            "청산일 :  2014-09-18 long 진입가격 :  174.862244  |  long 청산가격 :  182.76814299999998  | return: 1.0452\n",
            "진입일 :  2014-09-25 long 진입가격 :  178.636536\n",
            "청산일 :  2016-04-13 long 진입가격 :  178.636536  |  long 청산가격 :  195.218124  | return: 1.0928\n",
            "진입일 :  2016-06-24 long 진입가격 :  191.74258400000002\n",
            "청산일 :  2016-08-11 long 진입가격 :  191.74258400000002  |  long 청산가격 :  206.280853  | return: 1.0758\n",
            "진입일 :  2016-09-09 long 진입가격 :  201.21463\n",
            "청산일 :  2016-12-07 long 진입가격 :  201.21463  |  long 청산가격 :  212.96461499999998  | return: 1.0584\n",
            "진입일 :  2017-03-21 long 진입가격 :  223.89772000000002\n",
            "청산일 :  2017-04-24 long 진입가격 :  223.89772000000002  |  long 청산가격 :  227.19300800000002  | return: 1.0147\n",
            "진입일 :  2017-07-06 long 진입가격 :  231.55455\n",
            "청산일 :  2017-07-14 long 진입가격 :  231.55455  |  long 청산가격 :  236.37718199999998  | return: 1.0208\n",
            "진입일 :  2017-08-10 long 진입가격 :  234.644501\n",
            "청산일 :  2017-09-11 long 진입가격 :  234.644501  |  long 청산가격 :  239.89070099999998  | return: 1.0224\n",
            "진입일 :  2018-02-05 long 진입가격 :  256.626129\n",
            "청산일 :  2018-05-10 long 진입가격 :  256.626129  |  long 청산가격 :  265.551544  | return: 1.0348\n",
            "진입일 :  2018-06-27 long 진입가격 :  264.125763\n",
            "청산일 :  2018-08-07 long 진입가격 :  264.125763  |  long 청산가격 :  280.04098500000003  | return: 1.0603\n",
            "진입일 :  2018-10-10 long 진입가격 :  274.137573\n",
            "청산일 :  2019-03-18 long 진입가격 :  274.137573  |  long 청산가격 :  280.96347000000003  | return: 1.0249\n",
            "진입일 :  2019-05-13 long 진입가격 :  279.50057999999996\n",
            "Accunulated return : 2.6528\n",
            "2.6528\n"
          ],
          "name": "stdout"
        }
      ]
    },
    {
      "cell_type": "code",
      "metadata": {
        "id": "K6pCyWU2jo5t",
        "outputId": "2db2b144-872d-4794-f42c-3fbd00d9871c",
        "colab": {
          "base_uri": "https://localhost:8080/",
          "height": 297
        }
      },
      "source": [
        "import matplotlib.pylab as plt\n",
        "book['acc return'].plot()"
      ],
      "execution_count": 17,
      "outputs": [
        {
          "output_type": "execute_result",
          "data": {
            "text/plain": [
              "<matplotlib.axes._subplots.AxesSubplot at 0x7fb9bf9a1d68>"
            ]
          },
          "metadata": {
            "tags": []
          },
          "execution_count": 17
        },
        {
          "output_type": "display_data",
          "data": {
            "image/png": "[encoded data removed]",
            "text/plain": [
              "<Figure size 432x288 with 1 Axes>"
            ]
          },
          "metadata": {
            "tags": [],
            "needs_background": "light"
          }
        }
      ]
    },
    {
      "cell_type": "code",
      "metadata": {
        "id": "0717ykLRj2RN",
        "outputId": "014d3a44-ce72-40b4-a25a-efe486824dde",
        "colab": {
          "base_uri": "https://localhost:8080/",
          "height": 235
        }
      },
      "source": [
        "book.tail()"
      ],
      "execution_count": 18,
      "outputs": [
        {
          "output_type": "execute_result",
          "data": {
            "text/html": [
              "<div>\n",
              "<style scoped>\n",
              "    .dataframe tbody tr th:only-of-type {\n",
              "        vertical-align: middle;\n",
              "    }\n",
              "\n",
              "    .dataframe tbody tr th {\n",
              "        vertical-align: top;\n",
              "    }\n",
              "\n",
              "    .dataframe thead th {\n",
              "        text-align: right;\n",
              "    }\n",
              "</style>\n",
              "<table border=\"1\" class=\"dataframe\">\n",
              "  <thead>\n",
              "    <tr style=\"text-align: right;\">\n",
              "      <th></th>\n",
              "      <th>Adj Close</th>\n",
              "      <th>trade</th>\n",
              "      <th>return</th>\n",
              "      <th>acc return</th>\n",
              "    </tr>\n",
              "    <tr>\n",
              "      <th>Date</th>\n",
              "      <th></th>\n",
              "      <th></th>\n",
              "      <th></th>\n",
              "      <th></th>\n",
              "    </tr>\n",
              "  </thead>\n",
              "  <tbody>\n",
              "    <tr>\n",
              "      <th>2019-06-18</th>\n",
              "      <td>290.984741</td>\n",
              "      <td>buy</td>\n",
              "      <td>1.0</td>\n",
              "      <td>2.652793</td>\n",
              "    </tr>\n",
              "    <tr>\n",
              "      <th>2019-06-19</th>\n",
              "      <td>291.641541</td>\n",
              "      <td>buy</td>\n",
              "      <td>1.0</td>\n",
              "      <td>2.652793</td>\n",
              "    </tr>\n",
              "    <tr>\n",
              "      <th>2019-06-20</th>\n",
              "      <td>294.427979</td>\n",
              "      <td>buy</td>\n",
              "      <td>1.0</td>\n",
              "      <td>2.652793</td>\n",
              "    </tr>\n",
              "    <tr>\n",
              "      <th>2019-06-21</th>\n",
              "      <td>294.000000</td>\n",
              "      <td>buy</td>\n",
              "      <td>1.0</td>\n",
              "      <td>2.652793</td>\n",
              "    </tr>\n",
              "    <tr>\n",
              "      <th>2019-06-24</th>\n",
              "      <td>293.640015</td>\n",
              "      <td>buy</td>\n",
              "      <td>1.0</td>\n",
              "      <td>2.652793</td>\n",
              "    </tr>\n",
              "  </tbody>\n",
              "</table>\n",
              "</div>"
            ],
            "text/plain": [
              "             Adj Close trade  return  acc return\n",
              "Date                                            \n",
              "2019-06-18  290.984741   buy     1.0    2.652793\n",
              "2019-06-19  291.641541   buy     1.0    2.652793\n",
              "2019-06-20  294.427979   buy     1.0    2.652793\n",
              "2019-06-21  294.000000   buy     1.0    2.652793\n",
              "2019-06-24  293.640015   buy     1.0    2.652793"
            ]
          },
          "metadata": {
            "tags": []
          },
          "execution_count": 18
        }
      ]
    }
  ]
}