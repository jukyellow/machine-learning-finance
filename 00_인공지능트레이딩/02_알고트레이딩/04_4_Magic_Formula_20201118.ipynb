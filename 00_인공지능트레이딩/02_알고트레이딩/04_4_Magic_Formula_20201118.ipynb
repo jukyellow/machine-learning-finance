{
  "nbformat": 4,
  "nbformat_minor": 0,
  "metadata": {
    "colab": {
      "name": "04_4_Magic_Formula_20201118.ipynb",
      "provenance": [],
      "collapsed_sections": []
    },
    "kernelspec": {
      "name": "python3",
      "display_name": "Python 3"
    }
  },
  "cells": [
    {
      "cell_type": "code",
      "metadata": {
        "id": "Mm0ncU6BH1vZ"
      },
      "source": [
        "# https://github.com/jukyellow/algoTrade/blob/master/ch04/4.6%20%EB%A7%88%EB%B2%95%EA%B3%B5%EC%8B%9D%20%EA%B5%AC%ED%98%84.ipynb"
      ],
      "execution_count": null,
      "outputs": []
    },
    {
      "cell_type": "code",
      "metadata": {
        "colab": {
          "base_uri": "https://localhost:8080/"
        },
        "id": "dL-ni-CXIXrB",
        "outputId": "4635c3ae-58f8-4668-ead2-e2ac2ae55928"
      },
      "source": [
        "pip install -U finance-datareader"
      ],
      "execution_count": 4,
      "outputs": [
        {
          "output_type": "stream",
          "text": [
            "Collecting finance-datareader\n",
            "  Downloading https://files.pythonhosted.org/packages/ed/10/1f819839aae5d08e6cc7b29425d278c10104a18e0155282aa2ce552e3fa2/finance_datareader-0.9.10-py3-none-any.whl\n",
            "Requirement already satisfied, skipping upgrade: requests>=2.3.0 in /usr/local/lib/python3.6/dist-packages (from finance-datareader) (2.23.0)\n",
            "Requirement already satisfied, skipping upgrade: pandas>=0.19.2 in /usr/local/lib/python3.6/dist-packages (from finance-datareader) (1.1.4)\n",
            "Collecting requests-file\n",
            "  Downloading https://files.pythonhosted.org/packages/77/86/cdb5e8eaed90796aa83a6d9f75cfbd37af553c47a291cd47bc410ef9bdb2/requests_file-1.5.1-py2.py3-none-any.whl\n",
            "Requirement already satisfied, skipping upgrade: tqdm in /usr/local/lib/python3.6/dist-packages (from finance-datareader) (4.41.1)\n",
            "Requirement already satisfied, skipping upgrade: lxml in /usr/local/lib/python3.6/dist-packages (from finance-datareader) (4.2.6)\n",
            "Requirement already satisfied, skipping upgrade: urllib3!=1.25.0,!=1.25.1,<1.26,>=1.21.1 in /usr/local/lib/python3.6/dist-packages (from requests>=2.3.0->finance-datareader) (1.24.3)\n",
            "Requirement already satisfied, skipping upgrade: certifi>=2017.4.17 in /usr/local/lib/python3.6/dist-packages (from requests>=2.3.0->finance-datareader) (2020.6.20)\n",
            "Requirement already satisfied, skipping upgrade: chardet<4,>=3.0.2 in /usr/local/lib/python3.6/dist-packages (from requests>=2.3.0->finance-datareader) (3.0.4)\n",
            "Requirement already satisfied, skipping upgrade: idna<3,>=2.5 in /usr/local/lib/python3.6/dist-packages (from requests>=2.3.0->finance-datareader) (2.10)\n",
            "Requirement already satisfied, skipping upgrade: numpy>=1.15.4 in /usr/local/lib/python3.6/dist-packages (from pandas>=0.19.2->finance-datareader) (1.18.5)\n",
            "Requirement already satisfied, skipping upgrade: python-dateutil>=2.7.3 in /usr/local/lib/python3.6/dist-packages (from pandas>=0.19.2->finance-datareader) (2.8.1)\n",
            "Requirement already satisfied, skipping upgrade: pytz>=2017.2 in /usr/local/lib/python3.6/dist-packages (from pandas>=0.19.2->finance-datareader) (2018.9)\n",
            "Requirement already satisfied, skipping upgrade: six in /usr/local/lib/python3.6/dist-packages (from requests-file->finance-datareader) (1.15.0)\n",
            "Installing collected packages: requests-file, finance-datareader\n",
            "Successfully installed finance-datareader-0.9.10 requests-file-1.5.1\n"
          ],
          "name": "stdout"
        }
      ]
    },
    {
      "cell_type": "code",
      "metadata": {
        "id": "128ycojGIJVQ"
      },
      "source": [
        "import FinanceDataReader as fdr\n",
        "import pandas as pd\n",
        "import numpy as np"
      ],
      "execution_count": 42,
      "outputs": []
    },
    {
      "cell_type": "code",
      "metadata": {
        "colab": {
          "base_uri": "https://localhost:8080/",
          "height": 428
        },
        "id": "b7he48gSIJXe",
        "outputId": "7b4df5ed-351d-4d84-db41-ccce2b80189b"
      },
      "source": [
        "krx_df = fdr.StockListing('KRX')\n",
        "krx_df.head()"
      ],
      "execution_count": 43,
      "outputs": [
        {
          "output_type": "execute_result",
          "data": {
            "text/html": [
              "<div>\n",
              "<style scoped>\n",
              "    .dataframe tbody tr th:only-of-type {\n",
              "        vertical-align: middle;\n",
              "    }\n",
              "\n",
              "    .dataframe tbody tr th {\n",
              "        vertical-align: top;\n",
              "    }\n",
              "\n",
              "    .dataframe thead th {\n",
              "        text-align: right;\n",
              "    }\n",
              "</style>\n",
              "<table border=\"1\" class=\"dataframe\">\n",
              "  <thead>\n",
              "    <tr style=\"text-align: right;\">\n",
              "      <th></th>\n",
              "      <th>Symbol</th>\n",
              "      <th>Market</th>\n",
              "      <th>Name</th>\n",
              "      <th>Sector</th>\n",
              "      <th>Industry</th>\n",
              "      <th>ListingDate</th>\n",
              "      <th>SettleMonth</th>\n",
              "      <th>Representative</th>\n",
              "      <th>HomePage</th>\n",
              "      <th>Region</th>\n",
              "    </tr>\n",
              "  </thead>\n",
              "  <tbody>\n",
              "    <tr>\n",
              "      <th>0</th>\n",
              "      <td>060310</td>\n",
              "      <td>KOSDAQ</td>\n",
              "      <td>3S</td>\n",
              "      <td>특수 목적용 기계 제조업</td>\n",
              "      <td>반도체 웨이퍼 캐리어</td>\n",
              "      <td>2002-04-23</td>\n",
              "      <td>03월</td>\n",
              "      <td>박종익, 김세완 (각자 대표이사)</td>\n",
              "      <td>http://www.3sref.com</td>\n",
              "      <td>서울특별시</td>\n",
              "    </tr>\n",
              "    <tr>\n",
              "      <th>1</th>\n",
              "      <td>095570</td>\n",
              "      <td>KOSPI</td>\n",
              "      <td>AJ네트웍스</td>\n",
              "      <td>산업용 기계 및 장비 임대업</td>\n",
              "      <td>렌탈(파렛트, OA장비, 건설장비)</td>\n",
              "      <td>2015-08-21</td>\n",
              "      <td>12월</td>\n",
              "      <td>이현우</td>\n",
              "      <td>http://www.ajnet.co.kr</td>\n",
              "      <td>서울특별시</td>\n",
              "    </tr>\n",
              "    <tr>\n",
              "      <th>2</th>\n",
              "      <td>006840</td>\n",
              "      <td>KOSPI</td>\n",
              "      <td>AK홀딩스</td>\n",
              "      <td>기타 금융업</td>\n",
              "      <td>지주사업</td>\n",
              "      <td>1999-08-11</td>\n",
              "      <td>12월</td>\n",
              "      <td>채형석, 이석주(각자 대표이사)</td>\n",
              "      <td>http://www.aekyunggroup.co.kr</td>\n",
              "      <td>서울특별시</td>\n",
              "    </tr>\n",
              "    <tr>\n",
              "      <th>3</th>\n",
              "      <td>054620</td>\n",
              "      <td>KOSDAQ</td>\n",
              "      <td>APS홀딩스</td>\n",
              "      <td>기타 금융업</td>\n",
              "      <td>인터넷 트래픽 솔루션</td>\n",
              "      <td>2001-12-04</td>\n",
              "      <td>12월</td>\n",
              "      <td>정기로</td>\n",
              "      <td>http://www.apsholdings.co.kr</td>\n",
              "      <td>경기도</td>\n",
              "    </tr>\n",
              "    <tr>\n",
              "      <th>4</th>\n",
              "      <td>265520</td>\n",
              "      <td>KOSDAQ</td>\n",
              "      <td>AP시스템</td>\n",
              "      <td>특수 목적용 기계 제조업</td>\n",
              "      <td>디스플레이 제조 장비</td>\n",
              "      <td>2017-04-07</td>\n",
              "      <td>12월</td>\n",
              "      <td>김영주</td>\n",
              "      <td>http://www.apsystems.co.kr</td>\n",
              "      <td>경기도</td>\n",
              "    </tr>\n",
              "  </tbody>\n",
              "</table>\n",
              "</div>"
            ],
            "text/plain": [
              "   Symbol  Market  ...                       HomePage Region\n",
              "0  060310  KOSDAQ  ...           http://www.3sref.com  서울특별시\n",
              "1  095570   KOSPI  ...         http://www.ajnet.co.kr  서울특별시\n",
              "2  006840   KOSPI  ...  http://www.aekyunggroup.co.kr  서울특별시\n",
              "3  054620  KOSDAQ  ...   http://www.apsholdings.co.kr    경기도\n",
              "4  265520  KOSDAQ  ...     http://www.apsystems.co.kr    경기도\n",
              "\n",
              "[5 rows x 10 columns]"
            ]
          },
          "metadata": {
            "tags": []
          },
          "execution_count": 43
        }
      ]
    },
    {
      "cell_type": "code",
      "metadata": {
        "id": "ldEE4FCyID83"
      },
      "source": [
        "#PER: 자본수익률, ROA: 이익수익률\n",
        "def sort_value(someValue, asc=True, standard=0): # 특정 지표를 오름차순(내림차순=False)으로 순위를 매김\n",
        "    \n",
        "    someValue_mask = someValue.mask(someValue<standard, np.nan)\n",
        "    someValue_rank = someValue_mask.rank(axis=1, ascending=asc, na_option=\"bottom\")\n",
        "    \n",
        "    return someValue_rank\n",
        "\n",
        "def MagicFormula(PER, ROA): #마법공식\n",
        "    \n",
        "    PER_rank = sort_value(PER, asc=True)\n",
        "    ROA_rank = sort_value(ROA, asc=False)\n",
        "    \n",
        "    result_rank = PER_rank + ROA_rank\n",
        "    \n",
        "    result = result_rank.rank(axis=1, ascending=True)\n",
        "    \n",
        "    result = result.where(result <= 10, 0)\n",
        "    result = result.mask(result > 0, 1)\n",
        "    \n",
        "    return result"
      ],
      "execution_count": 7,
      "outputs": []
    },
    {
      "cell_type": "code",
      "metadata": {
        "colab": {
          "base_uri": "https://localhost:8080/",
          "height": 35
        },
        "id": "SzzbvdELID_Z",
        "outputId": "c45956d1-13a1-4c1e-e1c8-fb24d9fba101"
      },
      "source": [
        "krx_df['Symbol'][0]"
      ],
      "execution_count": 8,
      "outputs": [
        {
          "output_type": "execute_result",
          "data": {
            "application/vnd.google.colaboratory.intrinsic+json": {
              "type": "string"
            },
            "text/plain": [
              "'060310'"
            ]
          },
          "metadata": {
            "tags": []
          },
          "execution_count": 8
        }
      ]
    },
    {
      "cell_type": "code",
      "metadata": {
        "colab": {
          "base_uri": "https://localhost:8080/",
          "height": 222
        },
        "id": "w4PnQXNCIEBp",
        "outputId": "0a4f13e0-4197-4da4-84fa-ed346a5efeb3"
      },
      "source": [
        "df = pd.read_csv('PER_ROA.csv',engine='python', encoding='cp949')\n",
        "print(df.size)\n",
        "df.head()"
      ],
      "execution_count": 44,
      "outputs": [
        {
          "output_type": "stream",
          "text": [
            "15300\n"
          ],
          "name": "stdout"
        },
        {
          "output_type": "execute_result",
          "data": {
            "text/html": [
              "<div>\n",
              "<style scoped>\n",
              "    .dataframe tbody tr th:only-of-type {\n",
              "        vertical-align: middle;\n",
              "    }\n",
              "\n",
              "    .dataframe tbody tr th {\n",
              "        vertical-align: top;\n",
              "    }\n",
              "\n",
              "    .dataframe thead th {\n",
              "        text-align: right;\n",
              "    }\n",
              "</style>\n",
              "<table border=\"1\" class=\"dataframe\">\n",
              "  <thead>\n",
              "    <tr style=\"text-align: right;\">\n",
              "      <th></th>\n",
              "      <th>종목명</th>\n",
              "      <th>현재가</th>\n",
              "      <th>전일비</th>\n",
              "      <th>등락률</th>\n",
              "      <th>액면가</th>\n",
              "      <th>거래량</th>\n",
              "      <th>시가총액</th>\n",
              "      <th>영업이익</th>\n",
              "      <th>PER</th>\n",
              "      <th>ROA</th>\n",
              "    </tr>\n",
              "  </thead>\n",
              "  <tbody>\n",
              "    <tr>\n",
              "      <th>0</th>\n",
              "      <td>삼성전자</td>\n",
              "      <td>43950</td>\n",
              "      <td>100</td>\n",
              "      <td>-0.23%</td>\n",
              "      <td>100</td>\n",
              "      <td>4637815</td>\n",
              "      <td>2623719</td>\n",
              "      <td>588867.0</td>\n",
              "      <td>7.30</td>\n",
              "      <td>13.83</td>\n",
              "    </tr>\n",
              "    <tr>\n",
              "      <th>1</th>\n",
              "      <td>SK하이닉스</td>\n",
              "      <td>74400</td>\n",
              "      <td>600</td>\n",
              "      <td>0.81%</td>\n",
              "      <td>5000</td>\n",
              "      <td>1673056</td>\n",
              "      <td>541634</td>\n",
              "      <td>208438.0</td>\n",
              "      <td>3.49</td>\n",
              "      <td>28.49</td>\n",
              "    </tr>\n",
              "    <tr>\n",
              "      <th>2</th>\n",
              "      <td>삼성전자우</td>\n",
              "      <td>36350</td>\n",
              "      <td>350</td>\n",
              "      <td>-0.95%</td>\n",
              "      <td>100</td>\n",
              "      <td>553133</td>\n",
              "      <td>299119</td>\n",
              "      <td>NaN</td>\n",
              "      <td>6.03</td>\n",
              "      <td>NaN</td>\n",
              "    </tr>\n",
              "    <tr>\n",
              "      <th>3</th>\n",
              "      <td>현대차</td>\n",
              "      <td>126000</td>\n",
              "      <td>2000</td>\n",
              "      <td>1.61%</td>\n",
              "      <td>5000</td>\n",
              "      <td>252713</td>\n",
              "      <td>269222</td>\n",
              "      <td>24222.0</td>\n",
              "      <td>23.54</td>\n",
              "      <td>0.92</td>\n",
              "    </tr>\n",
              "    <tr>\n",
              "      <th>4</th>\n",
              "      <td>NAVER</td>\n",
              "      <td>148500</td>\n",
              "      <td>500</td>\n",
              "      <td>0.34%</td>\n",
              "      <td>100</td>\n",
              "      <td>367244</td>\n",
              "      <td>244748</td>\n",
              "      <td>9425.0</td>\n",
              "      <td>37.72</td>\n",
              "      <td>7.02</td>\n",
              "    </tr>\n",
              "  </tbody>\n",
              "</table>\n",
              "</div>"
            ],
            "text/plain": [
              "      종목명     현재가   전일비     등락률   액면가      거래량     시가총액      영업이익    PER    ROA\n",
              "0    삼성전자   43950   100  -0.23%   100  4637815  2623719  588867.0   7.30  13.83\n",
              "1  SK하이닉스   74400   600   0.81%  5000  1673056   541634  208438.0   3.49  28.49\n",
              "2   삼성전자우   36350   350  -0.95%   100   553133   299119       NaN   6.03    NaN\n",
              "3     현대차  126000  2000   1.61%  5000   252713   269222   24222.0  23.54   0.92\n",
              "4   NAVER  148500   500   0.34%   100   367244   244748    9425.0  37.72   7.02"
            ]
          },
          "metadata": {
            "tags": []
          },
          "execution_count": 44
        }
      ]
    },
    {
      "cell_type": "code",
      "metadata": {
        "colab": {
          "base_uri": "https://localhost:8080/",
          "height": 222
        },
        "id": "yAPBNX5_JajR",
        "outputId": "b1b26c20-4e28-4b26-8cc4-92bac4f686a5"
      },
      "source": [
        "df = df[~df.isin([np.nan, np.inf, -np.inf]).any(1)]\n",
        "print(df.size)\n",
        "df.head()"
      ],
      "execution_count": 45,
      "outputs": [
        {
          "output_type": "stream",
          "text": [
            "7580\n"
          ],
          "name": "stdout"
        },
        {
          "output_type": "execute_result",
          "data": {
            "text/html": [
              "<div>\n",
              "<style scoped>\n",
              "    .dataframe tbody tr th:only-of-type {\n",
              "        vertical-align: middle;\n",
              "    }\n",
              "\n",
              "    .dataframe tbody tr th {\n",
              "        vertical-align: top;\n",
              "    }\n",
              "\n",
              "    .dataframe thead th {\n",
              "        text-align: right;\n",
              "    }\n",
              "</style>\n",
              "<table border=\"1\" class=\"dataframe\">\n",
              "  <thead>\n",
              "    <tr style=\"text-align: right;\">\n",
              "      <th></th>\n",
              "      <th>종목명</th>\n",
              "      <th>현재가</th>\n",
              "      <th>전일비</th>\n",
              "      <th>등락률</th>\n",
              "      <th>액면가</th>\n",
              "      <th>거래량</th>\n",
              "      <th>시가총액</th>\n",
              "      <th>영업이익</th>\n",
              "      <th>PER</th>\n",
              "      <th>ROA</th>\n",
              "    </tr>\n",
              "  </thead>\n",
              "  <tbody>\n",
              "    <tr>\n",
              "      <th>0</th>\n",
              "      <td>삼성전자</td>\n",
              "      <td>43950</td>\n",
              "      <td>100</td>\n",
              "      <td>-0.23%</td>\n",
              "      <td>100</td>\n",
              "      <td>4637815</td>\n",
              "      <td>2623719</td>\n",
              "      <td>588867.0</td>\n",
              "      <td>7.30</td>\n",
              "      <td>13.83</td>\n",
              "    </tr>\n",
              "    <tr>\n",
              "      <th>1</th>\n",
              "      <td>SK하이닉스</td>\n",
              "      <td>74400</td>\n",
              "      <td>600</td>\n",
              "      <td>0.81%</td>\n",
              "      <td>5000</td>\n",
              "      <td>1673056</td>\n",
              "      <td>541634</td>\n",
              "      <td>208438.0</td>\n",
              "      <td>3.49</td>\n",
              "      <td>28.49</td>\n",
              "    </tr>\n",
              "    <tr>\n",
              "      <th>3</th>\n",
              "      <td>현대차</td>\n",
              "      <td>126000</td>\n",
              "      <td>2000</td>\n",
              "      <td>1.61%</td>\n",
              "      <td>5000</td>\n",
              "      <td>252713</td>\n",
              "      <td>269222</td>\n",
              "      <td>24222.0</td>\n",
              "      <td>23.54</td>\n",
              "      <td>0.92</td>\n",
              "    </tr>\n",
              "    <tr>\n",
              "      <th>4</th>\n",
              "      <td>NAVER</td>\n",
              "      <td>148500</td>\n",
              "      <td>500</td>\n",
              "      <td>0.34%</td>\n",
              "      <td>100</td>\n",
              "      <td>367244</td>\n",
              "      <td>244748</td>\n",
              "      <td>9425.0</td>\n",
              "      <td>37.72</td>\n",
              "      <td>7.02</td>\n",
              "    </tr>\n",
              "    <tr>\n",
              "      <th>5</th>\n",
              "      <td>LG화학</td>\n",
              "      <td>329500</td>\n",
              "      <td>9500</td>\n",
              "      <td>2.97%</td>\n",
              "      <td>5000</td>\n",
              "      <td>176590</td>\n",
              "      <td>232602</td>\n",
              "      <td>22461.0</td>\n",
              "      <td>17.52</td>\n",
              "      <td>5.63</td>\n",
              "    </tr>\n",
              "  </tbody>\n",
              "</table>\n",
              "</div>"
            ],
            "text/plain": [
              "      종목명     현재가   전일비     등락률   액면가      거래량     시가총액      영업이익    PER    ROA\n",
              "0    삼성전자   43950   100  -0.23%   100  4637815  2623719  588867.0   7.30  13.83\n",
              "1  SK하이닉스   74400   600   0.81%  5000  1673056   541634  208438.0   3.49  28.49\n",
              "3     현대차  126000  2000   1.61%  5000   252713   269222   24222.0  23.54   0.92\n",
              "4   NAVER  148500   500   0.34%   100   367244   244748    9425.0  37.72   7.02\n",
              "5    LG화학  329500  9500   2.97%  5000   176590   232602   22461.0  17.52   5.63"
            ]
          },
          "metadata": {
            "tags": []
          },
          "execution_count": 45
        }
      ]
    },
    {
      "cell_type": "code",
      "metadata": {
        "colab": {
          "base_uri": "https://localhost:8080/",
          "height": 370
        },
        "id": "b5mXyZ-UJvGi",
        "outputId": "a4fea149-827f-41af-ee3a-03c5bf42386e"
      },
      "source": [
        "# with open 구문으로 csv 읽기\n",
        "# import csv\n",
        "# line_list = []\n",
        "# with open('PER_ROA.csv') as csv_file:\n",
        "#     csv_reader = csv.reader(csv_file, delimiter=',') #  ',' 구분자로 파일을 읽는다.\n",
        "#     for row in csv_reader:  \n",
        "#         if '' in row:     # 한줄씩 순회하는데 NaN이 포함된 Row는 건너뛴다.\n",
        "#             pass\n",
        "#         else : \n",
        "#             line_list.append(row) # 리스트에 추가.\n",
        "\n",
        "# df = pd.DataFrame(data=line_list[1:],columns=line_list[0])\n",
        "# print(df.size)\n",
        "# df.head()"
      ],
      "execution_count": 19,
      "outputs": [
        {
          "output_type": "error",
          "ename": "UnicodeDecodeError",
          "evalue": "ignored",
          "traceback": [
            "\u001b[0;31m---------------------------------------------------------------------------\u001b[0m",
            "\u001b[0;31mUnicodeDecodeError\u001b[0m                        Traceback (most recent call last)",
            "\u001b[0;32m<ipython-input-19-2723e9afe94a>\u001b[0m in \u001b[0;36m<module>\u001b[0;34m()\u001b[0m\n\u001b[1;32m      3\u001b[0m \u001b[0;32mwith\u001b[0m \u001b[0mopen\u001b[0m\u001b[0;34m(\u001b[0m\u001b[0;34m'PER_ROA.csv'\u001b[0m\u001b[0;34m)\u001b[0m \u001b[0;32mas\u001b[0m \u001b[0mcsv_file\u001b[0m\u001b[0;34m:\u001b[0m\u001b[0;34m\u001b[0m\u001b[0;34m\u001b[0m\u001b[0m\n\u001b[1;32m      4\u001b[0m     \u001b[0mcsv_reader\u001b[0m \u001b[0;34m=\u001b[0m \u001b[0mcsv\u001b[0m\u001b[0;34m.\u001b[0m\u001b[0mreader\u001b[0m\u001b[0;34m(\u001b[0m\u001b[0mcsv_file\u001b[0m\u001b[0;34m,\u001b[0m \u001b[0mdelimiter\u001b[0m\u001b[0;34m=\u001b[0m\u001b[0;34m','\u001b[0m\u001b[0;34m)\u001b[0m \u001b[0;31m#  ',' 구분자로 파일을 읽는다.\u001b[0m\u001b[0;34m\u001b[0m\u001b[0;34m\u001b[0m\u001b[0m\n\u001b[0;32m----> 5\u001b[0;31m     \u001b[0;32mfor\u001b[0m \u001b[0mrow\u001b[0m \u001b[0;32min\u001b[0m \u001b[0mcsv_reader\u001b[0m\u001b[0;34m:\u001b[0m\u001b[0;34m\u001b[0m\u001b[0;34m\u001b[0m\u001b[0m\n\u001b[0m\u001b[1;32m      6\u001b[0m         \u001b[0;32mif\u001b[0m \u001b[0;34m''\u001b[0m \u001b[0;32min\u001b[0m \u001b[0mrow\u001b[0m\u001b[0;34m:\u001b[0m     \u001b[0;31m# 한줄씩 순회하는데 NaN이 포함된 Row는 건너뛴다.\u001b[0m\u001b[0;34m\u001b[0m\u001b[0;34m\u001b[0m\u001b[0m\n\u001b[1;32m      7\u001b[0m             \u001b[0;32mpass\u001b[0m\u001b[0;34m\u001b[0m\u001b[0;34m\u001b[0m\u001b[0m\n",
            "\u001b[0;32m/usr/lib/python3.6/codecs.py\u001b[0m in \u001b[0;36mdecode\u001b[0;34m(self, input, final)\u001b[0m\n\u001b[1;32m    319\u001b[0m         \u001b[0;31m# decode input (taking the buffer into account)\u001b[0m\u001b[0;34m\u001b[0m\u001b[0;34m\u001b[0m\u001b[0;34m\u001b[0m\u001b[0m\n\u001b[1;32m    320\u001b[0m         \u001b[0mdata\u001b[0m \u001b[0;34m=\u001b[0m \u001b[0mself\u001b[0m\u001b[0;34m.\u001b[0m\u001b[0mbuffer\u001b[0m \u001b[0;34m+\u001b[0m \u001b[0minput\u001b[0m\u001b[0;34m\u001b[0m\u001b[0;34m\u001b[0m\u001b[0m\n\u001b[0;32m--> 321\u001b[0;31m         \u001b[0;34m(\u001b[0m\u001b[0mresult\u001b[0m\u001b[0;34m,\u001b[0m \u001b[0mconsumed\u001b[0m\u001b[0;34m)\u001b[0m \u001b[0;34m=\u001b[0m \u001b[0mself\u001b[0m\u001b[0;34m.\u001b[0m\u001b[0m_buffer_decode\u001b[0m\u001b[0;34m(\u001b[0m\u001b[0mdata\u001b[0m\u001b[0;34m,\u001b[0m \u001b[0mself\u001b[0m\u001b[0;34m.\u001b[0m\u001b[0merrors\u001b[0m\u001b[0;34m,\u001b[0m \u001b[0mfinal\u001b[0m\u001b[0;34m)\u001b[0m\u001b[0;34m\u001b[0m\u001b[0;34m\u001b[0m\u001b[0m\n\u001b[0m\u001b[1;32m    322\u001b[0m         \u001b[0;31m# keep undecoded input until the next call\u001b[0m\u001b[0;34m\u001b[0m\u001b[0;34m\u001b[0m\u001b[0;34m\u001b[0m\u001b[0m\n\u001b[1;32m    323\u001b[0m         \u001b[0mself\u001b[0m\u001b[0;34m.\u001b[0m\u001b[0mbuffer\u001b[0m \u001b[0;34m=\u001b[0m \u001b[0mdata\u001b[0m\u001b[0;34m[\u001b[0m\u001b[0mconsumed\u001b[0m\u001b[0;34m:\u001b[0m\u001b[0;34m]\u001b[0m\u001b[0;34m\u001b[0m\u001b[0;34m\u001b[0m\u001b[0m\n",
            "\u001b[0;31mUnicodeDecodeError\u001b[0m: 'utf-8' codec can't decode byte 0xc1 in position 0: invalid start byte"
          ]
        }
      ]
    },
    {
      "cell_type": "code",
      "metadata": {
        "id": "JQKJD8yUK4pq"
      },
      "source": [
        "def sort_value2( s_value, asc = True, standard = 0): \n",
        "    '''\n",
        "    description\n",
        "        특정 지표값을 정렬한다.\n",
        "        \n",
        "    parameters\n",
        "        s_value : pandas Series\n",
        "            정렬할 데이터를 받는다.\n",
        "            \n",
        "        asc : bool\n",
        "            True : 오름차순\n",
        "            False : 내림차순\n",
        "            \n",
        "        standard : int\n",
        "            조건에 맞는 값을 True로 대체하기 위한 기준값 \n",
        "    returns \n",
        "        s_value_mask_rank : pandas Series\n",
        "            정렬된 순위\n",
        "    ''' \n",
        "    \n",
        "    s_value_mask = s_value.mask(s_value < standard, np.nan)  #지표별 기준값 미만은 필터링 한다.\n",
        "    s_value_mask_rank = s_value_mask.rank( ascending=asc, na_option=\"bottom\") # 필터링된 종목에서 순위 선정\n",
        "    \n",
        "    return s_value_mask_rank"
      ],
      "execution_count": 22,
      "outputs": []
    },
    {
      "cell_type": "code",
      "metadata": {
        "colab": {
          "base_uri": "https://localhost:8080/"
        },
        "id": "mse4ymlBJvJA",
        "outputId": "49242eea-c50f-4bb7-e7c5-3688810baaf6"
      },
      "source": [
        "per = pd.to_numeric(df['PER'])\n",
        "roa = pd.to_numeric(df['ROA'])\n",
        "print(type(per))\n",
        "print(per.size)\n",
        "print(per.head())\n",
        "print()\n",
        "print(roa.head())\n",
        "print()"
      ],
      "execution_count": 46,
      "outputs": [
        {
          "output_type": "stream",
          "text": [
            "<class 'pandas.core.series.Series'>\n",
            "758\n",
            "0     7.30\n",
            "1     3.49\n",
            "3    23.54\n",
            "4    37.72\n",
            "5    17.52\n",
            "Name: PER, dtype: float64\n",
            "\n",
            "0    13.83\n",
            "1    28.49\n",
            "3     0.92\n",
            "4     7.02\n",
            "5     5.63\n",
            "Name: ROA, dtype: float64\n",
            "\n"
          ],
          "name": "stdout"
        }
      ]
    },
    {
      "cell_type": "code",
      "metadata": {
        "colab": {
          "base_uri": "https://localhost:8080/"
        },
        "id": "v-5XSdo_MMrT",
        "outputId": "208a8fb0-077f-4d8d-d2bb-8aafba403fe3"
      },
      "source": [
        "# per = df['PER']\n",
        "per_rank = sort_value2(per, asc=True, standard=0 ) # PER 지표값을 기준으로 순위 정렬 및 0 미만 값 제거\n",
        "roa_rank = sort_value2(roa, asc=False, standard=0 )# ROA 지표값을 기준으로 순위 정렬 및 0 미만 값 제거\n",
        "\n",
        "#소팅이 제대로 된거 맞아??\n",
        "print(per_rank.head())\n",
        "print(roa_rank.head())\n",
        "print(per_rank.size)"
      ],
      "execution_count": 47,
      "outputs": [
        {
          "output_type": "stream",
          "text": [
            "0    139.0\n",
            "1     22.0\n",
            "3    424.0\n",
            "4    487.0\n",
            "5    367.0\n",
            "Name: PER, dtype: float64\n",
            "0     18.0\n",
            "1      5.0\n",
            "3    478.5\n",
            "4    103.0\n",
            "5    149.0\n",
            "Name: ROA, dtype: float64\n",
            "758\n"
          ],
          "name": "stdout"
        }
      ]
    },
    {
      "cell_type": "code",
      "metadata": {
        "colab": {
          "base_uri": "https://localhost:8080/"
        },
        "id": "YpcuWt0KKZpQ",
        "outputId": "a97aefb3-6977-4e26-a5c1-e59e776800a5"
      },
      "source": [
        "result_rank = per_rank + roa_rank   # PER 순위 ROA 순위 합산\n",
        "result_rank = sort_value2(result_rank, asc=True)  # 합산 순위 정렬\n",
        "result_rank = result_rank.where(result_rank <= 10, 0)  # 합산 순위 필터링\n",
        "result_rank = result_rank.mask(result_rank > 0, 1)  # 순위 제거\n",
        "\n",
        "print(result_rank.sum())\n",
        "print(result_rank.size)\n",
        "result_rank.head(20)"
      ],
      "execution_count": 48,
      "outputs": [
        {
          "output_type": "stream",
          "text": [
            "10.0\n",
            "758\n"
          ],
          "name": "stdout"
        },
        {
          "output_type": "execute_result",
          "data": {
            "text/plain": [
              "0     0.0\n",
              "1     1.0\n",
              "3     0.0\n",
              "4     0.0\n",
              "5     0.0\n",
              "6     0.0\n",
              "7     0.0\n",
              "8     0.0\n",
              "9     0.0\n",
              "10    0.0\n",
              "11    0.0\n",
              "12    0.0\n",
              "13    0.0\n",
              "14    0.0\n",
              "15    0.0\n",
              "16    0.0\n",
              "17    0.0\n",
              "18    0.0\n",
              "19    0.0\n",
              "20    0.0\n",
              "dtype: float64"
            ]
          },
          "metadata": {
            "tags": []
          },
          "execution_count": 48
        }
      ]
    },
    {
      "cell_type": "code",
      "metadata": {
        "colab": {
          "base_uri": "https://localhost:8080/",
          "height": 204
        },
        "id": "zWHbFh-nKZrb",
        "outputId": "8ab0760a-b76c-4ba7-f68b-6952aa8d21b2"
      },
      "source": [
        "mf_df = df.loc[result_rank > 0,['종목명','시가총액']].copy() # 선택된 종목 데이터프레임 복사\n",
        "mf_df.head()"
      ],
      "execution_count": 49,
      "outputs": [
        {
          "output_type": "execute_result",
          "data": {
            "text/html": [
              "<div>\n",
              "<style scoped>\n",
              "    .dataframe tbody tr th:only-of-type {\n",
              "        vertical-align: middle;\n",
              "    }\n",
              "\n",
              "    .dataframe tbody tr th {\n",
              "        vertical-align: top;\n",
              "    }\n",
              "\n",
              "    .dataframe thead th {\n",
              "        text-align: right;\n",
              "    }\n",
              "</style>\n",
              "<table border=\"1\" class=\"dataframe\">\n",
              "  <thead>\n",
              "    <tr style=\"text-align: right;\">\n",
              "      <th></th>\n",
              "      <th>종목명</th>\n",
              "      <th>시가총액</th>\n",
              "    </tr>\n",
              "  </thead>\n",
              "  <tbody>\n",
              "    <tr>\n",
              "      <th>1</th>\n",
              "      <td>SK하이닉스</td>\n",
              "      <td>541634</td>\n",
              "    </tr>\n",
              "    <tr>\n",
              "      <th>107</th>\n",
              "      <td>효성</td>\n",
              "      <td>18353</td>\n",
              "    </tr>\n",
              "    <tr>\n",
              "      <th>199</th>\n",
              "      <td>대한유화</td>\n",
              "      <td>7508</td>\n",
              "    </tr>\n",
              "    <tr>\n",
              "      <th>200</th>\n",
              "      <td>HDC</td>\n",
              "      <td>7468</td>\n",
              "    </tr>\n",
              "    <tr>\n",
              "      <th>371</th>\n",
              "      <td>한일홀딩스</td>\n",
              "      <td>2904</td>\n",
              "    </tr>\n",
              "  </tbody>\n",
              "</table>\n",
              "</div>"
            ],
            "text/plain": [
              "        종목명    시가총액\n",
              "1    SK하이닉스  541634\n",
              "107      효성   18353\n",
              "199    대한유화    7508\n",
              "200     HDC    7468\n",
              "371   한일홀딩스    2904"
            ]
          },
          "metadata": {
            "tags": []
          },
          "execution_count": 49
        }
      ]
    },
    {
      "cell_type": "code",
      "metadata": {
        "colab": {
          "base_uri": "https://localhost:8080/"
        },
        "id": "EeooLBPeMziU",
        "outputId": "8f603b89-84f8-4443-e8b2-87ebb18d7ddd"
      },
      "source": [
        "mf_stock_list = df.loc[result_rank > 0, '종목명'].values # 선택된 종목명 추출\n",
        "print(mf_stock_list)"
      ],
      "execution_count": 50,
      "outputs": [
        {
          "output_type": "stream",
          "text": [
            "['SK하이닉스' '효성' '대한유화' 'HDC' '한일홀딩스' '신대양제지' '세아제강지주' 'SIMPAC' '케이씨'\n",
            " '에쓰씨엔지니어링']\n"
          ],
          "name": "stdout"
        }
      ]
    },
    {
      "cell_type": "code",
      "metadata": {
        "colab": {
          "base_uri": "https://localhost:8080/",
          "height": 204
        },
        "id": "4cpCV5X_M05R",
        "outputId": "679f644f-85a8-451c-84e0-ed1c73fb6fc1"
      },
      "source": [
        "mf_df['종목코드'] = ''\n",
        "for stock in mf_stock_list :\n",
        "    # 데이터프레임에서 조건에 맞는 데이터만 불러온다.\n",
        "    mf_df.loc[mf_df['종목명'] == stock,'종목코드'] = krx_df[krx_df['Name'] == stock]['Symbol'].values\n",
        "mf_df.head()"
      ],
      "execution_count": 51,
      "outputs": [
        {
          "output_type": "execute_result",
          "data": {
            "text/html": [
              "<div>\n",
              "<style scoped>\n",
              "    .dataframe tbody tr th:only-of-type {\n",
              "        vertical-align: middle;\n",
              "    }\n",
              "\n",
              "    .dataframe tbody tr th {\n",
              "        vertical-align: top;\n",
              "    }\n",
              "\n",
              "    .dataframe thead th {\n",
              "        text-align: right;\n",
              "    }\n",
              "</style>\n",
              "<table border=\"1\" class=\"dataframe\">\n",
              "  <thead>\n",
              "    <tr style=\"text-align: right;\">\n",
              "      <th></th>\n",
              "      <th>종목명</th>\n",
              "      <th>시가총액</th>\n",
              "      <th>종목코드</th>\n",
              "    </tr>\n",
              "  </thead>\n",
              "  <tbody>\n",
              "    <tr>\n",
              "      <th>1</th>\n",
              "      <td>SK하이닉스</td>\n",
              "      <td>541634</td>\n",
              "      <td>000660</td>\n",
              "    </tr>\n",
              "    <tr>\n",
              "      <th>107</th>\n",
              "      <td>효성</td>\n",
              "      <td>18353</td>\n",
              "      <td>004800</td>\n",
              "    </tr>\n",
              "    <tr>\n",
              "      <th>199</th>\n",
              "      <td>대한유화</td>\n",
              "      <td>7508</td>\n",
              "      <td>006650</td>\n",
              "    </tr>\n",
              "    <tr>\n",
              "      <th>200</th>\n",
              "      <td>HDC</td>\n",
              "      <td>7468</td>\n",
              "      <td>012630</td>\n",
              "    </tr>\n",
              "    <tr>\n",
              "      <th>371</th>\n",
              "      <td>한일홀딩스</td>\n",
              "      <td>2904</td>\n",
              "      <td>003300</td>\n",
              "    </tr>\n",
              "  </tbody>\n",
              "</table>\n",
              "</div>"
            ],
            "text/plain": [
              "        종목명    시가총액    종목코드\n",
              "1    SK하이닉스  541634  000660\n",
              "107      효성   18353  004800\n",
              "199    대한유화    7508  006650\n",
              "200     HDC    7468  012630\n",
              "371   한일홀딩스    2904  003300"
            ]
          },
          "metadata": {
            "tags": []
          },
          "execution_count": 51
        }
      ]
    },
    {
      "cell_type": "code",
      "metadata": {
        "colab": {
          "base_uri": "https://localhost:8080/",
          "height": 359
        },
        "id": "m92eexPsM07n",
        "outputId": "8f9d8947-1df9-420a-ec69-a2434e8cba23"
      },
      "source": [
        "# 수익률 구하는 방식 1\n",
        "\n",
        "mf_df['2019_수익률'] = ''\n",
        "for x in mf_df['종목코드'].values : \n",
        "    df = fdr.DataReader(x, '2019-01-01','2019-12-31') # 개별 종목 가격 데이터 호출\n",
        "    cum_ret = df.loc[df.index[-1], 'Close'] / df.loc[df.index[0],'Close'] -1  # 2019년도 누적 수익률 계산\n",
        "    mf_df.loc[mf_df['종목코드'] == x, '2019_수익률' ] = cum_ret  # 누적 수익률 저장\n",
        "    df = None\n",
        "\n",
        "mf_df"
      ],
      "execution_count": 54,
      "outputs": [
        {
          "output_type": "execute_result",
          "data": {
            "text/html": [
              "<div>\n",
              "<style scoped>\n",
              "    .dataframe tbody tr th:only-of-type {\n",
              "        vertical-align: middle;\n",
              "    }\n",
              "\n",
              "    .dataframe tbody tr th {\n",
              "        vertical-align: top;\n",
              "    }\n",
              "\n",
              "    .dataframe thead th {\n",
              "        text-align: right;\n",
              "    }\n",
              "</style>\n",
              "<table border=\"1\" class=\"dataframe\">\n",
              "  <thead>\n",
              "    <tr style=\"text-align: right;\">\n",
              "      <th></th>\n",
              "      <th>종목명</th>\n",
              "      <th>시가총액</th>\n",
              "      <th>종목코드</th>\n",
              "      <th>2019_수익률</th>\n",
              "    </tr>\n",
              "  </thead>\n",
              "  <tbody>\n",
              "    <tr>\n",
              "      <th>1</th>\n",
              "      <td>SK하이닉스</td>\n",
              "      <td>541634</td>\n",
              "      <td>000660</td>\n",
              "      <td>0.552805</td>\n",
              "    </tr>\n",
              "    <tr>\n",
              "      <th>107</th>\n",
              "      <td>효성</td>\n",
              "      <td>18353</td>\n",
              "      <td>004800</td>\n",
              "      <td>0.649635</td>\n",
              "    </tr>\n",
              "    <tr>\n",
              "      <th>199</th>\n",
              "      <td>대한유화</td>\n",
              "      <td>7508</td>\n",
              "      <td>006650</td>\n",
              "      <td>-0.20339</td>\n",
              "    </tr>\n",
              "    <tr>\n",
              "      <th>200</th>\n",
              "      <td>HDC</td>\n",
              "      <td>7468</td>\n",
              "      <td>012630</td>\n",
              "      <td>-0.332326</td>\n",
              "    </tr>\n",
              "    <tr>\n",
              "      <th>371</th>\n",
              "      <td>한일홀딩스</td>\n",
              "      <td>2904</td>\n",
              "      <td>003300</td>\n",
              "      <td>-0.197441</td>\n",
              "    </tr>\n",
              "    <tr>\n",
              "      <th>383</th>\n",
              "      <td>신대양제지</td>\n",
              "      <td>2756</td>\n",
              "      <td>016590</td>\n",
              "      <td>0.0347826</td>\n",
              "    </tr>\n",
              "    <tr>\n",
              "      <th>450</th>\n",
              "      <td>세아제강지주</td>\n",
              "      <td>2044</td>\n",
              "      <td>003030</td>\n",
              "      <td>-0.0083682</td>\n",
              "    </tr>\n",
              "    <tr>\n",
              "      <th>474</th>\n",
              "      <td>SIMPAC</td>\n",
              "      <td>1835</td>\n",
              "      <td>009160</td>\n",
              "      <td>0.206967</td>\n",
              "    </tr>\n",
              "    <tr>\n",
              "      <th>494</th>\n",
              "      <td>케이씨</td>\n",
              "      <td>1694</td>\n",
              "      <td>029460</td>\n",
              "      <td>0.594017</td>\n",
              "    </tr>\n",
              "    <tr>\n",
              "      <th>938</th>\n",
              "      <td>에쓰씨엔지니어링</td>\n",
              "      <td>354</td>\n",
              "      <td>023960</td>\n",
              "      <td>-0.0620915</td>\n",
              "    </tr>\n",
              "  </tbody>\n",
              "</table>\n",
              "</div>"
            ],
            "text/plain": [
              "          종목명    시가총액    종목코드   2019_수익률\n",
              "1      SK하이닉스  541634  000660   0.552805\n",
              "107        효성   18353  004800   0.649635\n",
              "199      대한유화    7508  006650   -0.20339\n",
              "200       HDC    7468  012630  -0.332326\n",
              "371     한일홀딩스    2904  003300  -0.197441\n",
              "383     신대양제지    2756  016590  0.0347826\n",
              "450    세아제강지주    2044  003030 -0.0083682\n",
              "474    SIMPAC    1835  009160   0.206967\n",
              "494       케이씨    1694  029460   0.594017\n",
              "938  에쓰씨엔지니어링     354  023960 -0.0620915"
            ]
          },
          "metadata": {
            "tags": []
          },
          "execution_count": 54
        }
      ]
    },
    {
      "cell_type": "code",
      "metadata": {
        "colab": {
          "base_uri": "https://localhost:8080/",
          "height": 359
        },
        "id": "DXJIMbEQOYH7",
        "outputId": "5949d696-e139-4f11-9540-6103741877a9"
      },
      "source": [
        "#수익률 방식2\n",
        "\n",
        "mf_df_rtn = pd.DataFrame()\n",
        "for x in mf_df['종목코드'].values : \n",
        "#     print(x ,', ' , mf_df.loc[mf_df['종목코드'] == x, '종목명' ].values[0])\n",
        "    df = fdr.DataReader(x, '2019-01-01','2019-12-31') # 개별 종목 가격 데이터 호출\n",
        "    df['daily_rtn'] = df['Close'].pct_change(periods=1)\n",
        "    df['cum_rtn'] = (1+df['daily_rtn']).cumprod()\n",
        "    cum_ret = df.loc[df.index[-1],'cum_rtn']\n",
        "    mf_df.loc[mf_df['종목코드'] == x, '2019_수익률' ] = cum_ret  # 누적 수익률 저장\n",
        "    df = None\n",
        "\n",
        "mf_df"
      ],
      "execution_count": 55,
      "outputs": [
        {
          "output_type": "execute_result",
          "data": {
            "text/html": [
              "<div>\n",
              "<style scoped>\n",
              "    .dataframe tbody tr th:only-of-type {\n",
              "        vertical-align: middle;\n",
              "    }\n",
              "\n",
              "    .dataframe tbody tr th {\n",
              "        vertical-align: top;\n",
              "    }\n",
              "\n",
              "    .dataframe thead th {\n",
              "        text-align: right;\n",
              "    }\n",
              "</style>\n",
              "<table border=\"1\" class=\"dataframe\">\n",
              "  <thead>\n",
              "    <tr style=\"text-align: right;\">\n",
              "      <th></th>\n",
              "      <th>종목명</th>\n",
              "      <th>시가총액</th>\n",
              "      <th>종목코드</th>\n",
              "      <th>2019_수익률</th>\n",
              "    </tr>\n",
              "  </thead>\n",
              "  <tbody>\n",
              "    <tr>\n",
              "      <th>1</th>\n",
              "      <td>SK하이닉스</td>\n",
              "      <td>541634</td>\n",
              "      <td>000660</td>\n",
              "      <td>1.55281</td>\n",
              "    </tr>\n",
              "    <tr>\n",
              "      <th>107</th>\n",
              "      <td>효성</td>\n",
              "      <td>18353</td>\n",
              "      <td>004800</td>\n",
              "      <td>1.64964</td>\n",
              "    </tr>\n",
              "    <tr>\n",
              "      <th>199</th>\n",
              "      <td>대한유화</td>\n",
              "      <td>7508</td>\n",
              "      <td>006650</td>\n",
              "      <td>0.79661</td>\n",
              "    </tr>\n",
              "    <tr>\n",
              "      <th>200</th>\n",
              "      <td>HDC</td>\n",
              "      <td>7468</td>\n",
              "      <td>012630</td>\n",
              "      <td>0.667674</td>\n",
              "    </tr>\n",
              "    <tr>\n",
              "      <th>371</th>\n",
              "      <td>한일홀딩스</td>\n",
              "      <td>2904</td>\n",
              "      <td>003300</td>\n",
              "      <td>0.802559</td>\n",
              "    </tr>\n",
              "    <tr>\n",
              "      <th>383</th>\n",
              "      <td>신대양제지</td>\n",
              "      <td>2756</td>\n",
              "      <td>016590</td>\n",
              "      <td>1.03478</td>\n",
              "    </tr>\n",
              "    <tr>\n",
              "      <th>450</th>\n",
              "      <td>세아제강지주</td>\n",
              "      <td>2044</td>\n",
              "      <td>003030</td>\n",
              "      <td>0.991632</td>\n",
              "    </tr>\n",
              "    <tr>\n",
              "      <th>474</th>\n",
              "      <td>SIMPAC</td>\n",
              "      <td>1835</td>\n",
              "      <td>009160</td>\n",
              "      <td>1.20697</td>\n",
              "    </tr>\n",
              "    <tr>\n",
              "      <th>494</th>\n",
              "      <td>케이씨</td>\n",
              "      <td>1694</td>\n",
              "      <td>029460</td>\n",
              "      <td>1.59402</td>\n",
              "    </tr>\n",
              "    <tr>\n",
              "      <th>938</th>\n",
              "      <td>에쓰씨엔지니어링</td>\n",
              "      <td>354</td>\n",
              "      <td>023960</td>\n",
              "      <td>0.937908</td>\n",
              "    </tr>\n",
              "  </tbody>\n",
              "</table>\n",
              "</div>"
            ],
            "text/plain": [
              "          종목명    시가총액    종목코드  2019_수익률\n",
              "1      SK하이닉스  541634  000660   1.55281\n",
              "107        효성   18353  004800   1.64964\n",
              "199      대한유화    7508  006650   0.79661\n",
              "200       HDC    7468  012630  0.667674\n",
              "371     한일홀딩스    2904  003300  0.802559\n",
              "383     신대양제지    2756  016590   1.03478\n",
              "450    세아제강지주    2044  003030  0.991632\n",
              "474    SIMPAC    1835  009160   1.20697\n",
              "494       케이씨    1694  029460   1.59402\n",
              "938  에쓰씨엔지니어링     354  023960  0.937908"
            ]
          },
          "metadata": {
            "tags": []
          },
          "execution_count": 55
        }
      ]
    },
    {
      "cell_type": "code",
      "metadata": {
        "colab": {
          "base_uri": "https://localhost:8080/",
          "height": 534
        },
        "id": "Oa2hiIKcOYKi",
        "outputId": "c5d476b3-4d63-4a69-e288-7c88399fc95c"
      },
      "source": [
        "# 수익률 방식3\n",
        "\n",
        "for ind,val in enumerate(mf_df['종목코드'].values) : \n",
        "    # 가독성을 위해 종목명 추출.\n",
        "    code_name = mf_df.loc[mf_df['종목코드'] == val,'종목명'].values[0]\n",
        "    print(val, code_name)\n",
        "    df = fdr.DataReader(val, '2019-01-01','2019-12-31') # 개별 종목 가격 데이터 호출\n",
        "    if ind == 0 :\n",
        "        mf_df_rtn = pd.DataFrame(index=df.index) # 첫 번째 종목코드 인덱스 활용한 데이터프레임 생성\n",
        "    df['daily_rtn'] = df['Close'].pct_change(periods=1) # period 기간 차이만큼 변동율 계산\n",
        "    df['cum_rtn'] = (1+df['daily_rtn']).cumprod() # 누적 곱 계산\n",
        "    tmp = df.loc[:,['cum_rtn']].rename(columns={'cum_rtn':code_name}) # 가독성을 위한 컬럼명 변경\n",
        "    mf_df_rtn = mf_df_rtn.join(tmp,how='left') # 새로 계산된 누적 수익률 추가.\n",
        "    df = None # 데이터 프레임 초기화\n",
        "\n",
        "mf_df_rtn.tail()"
      ],
      "execution_count": 56,
      "outputs": [
        {
          "output_type": "stream",
          "text": [
            "000660 SK하이닉스\n",
            "004800 효성\n",
            "006650 대한유화\n",
            "012630 HDC\n",
            "003300 한일홀딩스\n",
            "016590 신대양제지\n",
            "003030 세아제강지주\n",
            "009160 SIMPAC\n",
            "029460 케이씨\n",
            "023960 에쓰씨엔지니어링\n"
          ],
          "name": "stdout"
        },
        {
          "output_type": "execute_result",
          "data": {
            "text/html": [
              "<div>\n",
              "<style scoped>\n",
              "    .dataframe tbody tr th:only-of-type {\n",
              "        vertical-align: middle;\n",
              "    }\n",
              "\n",
              "    .dataframe tbody tr th {\n",
              "        vertical-align: top;\n",
              "    }\n",
              "\n",
              "    .dataframe thead th {\n",
              "        text-align: right;\n",
              "    }\n",
              "</style>\n",
              "<table border=\"1\" class=\"dataframe\">\n",
              "  <thead>\n",
              "    <tr style=\"text-align: right;\">\n",
              "      <th></th>\n",
              "      <th>SK하이닉스</th>\n",
              "      <th>효성</th>\n",
              "      <th>대한유화</th>\n",
              "      <th>HDC</th>\n",
              "      <th>한일홀딩스</th>\n",
              "      <th>신대양제지</th>\n",
              "      <th>세아제강지주</th>\n",
              "      <th>SIMPAC</th>\n",
              "      <th>케이씨</th>\n",
              "      <th>에쓰씨엔지니어링</th>\n",
              "    </tr>\n",
              "    <tr>\n",
              "      <th>Date</th>\n",
              "      <th></th>\n",
              "      <th></th>\n",
              "      <th></th>\n",
              "      <th></th>\n",
              "      <th></th>\n",
              "      <th></th>\n",
              "      <th></th>\n",
              "      <th></th>\n",
              "      <th></th>\n",
              "      <th></th>\n",
              "    </tr>\n",
              "  </thead>\n",
              "  <tbody>\n",
              "    <tr>\n",
              "      <th>2019-12-23</th>\n",
              "      <td>1.561056</td>\n",
              "      <td>1.722628</td>\n",
              "      <td>0.820339</td>\n",
              "      <td>0.655589</td>\n",
              "      <td>0.814442</td>\n",
              "      <td>1.041739</td>\n",
              "      <td>0.974895</td>\n",
              "      <td>1.192623</td>\n",
              "      <td>1.337607</td>\n",
              "      <td>0.947712</td>\n",
              "    </tr>\n",
              "    <tr>\n",
              "      <th>2019-12-24</th>\n",
              "      <td>1.547855</td>\n",
              "      <td>1.747654</td>\n",
              "      <td>0.820339</td>\n",
              "      <td>0.655589</td>\n",
              "      <td>0.804388</td>\n",
              "      <td>1.026087</td>\n",
              "      <td>0.990586</td>\n",
              "      <td>1.178279</td>\n",
              "      <td>1.354701</td>\n",
              "      <td>0.908497</td>\n",
              "    </tr>\n",
              "    <tr>\n",
              "      <th>2019-12-26</th>\n",
              "      <td>1.564356</td>\n",
              "      <td>1.758081</td>\n",
              "      <td>0.823729</td>\n",
              "      <td>0.667674</td>\n",
              "      <td>0.820841</td>\n",
              "      <td>1.045217</td>\n",
              "      <td>1.003138</td>\n",
              "      <td>1.192623</td>\n",
              "      <td>1.410256</td>\n",
              "      <td>0.928105</td>\n",
              "    </tr>\n",
              "    <tr>\n",
              "      <th>2019-12-27</th>\n",
              "      <td>1.584158</td>\n",
              "      <td>1.660063</td>\n",
              "      <td>0.803390</td>\n",
              "      <td>0.664653</td>\n",
              "      <td>0.800731</td>\n",
              "      <td>1.041739</td>\n",
              "      <td>0.991632</td>\n",
              "      <td>1.200820</td>\n",
              "      <td>1.534188</td>\n",
              "      <td>0.911765</td>\n",
              "    </tr>\n",
              "    <tr>\n",
              "      <th>2019-12-30</th>\n",
              "      <td>1.552805</td>\n",
              "      <td>1.649635</td>\n",
              "      <td>0.796610</td>\n",
              "      <td>0.667674</td>\n",
              "      <td>0.802559</td>\n",
              "      <td>1.034783</td>\n",
              "      <td>0.991632</td>\n",
              "      <td>1.206967</td>\n",
              "      <td>1.594017</td>\n",
              "      <td>0.937908</td>\n",
              "    </tr>\n",
              "  </tbody>\n",
              "</table>\n",
              "</div>"
            ],
            "text/plain": [
              "              SK하이닉스        효성      대한유화  ...    SIMPAC       케이씨  에쓰씨엔지니어링\n",
              "Date                                      ...                              \n",
              "2019-12-23  1.561056  1.722628  0.820339  ...  1.192623  1.337607  0.947712\n",
              "2019-12-24  1.547855  1.747654  0.820339  ...  1.178279  1.354701  0.908497\n",
              "2019-12-26  1.564356  1.758081  0.823729  ...  1.192623  1.410256  0.928105\n",
              "2019-12-27  1.584158  1.660063  0.803390  ...  1.200820  1.534188  0.911765\n",
              "2019-12-30  1.552805  1.649635  0.796610  ...  1.206967  1.594017  0.937908\n",
              "\n",
              "[5 rows x 10 columns]"
            ]
          },
          "metadata": {
            "tags": []
          },
          "execution_count": 56
        }
      ]
    }
  ]
}