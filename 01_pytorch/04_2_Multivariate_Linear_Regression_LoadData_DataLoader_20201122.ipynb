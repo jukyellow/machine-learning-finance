{
  "nbformat": 4,
  "nbformat_minor": 0,
  "metadata": {
    "colab": {
      "name": "04_2_Multivariate_Linear_Regression_LoadData_DataLoader_20201122.ipynb",
      "provenance": [],
      "collapsed_sections": []
    },
    "kernelspec": {
      "name": "python3",
      "display_name": "Python 3"
    }
  },
  "cells": [
    {
      "cell_type": "code",
      "metadata": {
        "id": "YPuI6E-v3Xp9"
      },
      "source": [
        "# https://github.com/jukyellow/PyTorch/blob/master/lab-04_2_load_data.ipynb"
      ],
      "execution_count": null,
      "outputs": []
    },
    {
      "cell_type": "code",
      "metadata": {
        "colab": {
          "base_uri": "https://localhost:8080/"
        },
        "id": "uHZNgf1O7Cyd",
        "outputId": "a88b7c88-20a1-4b18-e534-9e615e19b37a"
      },
      "source": [
        "nums = [0, 1, 2, 3, 4]\n",
        "print(nums)\n",
        "\n",
        "print(nums[2:4])\n",
        "print(nums[2:])\n",
        "print(nums[:2])\n",
        "print(nums[:])\n",
        "print(nums[:-1])\n",
        "nums[2:4] = [8, 9]\n",
        "print(nums)"
      ],
      "execution_count": 1,
      "outputs": [
        {
          "output_type": "stream",
          "text": [
            "[0, 1, 2, 3, 4]\n",
            "[2, 3]\n",
            "[2, 3, 4]\n",
            "[0, 1]\n",
            "[0, 1, 2, 3, 4]\n",
            "[0, 1, 2, 3]\n",
            "[0, 1, 8, 9, 4]\n"
          ],
          "name": "stdout"
        }
      ]
    },
    {
      "cell_type": "code",
      "metadata": {
        "colab": {
          "base_uri": "https://localhost:8080/"
        },
        "id": "KtjKPfDG7C3E",
        "outputId": "2264dea4-6913-4bdf-a3e1-3f95693c43d0"
      },
      "source": [
        "import numpy as np\n",
        "\n",
        "b = np.array([[1, 2, 3, 4], [5, 6, 7, 8], [9, 10, 11, 12]])\n",
        "print(b)\n",
        "\n",
        "print(b[:, 1])\n",
        "print(b[-1])\n",
        "print(b[-1, :])\n",
        "print(b[-1, ...])\n",
        "print(b[0:2, :])"
      ],
      "execution_count": 2,
      "outputs": [
        {
          "output_type": "stream",
          "text": [
            "[[ 1  2  3  4]\n",
            " [ 5  6  7  8]\n",
            " [ 9 10 11 12]]\n",
            "[ 2  6 10]\n",
            "[ 9 10 11 12]\n",
            "[ 9 10 11 12]\n",
            "[ 9 10 11 12]\n",
            "[[1 2 3 4]\n",
            " [5 6 7 8]]\n"
          ],
          "name": "stdout"
        }
      ]
    },
    {
      "cell_type": "code",
      "metadata": {
        "colab": {
          "base_uri": "https://localhost:8080/"
        },
        "id": "m7u5nGXB7XXQ",
        "outputId": "99277f12-e0dc-4fbe-b37d-3265062f4745"
      },
      "source": [
        "xy = np.loadtxt('data-01-test-score.csv', delimiter=',', dtype=np.float32)\n",
        "x_data = xy[:, 0:-1]\n",
        "y_data = xy[:, [-1]]\n",
        "print(x_data.shape) # x_data shape\n",
        "print(len(x_data))  # x_data 길이\n",
        "print(x_data[:5])   # 첫 다섯 개"
      ],
      "execution_count": 3,
      "outputs": [
        {
          "output_type": "stream",
          "text": [
            "(25, 3)\n",
            "25\n",
            "[[ 73.  80.  75.]\n",
            " [ 93.  88.  93.]\n",
            " [ 89.  91.  90.]\n",
            " [ 96.  98. 100.]\n",
            " [ 73.  66.  70.]]\n"
          ],
          "name": "stdout"
        }
      ]
    },
    {
      "cell_type": "code",
      "metadata": {
        "colab": {
          "base_uri": "https://localhost:8080/"
        },
        "id": "uBtMwAs07C5c",
        "outputId": "283a06fa-926a-4a8e-ca19-aad7ae53e58b"
      },
      "source": [
        "import torch\n",
        "import torch.nn as nn\n",
        "import torch.nn.functional as F\n",
        "import torch.optim as optim\n",
        "\n",
        "# For reproducibility\n",
        "torch.manual_seed(1)"
      ],
      "execution_count": 5,
      "outputs": [
        {
          "output_type": "execute_result",
          "data": {
            "text/plain": [
              "<torch._C.Generator at 0x7f220bfbb180>"
            ]
          },
          "metadata": {
            "tags": []
          },
          "execution_count": 5
        }
      ]
    },
    {
      "cell_type": "code",
      "metadata": {
        "colab": {
          "base_uri": "https://localhost:8080/"
        },
        "id": "yZ7FU0ol7C1Q",
        "outputId": "2e442523-0ea6-4568-ea38-02a3c5e1db6e"
      },
      "source": [
        "x_train = torch.FloatTensor(x_data)\n",
        "y_train = torch.FloatTensor(y_data)\n",
        "# 모델 초기화\n",
        "W = torch.zeros((3, 1), requires_grad=True)\n",
        "b = torch.zeros(1, requires_grad=True)\n",
        "# optimizer 설정\n",
        "optimizer = optim.SGD([W, b], lr=1e-5)\n",
        "\n",
        "nb_epochs = 20\n",
        "for epoch in range(nb_epochs + 1):\n",
        "    \n",
        "    # H(x) 계산\n",
        "    hypothesis = x_train.matmul(W) + b # or .mm or @\n",
        "\n",
        "    # cost 계산\n",
        "    cost = torch.mean((hypothesis - y_train) ** 2)\n",
        "\n",
        "    # cost로 H(x) 개선\n",
        "    optimizer.zero_grad()\n",
        "    cost.backward()\n",
        "    optimizer.step()\n",
        "\n",
        "    # 100번마다 로그 출력\n",
        "    print('Epoch {:4d}/{} Cost: {:.6f}'.format(\n",
        "        epoch, nb_epochs, cost.item()\n",
        "    ))"
      ],
      "execution_count": 6,
      "outputs": [
        {
          "output_type": "stream",
          "text": [
            "Epoch    0/20 Cost: 26811.960938\n",
            "Epoch    1/20 Cost: 9920.530273\n",
            "Epoch    2/20 Cost: 3675.298340\n",
            "Epoch    3/20 Cost: 1366.260498\n",
            "Epoch    4/20 Cost: 512.542480\n",
            "Epoch    5/20 Cost: 196.896637\n",
            "Epoch    6/20 Cost: 80.190987\n",
            "Epoch    7/20 Cost: 37.038696\n",
            "Epoch    8/20 Cost: 21.081343\n",
            "Epoch    9/20 Cost: 15.178760\n",
            "Epoch   10/20 Cost: 12.993679\n",
            "Epoch   11/20 Cost: 12.183023\n",
            "Epoch   12/20 Cost: 11.880535\n",
            "Epoch   13/20 Cost: 11.765958\n",
            "Epoch   14/20 Cost: 11.720851\n",
            "Epoch   15/20 Cost: 11.701438\n",
            "Epoch   16/20 Cost: 11.691514\n",
            "Epoch   17/20 Cost: 11.685116\n",
            "Epoch   18/20 Cost: 11.680005\n",
            "Epoch   19/20 Cost: 11.675380\n",
            "Epoch   20/20 Cost: 11.670952\n"
          ],
          "name": "stdout"
        }
      ]
    },
    {
      "cell_type": "code",
      "metadata": {
        "id": "7yR1oqqS73rj"
      },
      "source": [
        "class MultivariateLinearRegressionModel(nn.Module):\n",
        "    def __init__(self):\n",
        "        super().__init__()\n",
        "        self.linear = nn.Linear(3, 1)\n",
        "\n",
        "    def forward(self, x):\n",
        "        return self.linear(x)"
      ],
      "execution_count": 7,
      "outputs": []
    },
    {
      "cell_type": "code",
      "metadata": {
        "colab": {
          "base_uri": "https://localhost:8080/"
        },
        "id": "NZqGdTn373vi",
        "outputId": "4ea77396-42ba-4caa-909c-05b2e512942e"
      },
      "source": [
        "# 데이터\n",
        "x_train = torch.FloatTensor(x_data)\n",
        "y_train = torch.FloatTensor(y_data)\n",
        "# 모델 초기화\n",
        "model = MultivariateLinearRegressionModel()\n",
        "# optimizer 설정\n",
        "optimizer = optim.SGD(model.parameters(), lr=1e-5)\n",
        "\n",
        "nb_epochs = 20 * 3\n",
        "for epoch in range(nb_epochs+1):\n",
        "    \n",
        "    # H(x) 계산\n",
        "    prediction = model(x_train)\n",
        "    \n",
        "    # cost 계산\n",
        "    cost = F.mse_loss(prediction, y_train)\n",
        "    \n",
        "    # cost로 H(x) 개선\n",
        "    optimizer.zero_grad()\n",
        "    cost.backward()\n",
        "    optimizer.step()\n",
        "    \n",
        "    # 20번마다 로그 출력\n",
        "    print('Epoch {:4d}/{} Cost: {:.6f}'.format(\n",
        "        epoch, nb_epochs, cost.item()\n",
        "    ))"
      ],
      "execution_count": 16,
      "outputs": [
        {
          "output_type": "stream",
          "text": [
            "Epoch    0/60 Cost: 37021.359375\n",
            "Epoch    1/60 Cost: 13709.822266\n",
            "Epoch    2/60 Cost: 5090.887695\n",
            "Epoch    3/60 Cost: 1904.212769\n",
            "Epoch    4/60 Cost: 725.994202\n",
            "Epoch    5/60 Cost: 290.357880\n",
            "Epoch    6/60 Cost: 129.275269\n",
            "Epoch    7/60 Cost: 69.702209\n",
            "Epoch    8/60 Cost: 47.660400\n",
            "Epoch    9/60 Cost: 39.494938\n",
            "Epoch   10/60 Cost: 36.459793\n",
            "Epoch   11/60 Cost: 35.321587\n",
            "Epoch   12/60 Cost: 34.884674\n",
            "Epoch   13/60 Cost: 34.707153\n",
            "Epoch   14/60 Cost: 34.625511\n",
            "Epoch   15/60 Cost: 34.579365\n",
            "Epoch   16/60 Cost: 34.546280\n",
            "Epoch   17/60 Cost: 34.518116\n",
            "Epoch   18/60 Cost: 34.491722\n",
            "Epoch   19/60 Cost: 34.466019\n",
            "Epoch   20/60 Cost: 34.440624\n",
            "Epoch   21/60 Cost: 34.415314\n",
            "Epoch   22/60 Cost: 34.390079\n",
            "Epoch   23/60 Cost: 34.364899\n",
            "Epoch   24/60 Cost: 34.339684\n",
            "Epoch   25/60 Cost: 34.314545\n",
            "Epoch   26/60 Cost: 34.289391\n",
            "Epoch   27/60 Cost: 34.264271\n",
            "Epoch   28/60 Cost: 34.239178\n",
            "Epoch   29/60 Cost: 34.214100\n",
            "Epoch   30/60 Cost: 34.189060\n",
            "Epoch   31/60 Cost: 34.164005\n",
            "Epoch   32/60 Cost: 34.139027\n",
            "Epoch   33/60 Cost: 34.114037\n",
            "Epoch   34/60 Cost: 34.089073\n",
            "Epoch   35/60 Cost: 34.064133\n",
            "Epoch   36/60 Cost: 34.039223\n",
            "Epoch   37/60 Cost: 34.014339\n",
            "Epoch   38/60 Cost: 33.989464\n",
            "Epoch   39/60 Cost: 33.964588\n",
            "Epoch   40/60 Cost: 33.939781\n",
            "Epoch   41/60 Cost: 33.914970\n",
            "Epoch   42/60 Cost: 33.890182\n",
            "Epoch   43/60 Cost: 33.865433\n",
            "Epoch   44/60 Cost: 33.840687\n",
            "Epoch   45/60 Cost: 33.815964\n",
            "Epoch   46/60 Cost: 33.791256\n",
            "Epoch   47/60 Cost: 33.766605\n",
            "Epoch   48/60 Cost: 33.741947\n",
            "Epoch   49/60 Cost: 33.717281\n",
            "Epoch   50/60 Cost: 33.692722\n",
            "Epoch   51/60 Cost: 33.668114\n",
            "Epoch   52/60 Cost: 33.643543\n",
            "Epoch   53/60 Cost: 33.618996\n",
            "Epoch   54/60 Cost: 33.594482\n",
            "Epoch   55/60 Cost: 33.569984\n",
            "Epoch   56/60 Cost: 33.545498\n",
            "Epoch   57/60 Cost: 33.521049\n",
            "Epoch   58/60 Cost: 33.496613\n",
            "Epoch   59/60 Cost: 33.472221\n",
            "Epoch   60/60 Cost: 33.447853\n"
          ],
          "name": "stdout"
        }
      ]
    },
    {
      "cell_type": "code",
      "metadata": {
        "id": "LocQxKtx8EX0"
      },
      "source": [
        "# Dataset and DataLoader\n",
        "from torch.utils.data import Dataset\n",
        "\n",
        "class CustomDataset(Dataset):\n",
        "    def __init__(self):\n",
        "        self.x_data = [[73, 80, 75],\n",
        "                       [93, 88, 93],\n",
        "                       [89, 91, 90],\n",
        "                       [96, 98, 100],\n",
        "                       [73, 66, 70]]\n",
        "        self.y_data = [[152], [185], [180], [196], [142]]\n",
        "    def __len__(self):\n",
        "        return len(self.x_data)\n",
        "    def __getitem__(self, idx):\n",
        "        x = torch.FloatTensor(self.x_data[idx])\n",
        "        y = torch.FloatTensor(self.y_data[idx])\n",
        "        return x, y"
      ],
      "execution_count": 10,
      "outputs": []
    },
    {
      "cell_type": "code",
      "metadata": {
        "colab": {
          "base_uri": "https://localhost:8080/"
        },
        "id": "fZw2z6Uq8EaA",
        "outputId": "acf0af79-6b76-4621-df06-bee405b91a4b"
      },
      "source": [
        "from torch.utils.data import DataLoader\n",
        "\n",
        "dataset =  CustomDataset()\n",
        "print(len(dataset))\n",
        "\n",
        "p_batch_size = 2\n",
        "dataloader = DataLoader(\n",
        "    dataset,\n",
        "    batch_size = p_batch_size,\n",
        "    shuffle = True\n",
        ")\n",
        "print(len(dataloader))"
      ],
      "execution_count": 41,
      "outputs": [
        {
          "output_type": "stream",
          "text": [
            "5\n",
            "3\n"
          ],
          "name": "stdout"
        }
      ]
    },
    {
      "cell_type": "code",
      "metadata": {
        "colab": {
          "base_uri": "https://localhost:8080/"
        },
        "id": "CTpLgg4D9Kf2",
        "outputId": "cc6a17bc-89b8-4249-c30b-65ac3323a96d"
      },
      "source": [
        "# 모델 초기화\n",
        "model = MultivariateLinearRegressionModel()\n",
        "# optimizer 설정\n",
        "optimizer = optim.SGD(model.parameters(), lr=1e-5)\n",
        "\n",
        "nb_epochs = 20\n",
        "for epoch in range(nb_epochs + 1) :\n",
        "    for batch_idx, samples in enumerate(dataloader):\n",
        "        x_train, y_train = samples\n",
        "        #print('samples:', samples)\n",
        "\n",
        "        # H(x) 계산\n",
        "        prediction = model(x_train)\n",
        "\n",
        "        # cost 계산\n",
        "        cost = F.mse_loss(prediction, y_train)\n",
        "\n",
        "        # cost로 H(x) 업데이트\n",
        "        optimizer.zero_grad()\n",
        "        cost.backward()\n",
        "        optimizer.step()\n",
        "\n",
        "        result_pred_y = 0, 0\n",
        "        if p_batch_size < 2: result_pred_y = int(prediction.squeeze().detach()), int(y_train.squeeze().detach())\n",
        "        else: result_pred_y = prediction.squeeze().detach(), y_train.squeeze().detach()\n",
        "            \n",
        "        print('Epoch {:4d}/{} Batch {}/{} Cost: {:.6f} pred/y: {}'.format(\n",
        "            epoch, nb_epochs, batch_idx+1, len(dataloader), cost.item(),\n",
        "            result_pred_y\n",
        "        ))"
      ],
      "execution_count": 42,
      "outputs": [
        {
          "output_type": "stream",
          "text": [
            "Epoch    0/20 Batch 1/3 Cost: 31202.828125 pred/y: (tensor([-11.2180,  -8.7524]), tensor([180., 152.]))\n",
            "Epoch    0/20 Batch 2/3 Cost: 14273.857422 pred/y: (tensor([68.2314, 73.8820]), tensor([185., 196.]))\n",
            "Epoch    0/20 Batch 3/3 Cost: 1823.973267 pred/y: (tensor(99.2920), tensor(142.))\n",
            "Epoch    1/20 Batch 1/3 Cost: 1182.393188 pred/y: (tensor([111.7508, 157.9241]), tensor([142., 196.]))\n",
            "Epoch    1/20 Batch 2/3 Cost: 365.984070 pred/y: (tensor([162.5919, 136.8394]), tensor([185., 152.]))\n",
            "Epoch    1/20 Batch 3/3 Cost: 103.585655 pred/y: (tensor(169.8223), tensor(180.))\n",
            "Epoch    2/20 Batch 1/3 Cost: 47.024708 pred/y: (tensor([134.4736, 189.8843]), tensor([142., 196.]))\n",
            "Epoch    2/20 Batch 2/3 Cost: 17.776108 pred/y: (tensor([179.4570, 177.8029]), tensor([185., 180.]))\n",
            "Epoch    2/20 Batch 3/3 Cost: 0.226385 pred/y: (tensor(152.4758), tensor(152.))\n",
            "Epoch    3/20 Batch 1/3 Cost: 7.551175 pred/y: (tensor([138.1451, 179.5082]), tensor([142., 180.]))\n",
            "Epoch    3/20 Batch 2/3 Cost: 4.884409 pred/y: (tensor([182.0466, 153.0230]), tensor([185., 152.]))\n",
            "Epoch    3/20 Batch 3/3 Cost: 0.280091 pred/y: (tensor(196.5292), tensor(196.))\n",
            "Epoch    4/20 Batch 1/3 Cost: 3.848658 pred/y: (tensor([180.5907, 182.2892]), tensor([180., 185.]))\n",
            "Epoch    4/20 Batch 2/3 Cost: 3.717335 pred/y: (tensor([196.7958, 139.3920]), tensor([196., 142.]))\n",
            "Epoch    4/20 Batch 3/3 Cost: 3.616996 pred/y: (tensor(153.9018), tensor(152.))\n",
            "Epoch    5/20 Batch 1/3 Cost: 5.252205 pred/y: (tensor([153.2417, 139.0062]), tensor([152., 142.]))\n",
            "Epoch    5/20 Batch 2/3 Cost: 0.597195 pred/y: (tensor([196.5859, 180.9226]), tensor([196., 180.]))\n",
            "Epoch    5/20 Batch 3/3 Cost: 7.592070 pred/y: (tensor(182.2446), tensor(185.))\n",
            "Epoch    6/20 Batch 1/3 Cost: 2.934731 pred/y: (tensor([183.6247, 140.0055]), tensor([185., 142.]))\n",
            "Epoch    6/20 Batch 2/3 Cost: 7.713645 pred/y: (tensor([154.9297, 182.6162]), tensor([152., 180.]))\n",
            "Epoch    6/20 Batch 3/3 Cost: 1.173633 pred/y: (tensor(197.0833), tensor(196.))\n",
            "Epoch    7/20 Batch 1/3 Cost: 0.429770 pred/y: (tensor([196.4589, 180.8056]), tensor([196., 180.]))\n",
            "Epoch    7/20 Batch 2/3 Cost: 5.403964 pred/y: (tensor([138.9135, 153.1320]), tensor([142., 152.]))\n",
            "Epoch    7/20 Batch 3/3 Cost: 6.021117 pred/y: (tensor(182.5462), tensor(185.))\n",
            "Epoch    8/20 Batch 1/3 Cost: 3.732478 pred/y: (tensor([197.8103, 182.0464]), tensor([196., 180.]))\n",
            "Epoch    8/20 Batch 2/3 Cost: 3.768586 pred/y: (tensor([182.7845, 153.6214]), tensor([185., 152.]))\n",
            "Epoch    8/20 Batch 3/3 Cost: 6.088249 pred/y: (tensor(139.5326), tensor(142.))\n",
            "Epoch    9/20 Batch 1/3 Cost: 2.083592 pred/y: (tensor([183.9450, 140.2524]), tensor([185., 142.]))\n",
            "Epoch    9/20 Batch 2/3 Cost: 8.205853 pred/y: (tensor([155.0803, 198.6313]), tensor([152., 196.]))\n",
            "Epoch    9/20 Batch 3/3 Cost: 2.165212 pred/y: (tensor(181.4715), tensor(180.))\n",
            "Epoch   10/20 Batch 1/3 Cost: 5.039783 pred/y: (tensor([139.1281, 153.3535]), tensor([142., 152.]))\n",
            "Epoch   10/20 Batch 2/3 Cost: 2.798949 pred/y: (tensor([182.7372, 196.6913]), tensor([185., 196.]))\n",
            "Epoch   10/20 Batch 3/3 Cost: 1.941527 pred/y: (tensor(181.3934), tensor(180.))\n",
            "Epoch   11/20 Batch 1/3 Cost: 3.555868 pred/y: (tensor([180.7161, 182.4312]), tensor([180., 185.]))\n",
            "Epoch   11/20 Batch 2/3 Cost: 4.692353 pred/y: (tensor([153.7057, 139.4554]), tensor([152., 142.]))\n",
            "Epoch   11/20 Batch 3/3 Cost: 1.004705 pred/y: (tensor(197.0023), tensor(196.))\n",
            "Epoch   12/20 Batch 1/3 Cost: 0.389141 pred/y: (tensor([196.4246, 180.7733]), tensor([196., 180.]))\n",
            "Epoch   12/20 Batch 2/3 Cost: 5.382195 pred/y: (tensor([138.9131, 153.1116]), tensor([142., 152.]))\n",
            "Epoch   12/20 Batch 3/3 Cost: 6.027783 pred/y: (tensor(182.5448), tensor(185.))\n",
            "Epoch   13/20 Batch 1/3 Cost: 2.370502 pred/y: (tensor([183.7745, 197.7998]), tensor([185., 196.]))\n",
            "Epoch   13/20 Batch 2/3 Cost: 3.751316 pred/y: (tensor([181.8618, 139.9910]), tensor([180., 142.]))\n",
            "Epoch   13/20 Batch 3/3 Cost: 4.924070 pred/y: (tensor(154.2190), tensor(152.))\n",
            "Epoch   14/20 Batch 1/3 Cost: 0.527947 pred/y: (tensor([180.8761, 196.5370]), tensor([180., 196.]))\n",
            "Epoch   14/20 Batch 2/3 Cost: 8.445416 pred/y: (tensor([182.2394, 138.9553]), tensor([185., 142.]))\n",
            "Epoch   14/20 Batch 3/3 Cost: 4.867216 pred/y: (tensor(154.2062), tensor(152.))\n",
            "Epoch   15/20 Batch 1/3 Cost: 3.033035 pred/y: (tensor([196.5290, 182.5945]), tensor([196., 185.]))\n",
            "Epoch   15/20 Batch 2/3 Cost: 4.592994 pred/y: (tensor([139.5784, 153.8226]), tensor([142., 152.]))\n",
            "Epoch   15/20 Batch 3/3 Cost: 1.967767 pred/y: (tensor(181.4028), tensor(180.))\n",
            "Epoch   16/20 Batch 1/3 Cost: 7.421298 pred/y: (tensor([182.4467, 139.1150]), tensor([185., 142.]))\n",
            "Epoch   16/20 Batch 2/3 Cost: 4.444065 pred/y: (tensor([181.8930, 154.3032]), tensor([180., 152.]))\n",
            "Epoch   16/20 Batch 3/3 Cost: 0.396022 pred/y: (tensor(196.6293), tensor(196.))\n",
            "Epoch   17/20 Batch 1/3 Cost: 3.698653 pred/y: (tensor([180.6270, 182.3535]), tensor([180., 185.]))\n",
            "Epoch   17/20 Batch 2/3 Cost: 4.666331 pred/y: (tensor([139.4325, 153.6555]), tensor([142., 152.]))\n",
            "Epoch   17/20 Batch 3/3 Cost: 0.935139 pred/y: (tensor(196.9670), tensor(196.))\n",
            "Epoch   18/20 Batch 1/3 Cost: 0.371411 pred/y: (tensor([180.7583, 196.4096]), tensor([180., 196.]))\n",
            "Epoch   18/20 Batch 2/3 Cost: 4.544452 pred/y: (tensor([153.0960, 182.1915]), tensor([152., 185.]))\n",
            "Epoch   18/20 Batch 3/3 Cost: 7.372448 pred/y: (tensor(139.2848), tensor(142.))\n",
            "Epoch   19/20 Batch 1/3 Cost: 3.375216 pred/y: (tensor([181.9542, 197.7121]), tensor([180., 196.]))\n",
            "Epoch   19/20 Batch 2/3 Cost: 4.716541 pred/y: (tensor([153.5675, 139.3588]), tensor([152., 142.]))\n",
            "Epoch   19/20 Batch 3/3 Cost: 4.237808 pred/y: (tensor(182.9414), tensor(185.))\n",
            "Epoch   20/20 Batch 1/3 Cost: 2.983767 pred/y: (tensor([182.2162, 183.9725]), tensor([180., 185.]))\n",
            "Epoch   20/20 Batch 2/3 Cost: 4.137064 pred/y: (tensor([197.6871, 154.3298]), tensor([196., 152.]))\n",
            "Epoch   20/20 Batch 3/3 Cost: 7.039623 pred/y: (tensor(139.3468), tensor(142.))\n"
          ],
          "name": "stdout"
        }
      ]
    },
    {
      "cell_type": "code",
      "metadata": {
        "id": "XnTk2sRG9Kim"
      },
      "source": [
        ""
      ],
      "execution_count": null,
      "outputs": []
    }
  ]
}