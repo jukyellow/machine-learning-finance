{
  "nbformat": 4,
  "nbformat_minor": 0,
  "metadata": {
    "colab": {
      "name": "02_linear_algebra_1_matrix_20201113.ipynb",
      "provenance": [],
      "collapsed_sections": []
    },
    "kernelspec": {
      "name": "python3",
      "display_name": "Python 3"
    }
  },
  "cells": [
    {
      "cell_type": "code",
      "metadata": {
        "id": "Zpvf3gTjL7LL"
      },
      "source": [
        "#https://datascienceschool.net/02%20mathematics/02.01%20%EB%8D%B0%EC%9D%B4%ED%84%B0%EC%99%80%20%ED%96%89%EB%A0%AC.html"
      ],
      "execution_count": 2,
      "outputs": []
    },
    {
      "cell_type": "code",
      "metadata": {
        "id": "bTD5bSzkWR2m"
      },
      "source": [
        "import numpy as np  # 넘파이 패키지 임포트\n",
        "import matplotlib.pylab as plt  # 맷플롯립 패키지 임포트"
      ],
      "execution_count": 3,
      "outputs": []
    },
    {
      "cell_type": "code",
      "metadata": {
        "id": "ROA1Ul3WWR45"
      },
      "source": [
        "# 데이터 유형: 스칼라(scalar), 벡터(vector), 행렬(matrix), 텐서(tensor)  "
      ],
      "execution_count": 4,
      "outputs": []
    },
    {
      "cell_type": "code",
      "metadata": {
        "id": "5R-34N_oWR7O",
        "outputId": "56fe7e67-40fc-46b3-8712-36abd29a60a0",
        "colab": {
          "base_uri": "https://localhost:8080/"
        }
      },
      "source": [
        "from sklearn.datasets import load_iris  # 사이킷런 패키지 임포트\n",
        "\n",
        "iris = load_iris()  # 데이터 로드\n",
        "iris.data[0, :]  # 첫 번째 꽃의 데이터"
      ],
      "execution_count": 5,
      "outputs": [
        {
          "output_type": "execute_result",
          "data": {
            "text/plain": [
              "array([5.1, 3.5, 1.4, 0.2])"
            ]
          },
          "metadata": {
            "tags": []
          },
          "execution_count": 5
        }
      ]
    },
    {
      "cell_type": "code",
      "metadata": {
        "id": "aaKgN0ryY1ZS"
      },
      "source": [
        "# 1. 스칼라\n",
        "# 스칼라는 하나의 숫자만으로 이루어진 데이터를 말한다"
      ],
      "execution_count": 6,
      "outputs": []
    },
    {
      "cell_type": "markdown",
      "metadata": {
        "id": "j4rIhd4VZnha"
      },
      "source": [
        "\\begin{align}\n",
        "x \\in \\mathbf{R} \n",
        "\\tag{실수 집합 R의 원소}\n",
        "\\end{align}"
      ]
    },
    {
      "cell_type": "code",
      "metadata": {
        "id": "dTMqbWxGZfkz"
      },
      "source": [
        "# 2. 벡터\n",
        "# 벡터는 여러 개의 숫자가 특정한 순서대로 모여 있는 것을 말한다. \n",
        "# 하나의 벡터를 이루는 데이터가 n개이면, n차원벡터(n-dimensional vector)라고 하고 아래처럼 표기"
      ],
      "execution_count": null,
      "outputs": []
    },
    {
      "cell_type": "markdown",
      "metadata": {
        "id": "QXtFfybZZtQX"
      },
      "source": [
        "\\begin{split} \n",
        "\\begin{align}\n",
        "x = \\begin{bmatrix}\n",
        "x_{1} \\\\\n",
        "x_{2} \\\\\n",
        "x_{3} \\\\\n",
        "x_{4} \\\\\n",
        "\\end{bmatrix}\n",
        "\\tag{붓꽃의 크기 벡터는 4개의 데이터가 한로 묵여있음}\n",
        "\\end{align}\n",
        "\\end{split}\n"
      ]
    },
    {
      "cell_type": "markdown",
      "metadata": {
        "id": "igYA2Ud6aIOB"
      },
      "source": [
        "\\begin{align}\n",
        "x \\in \\mathbf{R}^N\n",
        "\\tag{n-dimensional vector}\n",
        "\\end{align}\n"
      ]
    },
    {
      "cell_type": "markdown",
      "metadata": {
        "id": "DpPyjVFfaXJL"
      },
      "source": [
        "\\begin{align}\n",
        "\\mathbf{x} = \\vec{x} =\n",
        "\\begin{bmatrix}\n",
        "x_{1} \\\\\n",
        "x_{2} \\\\\n",
        "\\vdots \\\\\n",
        "x_{N} \\\\\n",
        "\\end{bmatrix}\n",
        "\\tag{아래첨자(subscript)를 붙여 구별하기도함}\n",
        "\\end{align}\n"
      ]
    },
    {
      "cell_type": "code",
      "metadata": {
        "id": "MqFYqHcGZ3SU"
      },
      "source": [
        "# 3. 행렬\n",
        "# 행렬은 복수의 차원을 가지는 데이터 레코드가 다시 여러 개 있는 경우의 데이터를 합쳐서 표기한 것이다"
      ],
      "execution_count": null,
      "outputs": []
    },
    {
      "cell_type": "markdown",
      "metadata": {
        "id": "cLj8xeRaa6Qy"
      },
      "source": [
        "\\begin{split}\n",
        "\\begin{align}\n",
        "X = \n",
        "\\begin{bmatrix}\n",
        "\\boxed{\\begin{matrix} x_{1, 1} & x_{1, 2} & x_{1, 3} & x_{1, 4}\\end{matrix}}  \\\\\n",
        "\\begin{matrix} x_{2, 1} & x_{2, 2} & x_{2, 3} & x_{2, 4}\\end{matrix} \\\\\n",
        "\\begin{matrix} x_{3, 1} & x_{3, 2} & x_{3, 3} & x_{3, 4}\\end{matrix} \\\\\n",
        "\\begin{matrix} x_{4, 1} & x_{4, 2} & x_{4, 3} & x_{4, 4}\\end{matrix} \\\\\n",
        "\\begin{matrix} x_{5, 1} & x_{5, 2} & x_{5, 3} & x_{5, 4}\\end{matrix} \\\\\n",
        "\\begin{matrix} x_{6, 1} & x_{6, 2} & x_{6, 3} & x_{6, 4}\\end{matrix} \\\\\n",
        "\\end{bmatrix}\n",
        "\\tag{행렬}\n",
        "\\end{align}\n",
        "\\end{split}"
      ]
    },
    {
      "cell_type": "markdown",
      "metadata": {
        "id": "f-rgMnQUbC3B"
      },
      "source": [
        "\\begin{align}\n",
        "X \\in \\mathbf{R}^{6\\times 4} \n",
        "\\tag{행렬의 크기: 행의크기X열의크기로 표현}\n",
        "\\end{align}\n"
      ]
    },
    {
      "cell_type": "code",
      "metadata": {
        "id": "8NUClsvXZ3Wc"
      },
      "source": [
        "# 4. 텐서\n",
        "# 텐서는 같은 크기의 행렬이 여러 개 같이 묶여 있는 것을 말한다. \n",
        "# 엄격한 수학적 정의로는 텐서는 다차원 배열로 표현되는 사상(mapping)으로 다차원 배열 자체를 뜻하지 않는다. \n",
        "# 하지만 데이터 사이언스 분야에서는 흔히 다차원 배열을 텐서라고 부르므로 여기에서는 이러한 정의를 따르도록 한다."
      ],
      "execution_count": null,
      "outputs": []
    },
    {
      "cell_type": "code",
      "metadata": {
        "id": "s9qT3JQ9Z3a8",
        "outputId": "4ad9da53-7d4c-4670-ba6c-c688a6bf6c55",
        "colab": {
          "base_uri": "https://localhost:8080/"
        }
      },
      "source": [
        "from scipy import misc  # 패키지 임포트\n",
        "\n",
        "img_rgb = misc.face()  # 컬러 이미지 로드\n",
        "img_rgb.shape  # 데이터의 모양"
      ],
      "execution_count": 7,
      "outputs": [
        {
          "output_type": "execute_result",
          "data": {
            "text/plain": [
              "(768, 1024, 3)"
            ]
          },
          "metadata": {
            "tags": []
          },
          "execution_count": 7
        }
      ]
    },
    {
      "cell_type": "code",
      "metadata": {
        "id": "aZj9P6JXZ3dS",
        "outputId": "b9c7724b-1fcb-4845-ce8c-c0659659f3d6",
        "colab": {
          "base_uri": "https://localhost:8080/",
          "height": 526
        }
      },
      "source": [
        "plt.subplot(221)\n",
        "plt.imshow(img_rgb, cmap=plt.cm.gray)  # 컬러 이미지 출력\n",
        "plt.axis(\"off\")\n",
        "plt.title(\"RGB 컬러 이미지\")"
      ],
      "execution_count": 8,
      "outputs": [
        {
          "output_type": "execute_result",
          "data": {
            "text/plain": [
              "Text(0.5, 1.0, 'RGB 컬러 이미지')"
            ]
          },
          "metadata": {
            "tags": []
          },
          "execution_count": 8
        },
        {
          "output_type": "stream",
          "text": [
            "/usr/local/lib/python3.6/dist-packages/matplotlib/backends/backend_agg.py:214: RuntimeWarning: Glyph 52972 missing from current font.\n",
            "  font.set_text(s, 0.0, flags=flags)\n",
            "/usr/local/lib/python3.6/dist-packages/matplotlib/backends/backend_agg.py:214: RuntimeWarning: Glyph 47084 missing from current font.\n",
            "  font.set_text(s, 0.0, flags=flags)\n",
            "/usr/local/lib/python3.6/dist-packages/matplotlib/backends/backend_agg.py:214: RuntimeWarning: Glyph 51060 missing from current font.\n",
            "  font.set_text(s, 0.0, flags=flags)\n",
            "/usr/local/lib/python3.6/dist-packages/matplotlib/backends/backend_agg.py:214: RuntimeWarning: Glyph 48120 missing from current font.\n",
            "  font.set_text(s, 0.0, flags=flags)\n",
            "/usr/local/lib/python3.6/dist-packages/matplotlib/backends/backend_agg.py:214: RuntimeWarning: Glyph 51648 missing from current font.\n",
            "  font.set_text(s, 0.0, flags=flags)\n",
            "/usr/local/lib/python3.6/dist-packages/matplotlib/backends/backend_agg.py:183: RuntimeWarning: Glyph 52972 missing from current font.\n",
            "  font.set_text(s, 0, flags=flags)\n",
            "/usr/local/lib/python3.6/dist-packages/matplotlib/backends/backend_agg.py:183: RuntimeWarning: Glyph 47084 missing from current font.\n",
            "  font.set_text(s, 0, flags=flags)\n",
            "/usr/local/lib/python3.6/dist-packages/matplotlib/backends/backend_agg.py:183: RuntimeWarning: Glyph 51060 missing from current font.\n",
            "  font.set_text(s, 0, flags=flags)\n",
            "/usr/local/lib/python3.6/dist-packages/matplotlib/backends/backend_agg.py:183: RuntimeWarning: Glyph 48120 missing from current font.\n",
            "  font.set_text(s, 0, flags=flags)\n",
            "/usr/local/lib/python3.6/dist-packages/matplotlib/backends/backend_agg.py:183: RuntimeWarning: Glyph 51648 missing from current font.\n",
            "  font.set_text(s, 0, flags=flags)\n"
          ],
          "name": "stderr"
        },
        {
          "output_type": "display_data",
          "data": {
            "image/png": "[encoded data removed]",
            "text/plain": [
              "<Figure size 432x288 with 1 Axes>"
            ]
          },
          "metadata": {
            "tags": [],
            "needs_background": "light"
          }
        }
      ]
    },
    {
      "cell_type": "code",
      "metadata": {
        "id": "YNJNAh07bYH6"
      },
      "source": [
        "# 전치연산\n",
        "# 전치(transpose): 행과 열을 바꾸는 연산"
      ],
      "execution_count": null,
      "outputs": []
    },
    {
      "cell_type": "markdown",
      "metadata": {
        "id": "aPKq4uiJbefZ"
      },
      "source": [
        ""
      ]
    },
    {
      "cell_type": "markdown",
      "metadata": {
        "id": "TI0qI1mTbejd"
      },
      "source": [
        "\\begin{align}\n",
        "x \\;\\; \\rightarrow \\;\\; x^T\n",
        "\\tag{2.1.15}\n",
        "\\end{align}"
      ]
    },
    {
      "cell_type": "markdown",
      "metadata": {
        "id": "azxS427ObeiD"
      },
      "source": [
        "\\begin{align}\n",
        "x \\;\\; \\rightarrow \\;\\; x' \n",
        "\\tag{2.1.16}\n",
        "\\end{align}\n"
      ]
    },
    {
      "cell_type": "code",
      "metadata": {
        "id": "H8m3TH7NbYKW"
      },
      "source": [
        "# 행렬의 행 표기법과 열 표기법"
      ],
      "execution_count": null,
      "outputs": []
    },
    {
      "cell_type": "markdown",
      "metadata": {
        "id": "yVIS565zb_zZ"
      },
      "source": [
        ""
      ]
    },
    {
      "cell_type": "markdown",
      "metadata": {
        "id": "MDXZ6sJCb_2W"
      },
      "source": [
        "\\begin{split}\n",
        "\\begin{align}\n",
        "X \n",
        "=\n",
        "\\begin{bmatrix}\n",
        "c_1 & c_2 & \\cdots & c_M\n",
        "\\end{bmatrix}\n",
        "=\n",
        "\\begin{bmatrix}\n",
        "r_1^T  \\\\\n",
        "r_2^T  \\\\ \n",
        "\\vdots \\\\ \n",
        "r_N^T  \\\\  \n",
        "\\end{bmatrix}\n",
        "\\tag{행렬과 역}\n",
        "\\end{align}\n",
        "\\end{split}"
      ]
    },
    {
      "cell_type": "markdown",
      "metadata": {
        "id": "yK-xl4UXcLIR"
      },
      "source": [
        "\\begin{align}\n",
        "X \\in \\mathbf{R}^{N\\times M}\n",
        "\\tag{행렬}\n",
        "\\end{align}\n",
        "\n",
        "\\begin{align}\n",
        "c_i \\in \\mathbf{R}^{N \\times 1} \\; (i=1,\\cdots,M)\n",
        "\\tag{열벡터}\n",
        "\\end{align}\n",
        "\n",
        "\\begin{align}\n",
        "r_j^T \\in \\mathbf{R}^{1 \\times M} \\; (j=1,\\cdots,N) \n",
        "\\tag{행벡터}\n",
        "\\end{align}\n"
      ]
    },
    {
      "cell_type": "code",
      "metadata": {
        "id": "KUApKFYKcoU1"
      },
      "source": [
        "# 항등행렬: 대각행렬중에도 대각성분이 1인 대각행렬"
      ],
      "execution_count": null,
      "outputs": []
    },
    {
      "cell_type": "markdown",
      "metadata": {
        "id": "bl3EECzYcvr4"
      },
      "source": [
        "\\begin{split} \n",
        "\\begin{align}\n",
        "I = \n",
        "\\begin{bmatrix}\n",
        "1 & 0 & \\cdots & 0 \\\\\n",
        "0 & 1 & \\cdots & 0 \\\\\n",
        "\\vdots & \\vdots & \\ddots & \\vdots \\\\\n",
        "0 & 0 & \\cdots & 1 \\\\\n",
        "\\end{bmatrix}\n",
        "\\tag{2.1.35}\n",
        "\\end{align}\n",
        "\\end{split}\n",
        "\n",
        "\\begin{align}\n",
        "I \\in \\mathbf{R}^{N \\times N}\n",
        "\\tag{2.1.36}\n",
        "\\end{align}\n"
      ]
    },
    {
      "cell_type": "code",
      "metadata": {
        "id": "xcV12-GEcobB"
      },
      "source": [
        ""
      ],
      "execution_count": null,
      "outputs": []
    }
  ]
}