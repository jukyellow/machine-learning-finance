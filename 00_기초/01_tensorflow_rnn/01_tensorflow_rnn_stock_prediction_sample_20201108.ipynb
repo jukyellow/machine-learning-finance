{
  "nbformat": 4,
  "nbformat_minor": 0,
  "metadata": {
    "colab": {
      "name": "tensorflow_rnn_stock_prediction_sample_20201108.ipynb",
      "provenance": [],
      "collapsed_sections": []
    },
    "kernelspec": {
      "name": "python3",
      "display_name": "Python 3"
    }
  },
  "cells": [
    {
      "cell_type": "code",
      "metadata": {
        "id": "lV47I--Q4FrL",
        "outputId": "023a3f1c-ecf3-4cd4-eb68-e687435ab5d7",
        "colab": {
          "base_uri": "https://localhost:8080/"
        }
      },
      "source": [
        "#https://hunkim.github.io/ml/ > 타임시리즈 RNN\n",
        "%tensorflow_version 1.x"
      ],
      "execution_count": 1,
      "outputs": [
        {
          "output_type": "stream",
          "text": [
            "TensorFlow 1.x selected.\n"
          ],
          "name": "stdout"
        }
      ]
    },
    {
      "cell_type": "code",
      "metadata": {
        "id": "JiajKR-4wrG6"
      },
      "source": [
        "'''\n",
        "This script shows how to predict stock prices using a basic RNN\n",
        "'''\n",
        "import tensorflow as tf\n",
        "import numpy as np\n",
        "import matplotlib\n",
        "import os\n",
        "\n",
        "tf.set_random_seed(777)  # reproducibility\n",
        "#tf.random.set_seed(777)\n",
        "\n",
        "# if \"DISPLAY\" not in os.environ:\n",
        "#     # remove Travis CI Error\n",
        "#     matplotlib.use('Agg')\n",
        "\n",
        "def MinMaxScaler(data):\n",
        "    ''' Min Max Normalization\n",
        "\n",
        "    Parameters\n",
        "    ----------\n",
        "    data : numpy.ndarray\n",
        "        input data to be normalized\n",
        "        shape: [Batch size, dimension]\n",
        "\n",
        "    Returns\n",
        "    ----------\n",
        "    data : numpy.ndarry\n",
        "        normalized data\n",
        "        shape: [Batch size, dimension]\n",
        "\n",
        "    References\n",
        "    ----------\n",
        "    .. [1] http://sebastianraschka.com/Articles/2014_about_feature_scaling.html\n",
        "\n",
        "    '''\n",
        "    numerator = data - np.min(data, 0)\n",
        "    denominator = np.max(data, 0) - np.min(data, 0)\n",
        "    # noise term prevents the zero division\n",
        "    return numerator / (denominator + 1e-7)"
      ],
      "execution_count": 2,
      "outputs": []
    },
    {
      "cell_type": "code",
      "metadata": {
        "id": "2U8B9icU4lKI",
        "outputId": "e4594089-b87f-4b17-dfcd-5f7854ded3d1",
        "colab": {
          "base_uri": "https://localhost:8080/"
        }
      },
      "source": [
        "# train Parameters\n",
        "seq_length = 7\n",
        "data_dim = 5\n",
        "hidden_dim = 10\n",
        "output_dim = 1\n",
        "learning_rate = 0.01\n",
        "iterations = 500\n",
        "\n",
        "# Open, High, Low, Volume, Close\n",
        "xy = np.loadtxt('data-02-stock_daily.csv', delimiter=',')\n",
        "print(xy)\n",
        "xy = xy[::-1]  # reverse order (chronically ordered)\n",
        "\n",
        "# train/test split\n",
        "train_size = int(len(xy) * 0.7)\n",
        "train_set = xy[0:train_size]\n",
        "test_set = xy[train_size - seq_length:]  # Index from [train_size - seq_length] to utilize past sequence\n",
        "\n",
        "# Scale each\n",
        "train_set = MinMaxScaler(train_set)\n",
        "test_set = MinMaxScaler(test_set)\n",
        "\n",
        "print()\n",
        "print(train_set)"
      ],
      "execution_count": 3,
      "outputs": [
        {
          "output_type": "stream",
          "text": [
            "[[8.28659973e+02 8.33450012e+02 8.28349976e+02 1.24770000e+06\n",
            "  8.31659973e+02]\n",
            " [8.23020020e+02 8.28070007e+02 8.21655029e+02 1.59780000e+06\n",
            "  8.28070007e+02]\n",
            " [8.19929993e+02 8.24400024e+02 8.18979980e+02 1.28170000e+06\n",
            "  8.24159973e+02]\n",
            " ...\n",
            " [5.66892592e+02 5.67002574e+02 5.56932537e+02 1.08000000e+04\n",
            "  5.56972503e+02]\n",
            " [5.61202549e+02 5.66432590e+02 5.58672539e+02 4.12000000e+04\n",
            "  5.59992565e+02]\n",
            " [5.68002570e+02 5.68002570e+02 5.52922516e+02 1.31000000e+04\n",
            "  5.58462551e+02]]\n",
            "\n",
            "[[2.53065030e-01 2.45070970e-01 2.33983036e-01 4.66075110e-04\n",
            "  2.32039560e-01]\n",
            " [2.29604366e-01 2.39728936e-01 2.54567513e-01 2.98467330e-03\n",
            "  2.37426028e-01]\n",
            " [2.49235510e-01 2.41668371e-01 2.48338489e-01 2.59926504e-04\n",
            "  2.26793794e-01]\n",
            " ...\n",
            " [8.39570954e-01 8.39838972e-01 8.87125813e-01 1.00779780e-01\n",
            "  8.63403284e-01]\n",
            " [8.31877329e-01 8.51543969e-01 8.87806004e-01 9.37348750e-02\n",
            "  8.91180354e-01]\n",
            " [8.64998078e-01 8.54129989e-01 8.90383639e-01 1.29541992e-01\n",
            "  8.72134355e-01]]\n"
          ],
          "name": "stdout"
        }
      ]
    },
    {
      "cell_type": "code",
      "metadata": {
        "id": "IDJQHHD14lPl",
        "outputId": "79cfeb7f-a0f6-46e2-9274-a6c63ad9e202",
        "colab": {
          "base_uri": "https://localhost:8080/"
        }
      },
      "source": [
        "# import tensorflow.compat.v1 as tf_v1\n",
        "# tf_v1.disable_v2_behavior()\n",
        "\n",
        "# build datasets\n",
        "def build_dataset(time_series, seq_length):\n",
        "    dataX = []\n",
        "    dataY = []\n",
        "    for i in range(0, len(time_series) - seq_length):\n",
        "        _x = time_series[i:i + seq_length, :]\n",
        "        _y = time_series[i + seq_length, [-1]]  # Next close price\n",
        "        #print(_x, \"->\", _y)\n",
        "        dataX.append(_x)\n",
        "        dataY.append(_y)\n",
        "    return np.array(dataX), np.array(dataY)\n",
        "\n",
        "trainX, trainY = build_dataset(train_set, seq_length)\n",
        "testX, testY = build_dataset(test_set, seq_length)\n",
        "\n",
        "# input place holders\n",
        "#X = tf_v1.placeholder(tf.float32, [None, seq_length, data_dim])\n",
        "#Y = tf_v1.placeholder(tf.float32, [None, 1])\n",
        "X = tf.placeholder(tf.float32, [None, seq_length, data_dim])\n",
        "Y = tf.placeholder(tf.float32, [None, 1])\n",
        "\n",
        "print(X)\n",
        "print()\n",
        "print(Y)"
      ],
      "execution_count": 4,
      "outputs": [
        {
          "output_type": "stream",
          "text": [
            "Tensor(\"Placeholder:0\", shape=(?, 7, 5), dtype=float32)\n",
            "\n",
            "Tensor(\"Placeholder_1:0\", shape=(?, 1), dtype=float32)\n"
          ],
          "name": "stdout"
        }
      ]
    },
    {
      "cell_type": "code",
      "metadata": {
        "id": "eCviTFdm4uqQ",
        "outputId": "8b004c5f-379b-4336-a06f-bc62c80a051f",
        "colab": {
          "base_uri": "https://localhost:8080/"
        }
      },
      "source": [
        "# build a LSTM network\n",
        "cell = tf.contrib.rnn.BasicLSTMCell(num_units=hidden_dim, state_is_tuple=True, activation=tf.tanh)\n",
        "outputs, _states = tf.nn.dynamic_rnn(cell, X, dtype=tf.float32)\n",
        "Y_pred = tf.contrib.layers.fully_connected(outputs[:, -1], output_dim, activation_fn=None)  # We use the last cell's output\n",
        "\n",
        "# cost/loss\n",
        "loss = tf.reduce_sum(tf.square(Y_pred - Y))  # sum of the squares\n",
        "# optimizer\n",
        "optimizer = tf.train.AdamOptimizer(learning_rate)\n",
        "train = optimizer.minimize(loss)\n",
        "\n",
        "# RMSE\n",
        "targets = tf.placeholder(tf.float32, [None, 1])\n",
        "predictions = tf.placeholder(tf.float32, [None, 1])\n",
        "rmse = tf.sqrt(tf.reduce_mean(tf.square(targets - predictions)))"
      ],
      "execution_count": 5,
      "outputs": [
        {
          "output_type": "stream",
          "text": [
            "WARNING:tensorflow:\n",
            "The TensorFlow contrib module will not be included in TensorFlow 2.0.\n",
            "For more information, please see:\n",
            "  * https://github.com/tensorflow/community/blob/master/rfcs/20180907-contrib-sunset.md\n",
            "  * https://github.com/tensorflow/addons\n",
            "  * https://github.com/tensorflow/io (for I/O related ops)\n",
            "If you depend on functionality not listed there, please file an issue.\n",
            "\n",
            "WARNING:tensorflow:From <ipython-input-5-bddfd9c0fee1>:2: BasicLSTMCell.__init__ (from tensorflow.python.ops.rnn_cell_impl) is deprecated and will be removed in a future version.\n",
            "Instructions for updating:\n",
            "This class is equivalent as tf.keras.layers.LSTMCell, and will be replaced by that in Tensorflow 2.0.\n",
            "WARNING:tensorflow:From <ipython-input-5-bddfd9c0fee1>:3: dynamic_rnn (from tensorflow.python.ops.rnn) is deprecated and will be removed in a future version.\n",
            "Instructions for updating:\n",
            "Please use `keras.layers.RNN(cell)`, which is equivalent to this API\n",
            "WARNING:tensorflow:From /tensorflow-1.15.2/python3.6/tensorflow_core/python/ops/rnn_cell_impl.py:735: Layer.add_variable (from tensorflow.python.keras.engine.base_layer) is deprecated and will be removed in a future version.\n",
            "Instructions for updating:\n",
            "Please use `layer.add_weight` method instead.\n",
            "WARNING:tensorflow:From /tensorflow-1.15.2/python3.6/tensorflow_core/python/ops/rnn_cell_impl.py:739: calling Zeros.__init__ (from tensorflow.python.ops.init_ops) with dtype is deprecated and will be removed in a future version.\n",
            "Instructions for updating:\n",
            "Call initializer instance with the dtype argument instead of passing it to the constructor\n",
            "WARNING:tensorflow:From /tensorflow-1.15.2/python3.6/tensorflow_core/contrib/layers/python/layers/layers.py:1866: Layer.apply (from tensorflow.python.keras.engine.base_layer) is deprecated and will be removed in a future version.\n",
            "Instructions for updating:\n",
            "Please use `layer.__call__` method instead.\n"
          ],
          "name": "stdout"
        }
      ]
    },
    {
      "cell_type": "code",
      "metadata": {
        "id": "PYNB3lJDGF9V",
        "outputId": "a5d61a18-770e-4e45-9757-187505023fd7",
        "colab": {
          "base_uri": "https://localhost:8080/"
        }
      },
      "source": [
        "with tf.Session() as sess:\n",
        "    init = tf.global_variables_initializer()\n",
        "    sess.run(init)\n",
        "\n",
        "    # Training step\n",
        "    for i in range(iterations):\n",
        "        _, step_loss = sess.run([train, loss], feed_dict={\n",
        "                                X: trainX, Y: trainY})\n",
        "        if i % 50 == 0:\n",
        "            print(\"[step: {}] loss: {}\".format(i, step_loss))\n",
        "\n",
        "    # Test step\n",
        "    test_predict = sess.run(Y_pred, feed_dict={X: testX})\n",
        "    rmse_val = sess.run(rmse, feed_dict={\n",
        "                    targets: testY, predictions: test_predict})\n",
        "    print(\"RMSE: {}\".format(rmse_val))"
      ],
      "execution_count": 6,
      "outputs": [
        {
          "output_type": "stream",
          "text": [
            "[step: 0] loss: 166.2140655517578\n",
            "[step: 50] loss: 1.587686538696289\n",
            "[step: 100] loss: 1.2327989339828491\n",
            "[step: 150] loss: 1.1381456851959229\n",
            "[step: 200] loss: 1.0413328409194946\n",
            "[step: 250] loss: 0.948056697845459\n",
            "[step: 300] loss: 0.8704195618629456\n",
            "[step: 350] loss: 0.8121415972709656\n",
            "[step: 400] loss: 0.7684662342071533\n",
            "[step: 450] loss: 0.7330562472343445\n",
            "RMSE: 0.05135541409254074\n"
          ],
          "name": "stdout"
        }
      ]
    },
    {
      "cell_type": "code",
      "metadata": {
        "id": "Ows1QKpuGW_i",
        "outputId": "aad328c9-3b2a-49f3-b6df-972e4d2240f4",
        "colab": {
          "base_uri": "https://localhost:8080/"
        }
      },
      "source": [
        "print(testY[0:10])\n",
        "print()\n",
        "print(test_predict[0:10])"
      ],
      "execution_count": 7,
      "outputs": [
        {
          "output_type": "stream",
          "text": [
            "[[0.42345156]\n",
            " [0.40523252]\n",
            " [0.44698661]\n",
            " [0.49853637]\n",
            " [0.50737719]\n",
            " [0.54202261]\n",
            " [0.58747978]\n",
            " [0.51173763]\n",
            " [0.50421114]\n",
            " [0.54285897]]\n",
            "\n",
            "[[0.44343463]\n",
            " [0.43870452]\n",
            " [0.43243715]\n",
            " [0.4334444 ]\n",
            " [0.49341163]\n",
            " [0.5181849 ]\n",
            " [0.54124516]\n",
            " [0.5782435 ]\n",
            " [0.5554106 ]\n",
            " [0.5283018 ]]\n"
          ],
          "name": "stdout"
        }
      ]
    },
    {
      "cell_type": "code",
      "metadata": {
        "id": "Ptc__bDNGbg6",
        "outputId": "fab7f28b-fae4-4022-9d29-896d0dc47a48",
        "colab": {
          "base_uri": "https://localhost:8080/",
          "height": 279
        }
      },
      "source": [
        "import matplotlib.pyplot as plt\n",
        "\n",
        "# Plot predictions\n",
        "plt.plot(testY)\n",
        "plt.plot(test_predict)\n",
        "plt.xlabel(\"Time Period\")\n",
        "plt.ylabel(\"Stock Price\")\n",
        "plt.show()"
      ],
      "execution_count": 8,
      "outputs": [
        {
          "output_type": "display_data",
          "data": {
            "image/png": "[encoded data removed]",
            "text/plain": [
              "<Figure size 432x288 with 1 Axes>"
            ]
          },
          "metadata": {
            "tags": [],
            "needs_background": "light"
          }
        }
      ]
    }
  ]
}