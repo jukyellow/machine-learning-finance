{
  "nbformat": 4,
  "nbformat_minor": 0,
  "metadata": {
    "colab": {
      "name": "01_pansdas_function_20201110.ipynb",
      "provenance": [],
      "collapsed_sections": []
    },
    "kernelspec": {
      "name": "python3",
      "display_name": "Python 3"
    }
  },
  "cells": [
    {
      "cell_type": "code",
      "metadata": {
        "id": "cXUNg_U36zlW"
      },
      "source": [
        "# https://github.com/quant4junior/algoTrade"
      ],
      "execution_count": null,
      "outputs": []
    },
    {
      "cell_type": "code",
      "metadata": {
        "id": "qfFP0Afw7zBK",
        "outputId": "1990f2dc-fc0d-4267-e278-89520e9ec6e7",
        "colab": {
          "base_uri": "https://localhost:8080/",
          "height": 204
        }
      },
      "source": [
        "#1. 로딩\n",
        "import pandas as pd\n",
        "df = pd.read_csv('AAPL.csv')\n",
        "df.head()"
      ],
      "execution_count": 34,
      "outputs": [
        {
          "output_type": "execute_result",
          "data": {
            "text/html": [
              "<div>\n",
              "<style scoped>\n",
              "    .dataframe tbody tr th:only-of-type {\n",
              "        vertical-align: middle;\n",
              "    }\n",
              "\n",
              "    .dataframe tbody tr th {\n",
              "        vertical-align: top;\n",
              "    }\n",
              "\n",
              "    .dataframe thead th {\n",
              "        text-align: right;\n",
              "    }\n",
              "</style>\n",
              "<table border=\"1\" class=\"dataframe\">\n",
              "  <thead>\n",
              "    <tr style=\"text-align: right;\">\n",
              "      <th></th>\n",
              "      <th>Date</th>\n",
              "      <th>Open</th>\n",
              "      <th>High</th>\n",
              "      <th>Low</th>\n",
              "      <th>Close</th>\n",
              "      <th>Adj Close</th>\n",
              "      <th>Volume</th>\n",
              "    </tr>\n",
              "  </thead>\n",
              "  <tbody>\n",
              "    <tr>\n",
              "      <th>0</th>\n",
              "      <td>1980-12-12</td>\n",
              "      <td>0.513393</td>\n",
              "      <td>0.515625</td>\n",
              "      <td>0.513393</td>\n",
              "      <td>0.513393</td>\n",
              "      <td>0.410525</td>\n",
              "      <td>117258400.0</td>\n",
              "    </tr>\n",
              "    <tr>\n",
              "      <th>1</th>\n",
              "      <td>1980-12-15</td>\n",
              "      <td>0.488839</td>\n",
              "      <td>0.488839</td>\n",
              "      <td>0.486607</td>\n",
              "      <td>0.486607</td>\n",
              "      <td>0.389106</td>\n",
              "      <td>43971200.0</td>\n",
              "    </tr>\n",
              "    <tr>\n",
              "      <th>2</th>\n",
              "      <td>1980-12-16</td>\n",
              "      <td>0.453125</td>\n",
              "      <td>0.453125</td>\n",
              "      <td>0.450893</td>\n",
              "      <td>0.450893</td>\n",
              "      <td>0.360548</td>\n",
              "      <td>26432000.0</td>\n",
              "    </tr>\n",
              "    <tr>\n",
              "      <th>3</th>\n",
              "      <td>1980-12-17</td>\n",
              "      <td>0.462054</td>\n",
              "      <td>0.464286</td>\n",
              "      <td>0.462054</td>\n",
              "      <td>0.462054</td>\n",
              "      <td>0.369472</td>\n",
              "      <td>21610400.0</td>\n",
              "    </tr>\n",
              "    <tr>\n",
              "      <th>4</th>\n",
              "      <td>1980-12-18</td>\n",
              "      <td>0.475446</td>\n",
              "      <td>0.477679</td>\n",
              "      <td>0.475446</td>\n",
              "      <td>0.475446</td>\n",
              "      <td>0.380182</td>\n",
              "      <td>18362400.0</td>\n",
              "    </tr>\n",
              "  </tbody>\n",
              "</table>\n",
              "</div>"
            ],
            "text/plain": [
              "         Date      Open      High       Low     Close  Adj Close       Volume\n",
              "0  1980-12-12  0.513393  0.515625  0.513393  0.513393   0.410525  117258400.0\n",
              "1  1980-12-15  0.488839  0.488839  0.486607  0.486607   0.389106   43971200.0\n",
              "2  1980-12-16  0.453125  0.453125  0.450893  0.450893   0.360548   26432000.0\n",
              "3  1980-12-17  0.462054  0.464286  0.462054  0.462054   0.369472   21610400.0\n",
              "4  1980-12-18  0.475446  0.477679  0.475446  0.475446   0.380182   18362400.0"
            ]
          },
          "metadata": {
            "tags": []
          },
          "execution_count": 34
        }
      ]
    },
    {
      "cell_type": "code",
      "metadata": {
        "id": "3ZKqYT7L7zIs",
        "outputId": "96a23996-38a0-4a2d-96b8-107302487e54",
        "colab": {
          "base_uri": "https://localhost:8080/"
        }
      },
      "source": [
        "print(type(df.index))\n",
        "print(type(df.index[0]))\n",
        "type(df['Date'][0])"
      ],
      "execution_count": 3,
      "outputs": [
        {
          "output_type": "stream",
          "text": [
            "<class 'pandas.core.indexes.range.RangeIndex'>\n",
            "<class 'int'>\n"
          ],
          "name": "stdout"
        },
        {
          "output_type": "execute_result",
          "data": {
            "text/plain": [
              "str"
            ]
          },
          "metadata": {
            "tags": []
          },
          "execution_count": 3
        }
      ]
    },
    {
      "cell_type": "code",
      "metadata": {
        "id": "P8_n11in7zGB",
        "outputId": "94e97e65-6863-46b5-f36f-a0af3c9336f5",
        "colab": {
          "base_uri": "https://localhost:8080/"
        }
      },
      "source": [
        "for col in df.columns:\n",
        "    series = df[col]\n",
        "print(type(series[0]))\n",
        "print(series)"
      ],
      "execution_count": 4,
      "outputs": [
        {
          "output_type": "stream",
          "text": [
            "<class 'numpy.float64'>\n",
            "0       117258400.0\n",
            "1        43971200.0\n",
            "2        26432000.0\n",
            "3        21610400.0\n",
            "4        18362400.0\n",
            "           ...     \n",
            "9710     26551000.0\n",
            "9711     21124200.0\n",
            "9712     21514000.0\n",
            "9713     47735300.0\n",
            "9714      9025362.0\n",
            "Name: Volume, Length: 9715, dtype: float64\n"
          ],
          "name": "stdout"
        }
      ]
    },
    {
      "cell_type": "code",
      "metadata": {
        "id": "16RKYb9V7zDq",
        "outputId": "7c915b9e-f3e4-4a39-c5bc-245662c70897",
        "colab": {
          "base_uri": "https://localhost:8080/",
          "height": 235
        }
      },
      "source": [
        "#2. index를 설정하여 로딩\n",
        "df = pd.read_csv('AAPL.csv', index_col='Date', parse_dates=['Date'])\n",
        "df.head()"
      ],
      "execution_count": 35,
      "outputs": [
        {
          "output_type": "execute_result",
          "data": {
            "text/html": [
              "<div>\n",
              "<style scoped>\n",
              "    .dataframe tbody tr th:only-of-type {\n",
              "        vertical-align: middle;\n",
              "    }\n",
              "\n",
              "    .dataframe tbody tr th {\n",
              "        vertical-align: top;\n",
              "    }\n",
              "\n",
              "    .dataframe thead th {\n",
              "        text-align: right;\n",
              "    }\n",
              "</style>\n",
              "<table border=\"1\" class=\"dataframe\">\n",
              "  <thead>\n",
              "    <tr style=\"text-align: right;\">\n",
              "      <th></th>\n",
              "      <th>Open</th>\n",
              "      <th>High</th>\n",
              "      <th>Low</th>\n",
              "      <th>Close</th>\n",
              "      <th>Adj Close</th>\n",
              "      <th>Volume</th>\n",
              "    </tr>\n",
              "    <tr>\n",
              "      <th>Date</th>\n",
              "      <th></th>\n",
              "      <th></th>\n",
              "      <th></th>\n",
              "      <th></th>\n",
              "      <th></th>\n",
              "      <th></th>\n",
              "    </tr>\n",
              "  </thead>\n",
              "  <tbody>\n",
              "    <tr>\n",
              "      <th>1980-12-12</th>\n",
              "      <td>0.513393</td>\n",
              "      <td>0.515625</td>\n",
              "      <td>0.513393</td>\n",
              "      <td>0.513393</td>\n",
              "      <td>0.410525</td>\n",
              "      <td>117258400.0</td>\n",
              "    </tr>\n",
              "    <tr>\n",
              "      <th>1980-12-15</th>\n",
              "      <td>0.488839</td>\n",
              "      <td>0.488839</td>\n",
              "      <td>0.486607</td>\n",
              "      <td>0.486607</td>\n",
              "      <td>0.389106</td>\n",
              "      <td>43971200.0</td>\n",
              "    </tr>\n",
              "    <tr>\n",
              "      <th>1980-12-16</th>\n",
              "      <td>0.453125</td>\n",
              "      <td>0.453125</td>\n",
              "      <td>0.450893</td>\n",
              "      <td>0.450893</td>\n",
              "      <td>0.360548</td>\n",
              "      <td>26432000.0</td>\n",
              "    </tr>\n",
              "    <tr>\n",
              "      <th>1980-12-17</th>\n",
              "      <td>0.462054</td>\n",
              "      <td>0.464286</td>\n",
              "      <td>0.462054</td>\n",
              "      <td>0.462054</td>\n",
              "      <td>0.369472</td>\n",
              "      <td>21610400.0</td>\n",
              "    </tr>\n",
              "    <tr>\n",
              "      <th>1980-12-18</th>\n",
              "      <td>0.475446</td>\n",
              "      <td>0.477679</td>\n",
              "      <td>0.475446</td>\n",
              "      <td>0.475446</td>\n",
              "      <td>0.380182</td>\n",
              "      <td>18362400.0</td>\n",
              "    </tr>\n",
              "  </tbody>\n",
              "</table>\n",
              "</div>"
            ],
            "text/plain": [
              "                Open      High       Low     Close  Adj Close       Volume\n",
              "Date                                                                      \n",
              "1980-12-12  0.513393  0.515625  0.513393  0.513393   0.410525  117258400.0\n",
              "1980-12-15  0.488839  0.488839  0.486607  0.486607   0.389106   43971200.0\n",
              "1980-12-16  0.453125  0.453125  0.450893  0.450893   0.360548   26432000.0\n",
              "1980-12-17  0.462054  0.464286  0.462054  0.462054   0.369472   21610400.0\n",
              "1980-12-18  0.475446  0.477679  0.475446  0.475446   0.380182   18362400.0"
            ]
          },
          "metadata": {
            "tags": []
          },
          "execution_count": 35
        }
      ]
    },
    {
      "cell_type": "code",
      "metadata": {
        "id": "Yk7et5rA8uJ2",
        "outputId": "a7d78755-1097-4cd0-f7e0-f5fec9c9ae37",
        "colab": {
          "base_uri": "https://localhost:8080/"
        }
      },
      "source": [
        "print(type(df.index))\n",
        "print(type(df.index[0]))"
      ],
      "execution_count": 6,
      "outputs": [
        {
          "output_type": "stream",
          "text": [
            "<class 'pandas.core.indexes.datetimes.DatetimeIndex'>\n",
            "<class 'pandas._libs.tslibs.timestamps.Timestamp'>\n"
          ],
          "name": "stdout"
        }
      ]
    },
    {
      "cell_type": "code",
      "metadata": {
        "id": "irOVgDdX8uS2",
        "outputId": "24176665-d1e1-4480-d357-24c587de4483",
        "colab": {
          "base_uri": "https://localhost:8080/"
        }
      },
      "source": [
        "#3. 결측치 확인/제거\n",
        "import numpy as np \n",
        "\n",
        "print(df.isna().sum())\n",
        "print()\n",
        "print(df.isin([np.nan, np.inf, -np.inf]).any(1))"
      ],
      "execution_count": 36,
      "outputs": [
        {
          "output_type": "stream",
          "text": [
            "Open         1\n",
            "High         1\n",
            "Low          1\n",
            "Close        1\n",
            "Adj Close    1\n",
            "Volume       1\n",
            "dtype: int64\n",
            "\n",
            "Date\n",
            "1980-12-12    False\n",
            "1980-12-15    False\n",
            "1980-12-16    False\n",
            "1980-12-17    False\n",
            "1980-12-18    False\n",
            "              ...  \n",
            "2019-06-18    False\n",
            "2019-06-19    False\n",
            "2019-06-20    False\n",
            "2019-06-21    False\n",
            "2019-06-24    False\n",
            "Length: 9715, dtype: bool\n"
          ],
          "name": "stdout"
        }
      ]
    },
    {
      "cell_type": "code",
      "metadata": {
        "id": "hNhiwg2E8uQ6",
        "outputId": "b65b26dd-5a92-4921-c57b-881b6e5f941d",
        "colab": {
          "base_uri": "https://localhost:8080/",
          "height": 111
        }
      },
      "source": [
        "df[df.isin([np.nan, np.inf, -np.inf]).any(1)]"
      ],
      "execution_count": 37,
      "outputs": [
        {
          "output_type": "execute_result",
          "data": {
            "text/html": [
              "<div>\n",
              "<style scoped>\n",
              "    .dataframe tbody tr th:only-of-type {\n",
              "        vertical-align: middle;\n",
              "    }\n",
              "\n",
              "    .dataframe tbody tr th {\n",
              "        vertical-align: top;\n",
              "    }\n",
              "\n",
              "    .dataframe thead th {\n",
              "        text-align: right;\n",
              "    }\n",
              "</style>\n",
              "<table border=\"1\" class=\"dataframe\">\n",
              "  <thead>\n",
              "    <tr style=\"text-align: right;\">\n",
              "      <th></th>\n",
              "      <th>Open</th>\n",
              "      <th>High</th>\n",
              "      <th>Low</th>\n",
              "      <th>Close</th>\n",
              "      <th>Adj Close</th>\n",
              "      <th>Volume</th>\n",
              "    </tr>\n",
              "    <tr>\n",
              "      <th>Date</th>\n",
              "      <th></th>\n",
              "      <th></th>\n",
              "      <th></th>\n",
              "      <th></th>\n",
              "      <th></th>\n",
              "      <th></th>\n",
              "    </tr>\n",
              "  </thead>\n",
              "  <tbody>\n",
              "    <tr>\n",
              "      <th>1981-08-10</th>\n",
              "      <td>NaN</td>\n",
              "      <td>NaN</td>\n",
              "      <td>NaN</td>\n",
              "      <td>NaN</td>\n",
              "      <td>NaN</td>\n",
              "      <td>NaN</td>\n",
              "    </tr>\n",
              "  </tbody>\n",
              "</table>\n",
              "</div>"
            ],
            "text/plain": [
              "            Open  High  Low  Close  Adj Close  Volume\n",
              "Date                                                 \n",
              "1981-08-10   NaN   NaN  NaN    NaN        NaN     NaN"
            ]
          },
          "metadata": {
            "tags": []
          },
          "execution_count": 37
        }
      ]
    },
    {
      "cell_type": "code",
      "metadata": {
        "id": "vNaZllmLCHh-",
        "outputId": "1873ae1c-9d8d-4a34-be69-e5781e742064",
        "colab": {
          "base_uri": "https://localhost:8080/"
        }
      },
      "source": [
        "df = df.dropna(axis=0) #0:row, 1:col\n",
        "print(df.isna().sum())"
      ],
      "execution_count": 39,
      "outputs": [
        {
          "output_type": "stream",
          "text": [
            "Open         0\n",
            "High         0\n",
            "Low          0\n",
            "Close        0\n",
            "Adj Close    0\n",
            "Volume       0\n",
            "dtype: int64\n"
          ],
          "name": "stdout"
        }
      ]
    },
    {
      "cell_type": "code",
      "metadata": {
        "id": "04Devjtd8uO2"
      },
      "source": [
        "#4. 슬라이싱/인덱싱/서브셋"
      ],
      "execution_count": null,
      "outputs": []
    },
    {
      "cell_type": "code",
      "metadata": {
        "id": "GuKrucAK8uM4",
        "outputId": "bf5d099f-1ee0-4267-f4ba-f64eb5a9deea",
        "colab": {
          "base_uri": "https://localhost:8080/"
        }
      },
      "source": [
        "#열단위 출력\n",
        "print(df['Open'].head())\n",
        "print()\n",
        "print(df[['Open','Close']].head()) # 2개 이상은 array로 넘거야함?"
      ],
      "execution_count": 15,
      "outputs": [
        {
          "output_type": "stream",
          "text": [
            "Date\n",
            "1980-12-12    0.513393\n",
            "1980-12-15    0.488839\n",
            "1980-12-16    0.453125\n",
            "1980-12-17    0.462054\n",
            "1980-12-18    0.475446\n",
            "Name: Open, dtype: float64\n",
            "\n",
            "                Open     Close\n",
            "Date                          \n",
            "1980-12-12  0.513393  0.513393\n",
            "1980-12-15  0.488839  0.486607\n",
            "1980-12-16  0.453125  0.450893\n",
            "1980-12-17  0.462054  0.462054\n",
            "1980-12-18  0.475446  0.475446\n"
          ],
          "name": "stdout"
        }
      ]
    },
    {
      "cell_type": "code",
      "metadata": {
        "id": "_gcqaMmz-fD8",
        "outputId": "70fba11a-11da-4b75-a891-4314409ae670",
        "colab": {
          "base_uri": "https://localhost:8080/"
        }
      },
      "source": [
        "#row 단위, index조건 출력\n",
        "print(df[0:3])\n",
        "print()\n",
        "print(df['2018-10-01':'2018-10-05'])"
      ],
      "execution_count": 16,
      "outputs": [
        {
          "output_type": "stream",
          "text": [
            "                Open      High       Low     Close  Adj Close       Volume\n",
            "Date                                                                      \n",
            "1980-12-12  0.513393  0.515625  0.513393  0.513393   0.410525  117258400.0\n",
            "1980-12-15  0.488839  0.488839  0.486607  0.486607   0.389106   43971200.0\n",
            "1980-12-16  0.453125  0.453125  0.450893  0.450893   0.360548   26432000.0\n",
            "\n",
            "                  Open        High  ...   Adj Close      Volume\n",
            "Date                                ...                        \n",
            "2018-10-01  227.949997  229.419998  ...  224.637604  23600800.0\n",
            "2018-10-02  227.250000  230.000000  ...  226.634293  24788200.0\n",
            "2018-10-03  230.050003  233.470001  ...  229.392090  28654800.0\n",
            "2018-10-04  230.779999  232.350006  ...  225.359177  32042000.0\n",
            "2018-10-05  227.960007  228.410004  ...  221.701859  33580500.0\n",
            "\n",
            "[5 rows x 6 columns]\n"
          ],
          "name": "stdout"
        }
      ]
    },
    {
      "cell_type": "code",
      "metadata": {
        "id": "9vA8Ffdk-q87",
        "outputId": "7ba030e6-b13a-46d9-ed30-054e45458488",
        "colab": {
          "base_uri": "https://localhost:8080/"
        }
      },
      "source": [
        "#loc, iloc\n",
        "print(df.loc['2018-10-01'])\n",
        "print()\n",
        "print(df.iloc[0])"
      ],
      "execution_count": 18,
      "outputs": [
        {
          "output_type": "stream",
          "text": [
            "Open         2.279500e+02\n",
            "High         2.294200e+02\n",
            "Low          2.263500e+02\n",
            "Close        2.272600e+02\n",
            "Adj Close    2.246376e+02\n",
            "Volume       2.360080e+07\n",
            "Name: 2018-10-01 00:00:00, dtype: float64\n",
            "\n",
            "Open         5.133930e-01\n",
            "High         5.156250e-01\n",
            "Low          5.133930e-01\n",
            "Close        5.133930e-01\n",
            "Adj Close    4.105250e-01\n",
            "Volume       1.172584e+08\n",
            "Name: 1980-12-12 00:00:00, dtype: float64\n"
          ],
          "name": "stdout"
        }
      ]
    },
    {
      "cell_type": "code",
      "metadata": {
        "id": "Ouwz7leB_ASD",
        "outputId": "9230cc69-4453-451c-92fb-1a10862f7488",
        "colab": {
          "base_uri": "https://localhost:8080/"
        }
      },
      "source": [
        "print(df.loc['2018-10-01':'2018-10-05', ['Open','Close']])\n",
        "print()\n",
        "print(df.iloc[8000:8005, [0,1]])"
      ],
      "execution_count": 21,
      "outputs": [
        {
          "output_type": "stream",
          "text": [
            "                  Open       Close\n",
            "Date                              \n",
            "2018-10-01  227.949997  227.259995\n",
            "2018-10-02  227.250000  229.279999\n",
            "2018-10-03  230.050003  232.070007\n",
            "2018-10-04  230.779999  227.990005\n",
            "2018-10-05  227.960007  224.289993\n",
            "\n",
            "                 Open       High\n",
            "Date                            \n",
            "2012-08-28  96.425713  96.585716\n",
            "2012-08-29  96.464287  96.809998\n",
            "2012-08-30  95.805717  95.935715\n",
            "2012-08-31  95.321426  95.514282\n",
            "2012-09-04  95.108574  96.448570\n"
          ],
          "name": "stdout"
        }
      ]
    },
    {
      "cell_type": "code",
      "metadata": {
        "id": "5yrs3845_Xfc"
      },
      "source": [
        "# 5. 금융 시계열 분석에 유용한 pandas 함수"
      ],
      "execution_count": null,
      "outputs": []
    },
    {
      "cell_type": "code",
      "metadata": {
        "id": "hP84s-0F_inc",
        "outputId": "5925ea2b-8ee0-42ea-fa95-984f8bbfa264",
        "colab": {
          "base_uri": "https://localhost:8080/",
          "height": 235
        }
      },
      "source": [
        "#shift: 원하는 시간 주기 간격만큼 index를  shift가능\n",
        "df['Close_lag1'] = df['Close'].shift(1)\n",
        "df.head()"
      ],
      "execution_count": 22,
      "outputs": [
        {
          "output_type": "execute_result",
          "data": {
            "text/html": [
              "<div>\n",
              "<style scoped>\n",
              "    .dataframe tbody tr th:only-of-type {\n",
              "        vertical-align: middle;\n",
              "    }\n",
              "\n",
              "    .dataframe tbody tr th {\n",
              "        vertical-align: top;\n",
              "    }\n",
              "\n",
              "    .dataframe thead th {\n",
              "        text-align: right;\n",
              "    }\n",
              "</style>\n",
              "<table border=\"1\" class=\"dataframe\">\n",
              "  <thead>\n",
              "    <tr style=\"text-align: right;\">\n",
              "      <th></th>\n",
              "      <th>Open</th>\n",
              "      <th>High</th>\n",
              "      <th>Low</th>\n",
              "      <th>Close</th>\n",
              "      <th>Adj Close</th>\n",
              "      <th>Volume</th>\n",
              "      <th>Close_lag1</th>\n",
              "    </tr>\n",
              "    <tr>\n",
              "      <th>Date</th>\n",
              "      <th></th>\n",
              "      <th></th>\n",
              "      <th></th>\n",
              "      <th></th>\n",
              "      <th></th>\n",
              "      <th></th>\n",
              "      <th></th>\n",
              "    </tr>\n",
              "  </thead>\n",
              "  <tbody>\n",
              "    <tr>\n",
              "      <th>1980-12-12</th>\n",
              "      <td>0.513393</td>\n",
              "      <td>0.515625</td>\n",
              "      <td>0.513393</td>\n",
              "      <td>0.513393</td>\n",
              "      <td>0.410525</td>\n",
              "      <td>117258400.0</td>\n",
              "      <td>NaN</td>\n",
              "    </tr>\n",
              "    <tr>\n",
              "      <th>1980-12-15</th>\n",
              "      <td>0.488839</td>\n",
              "      <td>0.488839</td>\n",
              "      <td>0.486607</td>\n",
              "      <td>0.486607</td>\n",
              "      <td>0.389106</td>\n",
              "      <td>43971200.0</td>\n",
              "      <td>0.513393</td>\n",
              "    </tr>\n",
              "    <tr>\n",
              "      <th>1980-12-16</th>\n",
              "      <td>0.453125</td>\n",
              "      <td>0.453125</td>\n",
              "      <td>0.450893</td>\n",
              "      <td>0.450893</td>\n",
              "      <td>0.360548</td>\n",
              "      <td>26432000.0</td>\n",
              "      <td>0.486607</td>\n",
              "    </tr>\n",
              "    <tr>\n",
              "      <th>1980-12-17</th>\n",
              "      <td>0.462054</td>\n",
              "      <td>0.464286</td>\n",
              "      <td>0.462054</td>\n",
              "      <td>0.462054</td>\n",
              "      <td>0.369472</td>\n",
              "      <td>21610400.0</td>\n",
              "      <td>0.450893</td>\n",
              "    </tr>\n",
              "    <tr>\n",
              "      <th>1980-12-18</th>\n",
              "      <td>0.475446</td>\n",
              "      <td>0.477679</td>\n",
              "      <td>0.475446</td>\n",
              "      <td>0.475446</td>\n",
              "      <td>0.380182</td>\n",
              "      <td>18362400.0</td>\n",
              "      <td>0.462054</td>\n",
              "    </tr>\n",
              "  </tbody>\n",
              "</table>\n",
              "</div>"
            ],
            "text/plain": [
              "                Open      High       Low  ...  Adj Close       Volume  Close_lag1\n",
              "Date                                      ...                                    \n",
              "1980-12-12  0.513393  0.515625  0.513393  ...   0.410525  117258400.0         NaN\n",
              "1980-12-15  0.488839  0.488839  0.486607  ...   0.389106   43971200.0    0.513393\n",
              "1980-12-16  0.453125  0.453125  0.450893  ...   0.360548   26432000.0    0.486607\n",
              "1980-12-17  0.462054  0.464286  0.462054  ...   0.369472   21610400.0    0.450893\n",
              "1980-12-18  0.475446  0.477679  0.475446  ...   0.380182   18362400.0    0.462054\n",
              "\n",
              "[5 rows x 7 columns]"
            ]
          },
          "metadata": {
            "tags": []
          },
          "execution_count": 22
        }
      ]
    },
    {
      "cell_type": "code",
      "metadata": {
        "id": "m3Z6kI-MADSl",
        "outputId": "51f3d529-074b-4f2f-a972-3be27b031a5f",
        "colab": {
          "base_uri": "https://localhost:8080/",
          "height": 297
        }
      },
      "source": [
        "df['Close'].asfreq('M',method='ffill').plot(legend=True)\n",
        "shifted = df['Close'].asfreq('M',method='ffill').shift(10).plot(legend = True)\n",
        "shifted.legend(['Close','Close_lagged'])"
      ],
      "execution_count": 23,
      "outputs": [
        {
          "output_type": "execute_result",
          "data": {
            "text/plain": [
              "<matplotlib.legend.Legend at 0x7ffa57948c88>"
            ]
          },
          "metadata": {
            "tags": []
          },
          "execution_count": 23
        },
        {
          "output_type": "display_data",
          "data": {
            "image/png": "[encoded data removed]",
            "text/plain": [
              "<Figure size 432x288 with 1 Axes>"
            ]
          },
          "metadata": {
            "tags": [],
            "needs_background": "light"
          }
        }
      ]
    },
    {
      "cell_type": "code",
      "metadata": {
        "id": "XFAWgRlVAMNu",
        "outputId": "b3d773e9-a662-4520-efe0-ddfbeae56a28",
        "colab": {
          "base_uri": "https://localhost:8080/",
          "height": 485
        }
      },
      "source": [
        "#percent change : 현재값과 이전값의 변화량을 백분위로 표현\n",
        "df['pct_change'] = df['Close'].pct_change()\n",
        "print(df.head(7))\n",
        "df['pct_change'].plot()"
      ],
      "execution_count": 27,
      "outputs": [
        {
          "output_type": "stream",
          "text": [
            "                Open      High       Low  ...       Volume  Close_lag1  pct_change\n",
            "Date                                      ...                                     \n",
            "1980-12-12  0.513393  0.515625  0.513393  ...  117258400.0         NaN         NaN\n",
            "1980-12-15  0.488839  0.488839  0.486607  ...   43971200.0    0.513393   -0.052174\n",
            "1980-12-16  0.453125  0.453125  0.450893  ...   26432000.0    0.486607   -0.073394\n",
            "1980-12-17  0.462054  0.464286  0.462054  ...   21610400.0    0.450893    0.024753\n",
            "1980-12-18  0.475446  0.477679  0.475446  ...   18362400.0    0.462054    0.028984\n",
            "1980-12-19  0.504464  0.506696  0.504464  ...   12157600.0    0.475446    0.061033\n",
            "1980-12-22  0.529018  0.531250  0.529018  ...    9340800.0    0.504464    0.048673\n",
            "\n",
            "[7 rows x 8 columns]\n"
          ],
          "name": "stdout"
        },
        {
          "output_type": "execute_result",
          "data": {
            "text/plain": [
              "<matplotlib.axes._subplots.AxesSubplot at 0x7ffa57a3f160>"
            ]
          },
          "metadata": {
            "tags": []
          },
          "execution_count": 27
        },
        {
          "output_type": "display_data",
          "data": {
            "image/png": "[encoded data removed]",
            "text/plain": [
              "<Figure size 432x288 with 1 Axes>"
            ]
          },
          "metadata": {
            "tags": [],
            "needs_background": "light"
          }
        }
      ]
    },
    {
      "cell_type": "code",
      "metadata": {
        "id": "piqmBPgsAMVp",
        "outputId": "707be2f8-a258-4af4-92f9-d7eb1fc7f07f",
        "colab": {
          "base_uri": "https://localhost:8080/",
          "height": 580
        }
      },
      "source": [
        "#rolling: 이동 평균선\n",
        "df = pd.read_csv('AAPL.csv', index_col='Date', parse_dates=['Date'])\n",
        "df.head()\n",
        "\n",
        "df = df.loc['2018-01-01':'2018-12-31']\n",
        "df['MA_5'] = df['Close'].rolling(window=5).mean()\n",
        "df['MA_10'] = df['Close'].rolling(window=10).mean()\n",
        "df['MA_20'] = df['Close'].rolling(window=20).mean()\n",
        "df.head(10)"
      ],
      "execution_count": 61,
      "outputs": [
        {
          "output_type": "execute_result",
          "data": {
            "text/html": [
              "<div>\n",
              "<style scoped>\n",
              "    .dataframe tbody tr th:only-of-type {\n",
              "        vertical-align: middle;\n",
              "    }\n",
              "\n",
              "    .dataframe tbody tr th {\n",
              "        vertical-align: top;\n",
              "    }\n",
              "\n",
              "    .dataframe thead th {\n",
              "        text-align: right;\n",
              "    }\n",
              "</style>\n",
              "<table border=\"1\" class=\"dataframe\">\n",
              "  <thead>\n",
              "    <tr style=\"text-align: right;\">\n",
              "      <th></th>\n",
              "      <th>Open</th>\n",
              "      <th>High</th>\n",
              "      <th>Low</th>\n",
              "      <th>Close</th>\n",
              "      <th>Adj Close</th>\n",
              "      <th>Volume</th>\n",
              "      <th>MA_5</th>\n",
              "      <th>MA_10</th>\n",
              "      <th>MA_20</th>\n",
              "    </tr>\n",
              "    <tr>\n",
              "      <th>Date</th>\n",
              "      <th></th>\n",
              "      <th></th>\n",
              "      <th></th>\n",
              "      <th></th>\n",
              "      <th></th>\n",
              "      <th></th>\n",
              "      <th></th>\n",
              "      <th></th>\n",
              "      <th></th>\n",
              "    </tr>\n",
              "  </thead>\n",
              "  <tbody>\n",
              "    <tr>\n",
              "      <th>2018-01-02</th>\n",
              "      <td>170.160004</td>\n",
              "      <td>172.300003</td>\n",
              "      <td>169.259995</td>\n",
              "      <td>172.259995</td>\n",
              "      <td>168.339050</td>\n",
              "      <td>25555900.0</td>\n",
              "      <td>NaN</td>\n",
              "      <td>NaN</td>\n",
              "      <td>NaN</td>\n",
              "    </tr>\n",
              "    <tr>\n",
              "      <th>2018-01-03</th>\n",
              "      <td>172.529999</td>\n",
              "      <td>174.550003</td>\n",
              "      <td>171.960007</td>\n",
              "      <td>172.229996</td>\n",
              "      <td>168.309738</td>\n",
              "      <td>29517900.0</td>\n",
              "      <td>NaN</td>\n",
              "      <td>NaN</td>\n",
              "      <td>NaN</td>\n",
              "    </tr>\n",
              "    <tr>\n",
              "      <th>2018-01-04</th>\n",
              "      <td>172.539993</td>\n",
              "      <td>173.470001</td>\n",
              "      <td>172.080002</td>\n",
              "      <td>173.029999</td>\n",
              "      <td>169.091522</td>\n",
              "      <td>22434600.0</td>\n",
              "      <td>NaN</td>\n",
              "      <td>NaN</td>\n",
              "      <td>NaN</td>\n",
              "    </tr>\n",
              "    <tr>\n",
              "      <th>2018-01-05</th>\n",
              "      <td>173.440002</td>\n",
              "      <td>175.369995</td>\n",
              "      <td>173.050003</td>\n",
              "      <td>175.000000</td>\n",
              "      <td>171.016678</td>\n",
              "      <td>23660000.0</td>\n",
              "      <td>NaN</td>\n",
              "      <td>NaN</td>\n",
              "      <td>NaN</td>\n",
              "    </tr>\n",
              "    <tr>\n",
              "      <th>2018-01-08</th>\n",
              "      <td>174.350006</td>\n",
              "      <td>175.610001</td>\n",
              "      <td>173.929993</td>\n",
              "      <td>174.350006</td>\n",
              "      <td>170.381485</td>\n",
              "      <td>20567800.0</td>\n",
              "      <td>173.373999</td>\n",
              "      <td>NaN</td>\n",
              "      <td>NaN</td>\n",
              "    </tr>\n",
              "    <tr>\n",
              "      <th>2018-01-09</th>\n",
              "      <td>174.550003</td>\n",
              "      <td>175.059998</td>\n",
              "      <td>173.410004</td>\n",
              "      <td>174.330002</td>\n",
              "      <td>170.361954</td>\n",
              "      <td>21584000.0</td>\n",
              "      <td>173.788001</td>\n",
              "      <td>NaN</td>\n",
              "      <td>NaN</td>\n",
              "    </tr>\n",
              "    <tr>\n",
              "      <th>2018-01-10</th>\n",
              "      <td>173.160004</td>\n",
              "      <td>174.300003</td>\n",
              "      <td>173.000000</td>\n",
              "      <td>174.289993</td>\n",
              "      <td>170.322845</td>\n",
              "      <td>23959900.0</td>\n",
              "      <td>174.200000</td>\n",
              "      <td>NaN</td>\n",
              "      <td>NaN</td>\n",
              "    </tr>\n",
              "    <tr>\n",
              "      <th>2018-01-11</th>\n",
              "      <td>174.589996</td>\n",
              "      <td>175.490005</td>\n",
              "      <td>174.490005</td>\n",
              "      <td>175.279999</td>\n",
              "      <td>171.290329</td>\n",
              "      <td>18667700.0</td>\n",
              "      <td>174.650000</td>\n",
              "      <td>NaN</td>\n",
              "      <td>NaN</td>\n",
              "    </tr>\n",
              "    <tr>\n",
              "      <th>2018-01-12</th>\n",
              "      <td>176.179993</td>\n",
              "      <td>177.360001</td>\n",
              "      <td>175.649994</td>\n",
              "      <td>177.089996</td>\n",
              "      <td>173.059113</td>\n",
              "      <td>25226000.0</td>\n",
              "      <td>175.067999</td>\n",
              "      <td>NaN</td>\n",
              "      <td>NaN</td>\n",
              "    </tr>\n",
              "    <tr>\n",
              "      <th>2018-01-16</th>\n",
              "      <td>177.899994</td>\n",
              "      <td>179.389999</td>\n",
              "      <td>176.139999</td>\n",
              "      <td>176.190002</td>\n",
              "      <td>172.179611</td>\n",
              "      <td>29565900.0</td>\n",
              "      <td>175.435998</td>\n",
              "      <td>174.404999</td>\n",
              "      <td>NaN</td>\n",
              "    </tr>\n",
              "  </tbody>\n",
              "</table>\n",
              "</div>"
            ],
            "text/plain": [
              "                  Open        High         Low  ...        MA_5       MA_10  MA_20\n",
              "Date                                            ...                               \n",
              "2018-01-02  170.160004  172.300003  169.259995  ...         NaN         NaN    NaN\n",
              "2018-01-03  172.529999  174.550003  171.960007  ...         NaN         NaN    NaN\n",
              "2018-01-04  172.539993  173.470001  172.080002  ...         NaN         NaN    NaN\n",
              "2018-01-05  173.440002  175.369995  173.050003  ...         NaN         NaN    NaN\n",
              "2018-01-08  174.350006  175.610001  173.929993  ...  173.373999         NaN    NaN\n",
              "2018-01-09  174.550003  175.059998  173.410004  ...  173.788001         NaN    NaN\n",
              "2018-01-10  173.160004  174.300003  173.000000  ...  174.200000         NaN    NaN\n",
              "2018-01-11  174.589996  175.490005  174.490005  ...  174.650000         NaN    NaN\n",
              "2018-01-12  176.179993  177.360001  175.649994  ...  175.067999         NaN    NaN\n",
              "2018-01-16  177.899994  179.389999  176.139999  ...  175.435998  174.404999    NaN\n",
              "\n",
              "[10 rows x 9 columns]"
            ]
          },
          "metadata": {
            "tags": []
          },
          "execution_count": 61
        }
      ]
    },
    {
      "cell_type": "code",
      "metadata": {
        "id": "3AQvvoipAMSI",
        "outputId": "2ed2b3c0-c764-44ad-8787-4bb4755348a7",
        "colab": {
          "base_uri": "https://localhost:8080/",
          "height": 542
        }
      },
      "source": [
        "#https://rfriend.tistory.com/502\n",
        "import matplotlib.pyplot as plt\n",
        "plt.figure(figsize=(15, 10))\n",
        "plt.plot(df.index, df.Close, 'y-', label='close')\n",
        "plt.plot(df.index, df.MA_5, 'b-', label='MA')\n",
        "plt.plot(df.index, df.MA_10, 'r-', label='sma_10d')\n",
        "plt.plot(df.index, df.MA_20, 'g-', label='sma_20d')\n",
        "plt.legend()\n",
        "plt.show()"
      ],
      "execution_count": 62,
      "outputs": [
        {
          "output_type": "display_data",
          "data": {
            "image/png": "[encoded data removed]",
            "text/plain": [
              "<Figure size 1080x720 with 1 Axes>"
            ]
          },
          "metadata": {
            "tags": [],
            "needs_background": "light"
          }
        }
      ]
    }
  ]
}